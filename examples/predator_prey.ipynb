{
 "cells": [
  {
   "cell_type": "markdown",
   "metadata": {},
   "source": [
    "# Predator Prey Model\n",
    "\n",
    "The predator-prey model consists of a pair of first-order nonlinear differential equations, commonly used to describe the dynamics of biological systems in which two species interact, with one acting as a predator and the other as prey.\n",
    "\n",
    "We use this model to look into the behaviour of different integrators available in ReMKiT1D."
   ]
  },
  {
   "cell_type": "markdown",
   "metadata": {},
   "source": [
    "### Setting up the Context and Simulation Grid"
   ]
  },
  {
   "cell_type": "code",
   "execution_count": null,
   "metadata": {},
   "outputs": [],
   "source": [
    "# import libraries and functions\n",
    "import numpy as np\n",
    "\n",
    "import RMK_support as rmk\n",
    "from RMK_support import DiagonalStencil"
   ]
  },
  {
   "cell_type": "code",
   "execution_count": null,
   "metadata": {},
   "outputs": [],
   "source": [
    "# initialise context\n",
    "rk = rmk.RMKContext()\n",
    "\n",
    "# IO and MPI context setting\n",
    "rk.IOContext = rmk.IOContext(HDF5Dir=\"./RMKOutput/RMK_pred_prey/\")\n",
    "rk.mpiContext = rmk.MPIContext(numProcsX=1)"
   ]
  },
  {
   "cell_type": "code",
   "execution_count": null,
   "metadata": {},
   "outputs": [],
   "source": [
    "# initialise grid (defaults to normalised units)\n",
    "\n",
    "rk.grid = rmk.Grid(np.ones(1), interpretXGridAsWidths=True)"
   ]
  },
  {
   "cell_type": "markdown",
   "metadata": {},
   "source": [
    "### The equations\n",
    "\n",
    "The predator-prey system can be written as\n",
    "\n",
    "$$ \\frac{dx}{dt} = (\\alpha - \\beta y)x $$\n",
    "$$ \\frac{dy}{dt} = (\\delta x - \\gamma)y, $$\n",
    "\n",
    "where $\\alpha$ and $\\beta$ are the prey growth and death factors, and $\\delta$ and $\\gamma$ are the predator growth and death factors. $x$ and $y$ are prey and predator numbers in arbitrary units."
   ]
  },
  {
   "cell_type": "markdown",
   "metadata": {},
   "source": [
    "### Variables\n",
    "\n",
    "The only variables needed are the implicit predator and pray variables, $x$ and $y$. Additionally, we can set the four constants $\\alpha$, $\\beta$, $\\gamma$, and $\\delta$. \n",
    "\n",
    "**NOTE**: The `x` name is reserved for the grid, an thus cannot be used for variables."
   ]
  },
  {
   "cell_type": "code",
   "execution_count": null,
   "metadata": {},
   "outputs": [],
   "source": [
    "# define constants\n",
    "alpha = 1.1\n",
    "beta = 0.4\n",
    "gamma = 0.4\n",
    "delta = 0.1\n",
    "\n",
    "# predator and prey variables\n",
    "\n",
    "xInit = 10*np.ones(len(rk.grid.xGrid))\n",
    "yInit = 2 *np.ones(len(rk.grid.xGrid))\n",
    "\n",
    "x1 = rmk.Variable(\"x1\", rk.grid, data=xInit)\n",
    "y1 = rmk.Variable(\"y1\", rk.grid, data=yInit)\n",
    "\n",
    "x2 = rmk.Variable(\"x2\", rk.grid, data=xInit)\n",
    "y2 = rmk.Variable(\"y2\", rk.grid, data=yInit)\n",
    "\n",
    "# add variables to context\n",
    "rk.variables.add(x1, y1, x2, y2)"
   ]
  },
  {
   "cell_type": "markdown",
   "metadata": {},
   "source": [
    "### Models\n",
    "\n",
    "Using the diagonal stencil, the predator-prey equations can be defined and added to our model."
   ]
  },
  {
   "cell_type": "code",
   "execution_count": null,
   "metadata": {},
   "outputs": [],
   "source": [
    "# initialise models\n",
    "model_BE = rmk.Model(name=\"predator_prey_BE\")\n",
    "model_CV = rmk.Model(name=\"predator_prey_CV\")\n",
    "\n",
    "# define model equations\n",
    "\n",
    "diag = DiagonalStencil()\n",
    "\n",
    "model_BE.ddt[x1] += alpha*diag(x1).rename(\"term1_1\").regroup(implicitGroups=[1]) - beta*diag(y1*x1).rename(\"term2_1\").regroup(implicitGroups=[1])\n",
    "model_BE.ddt[y1] += -gamma* diag(y1).rename(\"term3_1\").regroup(implicitGroups=[2]) + delta*diag(x1*y1).rename(\"term4_1\").regroup(implicitGroups=[2])\n",
    "\n",
    "model_CV.ddt[x2] += alpha*diag(x2).rename(\"term1_2\").regroup(implicitGroups=[3]) - beta*diag(y2*x2).rename(\"term2_2\").regroup(implicitGroups=[3])\n",
    "model_CV.ddt[y2] += -gamma* diag(y2).rename(\"term3_2\").regroup(implicitGroups=[4]) + delta*diag(x2*y2).rename(\"term4_2\").regroup(implicitGroups=[4])\n",
    "\n",
    "# add models to context\n",
    "rk.models.add(model_BE, model_CV)"
   ]
  },
  {
   "cell_type": "markdown",
   "metadata": {},
   "source": [
    "### Integration Scheme\n",
    "\n",
    "Finally, the integration scheme is set up. The predator-prey model is a good place to showcase the different behaviour of time integrators available in ReMKiT1D. The Backward Euler integrator is first order, while the methods used in CVODE are variable-order.\n",
    "\n",
    "To compare multiple integrators, we split integration so that the different models are evolved using different integrators. Each integrator is applied for the full duration of the time step and with time evolution disabled for all but the leftmost integrator (applied last). This ensures that no steps are skipped in any of the integrators."
   ]
  },
  {
   "cell_type": "code",
   "execution_count": null,
   "metadata": {},
   "outputs": [],
   "source": [
    "# set integrators for comparison of integration methods\n",
    "integrator1 = rmk.BDEIntegrator(name=\"BDE\", nonlinTol=1e-12, absTol=10.0, convergenceVars=[x1, y1])\n",
    "integrator2 = rmk.CVODEIntegrator(name=\"CVODE\")\n",
    "\n",
    "# set integration steps\n",
    "integrationStep1 = rmk.IntegrationStep(name=\"BE\", integrator=integrator1)\n",
    "integrationStep2 = rmk.IntegrationStep(name=\"CV\", integrator=integrator2)\n",
    "\n",
    "# add all models in context to integration steps\n",
    "integrationStep1.add(model_BE)\n",
    "integrationStep2.add(model_CV)\n",
    "\n",
    "# define integration scheme \n",
    "# because we want to have integrationStep1 and integrationStep2 to perform integrations in parallel we \n",
    "# disable time evolution on the first step applied (the rightmost step)\n",
    "rk.integrationScheme = rmk.IntegrationScheme(dt=0.1, steps=integrationStep2(1.0)*integrationStep1(1.0).disableTimeEvo())\n",
    "rk.integrationScheme.setOutputPoints(outputPoints=[0.1*i for i in range(1,500)])\n"
   ]
  },
  {
   "cell_type": "markdown",
   "metadata": {},
   "source": [
    "### Generate PDF"
   ]
  },
  {
   "cell_type": "code",
   "execution_count": null,
   "metadata": {},
   "outputs": [],
   "source": [
    "rk.generatePDF(\"Predator-Prey Model\")"
   ]
  },
  {
   "cell_type": "markdown",
   "metadata": {},
   "source": [
    "### Create config file"
   ]
  },
  {
   "cell_type": "code",
   "execution_count": null,
   "metadata": {},
   "outputs": [],
   "source": [
    "rk.writeConfigFile()"
   ]
  },
  {
   "cell_type": "markdown",
   "metadata": {},
   "source": [
    "# Data Analysis\n",
    "\n",
    "Load data from HDF5 files"
   ]
  },
  {
   "cell_type": "code",
   "execution_count": null,
   "metadata": {},
   "outputs": [],
   "source": [
    "loadedData = rk.loadSimulation()\n",
    "dataset = loadedData.dataset\n",
    "dataset"
   ]
  },
  {
   "cell_type": "markdown",
   "metadata": {},
   "source": [
    "Set plotting parameters"
   ]
  },
  {
   "cell_type": "code",
   "execution_count": null,
   "metadata": {},
   "outputs": [],
   "source": [
    "# load plotting extensions\n",
    "import panel as pn\n",
    "import holoviews as hv\n",
    "import matplotlib.pyplot as plt\n",
    "\n",
    "import RMK_support.dashboard_support as ds\n",
    "\n",
    "\n",
    "hv.extension('matplotlib')\n",
    "%matplotlib inline \n",
    "plt.rcParams['figure.dpi'] = 150\n",
    "hv.output(size=150,dpi=150)\n",
    "hv.output(max_frames=1000)\n"
   ]
  },
  {
   "cell_type": "markdown",
   "metadata": {},
   "source": [
    "Plot evolution of variables over time"
   ]
  },
  {
   "cell_type": "code",
   "execution_count": null,
   "metadata": {},
   "outputs": [],
   "source": [
    "pn.extension(comms=\"vscode\") # change comms if not using VSCode\n",
    "dashboard = ds.ReMKiT1DDashboard(dataset,rk.grid)\n",
    "\n",
    "dashboard.fluidMultiComparison([\"x1\",\"y1\", \"x2\", \"y2\"],fixedPosition=True)\n"
   ]
  },
  {
   "cell_type": "markdown",
   "metadata": {},
   "source": [
    "### Comparison of Integrators\n",
    "\n",
    "As shown below, the CVODE method is less dissipative compared to the implicit Backward Euler integrator. The inward spiral observed with Backward Euler indicates that the populations artificially decay over time, likely due to numerical dissipation or integration errors. In contrast, the CVODE method better preserves the system's dynamics, leading to less energy loss."
   ]
  },
  {
   "cell_type": "code",
   "execution_count": null,
   "metadata": {},
   "outputs": [],
   "source": [
    "import matplotlib.pyplot as plt\n",
    "\n",
    "fig, axes = plt.subplots(1, 2)\n",
    "\n",
    "# Plot Backward Euler Method\n",
    "axes[0].plot(dataset[\"x1\"], dataset[\"y1\"], color=\"blue\")\n",
    "axes[0].set_title(\"Backward Euler\")\n",
    "axes[0].set_xlabel(\"x\")\n",
    "axes[0].set_ylabel(\"y\")\n",
    "\n",
    "# Plot CVODE Method\n",
    "axes[1].plot(dataset[\"x2\"], dataset[\"y2\"], color=\"red\")\n",
    "axes[1].set_title(\"CVODE\")\n",
    "axes[1].set_xlabel(\"x\")\n",
    "axes[1].set_ylabel(\"y\")\n",
    "\n",
    "plt.tight_layout()"
   ]
  }
 ],
 "metadata": {
  "kernelspec": {
   "display_name": "Python 3",
   "language": "python",
   "name": "python3"
  },
  "language_info": {
   "codemirror_mode": {
    "name": "ipython",
    "version": 3
   },
   "file_extension": ".py",
   "mimetype": "text/x-python",
   "name": "python",
   "nbconvert_exporter": "python",
   "pygments_lexer": "ipython3",
   "version": "3.8.10"
  }
 },
 "nbformat": 4,
 "nbformat_minor": 2
}
