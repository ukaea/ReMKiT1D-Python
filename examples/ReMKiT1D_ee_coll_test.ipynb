{
 "cells": [
  {
   "attachments": {},
   "cell_type": "markdown",
   "metadata": {},
   "source": [
    "## ReMKiT1D input generator - electron-electron collision operator test for l=0\n",
    "\n",
    "This example tests relaxation to Maxwellian of the l=0 electron harmonic due to e-e collisions. \n",
    "\n",
    "This notebook corresponds to the first test in Section 6.2.2. in the ReMKiT1D code paper. \n"
   ]
  },
  {
   "cell_type": "code",
   "execution_count": null,
   "metadata": {},
   "outputs": [],
   "source": [
    "import numpy as np\n",
    "import xarray as xr\n",
    "import holoviews as hv\n",
    "import matplotlib.pyplot as plt\n",
    "import matplotlib as mpl\n",
    "from holoviews import opts\n",
    "import panel as pn\n",
    "\n",
    "import sys\n",
    "sys.path.append('../')\n",
    "from RMK_support import RKWrapper ,Grid\n",
    "import RMK_support.simple_containers as sc\n",
    "import RMK_support.IO_support as io\n",
    "import RMK_support.dashboard_support as ds\n",
    "import RMK_support.common_models as cm\n",
    "import RMK_support.sk_normalization as skn"
   ]
  },
  {
   "attachments": {},
   "cell_type": "markdown",
   "metadata": {},
   "source": [
    "### Wrapper initialization"
   ]
  },
  {
   "cell_type": "code",
   "execution_count": null,
   "metadata": {},
   "outputs": [],
   "source": [
    "rk = RKWrapper()"
   ]
  },
  {
   "attachments": {},
   "cell_type": "markdown",
   "metadata": {},
   "source": [
    "### Global parameters for IO files"
   ]
  },
  {
   "cell_type": "code",
   "execution_count": null,
   "metadata": {},
   "outputs": [],
   "source": [
    "rk.jsonFilepath = \"./config.json\" # Default value\n",
    "hdf5Filepath = \"./RMKOutput/RMK_ee_coll_test/\" \n",
    "rk.setHDF5Path(hdf5Filepath)"
   ]
  },
  {
   "attachments": {},
   "cell_type": "markdown",
   "metadata": {},
   "source": [
    "### Setting options for external libraries used by ReMKiT1D"
   ]
  },
  {
   "attachments": {},
   "cell_type": "markdown",
   "metadata": {},
   "source": [
    "#### MPI\n"
   ]
  },
  {
   "cell_type": "code",
   "execution_count": null,
   "metadata": {},
   "outputs": [],
   "source": [
    "numProcsX = 1 # Number of processes in x direction\n",
    "numProcsH = 1 # Number of processes in harmonic \n",
    "numProcs = numProcsX * numProcsH\n",
    "haloWidth = 1 # Halo width in cells\n",
    "\n",
    "rk.setMPIData(numProcsX,numProcsH,haloWidth)"
   ]
  },
  {
   "attachments": {},
   "cell_type": "markdown",
   "metadata": {},
   "source": [
    "#### PETSc\n",
    "\n",
    "Default settings are used here."
   ]
  },
  {
   "attachments": {},
   "cell_type": "markdown",
   "metadata": {},
   "source": [
    "#### HDF5\n",
    "\n",
    "No input HDF5 file is used here and all variables are outputted by default using the wrapper class."
   ]
  },
  {
   "attachments": {},
   "cell_type": "markdown",
   "metadata": {},
   "source": [
    "### Normalization setup"
   ]
  },
  {
   "cell_type": "code",
   "execution_count": null,
   "metadata": {},
   "outputs": [],
   "source": [
    "rk.setNormDensity(1.0e19)\n",
    "rk.setNormTemperature(10.0)\n",
    "rk.setNormRefZ(1.0)\n",
    "\n",
    "timeNorm = skn.collTimeei(rk.normalization[\"eVTemperature\"],rk.normalization[\"density\"],rk.normalization[\"referenceIonZ\"])"
   ]
  },
  {
   "attachments": {},
   "cell_type": "markdown",
   "metadata": {},
   "source": [
    "### Grid setup"
   ]
  },
  {
   "cell_type": "code",
   "execution_count": null,
   "metadata": {},
   "outputs": [],
   "source": [
    "xGrid = np.ones(1) # 0D\n",
    "\n",
    "uniformVGrid = False\n",
    "\n",
    "dv0 = 0.0307\n",
    "cv = 1.03 #Change to 1.025 for the short grid\n",
    "Nv = 120\n",
    "vGrid = [dv0/2]\n",
    "for i in range(1,Nv):\n",
    "    vGrid.append(vGrid[i-1]*cv)\n",
    "if uniformVGrid:\n",
    "    maxV = sum(vGrid)\n",
    "    vGrid = maxV/Nv*np.ones(Nv)\n",
    "    \n",
    "lMax = 0 \n",
    "gridObj = Grid(xGrid,np.array(vGrid),lMax,interpretXGridAsWidths=True,interpretVGridAsWidths=True)"
   ]
  },
  {
   "cell_type": "code",
   "execution_count": null,
   "metadata": {},
   "outputs": [],
   "source": [
    "# Add the grid to the wrapper\n",
    "rk.grid=gridObj"
   ]
  },
  {
   "attachments": {},
   "cell_type": "markdown",
   "metadata": {},
   "source": [
    "### Set temperature derivation option and add electron species"
   ]
  },
  {
   "cell_type": "code",
   "execution_count": null,
   "metadata": {},
   "outputs": [],
   "source": [
    "rk.setStandardTextbookOptions([0]) \n",
    "\n",
    "rk.addSpecies(\"e\",0)\n",
    "rk.addSpecies(\"D+\",-1,atomicA=2.014,charge=1.0)"
   ]
  },
  {
   "attachments": {},
   "cell_type": "markdown",
   "metadata": {},
   "source": [
    "### Variable initialization"
   ]
  },
  {
   "cell_type": "code",
   "execution_count": null,
   "metadata": {},
   "outputs": [],
   "source": [
    "T0 = 0.5\n",
    "n0 = 1.0\n",
    "T = T0*np.ones(gridObj.numX())\n",
    "n = n0 * np.ones(gridObj.numX())\n",
    "W = 3*n*T/2\n",
    "\n",
    "f = np.zeros([gridObj.numX(),gridObj.numH(),gridObj.numV()])\n",
    "for i in range(gridObj.numX()):\n",
    "    f[i,gridObj.getH(0)-1,:] = (T0*np.pi)**(-1.5) * n0 * np.exp(-gridObj.vGrid**2/T0) + (T0*np.pi)**(-1.5) * 0.1 *n0 * np.exp(-(gridObj.vGrid-3)**2/T0) \n",
    "    \n",
    "rk.addVar(\"f\",f,isDistribution=True)\n",
    "rk.addVar(\"W\",W,units='$10eV$',isDerived=True,derivationRule=sc.derivationRule(\"energyMoment\",[\"f\"]))\n",
    "rk.addVar(\"n\",n,units='$10^{19} m^{-3}$',isDerived=True,derivationRule=sc.derivationRule(\"densityMoment\",[\"f\"]))\n",
    "rk.addVar(\"zeroVar\",isDerived=True,outputVar=False)\n",
    "rk.addVar(\"T\",T,isDerived=True,derivationRule=sc.derivationRule(\"tempFromEnergye\",[\"W\",\"n\",\"zeroVar\"]))\n",
    "rk.addVar(\"time\",isScalar=True,isDerived=True)"
   ]
  },
  {
   "attachments": {},
   "cell_type": "markdown",
   "metadata": {},
   "source": [
    "### Adding e-e collision operator model for l = 0\n",
    "\n",
    "The collision operator is implemented in common_models.py and only used here."
   ]
  },
  {
   "cell_type": "code",
   "execution_count": null,
   "metadata": {},
   "outputs": [],
   "source": [
    "cm.addEECollIsotropic(modelTag=\"e-e0\",distFunName=\"f\",elTempVar=\"T\",elDensVar=\"n\",wrapper=rk)"
   ]
  },
  {
   "attachments": {},
   "cell_type": "markdown",
   "metadata": {},
   "source": [
    "### Integrator and timestep options\n",
    "\n",
    "Simple single step backwards Euler integration"
   ]
  },
  {
   "cell_type": "code",
   "execution_count": null,
   "metadata": {},
   "outputs": [],
   "source": [
    "integrator = sc.picardBDEIntegrator(absTol=10.0,convergenceVars=[\"W\",\"f\"],nonlinTol=1e-12) #Everything default except for more lenient absolute convergence tolerance\n",
    "\n",
    "rk.addIntegrator(\"BE\",integrator)"
   ]
  },
  {
   "attachments": {},
   "cell_type": "markdown",
   "metadata": {},
   "source": [
    "Set initial timestep length and numbers of allowed implicit and general groups"
   ]
  },
  {
   "cell_type": "code",
   "execution_count": null,
   "metadata": {},
   "outputs": [],
   "source": [
    "initialTimestep =  0.05\n",
    "\n",
    "rk.setIntegratorGlobalData(1,1,initialTimestep) "
   ]
  },
  {
   "attachments": {},
   "cell_type": "markdown",
   "metadata": {},
   "source": [
    "Single integration step\n"
   ]
  },
  {
   "cell_type": "code",
   "execution_count": null,
   "metadata": {},
   "outputs": [],
   "source": [
    "bdeStep = sc.IntegrationStep(\"BE\")\n",
    "\n",
    "for tag in rk.modelTags():\n",
    "    bdeStep.addModel(tag)\n",
    "\n",
    "rk.addIntegrationStep(\"BE1\",bdeStep.dict())"
   ]
  },
  {
   "attachments": {},
   "cell_type": "markdown",
   "metadata": {},
   "source": [
    "#### Timeloop options"
   ]
  },
  {
   "cell_type": "code",
   "execution_count": null,
   "metadata": {},
   "outputs": [],
   "source": [
    "rk.setFixedNumTimesteps(1200)\n",
    "rk.setFixedStepOutput(5)"
   ]
  },
  {
   "attachments": {},
   "cell_type": "markdown",
   "metadata": {},
   "source": [
    "### Create config file"
   ]
  },
  {
   "cell_type": "code",
   "execution_count": null,
   "metadata": {},
   "outputs": [],
   "source": [
    "rk.writeConfigFile()"
   ]
  },
  {
   "attachments": {},
   "cell_type": "markdown",
   "metadata": {},
   "source": [
    "### Data analysis\n"
   ]
  },
  {
   "cell_type": "code",
   "execution_count": null,
   "metadata": {},
   "outputs": [],
   "source": [
    "numFiles = 240"
   ]
  },
  {
   "attachments": {},
   "cell_type": "markdown",
   "metadata": {},
   "source": [
    "#### Loading data\n",
    "\n",
    "Set loadpath to ReMKiT1D directory"
   ]
  },
  {
   "cell_type": "code",
   "execution_count": null,
   "metadata": {},
   "outputs": [],
   "source": [
    "loadpath = hdf5Filepath\n",
    "loadFilenames = [loadpath+f'ReMKiT1DVarOutput_{i}.h5' for i in range(numFiles+1)]"
   ]
  },
  {
   "cell_type": "code",
   "execution_count": null,
   "metadata": {},
   "outputs": [],
   "source": [
    "loadedData = io.loadFromHDF5(rk.varCont,filepaths=loadFilenames,varsToIgnore=\"zeroVar\")\n",
    "loadedData"
   ]
  },
  {
   "cell_type": "code",
   "execution_count": null,
   "metadata": {},
   "outputs": [],
   "source": [
    "hv.extension('matplotlib')\n",
    "%matplotlib inline \n",
    "plt.rcParams['figure.dpi'] = 150\n",
    "hv.output(size=80,dpi=150)"
   ]
  },
  {
   "attachments": {},
   "cell_type": "markdown",
   "metadata": {},
   "source": [
    "### Expected Maxwellian comparison"
   ]
  },
  {
   "cell_type": "code",
   "execution_count": null,
   "metadata": {},
   "outputs": [],
   "source": [
    "f0_analytic=np.zeros((numFiles+1,gridObj.numV()))\n",
    "\n",
    "for i in range(numFiles+1):\n",
    "    T = loadedData[\"T\"].values[i,0]\n",
    "    n = loadedData[\"n\"].values[i,0]\n",
    "    f0_analytic[i,:] = np.pi**(-1.5) * T ** (-1.5) * n * np.exp(-gridObj.vGrid**2/T) "
   ]
  },
  {
   "cell_type": "code",
   "execution_count": null,
   "metadata": {},
   "outputs": [],
   "source": [
    "dataName = 'f'"
   ]
  },
  {
   "cell_type": "code",
   "execution_count": null,
   "metadata": {},
   "outputs": [],
   "source": [
    "\n",
    "curveDict = {loadedData.coords[\"time\"].data[t]: hv.Curve(loadedData[dataName][{\"time\":t,\"x\":0,\"h\":0}])*hv.Curve((gridObj.vGrid,f0_analytic[t,:])) for t in range(numFiles+1)}\n",
    "kdims = [hv.Dimension(('time', 'Time'),unit=loadedData.coords[\"time\"].attrs[\"units\"], default=0)]\n",
    "hv.HoloMap(curveDict,kdims=kdims)"
   ]
  },
  {
   "attachments": {},
   "cell_type": "markdown",
   "metadata": {},
   "source": [
    "### Paper plots"
   ]
  },
  {
   "cell_type": "code",
   "execution_count": null,
   "metadata": {},
   "outputs": [],
   "source": [
    "def fixed_aspect_ratio_loglin(plot, element):\n",
    "    '''\n",
    "    Set a fixed aspect ratio on matplotlib loglog plots \n",
    "    regardless of axis units\n",
    "    '''\n",
    "    ratio = plot._aspect_param_value\n",
    "    ax = plot.handles['axis']\n",
    "    xvals,yvals = ax.axes.get_xlim(),ax.axes.get_ylim()\n",
    "\n",
    "    xrange = xvals[1]-xvals[0]\n",
    "    yrange = np.log(yvals[1])-np.log(yvals[0])\n",
    "    ax.set_aspect(ratio*(xrange/yrange), adjustable='box')\n",
    "\n",
    "    ax.axes.set_xscale('function', functions=(lambda x : x**2,lambda x : x**(1/2)))\n",
    "    xticks = np.linspace(xvals[0]**2,xvals[1]**2,10)\n",
    "    ax.axes.set_xticks(xticks**(1/2),map(str,np.around(xticks,1)))"
   ]
  },
  {
   "cell_type": "code",
   "execution_count": null,
   "metadata": {},
   "outputs": [],
   "source": [
    "plotLin = hv.Overlay([hv.Scatter(loadedData[dataName][{\"time\":t,\"x\":0,\"h\":0}],label='${:.2f}t_0$'.format(loadedData.coords[\"time\"].data[t])).opts(marker=hv.Cycle(['o','x','^']),s=8.0) for t in [0,1,2,20,120,240]])* hv.Curve((gridObj.vGrid,f0_analytic[0,:]),label='Maxwellian').opts(color='k',linestyle='--')\n",
    "plotLin.opts(xlim=(0,14),logy=True,ylim=(1e-12,2),aspect=30, hooks=[fixed_aspect_ratio_loglin],xlabel=\"E (eV)\",fontsize={'xticks':6.0,'legend':8.0},legend_cols=1,legend_position='top_right')"
   ]
  },
  {
   "attachments": {},
   "cell_type": "markdown",
   "metadata": {},
   "source": [
    "Rerun with different \"cv\" values to get the temperature errors in Figure 9b"
   ]
  },
  {
   "cell_type": "code",
   "execution_count": null,
   "metadata": {},
   "outputs": [],
   "source": [
    "tempErrShortGrid=abs(loadedData[\"T\"][:,0]-loadedData[\"T\"][0,0])/loadedData[\"T\"][0,0]\n",
    "sum(vGrid)"
   ]
  },
  {
   "cell_type": "code",
   "execution_count": null,
   "metadata": {},
   "outputs": [],
   "source": [
    "tempErrLongGrid=abs(loadedData[\"T\"][:,0]-loadedData[\"T\"][0,0])/loadedData[\"T\"][0,0]\n",
    "sum(vGrid)"
   ]
  },
  {
   "cell_type": "code",
   "execution_count": null,
   "metadata": {},
   "outputs": [],
   "source": [
    "errorPlot = hv.Scatter(tempErrShortGrid,label=\"$v_{max}=11.27v_{th}$\").opts(s=6.0,marker='x')*hv.Scatter(tempErrLongGrid,label=\"$v_{max}=17.25v_{th}$\").opts(s=6.0)\n",
    "errorPlot.opts(logy=True,ylim=(1e-16,1e-6),aspect=0.5,legend_cols=1,ylabel='$\\delta T$')"
   ]
  },
  {
   "cell_type": "code",
   "execution_count": null,
   "metadata": {},
   "outputs": [],
   "source": [
    "hv.output(fig='pdf')\n",
    "hv.save(plotLin, 'e-eMaxwellian.pdf', dpi=144)\n",
    "hv.save(errorPlot,'e-eMaxwellianTError.pdf',dpi=144)"
   ]
  }
 ],
 "metadata": {
  "kernelspec": {
   "display_name": "Python 3.9.5 64-bit",
   "language": "python",
   "name": "python3"
  },
  "language_info": {
   "codemirror_mode": {
    "name": "ipython",
    "version": 3
   },
   "file_extension": ".py",
   "mimetype": "text/x-python",
   "name": "python",
   "nbconvert_exporter": "python",
   "pygments_lexer": "ipython3",
   "version": "3.8.10"
  },
  "orig_nbformat": 4,
  "vscode": {
   "interpreter": {
    "hash": "31f2aee4e71d21fbe5cf8b01ff0e069b9275f58929596ceb00d14d90e3e16cd6"
   }
  }
 },
 "nbformat": 4,
 "nbformat_minor": 2
}
