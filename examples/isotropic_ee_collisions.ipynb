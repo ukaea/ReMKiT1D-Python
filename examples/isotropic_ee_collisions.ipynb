{
 "cells": [
  {
   "attachments": {},
   "cell_type": "markdown",
   "metadata": {},
   "source": [
    "## Example- electron-electron collision operator test for l=0\n",
    "\n",
    "This example tests relaxation to Maxwellian of the l=0 electron harmonic due to e-e collisions. \n",
    "\n",
    "This notebook is the v2.0.0 rewrite which corresponds to the first test in Section 5.2.2. in the ReMKiT1D code paper. \n"
   ]
  },
  {
   "cell_type": "code",
   "execution_count": null,
   "metadata": {},
   "outputs": [],
   "source": [
    "import numpy as np\n",
    "import holoviews as hv\n",
    "import matplotlib.pyplot as plt\n",
    "\n",
    "import RMK_support as rmk\n",
    "import RMK_support.common_models as cm\n",
    "from RMK_support import node,varFromNode"
   ]
  },
  {
   "attachments": {},
   "cell_type": "markdown",
   "metadata": {},
   "source": [
    "### Context initialization"
   ]
  },
  {
   "cell_type": "code",
   "execution_count": null,
   "metadata": {},
   "outputs": [],
   "source": [
    "rk = rmk.RMKContext()\n",
    "rk.IOContext = rmk.IOContext(HDF5Dir=\"./RMKOutput/RMK_ee_coll_test/\" )"
   ]
  },
  {
   "attachments": {},
   "cell_type": "markdown",
   "metadata": {},
   "source": [
    "### Grid setup"
   ]
  },
  {
   "cell_type": "code",
   "execution_count": null,
   "metadata": {},
   "outputs": [],
   "source": [
    "xGrid = np.ones(1) # 0D\n",
    "\n",
    "uniformVGrid = False\n",
    "\n",
    "dv0 = 0.0307\n",
    "cv = 1.03 #Change to 1.025 for the short grid\n",
    "Nv = 120\n",
    "vGrid = [dv0/2]\n",
    "for i in range(1,Nv):\n",
    "    vGrid.append(vGrid[i-1]*cv)\n",
    "if uniformVGrid:\n",
    "    maxV = sum(vGrid)\n",
    "    vGrid = maxV/Nv*np.ones(Nv)\n",
    "    \n",
    "lMax = 0 \n",
    "rk.grid = rmk.Grid(xGrid,np.array(vGrid),lMax,interpretXGridAsWidths=True,interpretVGridAsWidths=True)"
   ]
  },
  {
   "attachments": {},
   "cell_type": "markdown",
   "metadata": {},
   "source": [
    "### Variable initialization"
   ]
  },
  {
   "cell_type": "code",
   "execution_count": null,
   "metadata": {},
   "outputs": [],
   "source": [
    "T0 = 0.5\n",
    "n0 = 1.0\n",
    "T = T0*np.ones(rk.grid.numX())\n",
    "n = n0 * np.ones(rk.grid.numX())\n",
    "W = 3*n*T/2\n",
    "\n",
    "fInit = np.zeros([rk.grid.numX(),rk.grid.numH(),rk.grid.numV()])\n",
    "for i in range(rk.grid.numX()):\n",
    "    fInit[i,rk.grid.getH(0)-1,:] = (T0*np.pi)**(-1.5) * n0 * np.exp(-rk.grid.vGrid**2/T0) + (T0*np.pi)**(-1.5) * 0.1 *n0 * np.exp(-(rk.grid.vGrid-3)**2/T0) \n",
    "\n",
    "f = rmk.Variable(\"f\",rk.grid,data=fInit,isDistribution=True)\n",
    "W = rmk.Variable(\"W\",rk.grid,derivation=rk.textbook[\"energyMoment\"],derivationArgs=[\"f\"])\n",
    "n = rmk.Variable(\"n\",rk.grid,derivation=rk.textbook[\"densityMoment\"],derivationArgs=[\"f\"])\n",
    "T =  varFromNode(\"T\",rk.grid,node=(2/3)*node(W)/node(n))\n",
    "\n",
    "rk.variables.add(f,W,n,T)"
   ]
  },
  {
   "attachments": {},
   "cell_type": "markdown",
   "metadata": {},
   "source": [
    "### Adding e-e collision operator model for l = 0\n",
    "\n",
    "The collision operator is implemented in common_models.py and only used here."
   ]
  },
  {
   "cell_type": "code",
   "execution_count": null,
   "metadata": {},
   "outputs": [],
   "source": [
    "rk.models.add(cm.eeCollIsotropic(f,T,n,rk.norms,rk.grid,rk.textbook))"
   ]
  },
  {
   "attachments": {},
   "cell_type": "markdown",
   "metadata": {},
   "source": [
    "### Integrator and timestep options\n",
    "\n",
    "Simple single step backwards Euler integration"
   ]
  },
  {
   "cell_type": "code",
   "execution_count": null,
   "metadata": {},
   "outputs": [],
   "source": [
    "integrator = rmk.BDEIntegrator(\"BDE\",nonlinTol=1e-12,absTol=10.0,convergenceVars=[W,f])\n",
    "integrationStep = rmk.IntegrationStep(\"BE\",integrator)\n",
    "integrationStep.add(rk.models) \n",
    "rk.integrationScheme = rmk.IntegrationScheme(dt=0.05,steps=integrationStep) \n",
    "rk.integrationScheme.setFixedNumTimesteps(1200,5) "
   ]
  },
  {
   "cell_type": "markdown",
   "metadata": {},
   "source": [
    "#### Generate a LaTeX summary of the ReMKiT1D run "
   ]
  },
  {
   "cell_type": "code",
   "execution_count": null,
   "metadata": {},
   "outputs": [],
   "source": [
    "rk.generatePDF(\"Isotropic e-e collision test\")"
   ]
  },
  {
   "attachments": {},
   "cell_type": "markdown",
   "metadata": {},
   "source": [
    "### Create config file"
   ]
  },
  {
   "cell_type": "code",
   "execution_count": null,
   "metadata": {},
   "outputs": [],
   "source": [
    "rk.writeConfigFile()"
   ]
  },
  {
   "attachments": {},
   "cell_type": "markdown",
   "metadata": {},
   "source": [
    "### Data analysis\n"
   ]
  },
  {
   "attachments": {},
   "cell_type": "markdown",
   "metadata": {},
   "source": [
    "#### Loading data"
   ]
  },
  {
   "cell_type": "code",
   "execution_count": null,
   "metadata": {},
   "outputs": [],
   "source": [
    "loadedData = rk.loadSimulation()\n",
    "dataset = loadedData.dataset"
   ]
  },
  {
   "cell_type": "code",
   "execution_count": null,
   "metadata": {},
   "outputs": [],
   "source": [
    "hv.extension('matplotlib')\n",
    "%matplotlib inline \n",
    "plt.rcParams['figure.dpi'] = 150\n",
    "hv.output(size=80,dpi=150)"
   ]
  },
  {
   "attachments": {},
   "cell_type": "markdown",
   "metadata": {},
   "source": [
    "### Expected Maxwellian comparison"
   ]
  },
  {
   "cell_type": "code",
   "execution_count": null,
   "metadata": {},
   "outputs": [],
   "source": [
    "f0_analytic=np.zeros((numFiles+1,rk.grid.numV()))\n",
    "\n",
    "for i in range(numFiles+1):\n",
    "    T = dataset[\"T\"].values[i,0]\n",
    "    n = dataset[\"n\"].values[i,0]\n",
    "    f0_analytic[i,:] = np.pi**(-1.5) * T ** (-1.5) * n * np.exp(-rk.grid.vGrid**2/T) "
   ]
  },
  {
   "cell_type": "code",
   "execution_count": null,
   "metadata": {},
   "outputs": [],
   "source": [
    "dataName = 'f'"
   ]
  },
  {
   "cell_type": "code",
   "execution_count": null,
   "metadata": {},
   "outputs": [],
   "source": [
    "#this can take a few minutes\n",
    "curveDict = {dataset.coords[\"t\"].data[t]: hv.Curve(dataset[dataName][{\"t\":t,\"x\":0,\"h\":0}])*hv.Curve((rk.grid.vGrid,f0_analytic[t,:])) for t in range(numFiles+1)}\n",
    "kdims = [hv.Dimension(('t', 'Time'),unit=dataset.coords[\"t\"].attrs[\"units\"], default=0)]\n",
    "hv.HoloMap(curveDict,kdims=kdims)"
   ]
  },
  {
   "attachments": {},
   "cell_type": "markdown",
   "metadata": {},
   "source": [
    "### Reproducing plots from the paper"
   ]
  },
  {
   "cell_type": "code",
   "execution_count": null,
   "metadata": {},
   "outputs": [],
   "source": [
    "def fixed_aspect_ratio_loglin(plot, element):\n",
    "    '''\n",
    "    Set a fixed aspect ratio on matplotlib loglog plots \n",
    "    regardless of axis units\n",
    "    '''\n",
    "    ratio = plot._aspect_param_value\n",
    "    ax = plot.handles['axis']\n",
    "    xvals,yvals = ax.axes.get_xlim(),ax.axes.get_ylim()\n",
    "\n",
    "    xrange = xvals[1]-xvals[0]\n",
    "    yrange = np.log(yvals[1])-np.log(yvals[0])\n",
    "    ax.set_aspect(ratio*(xrange/yrange), adjustable='box')\n",
    "\n",
    "    ax.axes.set_xscale('function', functions=(lambda x : x**2,lambda x : x**(1/2)))\n",
    "    xticks = np.linspace(xvals[0]**2,xvals[1]**2,10)\n",
    "    ax.axes.set_xticks(xticks**(1/2),map(str,np.around(xticks,1)))"
   ]
  },
  {
   "cell_type": "code",
   "execution_count": null,
   "metadata": {},
   "outputs": [],
   "source": [
    "plotLin = hv.Overlay([hv.Scatter(dataset[dataName][{\"t\":t,\"x\":0,\"h\":0}],label='${:.2f}t_0$'.format(dataset.coords[\"t\"].data[t])).opts(marker=hv.Cycle(['o','x','^']),s=8.0) for t in [0,1,2,20,120,240]])* hv.Curve((rk.grid.vGrid,f0_analytic[0,:]),label='Maxwellian').opts(color='k',linestyle='--')\n",
    "plotLin.opts(xlim=(0,14),logy=True,ylim=(1e-12,2),aspect=30, hooks=[fixed_aspect_ratio_loglin],xlabel=\"E (eV)\",fontsize={'xticks':6.0,'legend':8.0},legend_cols=1,legend_position='top_right')"
   ]
  },
  {
   "attachments": {},
   "cell_type": "markdown",
   "metadata": {},
   "source": [
    "Rerun with different \"cv\" values to get the temperature errors in Figure 9b"
   ]
  },
  {
   "cell_type": "code",
   "execution_count": null,
   "metadata": {},
   "outputs": [],
   "source": [
    "tempErrShortGrid=abs(dataset[\"T\"][:,0]-dataset[\"T\"][0,0])/dataset[\"T\"][0,0]\n",
    "sum(vGrid)"
   ]
  },
  {
   "cell_type": "code",
   "execution_count": null,
   "metadata": {},
   "outputs": [],
   "source": [
    "tempErrLongGrid=abs(dataset[\"T\"][:,0]-dataset[\"T\"][0,0])/dataset[\"T\"][0,0]\n",
    "sum(vGrid)"
   ]
  },
  {
   "cell_type": "code",
   "execution_count": null,
   "metadata": {},
   "outputs": [],
   "source": [
    "errorPlot = hv.Scatter(tempErrShortGrid,label=\"$v_{max}=11.27v_{th}$\").opts(s=6.0,marker='x')*hv.Scatter(tempErrLongGrid,label=\"$v_{max}=17.25v_{th}$\").opts(s=6.0)\n",
    "errorPlot.opts(logy=True,ylim=(1e-16,1e-6),aspect=0.5,legend_cols=1,ylabel='$\\delta T$')"
   ]
  },
  {
   "cell_type": "code",
   "execution_count": null,
   "metadata": {},
   "outputs": [],
   "source": [
    "hv.output(fig='pdf')\n",
    "hv.save(plotLin, 'e-eMaxwellian.pdf', dpi=144)\n",
    "hv.save(errorPlot,'e-eMaxwellianTError.pdf',dpi=144)"
   ]
  },
  {
   "cell_type": "code",
   "execution_count": null,
   "metadata": {},
   "outputs": [],
   "source": []
  }
 ],
 "metadata": {
  "kernelspec": {
   "display_name": "Python 3",
   "language": "python",
   "name": "python3"
  },
  "language_info": {
   "codemirror_mode": {
    "name": "ipython",
    "version": 3
   },
   "file_extension": ".py",
   "mimetype": "text/x-python",
   "name": "python",
   "nbconvert_exporter": "python",
   "pygments_lexer": "ipython3",
   "version": "3.8.10"
  },
  "orig_nbformat": 4
 },
 "nbformat": 4,
 "nbformat_minor": 2
}
