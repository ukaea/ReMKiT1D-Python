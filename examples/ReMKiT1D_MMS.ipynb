{
 "cells": [
  {
   "attachments": {},
   "cell_type": "markdown",
   "metadata": {},
   "source": [
    "## ReMKiT1D input generator - 2-fluid problem with no outflow boundary conditions - MMS\n",
    "\n",
    "This notebook generates the Method of Manufactured Solutions test from the ReMKiT1D paper. See section 6.1.2. in that paper for more details."
   ]
  },
  {
   "attachments": {},
   "cell_type": "markdown",
   "metadata": {},
   "source": [
    "The following are dependencies for this example"
   ]
  },
  {
   "cell_type": "code",
   "execution_count": null,
   "metadata": {},
   "outputs": [],
   "source": [
    "import numpy as np\n",
    "import holoviews as hv\n",
    "import matplotlib.pyplot as plt\n",
    "import panel as pn\n",
    "import pickle\n",
    "\n",
    "import sys\n",
    "sys.path.append('../')\n",
    "from RMK_support import RKWrapper ,Grid\n",
    "import RMK_support.simple_containers as sc\n",
    "import RMK_support.IO_support as io\n",
    "import RMK_support.dashboard_support as ds\n",
    "import RMK_support.common_models as cm\n",
    "import RMK_support.sk_normalization as skn\n"
   ]
  },
  {
   "attachments": {},
   "cell_type": "markdown",
   "metadata": {},
   "source": [
    "### Some useful constants"
   ]
  },
  {
   "cell_type": "code",
   "execution_count": null,
   "metadata": {},
   "outputs": [],
   "source": [
    "elCharge = 1.60218e-19\n",
    "elMass = 9.10938e-31\n",
    "amu = 1.6605390666e-27 #atomic mass unit\n",
    "ionMass = 2.014*amu # deuterium mass\n",
    "epsilon0 = 8.854188e-12 #vacuum permittivity \n",
    "heavySpeciesMass = 2.014 #in amus"
   ]
  },
  {
   "attachments": {},
   "cell_type": "markdown",
   "metadata": {},
   "source": [
    "### Wrapper initialization"
   ]
  },
  {
   "cell_type": "code",
   "execution_count": null,
   "metadata": {},
   "outputs": [],
   "source": [
    "rk = RKWrapper()"
   ]
  },
  {
   "attachments": {},
   "cell_type": "markdown",
   "metadata": {},
   "source": [
    "### Global parameters for IO files"
   ]
  },
  {
   "cell_type": "code",
   "execution_count": null,
   "metadata": {},
   "outputs": [],
   "source": [
    "rk.jsonFilepath = \"./config.json\" # Default value\n",
    "hdf5Filepath = \"./RMKOutput/RMK_MMS_test/\" \n",
    "rk.setHDF5Path(hdf5Filepath)"
   ]
  },
  {
   "attachments": {},
   "cell_type": "markdown",
   "metadata": {},
   "source": [
    "### Setting options for external libraries used by ReMKiT1D"
   ]
  },
  {
   "attachments": {},
   "cell_type": "markdown",
   "metadata": {},
   "source": [
    "#### MPI\n"
   ]
  },
  {
   "cell_type": "code",
   "execution_count": null,
   "metadata": {},
   "outputs": [],
   "source": [
    "numProcsX = 8 # Number of processes in x direction\n",
    "numProcsH = 1 # Number of processes in harmonic \n",
    "numProcs = numProcsX * numProcsH\n",
    "haloWidth = 1 # Halo width in cells\n",
    "\n",
    "rk.setMPIData(numProcsX,numProcsH,haloWidth)"
   ]
  },
  {
   "attachments": {},
   "cell_type": "markdown",
   "metadata": {},
   "source": [
    "### Normalization"
   ]
  },
  {
   "cell_type": "code",
   "execution_count": null,
   "metadata": {},
   "outputs": [],
   "source": [
    "rk.setNormDensity(1.0e19)\n",
    "rk.setNormTemperature(10.0)\n",
    "rk.setNormRefZ(1.0)\n",
    "\n",
    "norms = skn.calculateNorms(10.0,1.0e19,1.0)\n",
    "\n",
    "lengthNorm = norms[\"length\"]"
   ]
  },
  {
   "attachments": {},
   "cell_type": "markdown",
   "metadata": {},
   "source": [
    "### Grid initialization"
   ]
  },
  {
   "cell_type": "code",
   "execution_count": null,
   "metadata": {},
   "outputs": [],
   "source": [
    "L=10\n",
    "Nx = 1024\n",
    "xGridWidths = L/Nx*np.ones(Nx)\n",
    "vGridWidths = np.ones(1)\n",
    "lMax = 0\n",
    "gridObj = Grid(xGridWidths,vGridWidths,lMax,interpretXGridAsWidths=True,interpretVGridAsWidths=True,isLengthInMeters=True)"
   ]
  },
  {
   "cell_type": "code",
   "execution_count": null,
   "metadata": {},
   "outputs": [],
   "source": [
    "# Add the grid to the config file\n",
    "rk.grid = gridObj"
   ]
  },
  {
   "attachments": {},
   "cell_type": "markdown",
   "metadata": {},
   "source": [
    "### Handling particle species data"
   ]
  },
  {
   "cell_type": "code",
   "execution_count": null,
   "metadata": {},
   "outputs": [],
   "source": [
    "rk.addSpecies(\"e\",0,atomicA=elMass/amu,charge=-1.0,associatedVars=[\"ne\",\"Ge\"]) \n",
    "rk.addSpecies(\"D+\",-1,atomicA=2.014,charge=1.0,associatedVars=[\"ni\",\"Gi\"])\n",
    "\n",
    "electronSpecies = rk.getSpecies(\"e\")\n",
    "ionSpecies = rk.getSpecies(\"D+\")"
   ]
  },
  {
   "attachments": {},
   "cell_type": "markdown",
   "metadata": {},
   "source": [
    "#### Calculate variable initial values based on MMS test"
   ]
  },
  {
   "cell_type": "code",
   "execution_count": null,
   "metadata": {},
   "outputs": [],
   "source": [
    "# Manufactured solution terms\n",
    "dualGrid = gridObj.xGrid + gridObj.xWidths/2 \n",
    "dn = 0.1\n",
    "n = np.ones(Nx) + dn * (gridObj.xGrid-L)/L\n",
    "ndual = np.ones(Nx) + dn * (dualGrid-L)/L\n",
    "\n",
    "T0 = 0.5\n",
    "u0 = 0.01\n",
    "\n",
    "u = -u0 * gridObj.xGrid*(gridObj.xGrid-L)/L**2\n",
    "udual = -u0 *  dualGrid*((dualGrid-L)/L)/L\n",
    "dudx = -u0*(2*gridObj.xGrid-L)/L**2*lengthNorm\n",
    "dudualdx = -u0*(2*dualGrid-L)/L**2*lengthNorm\n",
    "\n",
    "gamma = n * u \n",
    "gammadual = ndual*udual\n",
    "\n",
    "dndx = dn/L*lengthNorm\n",
    "\n",
    "dGamma = dndx*u+dudx*n\n",
    "dGammadual = dndx*udual + dudualdx*ndual\n",
    "duGammadual = dGammadual*udual + dudualdx*gammadual\n",
    "\n",
    "fixBoundaryCells = False\n",
    "# Numerically modify duGammadual to account for fact ReMKiT1D uses extended boundary cells on staggered grid\n",
    "if fixBoundaryCells:\n",
    "    duGammadual[0] = (udual[0]+udual[1])*(gammadual[0]+gammadual[1])/4 *lengthNorm/ (xGridWidths[0]+xGridWidths[1]/2) \n",
    "    duGammadual[-2] = -(udual[-2]+udual[-3])*(gammadual[-2]+gammadual[-3])/4 *lengthNorm/ (xGridWidths[-1]+xGridWidths[-2]/2) \n",
    "\n",
    "T = T0*np.ones(Nx)\n",
    "\n",
    "Edual = - (0.5 * T * dndx + duGammadual)/ndual # Using assumed normalization"
   ]
  },
  {
   "cell_type": "code",
   "execution_count": null,
   "metadata": {},
   "outputs": [],
   "source": [
    "# Set conserved variables in container\n",
    "\n",
    "rk.addVarAndDual(\"ne\",n,units='$10^{19} m^{-3}$',isCommunicated=True) #Units are not used by ReMKiT1D, but are useful to specify for later plotting\n",
    "rk.addVarAndDual(\"ni\",n,units='$10^{19} m^{-3}$',isCommunicated=True)\n",
    "rk.addVarAndDual(\"Ge\",gammadual,primaryOnDualGrid=True,isCommunicated=True) # Ge_dual is evolved, and Ge is derived\n",
    "rk.addVarAndDual(\"Gi\",gammadual,primaryOnDualGrid=True,isCommunicated=True)\n",
    "\n",
    "# Temperatures\n",
    "rk.addVarAndDual(\"Te\",T,isDerived=True,units='$10eV$',isCommunicated=True)\n",
    "\n",
    "\n",
    "# Set E field\n",
    "\n",
    "rk.addVarAndDual(\"E\",Edual,primaryOnDualGrid=True)\n",
    "\n",
    "# Set derived fluid quantities\n",
    "\n",
    "rk.addVarAndDual(\"ue\",isDerived=True,primaryOnDualGrid=True,derivationRule=sc.derivationRule(\"flowSpeedFromFlux\",[\"Ge_dual\",\"ne_dual\"]),isCommunicated=True)\n",
    "rk.addVarAndDual(\"ui\",isDerived=True,primaryOnDualGrid=True,derivationRule=sc.derivationRule(\"flowSpeedFromFlux\",[\"Gi_dual\",\"ni_dual\"]),isCommunicated=True)\n",
    "\n",
    "# Set scalar quantities \n",
    "rk.addVar(\"time\",isScalar=True,isDerived=True)\n"
   ]
  },
  {
   "attachments": {},
   "cell_type": "markdown",
   "metadata": {},
   "source": [
    "### Models "
   ]
  },
  {
   "attachments": {},
   "cell_type": "markdown",
   "metadata": {},
   "source": [
    "### Density advection"
   ]
  },
  {
   "cell_type": "code",
   "execution_count": null,
   "metadata": {},
   "outputs": [],
   "source": [
    "#Electron continuity advection\n",
    "\n",
    "#Adding the model tag to tag list\n",
    "modelTag = \"continuity-ne\"\n",
    "\n",
    "#Initializing model using common models \n",
    "electronContModel = cm.staggeredAdvection(modelTag=modelTag, advectedVar=\"ne\",\n",
    "                                          fluxVar=\"Ge_dual\", advectionSpeed=\"ue\", rightOutflow=False)\n",
    "\n",
    "rk.addModel(electronContModel.dict())"
   ]
  },
  {
   "cell_type": "code",
   "execution_count": null,
   "metadata": {},
   "outputs": [],
   "source": [
    "#Ion continuity advection\n",
    "\n",
    "#Adding the model tag to tag list\n",
    "modelTag = \"continuity-ni\"\n",
    "\n",
    "#Initializing model using common models\n",
    "ionContModel = cm.staggeredAdvection(modelTag=modelTag, advectedVar=\"ni\",\n",
    "                                     fluxVar=\"Gi_dual\", advectionSpeed=\"ui\", rightOutflow=False)\n",
    "\n",
    "rk.addModel(ionContModel.dict())"
   ]
  },
  {
   "attachments": {},
   "cell_type": "markdown",
   "metadata": {},
   "source": [
    "### Pressure gradient forces"
   ]
  },
  {
   "cell_type": "code",
   "execution_count": null,
   "metadata": {},
   "outputs": [],
   "source": [
    "#Electron pressure grad\n",
    "\n",
    "#Adding the model tag to tag list\n",
    "modelTag = \"pressureGrad-Ge\"\n",
    "\n",
    "#Initializing model\n",
    "electronPressureGradModel = cm.staggeredPressureGrad(modelTag=modelTag,fluxVar=\"Ge_dual\",densityVar=\"ne\",temperatureVar=\"Te\",speciesMass=elMass)\n",
    "\n",
    "rk.addModel(electronPressureGradModel.dict())"
   ]
  },
  {
   "cell_type": "code",
   "execution_count": null,
   "metadata": {},
   "outputs": [],
   "source": [
    "#Ion pressure grad\n",
    "\n",
    "#Adding the model tag to tag list\n",
    "modelTag = \"pressureGrad-Gi\"\n",
    "\n",
    "#Initializing model\n",
    "ionPressureGradModel = cm.staggeredPressureGrad(modelTag=modelTag,fluxVar=\"Gi_dual\",densityVar=\"ni\",temperatureVar=\"Te\",speciesMass=ionMass)\n",
    "\n",
    "rk.addModel(ionPressureGradModel.dict())"
   ]
  },
  {
   "attachments": {},
   "cell_type": "markdown",
   "metadata": {},
   "source": [
    "### Momentum advection"
   ]
  },
  {
   "cell_type": "code",
   "execution_count": null,
   "metadata": {},
   "outputs": [],
   "source": [
    "#Electron momentum advection\n",
    "\n",
    "#Adding the model tag to tag list\n",
    "modelTag = \"advection-Ge\"\n",
    "\n",
    "#Initializing model\n",
    "electronMomAdvModel = cm.staggeredAdvection(modelTag=modelTag\n",
    "                                        ,advectedVar=\"Ge_dual\"\n",
    "                                        ,fluxVar=\"\"\n",
    "                                        ,staggeredAdvectionSpeed=\"ue_dual\"\n",
    "                                        ,rightOutflow=False,\n",
    "                                        staggeredAdvectedVar=True)\n",
    "\n",
    "rk.addModel(electronMomAdvModel.dict())"
   ]
  },
  {
   "cell_type": "code",
   "execution_count": null,
   "metadata": {},
   "outputs": [],
   "source": [
    "#Ion momentum advection\n",
    "\n",
    "#Adding the model tag to tag list\n",
    "modelTag = \"advection-Gi\"\n",
    "\n",
    "#Initializing model\n",
    "ionMomAdvModel = cm.staggeredAdvection(modelTag=modelTag\n",
    "                                        ,advectedVar=\"Gi_dual\"\n",
    "                                        ,fluxVar=\"\"\n",
    "                                        ,staggeredAdvectionSpeed=\"ui_dual\"\n",
    "                                        ,rightOutflow=False,\n",
    "                                        staggeredAdvectedVar=True)\n",
    "\n",
    "rk.addModel(ionMomAdvModel.dict())"
   ]
  },
  {
   "attachments": {},
   "cell_type": "markdown",
   "metadata": {},
   "source": [
    "### Ampere-Maxwell term and Lorentz force"
   ]
  },
  {
   "cell_type": "code",
   "execution_count": null,
   "metadata": {},
   "outputs": [],
   "source": [
    "#Ampere-Maxwell E field equation \n",
    " \n",
    "#Adding the model tag to tag list\n",
    "modelTag = \"ampereMaxwell\"\n",
    "\n",
    "#Initializing model\n",
    "ampereMawellModel = cm.ampereMaxwell(modelTag=modelTag,\n",
    "                                     eFieldName=\"E_dual\",\n",
    "                                     speciesFluxes=[\"Ge_dual\",\"Gi_dual\"],\n",
    "                                     species=[electronSpecies,ionSpecies])\n",
    "\n",
    "rk.addModel(ampereMawellModel.dict())"
   ]
  },
  {
   "cell_type": "code",
   "execution_count": null,
   "metadata": {},
   "outputs": [],
   "source": [
    "#Lorentz force terms \n",
    " \n",
    "#Adding the model tag to tag list\n",
    "modelTag = \"lorentzForce\"\n",
    "\n",
    "#Initializing model\n",
    "lorentzForceModel = cm.lorentzForces(modelTag=modelTag,\n",
    "                                     eFieldName=\"E_dual\",\n",
    "                                     speciesFluxes=[\"Ge_dual\",\"Gi_dual\"],\n",
    "                                     speciesDensities=[\"ne_dual\",\"ni_dual\"],\n",
    "                                     species=[electronSpecies,ionSpecies])\n",
    "\n",
    "rk.addModel(lorentzForceModel.dict())"
   ]
  },
  {
   "attachments": {},
   "cell_type": "markdown",
   "metadata": {},
   "source": [
    "### MMS Source model"
   ]
  },
  {
   "cell_type": "code",
   "execution_count": null,
   "metadata": {},
   "outputs": [],
   "source": [
    "nSource = dGamma\n",
    "\n",
    "gammaSourceion = duGammadual +  (0.5*T * dndx - ndual*Edual)*elMass/ionMass \n",
    "\n",
    "mmsModel = sc.CustomModel(\"mmsModel\")\n",
    "\n",
    "# Continuity equation MMS sources\n",
    "mmsModel.addTerm(\"sourcene\",cm.simpleSourceTerm(\"ne\",nSource))\n",
    "mmsModel.addTerm(\"sourceni\",cm.simpleSourceTerm(\"ni\",nSource))\n",
    "\n",
    "# Momentum equation MMS source\n",
    "\n",
    "vData = sc.VarData(reqRowVars=[\"ni_dual\"],reqRowPowers=[-1.0])\n",
    "    \n",
    "sourceTermGammaion = sc.GeneralMatrixTerm(\"Gi_dual\",\"ni\",spatialProfile=gammaSourceion.tolist(),varData=vData,stencilData=sc.diagonalStencil())\n",
    "\n",
    "mmsModel.addTerm(\"sourceGi\",sourceTermGammaion)\n",
    "\n",
    "rk.addModel(mmsModel.dict())\n"
   ]
  },
  {
   "attachments": {},
   "cell_type": "markdown",
   "metadata": {},
   "source": [
    "### Integrator options"
   ]
  },
  {
   "cell_type": "code",
   "execution_count": null,
   "metadata": {},
   "outputs": [],
   "source": [
    "integrator = sc.picardBDEIntegrator(absTol=10.0,convergenceVars=[\"ne\",\"ni\",\"Ge_dual\",\"Gi_dual\"],nonlinTol=1e-14) \n",
    "\n",
    "rk.addIntegrator(\"BE\",integrator)"
   ]
  },
  {
   "attachments": {},
   "cell_type": "markdown",
   "metadata": {},
   "source": [
    "### Timestep control\n",
    "\n",
    "Here the timestep is rescaled based on collisionality (though this is not strictly necessary)."
   ]
  },
  {
   "cell_type": "code",
   "execution_count": null,
   "metadata": {},
   "outputs": [],
   "source": [
    "initialTimestep=10.0\n",
    "\n",
    "rk.setIntegratorGlobalData(3,2,initialTimestep) \n",
    "\n",
    "timestepControllerOptions = sc.scalingTimestepController([\"ne\",\"Te\"],[-1.0,1.5])\n",
    "\n",
    "rk.setTimestepController(timestepControllerOptions)"
   ]
  },
  {
   "attachments": {},
   "cell_type": "markdown",
   "metadata": {},
   "source": [
    "### Controlling integration steps"
   ]
  },
  {
   "cell_type": "code",
   "execution_count": null,
   "metadata": {},
   "outputs": [],
   "source": [
    "bdeStep = sc.IntegrationStep(\"BE\",defaultEvaluateGroups=[1,2,3],defaultUpdateModelData=True,defaultUpdateGroups=[1,2,3])\n",
    "\n",
    "for tag in rk.modelTags():\n",
    "    bdeStep.addModel(tag)\n",
    "\n",
    "rk.addIntegrationStep(\"StepBDE\",bdeStep.dict())"
   ]
  },
  {
   "attachments": {},
   "cell_type": "markdown",
   "metadata": {},
   "source": [
    "### Time loop options"
   ]
  },
  {
   "attachments": {},
   "cell_type": "markdown",
   "metadata": {},
   "source": [
    "Running for a set amount of normalized time:"
   ]
  },
  {
   "cell_type": "code",
   "execution_count": null,
   "metadata": {},
   "outputs": [],
   "source": [
    "rk.setTimeTargetTimestepping(20000.0)\n",
    "rk.setMinimumIntervalOutput(1000.0)"
   ]
  },
  {
   "attachments": {},
   "cell_type": "markdown",
   "metadata": {},
   "source": [
    "### Setting up diagnostic variable outputs\n",
    "\n",
    "Using the wrapper feature that extracts all (non-generated) (model,term) pairs that evolve a given variable to produce diagnostic variables using manipulators. "
   ]
  },
  {
   "cell_type": "code",
   "execution_count": null,
   "metadata": {},
   "outputs": [],
   "source": [
    "terms = rk.getTermsThatEvolveVar(\"ne\")\n",
    "\n",
    "for pair in terms:\n",
    "    model,term=pair\n",
    "    rk.addVar(model+term,isDerived=True)\n",
    "    rk.addManipulator(model+term,sc.termEvaluatorManipulator([pair],model+term))"
   ]
  },
  {
   "cell_type": "code",
   "execution_count": null,
   "metadata": {},
   "outputs": [],
   "source": [
    "terms = rk.getTermsThatEvolveVar(\"Ge_dual\")\n",
    "\n",
    "for pair in terms:\n",
    "    model,term=pair\n",
    "    rk.addVar(model+term,isDerived=True)\n",
    "    rk.addManipulator(model+term,sc.termEvaluatorManipulator([pair],model+term))"
   ]
  },
  {
   "cell_type": "code",
   "execution_count": null,
   "metadata": {},
   "outputs": [],
   "source": [
    "terms = rk.getTermsThatEvolveVar(\"Gi_dual\")\n",
    "\n",
    "for pair in terms:\n",
    "    model,term=pair\n",
    "    rk.addVar(model+term,isDerived=True)\n",
    "    rk.addManipulator(model+term,sc.termEvaluatorManipulator([pair],model+term))"
   ]
  },
  {
   "cell_type": "code",
   "execution_count": null,
   "metadata": {},
   "outputs": [],
   "source": [
    "terms = rk.getTermsThatEvolveVar(\"E_dual\")\n",
    "\n",
    "for pair in terms:\n",
    "    model,term=pair\n",
    "    rk.addVar(model+term,isDerived=True)\n",
    "    rk.addManipulator(model+term,sc.termEvaluatorManipulator([pair],model+term))"
   ]
  },
  {
   "attachments": {},
   "cell_type": "markdown",
   "metadata": {},
   "source": [
    "### Write config file"
   ]
  },
  {
   "cell_type": "code",
   "execution_count": null,
   "metadata": {},
   "outputs": [],
   "source": [
    "rk.writeConfigFile()"
   ]
  },
  {
   "attachments": {},
   "cell_type": "markdown",
   "metadata": {},
   "source": [
    "### Data analysis"
   ]
  },
  {
   "cell_type": "code",
   "execution_count": null,
   "metadata": {},
   "outputs": [],
   "source": [
    "numFiles = 20"
   ]
  },
  {
   "cell_type": "code",
   "execution_count": null,
   "metadata": {},
   "outputs": [],
   "source": [
    "loadFilenames = [hdf5Filepath+f'ReMKiT1DVarOutput_{i}.h5' for i in range(numFiles+1)]"
   ]
  },
  {
   "cell_type": "code",
   "execution_count": null,
   "metadata": {},
   "outputs": [],
   "source": [
    "loadedData = io.loadFromHDF5(rk.varCont,filepaths=loadFilenames)\n",
    "loadedData"
   ]
  },
  {
   "cell_type": "code",
   "execution_count": null,
   "metadata": {},
   "outputs": [],
   "source": [
    "hv.extension('matplotlib')\n",
    "%matplotlib inline \n",
    "plt.rcParams['figure.dpi'] = 150\n",
    "hv.output(size=100,dpi=150)"
   ]
  },
  {
   "attachments": {},
   "cell_type": "markdown",
   "metadata": {},
   "source": [
    "#### Explore data using basic dashboard"
   ]
  },
  {
   "cell_type": "code",
   "execution_count": null,
   "metadata": {},
   "outputs": [],
   "source": [
    "pn.extension(comms=\"vscode\") # change comms if not using VSCode\n",
    "dashboard = ds.ReMKiT1DDashboard(loadedData,gridObj)\n",
    "\n",
    "dashboard.fluid2Comparison().show()\n"
   ]
  },
  {
   "attachments": {},
   "cell_type": "markdown",
   "metadata": {},
   "source": [
    "### Generating plots for the paper"
   ]
  },
  {
   "cell_type": "code",
   "execution_count": null,
   "metadata": {},
   "outputs": [],
   "source": [
    "varsToCheck = ['ne','ue_dual','E_dual']\n",
    "mmsVars = [n,udual,Edual]\n",
    "\n",
    "errors = [np.abs(loadedData[varsToCheck[i]]-mmsVars[i])/abs(mmsVars[i]) for i in range(len(mmsVars))]\n",
    "maxErrors = [error.reduce(np.nanmax,'x') for error in errors]"
   ]
  },
  {
   "cell_type": "code",
   "execution_count": null,
   "metadata": {},
   "outputs": [],
   "source": [
    "curves = hv.Overlay([hv.Curve(maxErrors[i],label=varsToCheck[i]) for i in range(len(mmsVars))])"
   ]
  },
  {
   "cell_type": "code",
   "execution_count": null,
   "metadata": {},
   "outputs": [],
   "source": [
    "curves.opts(ylim=(1e-10,1),logy=True)"
   ]
  },
  {
   "cell_type": "code",
   "execution_count": null,
   "metadata": {},
   "outputs": [],
   "source": [
    "maxErrorDict = {}\n",
    "maxErrorDictFix = {}"
   ]
  },
  {
   "attachments": {},
   "cell_type": "markdown",
   "metadata": {},
   "source": [
    "#### Add maximum errors based on which run was performed\n",
    "\n",
    "To reproduce the results, run ReMKiT1D with the appropriate fixBoundaryCells flag and the number of spatial cells Nx"
   ]
  },
  {
   "cell_type": "code",
   "execution_count": null,
   "metadata": {},
   "outputs": [],
   "source": [
    "if fixBoundaryCells:\n",
    "    maxErrorDictFix[Nx]=maxErrors\n",
    "else:\n",
    "    maxErrorDict[Nx]=maxErrors"
   ]
  },
  {
   "cell_type": "code",
   "execution_count": null,
   "metadata": {},
   "outputs": [],
   "source": [
    "pickle.dump((maxErrorDict,maxErrorDictFix),open(\"mmsTest.pkl\",\"wb\"))"
   ]
  },
  {
   "cell_type": "code",
   "execution_count": null,
   "metadata": {},
   "outputs": [],
   "source": [
    "maxErrorDict,maxErrorDictFix= pickle.load(open(\"mmsTest.pkl\",\"rb\"))"
   ]
  },
  {
   "cell_type": "code",
   "execution_count": null,
   "metadata": {},
   "outputs": [],
   "source": [
    "plotNoFix = hv.Overlay([hv.Curve((list(maxErrorDict.keys()),[maxErrorDict[key][i][-1] for key in maxErrorDict.keys()])) for i in range(len(mmsVars))])\n",
    "plotNoFix.opts(logx=True,logy=True,xlabel='$N_x$',ylabel='max($\\delta$)',ylim=(1e-9,1))"
   ]
  },
  {
   "cell_type": "code",
   "execution_count": null,
   "metadata": {},
   "outputs": [],
   "source": [
    "plotFix = hv.Overlay([hv.Curve((list(maxErrorDictFix.keys()),[maxErrorDictFix[key][i][-1] for key in maxErrorDictFix.keys()]),label=varsToCheck[i]) for i in range(len(mmsVars))])\n",
    "plotFix.opts(logx=True,logy=True,xlabel='$N_x$',ylabel='max($\\delta$)',ylim=(1e-9,1))"
   ]
  },
  {
   "cell_type": "code",
   "execution_count": null,
   "metadata": {},
   "outputs": [],
   "source": [
    "hv.save(plotNoFix, 'mmsTestNoFix.pdf', dpi=144)\n",
    "hv.save(plotFix, 'mmsTestFix.pdf', dpi=144)\n"
   ]
  },
  {
   "attachments": {},
   "cell_type": "markdown",
   "metadata": {},
   "source": [
    "### Number of acoustic transition times the simulation is run for"
   ]
  },
  {
   "cell_type": "code",
   "execution_count": null,
   "metadata": {},
   "outputs": [],
   "source": [
    "20000*lengthNorm*np.sqrt(T0*elMass/ionMass)/L"
   ]
  }
 ],
 "metadata": {
  "kernelspec": {
   "display_name": "Python 3",
   "language": "python",
   "name": "python3"
  },
  "language_info": {
   "codemirror_mode": {
    "name": "ipython",
    "version": 3
   },
   "file_extension": ".py",
   "mimetype": "text/x-python",
   "name": "python",
   "nbconvert_exporter": "python",
   "pygments_lexer": "ipython3",
   "version": "3.8.10"
  },
  "orig_nbformat": 4,
  "vscode": {
   "interpreter": {
    "hash": "916dbcbb3f70747c44a77c7bcd40155683ae19c65e1c03b4aa3499c5328201f1"
   }
  }
 },
 "nbformat": 4,
 "nbformat_minor": 2
}
