{
 "cells": [
  {
   "attachments": {},
   "cell_type": "markdown",
   "metadata": {},
   "source": [
    "## Example notebook for analysis of data with wrappers in pkl format\n",
    "\n",
    "This notebook showcases how to use pickled RKWrapper objects to load and analyze run data"
   ]
  },
  {
   "cell_type": "code",
   "execution_count": null,
   "metadata": {},
   "outputs": [],
   "source": [
    "import numpy as np\n",
    "import xarray as xr\n",
    "import holoviews as hv\n",
    "import matplotlib.pyplot as plt\n",
    "import panel as pn \n",
    "import pickle\n",
    "import sys\n",
    "sys.path.append('../')\n",
    "from RMK_support import RKWrapper\n",
    "import RMK_support.simple_containers as sc\n",
    "import RMK_support.IO_support as io\n",
    "import RMK_support.dashboard_support as ds\n"
   ]
  },
  {
   "cell_type": "code",
   "execution_count": null,
   "metadata": {},
   "outputs": [],
   "source": [
    "hdf5Filepath = \"./RMKOutput/RMK_SK_comp_staggered_thesis/\" \n",
    "wrapperPickleFilename = \"example.pkl\" # Replace with the name of the pkl file containing your wrapper"
   ]
  },
  {
   "cell_type": "code",
   "execution_count": null,
   "metadata": {},
   "outputs": [],
   "source": [
    "wrapper = pickle.load(open(wrapperPickleFilename,\"rb\"))\n",
    "assert type(wrapper) == RKWrapper\n",
    "varsNotInOutput=list(wrapper.varCont.dataset.keys()-set(wrapper.varsInOutput()))"
   ]
  },
  {
   "cell_type": "code",
   "execution_count": null,
   "metadata": {},
   "outputs": [],
   "source": [
    "numFiles = 21 # set to number of timesteps you wish to load\n",
    "loadFilenames = [hdf5Filepath+f'ReMKiT1DVarOutput_{i}.h5' for i in range(numFiles+1)]\n",
    "loadedData = io.loadFromHDF5(wrapper.varCont,filepaths=loadFilenames,varsToIgnore=varsNotInOutput,isXinMeters=wrapper.grid.isLengthInMeters)\n",
    "loadedData"
   ]
  },
  {
   "cell_type": "code",
   "execution_count": null,
   "metadata": {},
   "outputs": [],
   "source": [
    "hv.extension('matplotlib')\n",
    "%matplotlib inline \n",
    "plt.rcParams['figure.dpi'] = 150\n",
    "hv.output(size=100,dpi=150)"
   ]
  },
  {
   "cell_type": "code",
   "execution_count": null,
   "metadata": {},
   "outputs": [],
   "source": [
    "pn.extension(comms=\"vscode\") # change comms if not using VSCode\n",
    "dashboard = ds.ReMKiT1DDashboard(loadedData,wrapper.grid)\n",
    "\n",
    "dashboard.fluid2Comparison().show()\n"
   ]
  }
 ],
 "metadata": {
  "kernelspec": {
   "display_name": "Python 3",
   "language": "python",
   "name": "python3"
  },
  "language_info": {
   "codemirror_mode": {
    "name": "ipython",
    "version": 3
   },
   "file_extension": ".py",
   "mimetype": "text/x-python",
   "name": "python",
   "nbconvert_exporter": "python",
   "pygments_lexer": "ipython3",
   "version": "3.8.10"
  },
  "orig_nbformat": 4,
  "vscode": {
   "interpreter": {
    "hash": "916dbcbb3f70747c44a77c7bcd40155683ae19c65e1c03b4aa3499c5328201f1"
   }
  }
 },
 "nbformat": 4,
 "nbformat_minor": 2
}
