{
 "cells": [
  {
   "attachments": {},
   "cell_type": "markdown",
   "metadata": {},
   "source": [
    "## Kinetic electron SOL-KiT style problem\n",
    "\n",
    "This example uses the kinetic model SOL-KiT-like generator to set up kinetic runs. See Appendix B of the ReMKiT1D code paper."
   ]
  },
  {
   "attachments": {},
   "cell_type": "markdown",
   "metadata": {},
   "source": [
    "The following are dependencies for this example"
   ]
  },
  {
   "cell_type": "code",
   "execution_count": null,
   "metadata": {},
   "outputs": [],
   "source": [
    "import holoviews as hv\n",
    "import matplotlib.pyplot as plt\n",
    "import panel as pn\n",
    "import numpy as np\n",
    "from solkit_mijin_thesis_kin import generatorSKThesisKin\n",
    "\n",
    "import RMK_support.dashboard_support as ds\n"
   ]
  },
  {
   "attachments": {},
   "cell_type": "markdown",
   "metadata": {},
   "source": [
    "### Grid parameters for Mijin thesis comparison"
   ]
  },
  {
   "cell_type": "code",
   "execution_count": null,
   "metadata": {},
   "outputs": [],
   "source": [
    "dx0=0.13542325129584085E+0*8.5/2.5*10.18/9.881556569543156\n",
    "dxN=0.13542325129584085E+0*0.5/2.5*10.18/9.881556569543156"
   ]
  },
  {
   "cell_type": "code",
   "execution_count": null,
   "metadata": {},
   "outputs": [],
   "source": [
    "heatingPower=3.5464790894703255"
   ]
  },
  {
   "attachments": {},
   "cell_type": "markdown",
   "metadata": {},
   "source": [
    "### Initialize fluid run wrapper using external script\n",
    "\n",
    "See script for input parameter docs."
   ]
  },
  {
   "cell_type": "code",
   "execution_count": null,
   "metadata": {},
   "outputs": [],
   "source": [
    "rk = generatorSKThesisKin(dx0 = dx0,\n",
    "                          mpiProcsX=16,\n",
    "                        dxN = dxN,\n",
    "                        Nx = 64,\n",
    "                        Nh=9,\n",
    "                        lmax=1,\n",
    "                        numNeutrals=5,\n",
    "                        initialTimestep=0.5,\n",
    "                        heatingPower=heatingPower,\n",
    "                        includeSpontEmission=True,\n",
    "                        includedJanevTransitions=[\"ex\",\"deex\",\"ion\",\"recomb3b\"],\n",
    "                        # amjuelCXRate=True,\n",
    "                        nu=0.8/1.09345676,\n",
    "                        # amjuelRates=True,\n",
    "                        # initFromFluidRun = True,\n",
    "                        # hdf5InputFile=\"../RMK_SK_comp_staggered_thesis/ReMKiT1DVarOutput_54\"\n",
    "                        )"
   ]
  },
  {
   "cell_type": "code",
   "execution_count": null,
   "metadata": {},
   "outputs": [],
   "source": [
    "rk.generatePDF(\"SOL-KiT kinetic\")"
   ]
  },
  {
   "cell_type": "code",
   "execution_count": null,
   "metadata": {},
   "outputs": [],
   "source": [
    "rk.integrationScheme.setFixedNumTimesteps(1000,10)"
   ]
  },
  {
   "cell_type": "code",
   "execution_count": null,
   "metadata": {},
   "outputs": [],
   "source": [
    "rk.writeConfigFile()"
   ]
  },
  {
   "attachments": {},
   "cell_type": "markdown",
   "metadata": {},
   "source": [
    "### Data analysis"
   ]
  },
  {
   "cell_type": "code",
   "execution_count": null,
   "metadata": {},
   "outputs": [],
   "source": [
    "loadedData = rk.loadSimulation()\n",
    "dataset = loadedData.dataset"
   ]
  },
  {
   "cell_type": "markdown",
   "metadata": {},
   "source": []
  },
  {
   "cell_type": "code",
   "execution_count": null,
   "metadata": {},
   "outputs": [],
   "source": [
    "hv.extension('matplotlib')\n",
    "%matplotlib inline \n",
    "plt.rcParams['figure.dpi'] = 150\n",
    "hv.output(size=100,dpi=150)"
   ]
  },
  {
   "attachments": {},
   "cell_type": "markdown",
   "metadata": {},
   "source": [
    "#### Explore data using basic dashboard"
   ]
  },
  {
   "cell_type": "code",
   "execution_count": null,
   "metadata": {},
   "outputs": [],
   "source": [
    "pn.extension(comms=\"vscode\") # change comms if not using VSCode\n",
    "dashboard = ds.ReMKiT1DDashboard(dataset,rk.grid)\n",
    "\n",
    "dashboard.fluid2Comparison().show()\n"
   ]
  },
  {
   "cell_type": "code",
   "execution_count": null,
   "metadata": {},
   "outputs": [],
   "source": [
    "dashboard.distDynMap().show()"
   ]
  }
 ],
 "metadata": {
  "kernelspec": {
   "display_name": "Python 3",
   "language": "python",
   "name": "python3"
  },
  "language_info": {
   "codemirror_mode": {
    "name": "ipython",
    "version": 3
   },
   "file_extension": ".py",
   "mimetype": "text/x-python",
   "name": "python",
   "nbconvert_exporter": "python",
   "pygments_lexer": "ipython3",
   "version": "3.8.10"
  },
  "orig_nbformat": 4,
  "vscode": {
   "interpreter": {
    "hash": "31f2aee4e71d21fbe5cf8b01ff0e069b9275f58929596ceb00d14d90e3e16cd6"
   }
  }
 },
 "nbformat": 4,
 "nbformat_minor": 2
}
