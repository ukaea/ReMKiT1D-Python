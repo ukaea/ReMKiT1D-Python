{
 "cells": [
  {
   "attachments": {},
   "cell_type": "markdown",
   "metadata": {},
   "source": [
    "## Example - logical boundary condition test\n",
    "\n",
    "This example tests the logical boundary condition by looking at the sheath heat transmission coefficient for a Maxwellian distribution\n",
    "\n",
    "This is the v2.0.0 rewrite of the original test"
   ]
  },
  {
   "cell_type": "code",
   "execution_count": null,
   "metadata": {},
   "outputs": [],
   "source": [
    "import numpy as np\n",
    "\n",
    "import RMK_support as rmk\n",
    "import RMK_support.common_models as cm\n",
    "from RMK_support import node,varFromNode\n"
   ]
  },
  {
   "attachments": {},
   "cell_type": "markdown",
   "metadata": {},
   "source": [
    "### Some useful constants"
   ]
  },
  {
   "cell_type": "code",
   "execution_count": null,
   "metadata": {},
   "outputs": [],
   "source": [
    "elCharge = 1.60218e-19\n",
    "elMass = 9.10938e-31\n",
    "amu = 1.6605390666e-27 #atomic mass unit\n",
    "ionMass = 2.014*amu # deuterium mass\n",
    "epsilon0 = 8.854188e-12 #vacuum permittivity \n",
    "heavySpeciesMass = 2.014 #in amus\n"
   ]
  },
  {
   "attachments": {},
   "cell_type": "markdown",
   "metadata": {},
   "source": [
    "### Context initialization"
   ]
  },
  {
   "cell_type": "code",
   "execution_count": null,
   "metadata": {},
   "outputs": [],
   "source": [
    "rk = rmk.RMKContext()\n",
    "rk.IOContext = rmk.IOContext(HDF5Dir=\"./RMKOutput/RMK_lbc_test/\" )"
   ]
  },
  {
   "attachments": {},
   "cell_type": "markdown",
   "metadata": {},
   "source": [
    "### Grid setup"
   ]
  },
  {
   "cell_type": "code",
   "execution_count": null,
   "metadata": {},
   "outputs": [],
   "source": [
    "xGrid = np.ones(4) \n",
    "L = sum(xGrid)\n",
    "dv0 = 0.05\n",
    "cv = 1.025\n",
    "vGrid = [dv0/2]\n",
    "for i in range(1,120):\n",
    "    vGrid.append(vGrid[i-1]*cv)\n",
    "lMax = 1 \n",
    "rk.grid = rmk.Grid(xGrid,np.array(vGrid),lMax,interpretXGridAsWidths=True,interpretVGridAsWidths=True)"
   ]
  },
  {
   "attachments": {},
   "cell_type": "markdown",
   "metadata": {},
   "source": [
    "### Variables"
   ]
  },
  {
   "cell_type": "code",
   "execution_count": null,
   "metadata": {},
   "outputs": [],
   "source": [
    "nInit = 1.0 + 0.001*np.sin(2*np.pi*rk.grid.xGrid/L)\n",
    "TInit = np.ones(rk.grid.numX)\n",
    "fInit = np.zeros([rk.grid.numX,rk.grid.numH,rk.grid.numV])\n",
    "for i in range(rk.grid.numX):\n",
    "    fInit[i,rk.grid.getH(0)-1,:] = (np.pi*TInit[i])**(-1.5) * nInit[i]* np.exp(-rk.grid.vGrid**2/TInit[i])\n",
    "\n",
    "numerical_dens = rk.grid.velocityMoment(fInit,0,1)\n",
    "for i in range(rk.grid.numX):\n",
    "    fInit[i,rk.grid.getH(0)-1,:] = nInit[i] *fInit[i,rk.grid.getH(0)-1,:]/numerical_dens[i]\n",
    "\n",
    "f,f_dual = rmk.varAndDual(\"f\",rk.grid,isDistribution=True,data=fInit)\n",
    "n,n_dual = rmk.varAndDual(\"n\",rk.grid,derivation=rk.textbook[\"densityMoment\"],derivationArgs=[\"f\"])\n",
    "\n",
    "rk.variables.add(f,n)\n",
    "\n",
    "nb_right = rmk.derivations.BoundedExtrapolationDerivation(\"nb_right\",extrapolationType=\"linlog\")(n)\n",
    "nb_left = rmk.derivations.BoundedExtrapolationDerivation(\"nb_left\",extrapolationType=\"linlog\",leftBoundary=True)(n)\n",
    "\n",
    "ionCurrent_right = varFromNode(\"ionCurrent_right\",rk.grid,node=np.sqrt(elMass/ionMass)*node(nb_right),isScalar=True)\n",
    "\n",
    "ionCurrent_left = varFromNode(\"ionCurrent_left\",rk.grid,node=-np.sqrt(elMass/ionMass)*node(nb_left),isScalar=True)\n",
    "\n",
    "rk.variables.add(nb_right,nb_left,ionCurrent_right,ionCurrent_left)\n",
    "\n",
    "# Boundary property value containers\n",
    "\n",
    "for varName in [\"gamma_right\",\"potential_right\",\"temp_right\",\"gamma_left\",\"potential_left\",\"temp_left\"]:\n",
    "    rk.variables.add(rmk.Variable(varName,rk.grid,isDerived=True,isScalar=True))"
   ]
  },
  {
   "attachments": {},
   "cell_type": "markdown",
   "metadata": {},
   "source": [
    "### LBC models"
   ]
  },
  {
   "cell_type": "code",
   "execution_count": null,
   "metadata": {},
   "outputs": [],
   "source": [
    "LBCleft = cm.logicalBCModel(rk.grid,f,ionCurrent_left,n,n_dual,nb_left,leftBoundary=True,evolvedHarmonics=[1])\n",
    "\n",
    "LBCright = cm.logicalBCModel(rk.grid,f,ionCurrent_right,n,n_dual,nb_right,evolvedHarmonics=[1])\n",
    "\n",
    "rk.models.add(LBCleft,LBCright)"
   ]
  },
  {
   "attachments": {},
   "cell_type": "markdown",
   "metadata": {},
   "source": [
    "### Manipulators\n",
    "\n",
    "Adding manipulators to extract boundary properties from modelbound data"
   ]
  },
  {
   "cell_type": "code",
   "execution_count": null,
   "metadata": {},
   "outputs": [],
   "source": [
    "rk.manipulators.add(rmk.MBDataExtractor(\"gammaRight\",LBCright,LBCright.mbData[\"gamma\"],rk.variables[\"gamma_right\"]))\n",
    "rk.manipulators.add(rmk.MBDataExtractor(\"potentialRight\",LBCright,LBCright.mbData[\"potential\"],rk.variables[\"potential_right\"]))\n",
    "rk.manipulators.add(rmk.MBDataExtractor(\"tempRight\",LBCright,LBCright.mbData[\"shTemp\"],rk.variables[\"temp_right\"]))\n",
    "\n",
    "rk.manipulators.add(rmk.MBDataExtractor(\"gammaLeft\",LBCleft,LBCleft.mbData[\"gamma\"],rk.variables[\"gamma_left\"]))\n",
    "rk.manipulators.add(rmk.MBDataExtractor(\"potentialLeft\",LBCleft,LBCleft.mbData[\"potential\"],rk.variables[\"potential_left\"]))\n",
    "rk.manipulators.add(rmk.MBDataExtractor(\"tempLeft\",LBCleft,LBCleft.mbData[\"shTemp\"],rk.variables[\"temp_left\"]))"
   ]
  },
  {
   "attachments": {},
   "cell_type": "markdown",
   "metadata": {},
   "source": [
    "### Integrator and timestep options\n",
    "\n",
    "0 step to check analytic solution"
   ]
  },
  {
   "cell_type": "code",
   "execution_count": null,
   "metadata": {},
   "outputs": [],
   "source": [
    "integrator = rmk.BDEIntegrator(\"BDE\",absTol=10.0,convergenceVars=[f])\n",
    "integrationStep = rmk.IntegrationStep(\"BE\",integrator)\n",
    "integrationStep.add(rk.models) \n",
    "rk.integrationScheme = rmk.IntegrationScheme(dt=0.0,steps=integrationStep) \n",
    "rk.integrationScheme.setFixedNumTimesteps(1,1) \n"
   ]
  },
  {
   "cell_type": "markdown",
   "metadata": {},
   "source": [
    "#### Generate a LaTeX summary of the ReMKiT1D run "
   ]
  },
  {
   "cell_type": "code",
   "execution_count": null,
   "metadata": {},
   "outputs": [],
   "source": [
    "rk.generatePDF(\"Logical boundary condition test\")"
   ]
  },
  {
   "attachments": {},
   "cell_type": "markdown",
   "metadata": {},
   "source": [
    "### Create config file"
   ]
  },
  {
   "cell_type": "code",
   "execution_count": null,
   "metadata": {},
   "outputs": [],
   "source": [
    "rk.writeConfigFile()\n"
   ]
  },
  {
   "attachments": {},
   "cell_type": "markdown",
   "metadata": {},
   "source": [
    "### Data analysis\n"
   ]
  },
  {
   "attachments": {},
   "cell_type": "markdown",
   "metadata": {},
   "source": [
    "#### Loading data\n",
    "\n",
    "Set loadpath to ReMKiT1D directory"
   ]
  },
  {
   "cell_type": "code",
   "execution_count": null,
   "metadata": {},
   "outputs": [],
   "source": [
    "loadedData = rk.loadSimulation(onlySteps=[1])\n",
    "dataset = loadedData.dataset"
   ]
  },
  {
   "attachments": {},
   "cell_type": "markdown",
   "metadata": {},
   "source": [
    "Compare solution to analytic value. Note that $\\gamma_e$ saved as modelbound data is calculated using the cut-off distribution temperature, so to rescale to unit temperature the analytical gamma must be divided by the sheath temperature variable temp_right."
   ]
  },
  {
   "cell_type": "code",
   "execution_count": null,
   "metadata": {},
   "outputs": [],
   "source": [
    "analyticGamma = (2-0.5*np.log(4*np.pi*elMass/ionMass))/dataset[\"temp_right\"].data[0]\n",
    "abs(dataset[\"gamma_right\"].data[0] - analyticGamma)/analyticGamma"
   ]
  },
  {
   "cell_type": "code",
   "execution_count": null,
   "metadata": {},
   "outputs": [],
   "source": [
    "nalyticGamma = (2-0.5*np.log(4*np.pi*elMass/ionMass))/dataset[\"temp_left\"].data[0]\n",
    "abs(dataset[\"gamma_left\"].data[0] - analyticGamma)/analyticGamma"
   ]
  }
 ],
 "metadata": {
  "kernelspec": {
   "display_name": "Python 3.9.5 64-bit",
   "language": "python",
   "name": "python3"
  },
  "language_info": {
   "codemirror_mode": {
    "name": "ipython",
    "version": 3
   },
   "file_extension": ".py",
   "mimetype": "text/x-python",
   "name": "python",
   "nbconvert_exporter": "python",
   "pygments_lexer": "ipython3",
   "version": "3.8.10"
  },
  "orig_nbformat": 4,
  "vscode": {
   "interpreter": {
    "hash": "31f2aee4e71d21fbe5cf8b01ff0e069b9275f58929596ceb00d14d90e3e16cd6"
   }
  }
 },
 "nbformat": 4,
 "nbformat_minor": 2
}
