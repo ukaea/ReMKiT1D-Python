{
 "cells": [
  {
   "attachments": {},
   "cell_type": "markdown",
   "metadata": {},
   "source": [
    "## Example - 0D hydrogen CRM using CRM modelbound data and term generator functionality with kinetic electrons\n",
    "\n",
    "This is the v2.0.0 rewrite of the notebook that corresponds to the kinetic test in Section 5.3. of the ReMKiT1D code paper. It tests particle and energy conservation properties of SOL-KiT-like implementations of electron-neutral Boltzmann collisions from common_models.py"
   ]
  },
  {
   "cell_type": "code",
   "execution_count": null,
   "metadata": {},
   "outputs": [],
   "source": [
    "import numpy as np\n",
    "import holoviews as hv\n",
    "import matplotlib.pyplot as plt\n",
    "\n",
    "import RMK_support as rmk\n",
    "import RMK_support.crm_support as crm # This is the main python module for crm construction\n",
    "from RMK_support import node,varFromNode"
   ]
  },
  {
   "attachments": {},
   "cell_type": "markdown",
   "metadata": {},
   "source": [
    "### Some useful constants"
   ]
  },
  {
   "cell_type": "code",
   "execution_count": null,
   "metadata": {},
   "outputs": [],
   "source": [
    "heavySpeciesMass = 2.014 #in amus\n",
    "hPlanck = 6.62607004e-34\n",
    "elMass =  9.10938e-31\n",
    "elCharge = 1.60218e-19\n"
   ]
  },
  {
   "attachments": {},
   "cell_type": "markdown",
   "metadata": {},
   "source": [
    "### Context initialization"
   ]
  },
  {
   "cell_type": "code",
   "execution_count": null,
   "metadata": {},
   "outputs": [],
   "source": [
    "rk = rmk.RMKContext()\n",
    "rk.IOContext = rmk.IOContext(HDF5Dir=\"./RMKOutput/RMK_kin_crm_test/\")\n",
    "rk.normTemperature = 5.0"
   ]
  },
  {
   "attachments": {},
   "cell_type": "markdown",
   "metadata": {},
   "source": [
    "### Grid setup"
   ]
  },
  {
   "cell_type": "code",
   "execution_count": null,
   "metadata": {},
   "outputs": [],
   "source": [
    "xGrid = np.ones(1) # 0D\n",
    "dv0 = 0.01\n",
    "cv = 1.025\n",
    "vGrid = [dv0]\n",
    "for i in range(1,120):\n",
    "    vGrid.append(vGrid[i-1]*cv)\n",
    "lMax = 0 \n",
    "rk.grid = rmk.Grid(xGrid,vGrid,lMax,interpretXGridAsWidths=True ,interpretVGridAsWidths=True)"
   ]
  },
  {
   "attachments": {},
   "cell_type": "markdown",
   "metadata": {},
   "source": [
    "### Species initialization \n",
    "\n",
    "NOTE: The CRM density evolution generator assumes that all species it evolves have a density as their first associated variable and that it is an implicit and fluid variable. Also, the prebuilt Janev data requires that neutral IDs correspond to principle quantum numbers of excited states."
   ]
  },
  {
   "cell_type": "code",
   "execution_count": null,
   "metadata": {},
   "outputs": [],
   "source": [
    "electronSpecies = rmk.Species(\"e\",0) \n",
    "ionSpecies = rmk.Species(\"D+\",-1)\n",
    "\n",
    "rk.species.add(electronSpecies,ionSpecies)\n",
    "\n",
    "numNeutrals=20\n",
    "neutralDensList = [\"n\"+str(i) for i in range(1,numNeutrals+1)] # List of neutral density names\n",
    "neutralSpecies = []\n",
    "for neutral in neutralDensList:\n",
    "    neutralSpecies.append(rmk.Species(\"D\"+neutral[1:],int(neutral[1:]),heavySpeciesMass))\n",
    "rk.species.add(*tuple(neutralSpecies))"
   ]
  },
  {
   "attachments": {},
   "cell_type": "markdown",
   "metadata": {},
   "source": [
    "### Variable initialization"
   ]
  },
  {
   "cell_type": "code",
   "execution_count": null,
   "metadata": {},
   "outputs": [],
   "source": [
    "TInit = np.ones(rk.grid.numX)\n",
    "\n",
    "nInit = np.ones(rk.grid.numX)  \n",
    "n1Init = 0.1*np.ones(rk.grid.numX)\n",
    "\n",
    "fInit = np.zeros([rk.grid.numX,rk.grid.numH,rk.grid.numV])\n",
    "for i in range(rk.grid.numX):\n",
    "    fInit[i,rk.grid.getH(0)-1,:] = (TInit[i]*np.pi)**(-1.5) * nInit[i] * np.exp(-rk.grid.vGrid**2/TInit[i])\n",
    "\n",
    "# Rescale distribution function to ensure that the numerical density moment agrees with the initial values\n",
    "numerical_dens = rk.grid.velocityMoment(fInit,0,1)\n",
    "for i in range(rk.grid.numX):\n",
    "    fInit[i,rk.grid.getH(0)-1,:] = nInit[i] *fInit[i,rk.grid.getH(0)-1,:]/numerical_dens[i]\n",
    "\n",
    "f = rmk.Variable(\"f\",rk.grid,data=fInit,isDistribution=True)\n",
    "We = rmk.Variable(\"We\",rk.grid,derivation=rk.textbook[\"energyMoment\"],derivationArgs=[\"f\"])\n",
    "ne = rmk.Variable(\"ne\",rk.grid,derivation=rk.textbook[\"densityMoment\"],derivationArgs=[\"f\"])\n",
    "electronSpecies.associateVar(ne)\n",
    "Te =  varFromNode(\"Te\",rk.grid,node=(2/3)*node(We)/node(ne))\n",
    "\n",
    "rk.variables.add(f,We,ne,Te)\n",
    "ni = rmk.Variable(\"ni\",rk.grid,data=nInit,units='$10^{19} m^{-3}$')\n",
    "ionSpecies.associateVar(ni)\n",
    "rk.variables.add(ni)\n",
    "\n",
    "neutralVars = []\n",
    "\n",
    "neutralVars.append(rmk.Variable(\"n1\",rk.grid,data=n1Init*np.ones(rk.grid.numX),units='$10^{19} m^{-3}$'))\n",
    "for i in range(2,numNeutrals+1):\n",
    "    neutralVars.append(rmk.Variable(neutralDensList[i-1],rk.grid,units='$10^{19} m^{-3}$'))\n",
    "\n",
    "for i,var in enumerate(neutralVars):\n",
    "    neutralSpecies[i].associateVar(var)\n",
    "rk.variables.add(*tuple(neutralVars))"
   ]
  },
  {
   "attachments": {},
   "cell_type": "markdown",
   "metadata": {},
   "source": [
    "#### Generating modelbound data based on inbuilt cross-sections"
   ]
  },
  {
   "cell_type": "code",
   "execution_count": null,
   "metadata": {},
   "outputs": [],
   "source": [
    "includedJanevTransitions = [\"ex\",\"deex\",\"ion\",\"recomb3b\"]\n",
    "mbData = crm.CRMModelboundData(rk.grid)\n",
    "crm.addJanevTransitionsToCRMData(mbData,numNeutrals,rk.norms[\"eVTemperature\"],f,Te,detailedBalanceCSPriority=1,processes=includedJanevTransitions,lowestCellEnergy=rk.grid.vGrid[0]**2)"
   ]
  },
  {
   "attachments": {},
   "cell_type": "markdown",
   "metadata": {},
   "source": [
    "#### Creating the CRM model object"
   ]
  },
  {
   "cell_type": "code",
   "execution_count": null,
   "metadata": {},
   "outputs": [],
   "source": [
    "#CRM model\n",
    "\n",
    "#Initializing model\n",
    "crmModel = rmk.Model(\"CRM\")\n",
    "\n",
    "crmModel.setModelboundData(mbData)\n",
    "\n",
    "#Add term generator responsible for buildling CRM model for ions\n",
    "\n",
    "crmModel.addTermGenerator(crm.CRMTermGenerator(\"ionCRM\",evolvedSpecies=[ionSpecies]))\n",
    "\n",
    "#Add term generator responsible for buildling CRM model for all neutral states\n",
    "crmModel.addTermGenerator(crm.CRMTermGenerator(\"neutralCRM\",neutralSpecies))\n",
    "\n",
    "#Add Boltzmann term generator for excitation\n",
    "exInds = mbData.getTransitionIndices(\"JanevEx\")\n",
    "\n",
    "crmModel.addTermGenerator(crm.CRMBoltzTermGenerator(\"exCRME\",f,1,exInds,mbData))\n",
    "\n",
    "crmModel.addTermGenerator(crm.CRMBoltzTermGenerator(\"exCRMA\",f,1,exInds,mbData,absorptionTerms=True))\n",
    "\n",
    "#Add Boltzmann term generators for ionization\n",
    "\n",
    "ionInds = mbData.getTransitionIndices(\"JanevIon\")\n",
    "\n",
    "crmModel.addTermGenerator(crm.CRMBoltzTermGenerator(\"ionCRME\",f,1,ionInds,mbData))\n",
    "\n",
    "crmModel.addTermGenerator(crm.CRMBoltzTermGenerator(\"ionCRMA\",f,1,ionInds,mbData,absorptionTerms=True))\n",
    "\n",
    "#Add Boltzmann term generators for deexcitation\n",
    "\n",
    "deexInds = mbData.getTransitionIndices(\"JanevDeex\")\n",
    "\n",
    "crmModel.addTermGenerator(crm.CRMBoltzTermGenerator(\"deexCRME\",f,1,deexInds,mbData))\n",
    "\n",
    "crmModel.addTermGenerator(crm.CRMBoltzTermGenerator(\"deexCRMA\",f,1,deexInds,mbData,absorptionTerms=True))\n",
    "\n",
    "# #Add Boltzmann term generators for 3b recombination\n",
    "\n",
    "recomb3bInds = mbData.getTransitionIndices(\"JanevRecomb3b\")\n",
    "\n",
    "crmModel.addTermGenerator(crm.CRMBoltzTermGenerator(\"recomb3bCRME\",f,1,recomb3bInds,mbData))\n",
    "\n",
    "crmModel.addTermGenerator(crm.CRMBoltzTermGenerator(\"recomb3bCRMA\",f,1,recomb3bInds,mbData,absorptionTerms=True))\n",
    "\n",
    "#Add secondary electron sources/sinks due to ionization and recombination\n",
    "\n",
    "secElInds = ionInds + recomb3bInds \n",
    "\n",
    "crmModel.addTermGenerator(crm.CRMSecElTermGenerator(\"secElCRM\",f,secElInds))\n",
    "\n",
    "rk.models.add(crmModel)\n"
   ]
  },
  {
   "attachments": {},
   "cell_type": "markdown",
   "metadata": {},
   "source": [
    "### Integrator and timestep options\n",
    "\n",
    "Simple single step backwards Euler integration"
   ]
  },
  {
   "cell_type": "code",
   "execution_count": null,
   "metadata": {},
   "outputs": [],
   "source": [
    "integrator = rmk.BDEIntegrator(\"BDE\",nonlinTol=1e-14,convergenceVars=[f,neutralVars[0],neutralVars[1],We,Te])\n",
    "integrationStep = rmk.IntegrationStep(\"BE\",integrator)\n",
    "integrationStep.add(rk.models)\n",
    "rk.integrationScheme = rmk.IntegrationScheme(dt=0.5,steps=integrationStep)\n",
    "rk.integrationScheme.setFixedNumTimesteps(30000,1000)\n"
   ]
  },
  {
   "cell_type": "markdown",
   "metadata": {},
   "source": [
    "#### Generate LaTeX summary PDF"
   ]
  },
  {
   "cell_type": "code",
   "execution_count": null,
   "metadata": {},
   "outputs": [],
   "source": [
    "rk.generatePDF(\"CRM 0D kinetic Example\")"
   ]
  },
  {
   "attachments": {},
   "cell_type": "markdown",
   "metadata": {},
   "source": [
    "### Create config file"
   ]
  },
  {
   "cell_type": "code",
   "execution_count": null,
   "metadata": {},
   "outputs": [],
   "source": [
    "rk.writeConfigFile()"
   ]
  },
  {
   "attachments": {},
   "cell_type": "markdown",
   "metadata": {},
   "source": [
    "### Data analysis\n"
   ]
  },
  {
   "cell_type": "code",
   "execution_count": null,
   "metadata": {},
   "outputs": [],
   "source": [
    "loadedData = rk.loadSimulation()\n",
    "dataset = loadedData.dataset"
   ]
  },
  {
   "cell_type": "code",
   "execution_count": null,
   "metadata": {},
   "outputs": [],
   "source": [
    "hv.extension('matplotlib')\n",
    "%matplotlib inline \n",
    "plt.rcParams['figure.dpi'] = 150\n",
    "hv.output(size=80,dpi=150)"
   ]
  },
  {
   "cell_type": "code",
   "execution_count": null,
   "metadata": {},
   "outputs": [],
   "source": [
    "eTot = dataset[\"We\"].data[:,0] + dataset[\"ni\"].data[:,0]*13.6/rk.norms[\"eVTemperature\"]\n",
    "\n",
    "for i,state in enumerate(neutralDensList):\n",
    "    eTot = eTot + dataset[state].data[:,0] * 13.6 * (1 - 1/(i+1)**2)/rk.norms[\"eVTemperature\"]\n",
    "\n",
    "dE=abs(eTot - eTot[0])/eTot[0]\n",
    "\n",
    "ntot = dataset[\"ni\"].data[:,0]\n",
    "\n",
    "for state in neutralDensList:\n",
    "    ntot = ntot + dataset[state].data[:,0]\n",
    "\n",
    "dn =abs(ntot-ntot[0])/ntot[0]\n",
    "\n",
    "timeNorm = rk.norms[\"time\"]\n",
    "\n",
    "eCurve = hv.Curve([(t*timeNorm*1000,dE[i]) for i,t in enumerate(dataset.coords[\"t\"])],label=\"E\").opts(linestyle=\"--\")\n",
    "\n",
    "nCurve = hv.Curve([(t*timeNorm*1000,dn[i]) for i,t in enumerate(dataset.coords[\"t\"])],label=\"n\")\n",
    "\n",
    "curve = nCurve*eCurve\n",
    "curve.opts(xlabel=\"t [ms]\",ylabel='$\\delta$')\n"
   ]
  },
  {
   "cell_type": "code",
   "execution_count": null,
   "metadata": {},
   "outputs": [],
   "source": [
    "hv.save(curve.opts(xlabel=\"t [ms]\",ylabel='$\\delta$'),\"kin_crm_test.pdf\",dpi=144)"
   ]
  }
 ],
 "metadata": {
  "kernelspec": {
   "display_name": "Python 3",
   "language": "python",
   "name": "python3"
  },
  "language_info": {
   "codemirror_mode": {
    "name": "ipython",
    "version": 3
   },
   "file_extension": ".py",
   "mimetype": "text/x-python",
   "name": "python",
   "nbconvert_exporter": "python",
   "pygments_lexer": "ipython3",
   "version": "3.8.10"
  },
  "orig_nbformat": 4
 },
 "nbformat": 4,
 "nbformat_minor": 2
}
