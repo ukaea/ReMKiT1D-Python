{
 "cells": [
  {
   "attachments": {},
   "cell_type": "markdown",
   "metadata": {},
   "source": [
    "## Example - 0D hydrogen CRM using CRM modelbound data and term generator functionality\n",
    "\n",
    "A feature that adds flexibility and convenience to ReMKiT1D is associating term generators with custom models in addition to specifying user-generated terms. This notebook shows how to use the CRM modelbound data class in ReMKiT1D together with the CRM density evolution term generator to build a hydrogen CRM with inbuilt data. \n",
    "\n",
    "Initial data are designed to reproduce Figure 8 in Colonna et al. (Spectrochimica Acta Part B 56 2001 587᎐598) or to show convergence to Saha-Boltzmann for opaque plasmas.\n",
    "\n",
    "This notebook is the rewrite of the original notebook for the tests performed in Section 5.3. in the ReMKiT1D code paper."
   ]
  },
  {
   "cell_type": "code",
   "execution_count": null,
   "metadata": {},
   "outputs": [],
   "source": [
    "import numpy as np\n",
    "import holoviews as hv\n",
    "import matplotlib.pyplot as plt\n",
    "\n",
    "import RMK_support as rmk\n",
    "import RMK_support.crm_support as crm"
   ]
  },
  {
   "attachments": {},
   "cell_type": "markdown",
   "metadata": {},
   "source": [
    "### Some useful constants"
   ]
  },
  {
   "cell_type": "code",
   "execution_count": null,
   "metadata": {},
   "outputs": [],
   "source": [
    "heavySpeciesMass = 2.014 #in amus\n",
    "hPlanck = 6.62607004e-34\n",
    "elMass =  9.10938e-31\n",
    "elCharge = 1.60218e-19"
   ]
  },
  {
   "attachments": {},
   "cell_type": "markdown",
   "metadata": {},
   "source": [
    "### Wrapper initialization"
   ]
  },
  {
   "cell_type": "code",
   "execution_count": null,
   "metadata": {},
   "outputs": [],
   "source": [
    "rk = rmk.RMKContext()\n",
    "rk.IOContext = rmk.IOContext(HDF5Dir=\"./RMKOutput/RMK_CRM_example/\")"
   ]
  },
  {
   "attachments": {},
   "cell_type": "markdown",
   "metadata": {},
   "source": [
    "### Normalization setup"
   ]
  },
  {
   "cell_type": "code",
   "execution_count": null,
   "metadata": {},
   "outputs": [],
   "source": [
    "norms = rk.norms\n",
    "\n",
    "tempNorm = norms[\"eVTemperature\"] \n",
    "densNorm = norms[\"density\"]\n",
    "timeNorm = norms[\"time\"]\n"
   ]
  },
  {
   "attachments": {},
   "cell_type": "markdown",
   "metadata": {},
   "source": [
    "### Grid setup"
   ]
  },
  {
   "cell_type": "code",
   "execution_count": null,
   "metadata": {},
   "outputs": [],
   "source": [
    "xGrid = np.ones(1) # 0D\n",
    "# Need a non-trivial velocity grid for <sigma v> integrals\n",
    "vGrid = np.logspace(-2,0,80) #In normalized velocity - default normalization is thermal velocity sqrt(m_e * k * T_e/2)\n",
    "\n",
    "lMax = 0 \n",
    "rk.grid = rmk.Grid(xGrid,vGrid,lMax,interpretXGridAsWidths=True ,interpretVGridAsWidths=True)"
   ]
  },
  {
   "attachments": {},
   "cell_type": "markdown",
   "metadata": {},
   "source": [
    "### Species initialization \n",
    "\n",
    "NOTE: The CRM density evolution generator assumes that all species it evolves have a density as their first associated variable and that it is an implicit and fluid variable. We shall use the v2.0.0 feature to associate variables with species later. Also, the prebuilt Janev data requires that neutral IDs correspond to principle quantum numbers of excited states."
   ]
  },
  {
   "cell_type": "code",
   "execution_count": null,
   "metadata": {},
   "outputs": [],
   "source": [
    "electronSpecies = rmk.Species(\"e\",0) \n",
    "ionSpecies = rmk.Species(\"D+\",-1)\n",
    "\n",
    "rk.species.add(electronSpecies,ionSpecies)\n",
    "\n",
    "numNeutrals=25\n",
    "neutralDensList = [\"n\"+str(i) for i in range(1,numNeutrals+1)] # List of neutral density names\n",
    "neutralSpecies = []\n",
    "for neutral in neutralDensList:\n",
    "    neutralSpecies.append(rmk.Species(\"D\"+neutral[1:],int(neutral[1:]),heavySpeciesMass))\n",
    "rk.species.add(*tuple(neutralSpecies))"
   ]
  },
  {
   "attachments": {},
   "cell_type": "markdown",
   "metadata": {},
   "source": [
    "### Variable initialization"
   ]
  },
  {
   "cell_type": "code",
   "execution_count": null,
   "metadata": {},
   "outputs": [],
   "source": [
    "T0 = 1.72 # Temperature in eV approx 20000K corresponding to case 1 in Colonna et al.\n",
    "T_i = T0*np.ones(rk.grid.numX)/tempNorm\n",
    "\n",
    "T = rmk.Variable(\"T\",rk.grid,data=T_i,units='$10eV$',isDerived=True)\n",
    "\n",
    "rk.variables.add(T)\n",
    "\n",
    "# 10% ionization fixed initial densities with no excited states\n",
    "ne = 0.9\n",
    "n1 = 0.1\n",
    "\n",
    "ntot = ne + n1 #total density in case we want to calculate Saha-Boltzmann distribution\n",
    "\n",
    "reprColonna = False # Set to true to approximately reproduce 10^-8 line in figure 8 of Colonna et al. If false will run to equilibrium at lower density\n",
    "fixedID0 =  None # No fixed initial ionization degree\n",
    "if reprColonna:\n",
    "    ntot = 733893.9 # Density corresponding to approximately 1atm of pressure at 1000K\n",
    "    fixedID0 = 1e-3\n",
    "\n",
    "stateTempInit = T0/2 # (Saha-)Boltzmann temperature corresponding to case 1 in Colonna et al.\n",
    "neutDensSBInit = [dens/densNorm for dens in crm.hydrogenSahaBoltzmann(numNeutrals,stateTempInit,ntot*densNorm,fixedIonizationDegree=fixedID0)]\n",
    "\n",
    "initialSahaBoltzmann = True # Set to true for initial (Saha-)Boltzmann condition\n",
    "n_i = ne*np.ones(rk.grid.numX)\n",
    "if initialSahaBoltzmann: \n",
    "    n_i = neutDensSBInit[0]*np.ones(rk.grid.numX)  \n",
    "\n",
    "ne = rmk.Variable(\"ne\",rk.grid,data=n_i,units='$10^{19} m^{-3}$')\n",
    "electronSpecies.associateVar(ne) # This is how we associate variables with species\n",
    "ni = rmk.Variable(\"ni\",rk.grid,data=n_i,units='$10^{19} m^{-3}$')\n",
    "ionSpecies.associateVar(ni)\n",
    "\n",
    "rk.variables.add(ne,ni)\n",
    "\n",
    "# We need a distribution function to calculate rates from cross-sections built into the code\n",
    "f_i = np.zeros([rk.grid.numX,rk.grid.numH,rk.grid.numV])\n",
    "for i in range(rk.grid.numX):\n",
    "    f_i[i,rk.grid.getH(0)-1,:] = (T_i[i]*np.pi)**(-1.5) * n_i[i] * np.exp(-rk.grid.vGrid**2/T_i[i])\n",
    "if reprColonna:\n",
    "    f = rmk.Variable(\"f\",rk.grid,isDerived=True,isDistribution=True,data=f_i)\n",
    "    \n",
    "else:\n",
    "    f = rmk.Variable(\"f\",rk.grid,isDerived=True,isDistribution=True,derivation=rk.textbook[\"maxwellianDistribution\"],derivationArgs=[T.name,ne.name],data=f_i)\n",
    "rk.variables.add(f)\n",
    "neutralVars = []\n",
    "\n",
    "if initialSahaBoltzmann:\n",
    "    for i in range(1,numNeutrals+1):\n",
    "        neutralVars.append(rmk.Variable(neutralDensList[i-1],rk.grid,data=neutDensSBInit[i]*np.ones(rk.grid.numX),units='$10^{19} m^{-3}$'))\n",
    "else:\n",
    "    neutralVars.append(rmk.Variable(\"n1\",rk.grid,data=n1*np.ones(rk.grid.numX),units='$10^{19} m^{-3}$'))\n",
    "    for i in range(2,numNeutrals+1):\n",
    "        neutralVars.append(rmk.Variable(neutralDensList[i-1],rk.grid,data=neutDensSBInit[i]*np.ones(rk.grid.numX),units='$10^{19} m^{-3}$'))\n",
    "\n",
    "for i,var in enumerate(neutralVars):\n",
    "    neutralSpecies[i].associateVar(var)\n",
    "rk.variables.add(*tuple(neutralVars))\n",
    "# Calculate expected Saha-Boltzmann at T0\n",
    "neutDensSB = [dens/densNorm for dens in crm.hydrogenSahaBoltzmann(numNeutrals,T0,ntot*densNorm)]"
   ]
  },
  {
   "attachments": {},
   "cell_type": "markdown",
   "metadata": {},
   "source": [
    "#### Generating modelbound data based on built-in cross-sections"
   ]
  },
  {
   "cell_type": "code",
   "execution_count": null,
   "metadata": {},
   "outputs": [],
   "source": [
    "includeRadiativeProcesses = reprColonna # Should be included for Colonna Figure 8 reproduction and turned off for Saha-Boltzmann convergence\n",
    "#Set the list of included Janev transitions\n",
    "includedJanevTransitions = [\"ex\",\"deex\",\"ion\",\"recomb3b\"] \n",
    "if includeRadiativeProcesses:\n",
    "    includedJanevTransitions.append(\"recombRad\") #Add radiative recombination if radiative processes are included\n",
    "mbData = crm.CRMModelboundData(rk.grid)\n",
    "crm.addJanevTransitionsToCRMData(mbData,numNeutrals,tempNorm,f,T,detailedBalanceCSPriority=1,processes=includedJanevTransitions)"
   ]
  },
  {
   "attachments": {},
   "cell_type": "markdown",
   "metadata": {},
   "source": [
    "#### Reading and adding NIST data for spontaneous transition probabilities\n",
    "\n",
    "Hydrogen transition probabilities are included in the Aki.csv file, and have been taken from the NIST database."
   ]
  },
  {
   "cell_type": "code",
   "execution_count": null,
   "metadata": {},
   "outputs": [],
   "source": [
    "\n",
    "\"\"\"\n",
    "Kramida, A., Ralchenko, Yu., Reader, J., and NIST ASD Team (2021). NIST Atomic Spectra Database (ver. 5.9), [Online]. Available: https://physics.nist.gov/asd [2022, May 13]. National Institute of Standards and Technology, Gaithersburg, MD. DOI: https://doi.org/10.18434/T4W30F\n",
    "\"\"\"\n",
    "\n",
    "spontTransDict = crm.readNISTAkiCSV(\"../data/Aki.csv\")"
   ]
  },
  {
   "attachments": {},
   "cell_type": "markdown",
   "metadata": {},
   "source": [
    "Adding hydrogen spontaneous emission transitions can be done using the following function."
   ]
  },
  {
   "cell_type": "code",
   "execution_count": null,
   "metadata": {},
   "outputs": [],
   "source": [
    "if includeRadiativeProcesses:\n",
    "    crm.addHSpontaneousEmissionToCRMData(mbData,spontTransDict,min(numNeutrals,20),min(numNeutrals,20),timeNorm,tempNorm) #NIST data only has a full transition list for n<=20"
   ]
  },
  {
   "attachments": {},
   "cell_type": "markdown",
   "metadata": {},
   "source": [
    "#### Creating the CRM model object\n",
    "\n",
    "The CRM model is constructed by specifying the modelbound data (defined above) and adding a term generator that can interpret that data and create a collisional-radiative model from it. \n",
    "\n",
    "Term generators are sets of rules used to automate term construction. The CRM term generator uses the modelbound CRM data of its host model, identifies which transitions produce a change in the populations of evolved species, and generates corresponding source and sink terms for each species. "
   ]
  },
  {
   "cell_type": "code",
   "execution_count": null,
   "metadata": {},
   "outputs": [],
   "source": [
    "#CRM model\n",
    " \n",
    "model = rmk.Model(name=\"CRM\",latexName=\"CRM\")\n",
    "\n",
    "model.setModelboundData(mbData)\n",
    "\n",
    "model.addTermGenerator(crm.CRMTermGenerator(\"crmTermGen\",[electronSpecies,ionSpecies]+neutralSpecies))\n",
    "\n",
    "rk.models.add(model)"
   ]
  },
  {
   "attachments": {},
   "cell_type": "markdown",
   "metadata": {},
   "source": [
    "### Integrator and timestep options\n",
    "\n",
    "Simple single step backwards Euler integration"
   ]
  },
  {
   "cell_type": "code",
   "execution_count": null,
   "metadata": {},
   "outputs": [],
   "source": [
    "initialTimestep = 1e5 # Large timestep to obtain steady state\n",
    "if reprColonna:\n",
    "    initialTimestep = 1e-4 # Small timestep to resolve evolution for Colonna Fig 8 reproduction"
   ]
  },
  {
   "cell_type": "code",
   "execution_count": null,
   "metadata": {},
   "outputs": [],
   "source": [
    "integrator = rmk.BDEIntegrator(\"BDE\",nonlinTol=1e-12,absTol=100.0,convergenceVars=[f,neutralVars[0]])\n",
    "integrationStep = rmk.IntegrationStep(\"BE\",integrator)\n",
    "integrationStep.add(rk.models)\n",
    "rk.integrationScheme = rmk.IntegrationScheme(dt=initialTimestep,steps=integrationStep)\n",
    "rk.integrationScheme.setFixedNumTimesteps(1500,100)\n"
   ]
  },
  {
   "cell_type": "markdown",
   "metadata": {},
   "source": [
    "#### Generate LaTeX summary PDF"
   ]
  },
  {
   "cell_type": "code",
   "execution_count": null,
   "metadata": {},
   "outputs": [],
   "source": [
    "rk.generatePDF(\"CRM 0D Example\")"
   ]
  },
  {
   "attachments": {},
   "cell_type": "markdown",
   "metadata": {},
   "source": [
    "### Create config file"
   ]
  },
  {
   "cell_type": "code",
   "execution_count": null,
   "metadata": {},
   "outputs": [],
   "source": [
    "rk.writeConfigFile()"
   ]
  },
  {
   "attachments": {},
   "cell_type": "markdown",
   "metadata": {},
   "source": [
    "### Data analysis\n"
   ]
  },
  {
   "attachments": {},
   "cell_type": "markdown",
   "metadata": {},
   "source": [
    "#### Loading data\n"
   ]
  },
  {
   "cell_type": "code",
   "execution_count": null,
   "metadata": {},
   "outputs": [],
   "source": [
    "loadedData = rk.loadSimulation()"
   ]
  },
  {
   "cell_type": "code",
   "execution_count": null,
   "metadata": {},
   "outputs": [],
   "source": [
    "hv.extension('matplotlib')\n",
    "%matplotlib inline \n",
    "plt.rcParams['figure.dpi'] = 150\n",
    "hv.output(size=80,dpi=150)"
   ]
  },
  {
   "attachments": {},
   "cell_type": "markdown",
   "metadata": {},
   "source": [
    "#### Compare final state densities with a Saha-Boltzmann equilibrium\n",
    "\n",
    "If reprColonna is true will compare to the initial distribution, otherwise will compare to the expected Saha-Boltzmann distribution at the electron temperature."
   ]
  },
  {
   "cell_type": "code",
   "execution_count": null,
   "metadata": {},
   "outputs": [],
   "source": [
    "dataset = loadedData.dataset"
   ]
  },
  {
   "cell_type": "code",
   "execution_count": null,
   "metadata": {},
   "outputs": [],
   "source": [
    "# Neutral state densities extracted from dataset\n",
    "neutralDens1 = [dataset[neutralDensList[i]][-1,0] for i in range(numNeutrals)]\n",
    "\n",
    "# Excited state energies\n",
    "stateEnergies = [13.6*(1-1/(i+1)**2) for i in range(numNeutrals)]\n",
    "\n",
    "if reprColonna:\n",
    "    coords1 = [(stateEnergies[i],neutralDens1[i]/((i+1)**2)/(neutralDens1[0])) for i in range(numNeutrals)] #Degeneracy weighted densities in final timestep\n",
    "    \n",
    "    coords2 = [(stateEnergies[i],neutDensSBInit[i+1]/((i+1)**2*neutDensSBInit[1]) )for i in range(numNeutrals)] #Initial Saha-Boltzmann densities (weighted)\n",
    "else:\n",
    "    coords1 = [(stateEnergies[i],neutralDens1[i]/(2*(i+1)**2)) for i in range(numNeutrals)] #Degeneracy weighted densities in final timestep\n",
    "    coords2 = [(stateEnergies[i],neutDensSB[i+1]/(2*(i+1)**2)) for i in range(numNeutrals)] #Expected Saha-Boltzmann densities (weighted)\n",
    "    \n",
    "if reprColonna: \n",
    "    label2 = 't = 0'\n",
    "    label1 = f't = {dataset.coords[\"t\"].values[-1]*timeNorm:.2e}s'\n",
    "else:\n",
    "    label1 = 'ReMKiT1D'\n",
    "    label2 = 'Saha-Boltzmann'\n",
    "    \n",
    "curve2 = hv.Curve(coords2,label=label2).opts(color=\"r\")\n",
    "if reprColonna:\n",
    "    curve1 = hv.Curve(coords1,label=label1).opts(color=\"k\",linestyle='--')\n",
    "else:\n",
    "    curve1 = hv.Scatter(coords1,label=label1).opts(marker=\"x\",color=\"k\",s=15.0)\n",
    "    \n",
    "curve = curve2*curve1\n",
    "curve.opts(logy=True,xlabel=\"E [eV]\",ylabel='$n_i/g_i$',aspect=0.5)\n"
   ]
  },
  {
   "attachments": {},
   "cell_type": "markdown",
   "metadata": {},
   "source": [
    "#### Produce paper plots"
   ]
  },
  {
   "cell_type": "code",
   "execution_count": null,
   "metadata": {},
   "outputs": [],
   "source": [
    "if reprColonna:\n",
    "    hv.save(curve.opts(logy=True,xlabel=\"E [eV]\",ylabel='$n_i/g_i$',aspect=0.5),\"colonna_comp.pdf\",dpi=144)\n",
    "else:\n",
    "    hv.save(curve.opts(logy=True,xlabel=\"E [eV]\",ylabel='$n_i/g_i$',aspect=0.5),\"sb_comp.pdf\",dpi=144)"
   ]
  },
  {
   "cell_type": "code",
   "execution_count": null,
   "metadata": {},
   "outputs": [],
   "source": []
  }
 ],
 "metadata": {
  "kernelspec": {
   "display_name": "Python 3",
   "language": "python",
   "name": "python3"
  },
  "language_info": {
   "codemirror_mode": {
    "name": "ipython",
    "version": 3
   },
   "file_extension": ".py",
   "mimetype": "text/x-python",
   "name": "python",
   "nbconvert_exporter": "python",
   "pygments_lexer": "ipython3",
   "version": "3.8.10"
  },
  "orig_nbformat": 4
 },
 "nbformat": 4,
 "nbformat_minor": 2
}
