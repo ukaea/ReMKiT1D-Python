{
 "cells": [
  {
   "attachments": {},
   "cell_type": "markdown",
   "metadata": {},
   "source": [
    "## Example - Gaussian advection with outflow on multiple quantities\n",
    "\n",
    "This notebook is the v2.0.0 example of using the common_models advection and pressure grad models with outflow on the Gaussian advection example"
   ]
  },
  {
   "cell_type": "code",
   "execution_count": null,
   "metadata": {},
   "outputs": [],
   "source": [
    "%load_ext autoreload\n",
    "%autoreload 2\n",
    "import RMK_support as rmk\n",
    "from RMK_support.common_models import advection,pressureGrad\n",
    "from RMK_support import node \n",
    "from RMK_support.derivations import NodeDerivation\n",
    "\n",
    "import numpy as np\n",
    "import holoviews as hv\n",
    "import matplotlib.pyplot as plt"
   ]
  },
  {
   "attachments": {},
   "cell_type": "markdown",
   "metadata": {},
   "source": [
    "### Context initialisation with IO and MPI context setting"
   ]
  },
  {
   "cell_type": "code",
   "execution_count": null,
   "metadata": {},
   "outputs": [],
   "source": [
    "rk = rmk.RMKContext()\n",
    "rk.IOContext = rmk.IOContext(HDF5Dir=\"./RMKOutput/RMK_advection_cm/\")\n",
    "rk.mpiContext = rmk.MPIContext(numProcsX=4)"
   ]
  },
  {
   "attachments": {},
   "cell_type": "markdown",
   "metadata": {},
   "source": [
    "### Grid initialization\n"
   ]
  },
  {
   "cell_type": "code",
   "execution_count": null,
   "metadata": {},
   "outputs": [],
   "source": [
    "# In normalized length or in meters - defaults to normalized unless isLengthInMeters=True in Grid\n",
    "xGridWidths = 0.025*np.ones(512)\n",
    "rk.grid = rmk.Grid(xGridWidths, interpretXGridAsWidths=True)"
   ]
  },
  {
   "attachments": {},
   "cell_type": "markdown",
   "metadata": {},
   "source": [
    "### Variable container\n"
   ]
  },
  {
   "attachments": {},
   "cell_type": "markdown",
   "metadata": {},
   "source": [
    "#### Adding variables\n"
   ]
  },
  {
   "cell_type": "code",
   "execution_count": null,
   "metadata": {},
   "outputs": [],
   "source": [
    "nInit = 1 + np.exp(-(rk.grid.xGrid-np.mean(rk.grid.xGrid))**2) # A Gaussian perturbation\n",
    "TInit = np.ones(len(rk.grid.xGrid)) # Constant temperature\n",
    "\n",
    "n,n_dual = rmk.varAndDual(\"n\",rk.grid,data=nInit) #both variable and its dual\n",
    "T = rmk.Variable(\"T\",rk.grid,data=TInit,isDerived=True,isCommunicated=False)\n",
    "G_dual,G = rmk.varAndDual(\"G\",rk.grid,primaryOnDualGrid=True) #the first return value is the primary, so here it is the dual\n",
    "u_dual,u = rmk.varAndDual(\"u\",rk.grid,primaryOnDualGrid=True,derivation=NodeDerivation(\"u\",node(G_dual)/node(n_dual))) # Here u_dual is a derived using the NodeDerivation\n",
    "\n",
    "rk.variables.add(n,n_dual,T,G_dual,G,u_dual,u)"
   ]
  },
  {
   "attachments": {},
   "cell_type": "markdown",
   "metadata": {},
   "source": [
    "### Models \n",
    "\n",
    "Here we use common model functions advection and pressureGrad to create advection and pressure gradient models for both the density and momentum equation, which should result in a shock forming that is then drained out of the system.\n"
   ]
  },
  {
   "cell_type": "code",
   "execution_count": null,
   "metadata": {},
   "outputs": [],
   "source": [
    "massRatio = 1/1836\n",
    "advectionModelDens = advection(n,G_dual,outflow=(True,True),advectionSpeed=u).rename(\"adv_dens\")\n",
    "advectionModelFlux = advection(G_dual,u_dual*G_dual,outflow=(True,True),advectionSpeed=u).rename(\"adv_mom\")\n",
    "pressureGradModel = pressureGrad(G_dual,T*n,massRatio/2).rename(\"pressure_grad\")\n",
    "\n",
    "rk.models.add(advectionModelDens,advectionModelFlux,pressureGradModel)"
   ]
  },
  {
   "attachments": {},
   "cell_type": "markdown",
   "metadata": {},
   "source": [
    "### Integrator options"
   ]
  },
  {
   "cell_type": "code",
   "execution_count": null,
   "metadata": {},
   "outputs": [],
   "source": [
    "# the implicit BDE integrator that checks convergence based on the variables n and G_dual\n",
    "integrator = rmk.BDEIntegrator(\"BDE\",nonlinTol=1e-12,absTol=10.0,convergenceVars=[n,G_dual])\n",
    "integrationStep = rmk.IntegrationStep(\"BE\",integrator)\n",
    "integrationStep.add(rk.models) # Add all models in context\n",
    "rk.integrationScheme = rmk.IntegrationScheme(dt=0.1,steps=integrationStep) #Create a scheme with our single step and a constant integration timestep 0.1\n",
    "rk.integrationScheme.setFixedNumTimesteps(10000,200) # Run for 10000 steps outputting every 200"
   ]
  },
  {
   "cell_type": "markdown",
   "metadata": {},
   "source": [
    "#### Generate a LaTeX summary of the ReMKiT1D run "
   ]
  },
  {
   "cell_type": "code",
   "execution_count": null,
   "metadata": {},
   "outputs": [],
   "source": [
    "rk.generatePDF(\"Gaussian Advection with Outflow Example\")"
   ]
  },
  {
   "attachments": {},
   "cell_type": "markdown",
   "metadata": {},
   "source": [
    "### Create config file"
   ]
  },
  {
   "cell_type": "code",
   "execution_count": null,
   "metadata": {},
   "outputs": [],
   "source": [
    "rk.writeConfigFile()"
   ]
  },
  {
   "attachments": {},
   "cell_type": "markdown",
   "metadata": {},
   "source": [
    "### Set global plotting options"
   ]
  },
  {
   "cell_type": "code",
   "execution_count": null,
   "metadata": {},
   "outputs": [],
   "source": [
    "hv.extension('matplotlib')\n",
    "%matplotlib inline \n",
    "plt.rcParams['figure.dpi'] = 150\n",
    "hv.output(size=150,dpi=150)"
   ]
  },
  {
   "attachments": {},
   "cell_type": "markdown",
   "metadata": {},
   "source": [
    "### Load data from ReMKiT1D output files"
   ]
  },
  {
   "cell_type": "code",
   "execution_count": null,
   "metadata": {},
   "outputs": [],
   "source": [
    "loadedData = rk.loadSimulation()\n",
    "dataset = loadedData.dataset"
   ]
  },
  {
   "attachments": {},
   "cell_type": "markdown",
   "metadata": {},
   "source": [
    "### Check shock formation"
   ]
  },
  {
   "cell_type": "code",
   "execution_count": null,
   "metadata": {},
   "outputs": [],
   "source": [
    "dataName = 'n'\n",
    "\n",
    "curveDict = {t: hv.Scatter(dataset[dataName][{\"t\":t}],label='simulation').opts(marker=\"o\",color=\"r\",s=6.0) for t in range(len(dataset.coords[\"t\"].data))}\n",
    "kdims = [hv.Dimension(('t', 'Time'),unit=dataset.coords[\"t\"].attrs[\"units\"], default=0)]\n",
    "hv.HoloMap(curveDict,kdims=kdims).opts()"
   ]
  },
  {
   "cell_type": "code",
   "execution_count": null,
   "metadata": {},
   "outputs": [],
   "source": []
  }
 ],
 "metadata": {
  "kernelspec": {
   "display_name": "Python 3",
   "language": "python",
   "name": "python3"
  },
  "language_info": {
   "codemirror_mode": {
    "name": "ipython",
    "version": 3
   },
   "file_extension": ".py",
   "mimetype": "text/x-python",
   "name": "python",
   "nbconvert_exporter": "python",
   "pygments_lexer": "ipython3",
   "version": "3.8.10"
  },
  "orig_nbformat": 4,
  "vscode": {
   "interpreter": {
    "hash": "31f2aee4e71d21fbe5cf8b01ff0e069b9275f58929596ceb00d14d90e3e16cd6"
   }
  }
 },
 "nbformat": 4,
 "nbformat_minor": 2
}
