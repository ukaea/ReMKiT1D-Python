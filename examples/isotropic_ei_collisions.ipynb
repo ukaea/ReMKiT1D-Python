{
 "cells": [
  {
   "attachments": {},
   "cell_type": "markdown",
   "metadata": {},
   "source": [
    "## Example - electron-ion collision operator test for l=0\n",
    "\n",
    "This example tests temperature relaxation between electrons and ions due to Coulomb collisions.\n",
    "\n",
    "This is the v2.0.0 rewrite of the notebook that corresponds to the second test in Section 5.2.2. in the ReMKiT1D paper."
   ]
  },
  {
   "cell_type": "code",
   "execution_count": null,
   "metadata": {},
   "outputs": [],
   "source": [
    "import numpy as np\n",
    "import holoviews as hv\n",
    "import matplotlib.pyplot as plt\n",
    "\n",
    "import RMK_support as rmk\n",
    "import RMK_support.common_models as cm\n",
    "\n",
    "import scipy.optimize"
   ]
  },
  {
   "attachments": {},
   "cell_type": "markdown",
   "metadata": {},
   "source": [
    "### Wrapper initialization"
   ]
  },
  {
   "cell_type": "code",
   "execution_count": null,
   "metadata": {},
   "outputs": [],
   "source": [
    "rk = rmk.RMKContext()\n",
    "rk.IOContext = rmk.IOContext(HDF5Dir=\"./RMKOutput/RMK_ei_coll_test/\")"
   ]
  },
  {
   "attachments": {},
   "cell_type": "markdown",
   "metadata": {},
   "source": [
    "### Grid setup"
   ]
  },
  {
   "cell_type": "code",
   "execution_count": null,
   "metadata": {},
   "outputs": [],
   "source": [
    "xGrid = np.ones(1) # 0D\n",
    "dv0 = 0.0307\n",
    "cv = 1.025\n",
    "vGrid = [dv0/2]\n",
    "for i in range(1,120):\n",
    "    vGrid.append(vGrid[i-1]*cv)\n",
    "lMax = 0 \n",
    "rk.grid = rmk.Grid(xGrid,np.array(vGrid),lMax,interpretXGridAsWidths=True,interpretVGridAsWidths=True)"
   ]
  },
  {
   "attachments": {},
   "cell_type": "markdown",
   "metadata": {},
   "source": [
    "### Set temperature derivation option and add electron species"
   ]
  },
  {
   "cell_type": "code",
   "execution_count": null,
   "metadata": {},
   "outputs": [],
   "source": [
    "rk.textbook = rmk.Textbook(rk.grid,[-1,0]) \n",
    "\n",
    "rk.species.add(rmk.Species(\"e\",0))\n",
    "rk.species.add(rmk.Species(\"D+\",-1,atomicA=2.014,charge=1.0))"
   ]
  },
  {
   "attachments": {},
   "cell_type": "markdown",
   "metadata": {},
   "source": [
    "### Variable initialization"
   ]
  },
  {
   "cell_type": "code",
   "execution_count": null,
   "metadata": {},
   "outputs": [],
   "source": [
    "T0 = 0.8\n",
    "n0 = 1.0\n",
    "TInit = T0*np.ones(rk.grid.numX)\n",
    "nInit = n0 * np.ones(rk.grid.numX)\n",
    "WInit = 3*nInit*TInit/2\n",
    "\n",
    "fInit = np.zeros([rk.grid.numX,rk.grid.numH,rk.grid.numV])\n",
    "for i in range(rk.grid.numX):\n",
    "    fInit[i,rk.grid.getH(0)-1,:] = (T0*np.pi)**(-1.5) * n0 * np.exp(-rk.grid.vGrid**2/T0) \n",
    "\n",
    "f = rmk.Variable(\"f\",rk.grid,data=fInit,isDistribution=True)\n",
    "W = rmk.Variable(\"W\",rk.grid,derivation=rk.textbook[\"energyMoment\"],derivationArgs=[\"f\"])\n",
    "n = rmk.Variable(\"n\",rk.grid,derivation=rk.textbook[\"densityMoment\"],derivationArgs=[\"f\"])\n",
    "zeroVar = rmk.Variable(\"zeroVar\",rk.grid,isDerived=True,inOutput=False)\n",
    "T = rmk.Variable(\"T\",rk.grid,derivation=rk.textbook[\"tempFromEnergye\"],derivationArgs=[\"W\",\"n\",\"zeroVar\"])\n",
    "Wi = rmk.Variable(\"Wi\",rk.grid,data=WInit/2)\n",
    "Ti = rmk.Variable(\"Ti\",rk.grid,derivation=rk.textbook[\"tempFromEnergyD+\"],derivationArgs=[\"Wi\",\"n\",\"zeroVar\"])\n",
    "\n",
    "rk.variables.add(f,W,n,zeroVar,T,Wi,Ti)"
   ]
  },
  {
   "attachments": {},
   "cell_type": "markdown",
   "metadata": {},
   "source": [
    "### Adding e-e collision operator model for l = 0"
   ]
  },
  {
   "attachments": {},
   "cell_type": "markdown",
   "metadata": {},
   "source": [
    "Adding the electron-electron operator here to keep the distribution from deviating from a Maxwellian for the analytical comparison"
   ]
  },
  {
   "cell_type": "code",
   "execution_count": null,
   "metadata": {},
   "outputs": [],
   "source": [
    "rk.models.add(cm.eeCollIsotropic(f,T,n,rk.norms,rk.grid,rk.textbook))"
   ]
  },
  {
   "attachments": {},
   "cell_type": "markdown",
   "metadata": {},
   "source": [
    "### Adding e-i collision operator model for l = 0"
   ]
  },
  {
   "attachments": {},
   "cell_type": "markdown",
   "metadata": {},
   "source": [
    "The e-i collision operator for l=0 is implemented in common_models.py and only used here."
   ]
  },
  {
   "cell_type": "code",
   "execution_count": null,
   "metadata": {},
   "outputs": [],
   "source": [
    "eiCollModel = cm.eiCollIsotropic(rk.grid,rk.textbook,rk.norms,f,T,n,Ti,n,rk.species[\"D+\"],Wi)\n",
    "rk.models.add(eiCollModel)"
   ]
  },
  {
   "attachments": {},
   "cell_type": "markdown",
   "metadata": {},
   "source": [
    "### Integrator and timestep options\n",
    "\n",
    "Simple single step backwards Euler integration"
   ]
  },
  {
   "cell_type": "code",
   "execution_count": null,
   "metadata": {},
   "outputs": [],
   "source": [
    "integrator = rmk.BDEIntegrator(\"BDE\",absTol=10.0,convergenceVars=[W,f,Wi])\n",
    "integrationStep = rmk.IntegrationStep(\"BE\",integrator)\n",
    "integrationStep.add(rk.models) \n",
    "rk.integrationScheme = rmk.IntegrationScheme(dt=0.1,steps=integrationStep) \n",
    "rk.integrationScheme.setFixedNumTimesteps(40000,500) "
   ]
  },
  {
   "attachments": {},
   "cell_type": "markdown",
   "metadata": {},
   "source": [
    "Adding Coulomb log diagnostic variable using the extractor manipulator."
   ]
  },
  {
   "cell_type": "code",
   "execution_count": null,
   "metadata": {},
   "outputs": [],
   "source": [
    "rk.variables.add(rmk.Variable(\"logLei\",rk.grid,isDerived=True))\n",
    "rk.manipulators.add(rmk.MBDataExtractor(\"logLei\",eiCollModel,eiCollModel.mbData[\"logLei\"]))"
   ]
  },
  {
   "cell_type": "markdown",
   "metadata": {},
   "source": [
    "#### Generate a LaTeX summary of the ReMKiT1D run "
   ]
  },
  {
   "cell_type": "code",
   "execution_count": null,
   "metadata": {},
   "outputs": [],
   "source": [
    "rk.generatePDF(\"Isotropic e-i collision test\")"
   ]
  },
  {
   "attachments": {},
   "cell_type": "markdown",
   "metadata": {},
   "source": [
    "### Create config file"
   ]
  },
  {
   "cell_type": "code",
   "execution_count": null,
   "metadata": {},
   "outputs": [],
   "source": [
    "rk.writeConfigFile()"
   ]
  },
  {
   "attachments": {},
   "cell_type": "markdown",
   "metadata": {},
   "source": [
    "### Data analysis\n"
   ]
  },
  {
   "cell_type": "code",
   "execution_count": null,
   "metadata": {},
   "outputs": [],
   "source": [
    "numFiles = 80"
   ]
  },
  {
   "attachments": {},
   "cell_type": "markdown",
   "metadata": {},
   "source": [
    "#### Loading data"
   ]
  },
  {
   "cell_type": "code",
   "execution_count": null,
   "metadata": {},
   "outputs": [],
   "source": [
    "loadedData = rk.loadSimulation()\n",
    "dataset=loadedData.dataset"
   ]
  },
  {
   "cell_type": "code",
   "execution_count": null,
   "metadata": {},
   "outputs": [],
   "source": [
    "dataset"
   ]
  },
  {
   "cell_type": "code",
   "execution_count": null,
   "metadata": {},
   "outputs": [],
   "source": [
    "hv.extension('matplotlib')\n",
    "%matplotlib inline \n",
    "plt.rcParams['figure.dpi'] = 150\n",
    "hv.output(size=80,dpi=150)"
   ]
  },
  {
   "attachments": {},
   "cell_type": "markdown",
   "metadata": {},
   "source": [
    "### Compare with analytical solution"
   ]
  },
  {
   "attachments": {},
   "cell_type": "markdown",
   "metadata": {},
   "source": [
    "Note that here we let the Coulomb log vary, so that might introduce another small error compared to the analytical solution. For analytical solution form see Shkarofsky's book Chapter 7-10."
   ]
  },
  {
   "cell_type": "code",
   "execution_count": null,
   "metadata": {},
   "outputs": [],
   "source": [
    "elCharge = 1.60218e-19\n",
    "elMass = 9.10938e-31\n",
    "epsilon0 = 8.854188e-12 #vacuum permittivity \n",
    "amu = 1.6605390666e-27 #atomic mass unit\n",
    "gamma0norm = elCharge**4/(4*np.pi*elMass**2*epsilon0**2)\n",
    "Ttot = (dataset[\"T\"].data[0,0] + dataset[\"Ti\"].data[0,0])/2 # Plasma temperature\n",
    "tei0 = 8*gamma0norm  * elMass / (rk.species[\"D+\"].atomicA * amu)*2*dataset[\"n\"].data[0]*rk.norms[\"density\"]*(elMass/(2*elCharge*Ttot*rk.norms[\"eVTemperature\"]))**(3/2)/(3*np.sqrt(np.pi)) "
   ]
  },
  {
   "cell_type": "code",
   "execution_count": null,
   "metadata": {},
   "outputs": [],
   "source": [
    "tei0 = tei0[0]*rk.norms[\"time\"] # Ratio of time normalization to the temperature relaxation time"
   ]
  },
  {
   "cell_type": "code",
   "execution_count": null,
   "metadata": {},
   "outputs": [],
   "source": [
    "def analyticDeltaT(x,*args):\n",
    "    return 2*(args[0]**(3/2)-(1+x)**(3/2))/3+2*(np.sqrt(args[0])-np.sqrt(1+x)) + np.log((np.sqrt(args[0])-1)/(np.sqrt(args[0])+1)) - np.log((np.sqrt(1+x)-1)/(np.sqrt(1+x)+1)) - args[1]"
   ]
  },
  {
   "cell_type": "code",
   "execution_count": null,
   "metadata": {},
   "outputs": [],
   "source": [
    "def analyticDeltaTJac(x,*args):\n",
    "\n",
    "    return - (1+x)**(3/2)/x"
   ]
  },
  {
   "cell_type": "code",
   "execution_count": null,
   "metadata": {},
   "outputs": [],
   "source": [
    "(dataset[\"T\"]+dataset[\"Ti\"])/2"
   ]
  },
  {
   "cell_type": "code",
   "execution_count": null,
   "metadata": {},
   "outputs": [],
   "source": [
    "analyticDT = np.zeros(numFiles+1)\n",
    "x0 = 1 + 0.5*(dataset[\"T\"].data[0,0] - dataset[\"Ti\"].data[0,0])/Ttot # initial condition (1+xi in Shkarofsky)\n",
    "tei = np.zeros(numFiles+1)\n",
    "for i in range(numFiles+1):\n",
    "    tei[i] = tei0 * dataset[\"time\"].data[i] * dataset[\"logLei\"].data[i,0]\n",
    "    guessdT = 0.5*(dataset[\"T\"].data[i,0] - dataset[\"Ti\"].data[i,0])/Ttot\n",
    "    root = scipy.optimize.fsolve(analyticDeltaT,guessdT,args=(x0,tei[i]),fprime=analyticDeltaTJac)\n",
    "    analyticDT[i] = root[0]*2*Ttot"
   ]
  },
  {
   "cell_type": "code",
   "execution_count": null,
   "metadata": {},
   "outputs": [],
   "source": [
    "deltaT = dataset[\"T\"].data[:,0] - dataset[\"Ti\"].data[:,0]"
   ]
  },
  {
   "cell_type": "code",
   "execution_count": null,
   "metadata": {},
   "outputs": [],
   "source": [
    "analyticCurve = hv.Curve((tei,analyticDT),label=\"Analytical formula\")\n",
    "numericalScatter = hv.Scatter((tei,deltaT),label=\"Numerical result\").opts(marker=\"x\",color=\"r\",s=5.0)\n",
    "\n",
    "overlay = analyticCurve*numericalScatter\n",
    "overlay.opts(xlabel=\"$t'_{ei}$\",ylabel=\"$\\Delta T [10eV]$\")"
   ]
  },
  {
   "attachments": {},
   "cell_type": "markdown",
   "metadata": {},
   "source": [
    "#### Visualising the kinetic over-relaxation"
   ]
  },
  {
   "cell_type": "code",
   "execution_count": null,
   "metadata": {},
   "outputs": [],
   "source": [
    "error = deltaT-analyticDT\n",
    "\n",
    "errorPlot=hv.Curve((tei,error)).opts(xlabel=\"$t'_{ei}$\",ylabel=\"$\\Delta T_{err} [10eV]$\")"
   ]
  },
  {
   "cell_type": "code",
   "execution_count": null,
   "metadata": {},
   "outputs": [],
   "source": [
    "hv.output(fig='pdf')\n",
    "hv.save(overlay.opts(xlabel=\"$t'_{ei}$\",ylabel=\"$\\Delta T [10eV]$\"), 'e-iTempRel.pdf', dpi=144)\n",
    "hv.save(errorPlot,'e-iOverRel.pdf',dpi=144)"
   ]
  },
  {
   "cell_type": "code",
   "execution_count": null,
   "metadata": {},
   "outputs": [],
   "source": []
  }
 ],
 "metadata": {
  "kernelspec": {
   "display_name": "Python 3",
   "language": "python",
   "name": "python3"
  },
  "language_info": {
   "codemirror_mode": {
    "name": "ipython",
    "version": 3
   },
   "file_extension": ".py",
   "mimetype": "text/x-python",
   "name": "python",
   "nbconvert_exporter": "python",
   "pygments_lexer": "ipython3",
   "version": "3.8.10"
  },
  "orig_nbformat": 4
 },
 "nbformat": 4,
 "nbformat_minor": 2
}
