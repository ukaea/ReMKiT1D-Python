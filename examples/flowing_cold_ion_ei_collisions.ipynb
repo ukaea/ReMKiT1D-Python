{
 "cells": [
  {
   "attachments": {},
   "cell_type": "markdown",
   "metadata": {},
   "source": [
    "## Example - Flowing cold ion collision integral test\n",
    "This example tests whether the cold ion collision integral reproduces the expected analytical value in the low flow limit.\n",
    "\n",
    "This notebook is the v2.0.0 rewrite of the notebook that corresponds to the third test in Section 5.2.2. of the ReMKiT1D code paper.\n",
    "\n",
    "**NOTE**: This now also has non-unity densities and temperatures to check that the v2.0.0 bug fix works so it is slightly different to the paper version."
   ]
  },
  {
   "cell_type": "code",
   "execution_count": null,
   "metadata": {},
   "outputs": [],
   "source": [
    "import numpy as np\n",
    "import holoviews as hv\n",
    "import matplotlib.pyplot as plt\n",
    "\n",
    "import RMK_support as rmk\n",
    "import RMK_support.common_models as cm"
   ]
  },
  {
   "attachments": {},
   "cell_type": "markdown",
   "metadata": {},
   "source": [
    "### Some useful constants"
   ]
  },
  {
   "cell_type": "code",
   "execution_count": null,
   "metadata": {},
   "outputs": [],
   "source": [
    "elCharge = 1.60218e-19\n",
    "elMass = 9.10938e-31\n",
    "amu = 1.6605390666e-27  # atomic mass unit\n",
    "ionMass = 2.014*amu  # deuterium mass\n",
    "epsilon0 = 8.854188e-12  # vacuum permittivity\n",
    "heavySpeciesMass = 2.014  # in amus\n"
   ]
  },
  {
   "attachments": {},
   "cell_type": "markdown",
   "metadata": {},
   "source": [
    "### Context initialization"
   ]
  },
  {
   "cell_type": "code",
   "execution_count": null,
   "metadata": {},
   "outputs": [],
   "source": [
    "rk = rmk.RMKContext()\n",
    "rk.IOContext = rmk.IOContext(HDF5Dir=\"./RMKOutput/RMK_CI_test/\")\n",
    "rk.mpiContext = rmk.MPIContext(4)"
   ]
  },
  {
   "attachments": {},
   "cell_type": "markdown",
   "metadata": {},
   "source": [
    "### Grid setup"
   ]
  },
  {
   "cell_type": "code",
   "execution_count": null,
   "metadata": {},
   "outputs": [],
   "source": [
    "xGrid = 150*np.ones(64)\n",
    "dv0 = 0.0307\n",
    "cv = 1.025\n",
    "vGrid = [dv0]\n",
    "for i in range(1,120):\n",
    "    vGrid.append(vGrid[i-1]*cv)\n",
    "lMax = 1\n",
    "rk.grid = rmk.Grid(xGrid, np.array(vGrid), lMax, interpretXGridAsWidths=True, interpretVGridAsWidths=True, isPeriodic=True)\n",
    "L = sum(xGrid)"
   ]
  },
  {
   "attachments": {},
   "cell_type": "markdown",
   "metadata": {},
   "source": [
    "### Set default species and temperature derivations"
   ]
  },
  {
   "cell_type": "code",
   "execution_count": null,
   "metadata": {},
   "outputs": [],
   "source": [
    "rk.textbook = rmk.Textbook(rk.grid,[-1,0]) \n",
    "\n",
    "rk.species.add(rmk.Species(\"e\",0))\n",
    "rk.species.add(rmk.Species(\"D+\",-1,atomicA=2.014,charge=1.0))\n"
   ]
  },
  {
   "attachments": {},
   "cell_type": "markdown",
   "metadata": {},
   "source": [
    "### Variables"
   ]
  },
  {
   "cell_type": "code",
   "execution_count": null,
   "metadata": {},
   "outputs": [],
   "source": [
    "nInit = 2*np.ones(rk.grid.numX)\n",
    "uInit = 0.0001*np.ones(rk.grid.numX) # Slow flow in order to reproduce the analytical solution.\n",
    "\n",
    "TInit = 1.5*np.ones(rk.grid.numX)\n",
    "WInit = 3*nInit*TInit/2\n",
    "fInit = np.zeros([rk.grid.numX,rk.grid.numH,rk.grid.numV])\n",
    "for i in range(rk.grid.numX):\n",
    "    fInit[i,rk.grid.getH(0)-1,:] = (np.pi*TInit[i])**(-1.5) * nInit[i]* np.exp(-rk.grid.vGrid**2/TInit[i])\n",
    "\n",
    "# Rescale distribution function to ensure that the numerical density moment agrees with the initial values\n",
    "numerical_dens = rk.grid.velocityMoment(fInit,0,1)\n",
    "for i in range(rk.grid.numX):\n",
    "    fInit[i,rk.grid.getH(0)-1,:] = nInit[i] *fInit[i,rk.grid.getH(0)-1,:]/numerical_dens[i]\n",
    "    \n",
    "f,f_dual = rmk.varAndDual(\"f\",rk.grid,isDistribution=True,data=fInit)\n",
    "W = rmk.Variable(\"W\",rk.grid,derivation=rk.textbook[\"energyMoment\"],derivationArgs=[\"f\"])\n",
    "n,n_dual = rmk.varAndDual(\"n\",rk.grid,derivation=rk.textbook[\"densityMoment\"],derivationArgs=[\"f\"])\n",
    "ni,ni_dual = rmk.varAndDual(\"ni\",rk.grid,data=nInit)\n",
    "Gi_dual, Gi = rmk.varAndDual(\"Gi\",rk.grid,primaryOnDualGrid=True,data=nInit*uInit)\n",
    "ui_dual,ui = rmk.varAndDual(\"ui\",rk.grid,primaryOnDualGrid=True,derivation=rmk.derivations.NodeDerivation(\"ui\",rmk.node(Gi_dual)/rmk.node(ni_dual))) \n",
    "\n",
    "G_dual,G = rmk.varAndDual(\"G\",rk.grid,primaryOnDualGrid=True,derivation=rk.textbook[\"fluxMoment\"],derivationArgs=[\"f\"])\n",
    "u_dual,u = rmk.varAndDual(\"u\",rk.grid,primaryOnDualGrid=True,derivation=rmk.derivations.NodeDerivation(\"u\",rmk.node(G_dual)/rmk.node(n_dual))) \n",
    "T,T_dual = rmk.varAndDual(\"T\",rk.grid,derivation=rk.textbook[\"tempFromEnergye\"],derivationArgs=[\"W\",\"n\",\"zeroVar\"])\n",
    "zeroVar = rmk.Variable(\"zeroVar\",rk.grid,isDerived=True,inOutput=False)\n",
    "\n",
    "rk.variables.add(f,f_dual,W,n,n_dual,ni,ni_dual,Gi_dual,Gi,ui_dual,ui,G_dual,G,u_dual,u,T,T_dual,zeroVar)\n"
   ]
  },
  {
   "attachments": {},
   "cell_type": "markdown",
   "metadata": {},
   "source": [
    "## Adding the flowing cold ion electron-ion model"
   ]
  },
  {
   "cell_type": "code",
   "execution_count": null,
   "metadata": {},
   "outputs": [],
   "source": [
    "rk.models.add(cm.flowingIonEIColl(rk.grid,rk.textbook,rk.norms,f,ni,ui_dual,n_dual,T_dual,rk.species[\"D+\"],list(range(2,rk.grid.numH+1)),Gi_dual).rename(\"e-i_l>0\"))"
   ]
  },
  {
   "attachments": {},
   "cell_type": "markdown",
   "metadata": {},
   "source": [
    "### Integrator and timestep options\n",
    "\n",
    "Simple single step backwards Euler integration"
   ]
  },
  {
   "cell_type": "code",
   "execution_count": null,
   "metadata": {},
   "outputs": [],
   "source": [
    "integrator = rmk.BDEIntegrator(\"BDE\",absTol=10.0,nonlinTol=1e-14,convergenceVars=[f,Gi_dual])\n",
    "integrationStep = rmk.IntegrationStep(\"BE\",integrator)\n",
    "integrationStep.add(rk.models) \n",
    "rk.integrationScheme = rmk.IntegrationScheme(dt=0.1,steps=integrationStep) \n",
    "rk.integrationScheme.setFixedNumTimesteps(1000,100) "
   ]
  },
  {
   "cell_type": "markdown",
   "metadata": {},
   "source": [
    "#### Generate a LaTeX summary of the ReMKiT1D run "
   ]
  },
  {
   "cell_type": "code",
   "execution_count": null,
   "metadata": {},
   "outputs": [],
   "source": [
    "rk.generatePDF(\"Flowing e-i collision test\")"
   ]
  },
  {
   "attachments": {},
   "cell_type": "markdown",
   "metadata": {},
   "source": [
    "### Create config file"
   ]
  },
  {
   "cell_type": "code",
   "execution_count": null,
   "metadata": {},
   "outputs": [],
   "source": [
    "rk.writeConfigFile()\n"
   ]
  },
  {
   "attachments": {},
   "cell_type": "markdown",
   "metadata": {},
   "source": [
    "### Data analysis\n"
   ]
  },
  {
   "attachments": {},
   "cell_type": "markdown",
   "metadata": {},
   "source": [
    "#### Loading data"
   ]
  },
  {
   "cell_type": "code",
   "execution_count": null,
   "metadata": {},
   "outputs": [],
   "source": [
    "loadedData = rk.loadSimulation()\n",
    "dataset=loadedData.dataset"
   ]
  },
  {
   "cell_type": "code",
   "execution_count": null,
   "metadata": {},
   "outputs": [],
   "source": [
    "hv.extension('matplotlib')\n",
    "%matplotlib inline\n",
    "plt.rcParams['figure.dpi'] = 150\n",
    "hv.output(size=80, dpi=150)\n"
   ]
  },
  {
   "attachments": {},
   "cell_type": "markdown",
   "metadata": {},
   "source": [
    "### Relative velocity error"
   ]
  },
  {
   "cell_type": "code",
   "execution_count": null,
   "metadata": {},
   "outputs": [],
   "source": [
    "abs(dataset[\"u\"].data[-1,0]-dataset[\"ui\"].data[-1,0])/dataset[\"ui\"].data[-1,0]"
   ]
  },
  {
   "attachments": {},
   "cell_type": "markdown",
   "metadata": {},
   "source": [
    "### Compare with analytic solution"
   ]
  },
  {
   "cell_type": "code",
   "execution_count": null,
   "metadata": {},
   "outputs": [],
   "source": [
    "f_analytic = np.zeros([rk.grid.numX,rk.grid.numV])\n",
    "final_ue=dataset[\"u\"].data[-1,:]\n",
    "for i in range(rk.grid.numX):\n",
    "    f_analytic[i,:] = 2*final_ue[i]*rk.grid.vGrid *(np.pi*TInit[i])**(-1.5) * nInit[i]* np.exp(-rk.grid.vGrid**2/TInit[i])/TInit[i]"
   ]
  },
  {
   "cell_type": "code",
   "execution_count": null,
   "metadata": {},
   "outputs": [],
   "source": [
    "dataName = 'f'\n",
    "curve = hv.Curve((rk.grid.vGrid,f_analytic[0,:]),label='Analytical formula') *hv.Scatter((rk.grid.vGrid,loadedData[\"f\"].data[-1,0,1,:]),label='Numerical result').opts(s=6.0,color='r',marker='x')\n",
    "curve.opts(xlabel='v [$v_{th}$]',ylabel='f$_1$ [normalized units]')"
   ]
  },
  {
   "attachments": {},
   "cell_type": "markdown",
   "metadata": {},
   "source": [
    "### Relative total momentum error"
   ]
  },
  {
   "cell_type": "code",
   "execution_count": null,
   "metadata": {},
   "outputs": [],
   "source": [
    "initMom = dataset[\"G_dual\"][0,0]*elMass/ionMass +dataset[\"Gi_dual\"][0,0]   # initial momentum in electron units\n",
    "endMom = dataset[\"G_dual\"][:,0]*elMass/ionMass +dataset[\"Gi_dual\"][:,0]  # final momentum in electron units\n",
    "\n",
    "momErr=abs(endMom-initMom)/initMom"
   ]
  },
  {
   "cell_type": "code",
   "execution_count": null,
   "metadata": {},
   "outputs": [],
   "source": [
    "momErr"
   ]
  },
  {
   "cell_type": "code",
   "execution_count": null,
   "metadata": {},
   "outputs": [],
   "source": [
    "hv.output(fig='pdf')\n",
    "hv.save(curve.opts(xlabel='v [$v_{th}$]',ylabel='f$_1$ [normalized units]'), 'e-if1Relaxation.pdf', dpi=144)"
   ]
  }
 ],
 "metadata": {
  "kernelspec": {
   "display_name": "Python 3",
   "language": "python",
   "name": "python3"
  },
  "language_info": {
   "codemirror_mode": {
    "name": "ipython",
    "version": 3
   },
   "file_extension": ".py",
   "mimetype": "text/x-python",
   "name": "python",
   "nbconvert_exporter": "python",
   "pygments_lexer": "ipython3",
   "version": "3.8.10"
  },
  "orig_nbformat": 4
 },
 "nbformat": 4,
 "nbformat_minor": 2
}
