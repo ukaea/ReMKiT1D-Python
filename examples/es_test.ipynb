{
 "cells": [
  {
   "attachments": {},
   "cell_type": "markdown",
   "metadata": {},
   "source": [
    "# Epperlein-Short test \n",
    "\n",
    "This notebook uses the prebuilt Epperlein-Short run wrapper generator in epperlein_short_test.py to perform the standard Epperlein-Short test.\n",
    "\n",
    "This is the v2.0.0 rewrite of the test that corresponds to Section 5.2.3. in the ReMKiT1D code paper."
   ]
  },
  {
   "cell_type": "code",
   "execution_count": null,
   "metadata": {},
   "outputs": [],
   "source": [
    "import numpy as np\n",
    "import xarray as xr\n",
    "import holoviews as hv\n",
    "import panel as pn\n",
    "import matplotlib.pyplot as plt\n",
    "from epperlein_short_test import esTestGenerator\n",
    "\n",
    "import RMK_support as rmk"
   ]
  },
  {
   "attachments": {},
   "cell_type": "markdown",
   "metadata": {},
   "source": [
    "### Set up problem parameters"
   ]
  },
  {
   "cell_type": "code",
   "execution_count": null,
   "metadata": {},
   "outputs": [],
   "source": [
    "kLambda = 2.0 # Braginskii k * mfp - To reproduce points in Figure 17 in the paper use values from np.geomspace(0.5e-2,2,8)\n",
    "k = kLambda/(3*np.sqrt(np.pi)/(4*np.sqrt(2)))\n",
    "Nx = 128 # number of spatal grids\n",
    "dx = 2*np.pi/(k*Nx) \n",
    "dt = 0.01 # time step in e-i collional times\n",
    "ionZ = 1.0 # ion charge\n",
    "L = Nx*dx # total domain length\n",
    "Nt=3000 # number of timesteps\n",
    "lmax=1 # highest resolved harmonic - change to reproduce points in Figure 17 in the paper"
   ]
  },
  {
   "attachments": {},
   "cell_type": "markdown",
   "metadata": {},
   "source": [
    "### Initialize context using prebuilt script"
   ]
  },
  {
   "cell_type": "code",
   "execution_count": null,
   "metadata": {},
   "outputs": [],
   "source": [
    "rk = esTestGenerator(dx=dx,\n",
    "                     Nx=Nx,\n",
    "                     lmax=lmax,\n",
    "                     ionZ=ionZ,\n",
    "                     mpiProcsX=16,\n",
    "                     mpiProcsH=1,\n",
    "                     hdf5Filepath=\"./RMKOutput/RMK_ES_test/\",\n",
    "                     initialTimestep=dt,\n",
    "                     Nt=Nt,\n",
    "                     )"
   ]
  },
  {
   "cell_type": "code",
   "execution_count": null,
   "metadata": {},
   "outputs": [],
   "source": [
    "rk.setPETScOptions(cliOpts=\"-pc_type bjacobi -sub_pc_factor_shift_type nonzero\",kspSolverType=\"gmres\")"
   ]
  },
  {
   "cell_type": "code",
   "execution_count": null,
   "metadata": {},
   "outputs": [],
   "source": [
    "rk.generatePDF(\"Epperlein-Short Test\")"
   ]
  },
  {
   "cell_type": "code",
   "execution_count": null,
   "metadata": {},
   "outputs": [],
   "source": [
    "rk.writeConfigFile()"
   ]
  },
  {
   "attachments": {},
   "cell_type": "markdown",
   "metadata": {},
   "source": [
    "### Load and analyze data"
   ]
  },
  {
   "cell_type": "code",
   "execution_count": null,
   "metadata": {},
   "outputs": [],
   "source": [
    "loadedData = rk.loadSimulation()\n",
    "dataset = loadedData.dataset"
   ]
  },
  {
   "cell_type": "code",
   "execution_count": null,
   "metadata": {},
   "outputs": [],
   "source": [
    "hv.extension('matplotlib')\n",
    "%matplotlib inline\n",
    "plt.rcParams['figure.dpi'] = 150\n",
    "hv.output(size=80, dpi=150)\n"
   ]
  },
  {
   "attachments": {},
   "cell_type": "markdown",
   "metadata": {},
   "source": [
    "### Compare heat flux with Braginskii value visually"
   ]
  },
  {
   "cell_type": "code",
   "execution_count": null,
   "metadata": {},
   "outputs": [],
   "source": [
    "import RMK_support.dashboard_support as ds\n",
    "pn.extension(comms=\"vscode\")  # change comms if not using VSCode\n",
    "dashboard = ds.ReMKiT1DDashboard(dataset,rk.grid)\n",
    "\n",
    "dashboard.fluidMultiComparison([\"qT\",\"q_dual\"]).opts(ylabel=\"q (normalized units)\")\n"
   ]
  },
  {
   "cell_type": "code",
   "execution_count": null,
   "metadata": {},
   "outputs": [],
   "source": [
    "dashboard.fluid2Comparison()"
   ]
  },
  {
   "attachments": {},
   "cell_type": "markdown",
   "metadata": {},
   "source": [
    "### Calculate heat flux suppression using two methods"
   ]
  },
  {
   "cell_type": "code",
   "execution_count": null,
   "metadata": {},
   "outputs": [],
   "source": [
    "maxCoords = [np.argmax(dataset[\"T\"].data[t,:]) for t in range(31)]"
   ]
  },
  {
   "cell_type": "code",
   "execution_count": null,
   "metadata": {},
   "outputs": [],
   "source": [
    "def qRatio(loadedData:xr.Dataset,maxCoord:int) -> float:\n",
    "    \"\"\"Return ratio of heat flux to Braginskii value at given position\n",
    "\n",
    "    Args:\n",
    "        loadedData (xr.Dataset): xarray dataset with run results\n",
    "        maxCoord (int): Position of temperature perturbation maximum\n",
    "\n",
    "    Returns:\n",
    "        float: Heat flux ratio that can be interpreted as a conductivity ratio\n",
    "    \"\"\"\n",
    "    return 1 - abs(loadedData[\"qT\"][:,maxCoord]-loadedData[\"q\"][:,maxCoord])/abs(loadedData[\"qT\"][:,maxCoord])"
   ]
  },
  {
   "cell_type": "code",
   "execution_count": null,
   "metadata": {},
   "outputs": [],
   "source": [
    "def rhoRatio(loadedData:xr.Dataset,maxCoord:int,ionZ:float,k:float)->float:\n",
    "    \"\"\"Return ratio of temperature decay rate to expected Braginskii value at given position\n",
    "\n",
    "    Args:\n",
    "        loadedData (xr.Dataset): xarray dataset with run results\n",
    "        maxCoord (int): Position of temperature perturbation maximum\n",
    "        ionZ (float): Ion charge\n",
    "        k (float): Perturbation wave number\n",
    "\n",
    "    Returns:\n",
    "        float: Temperature decay ratio that can be interpreted as a conductivity ratio\n",
    "    \"\"\"\n",
    "    kappaOne = 3.16 # Thermal conductivity for Z=1\n",
    "    kappaB = (ionZ+0.24)/(0.24*ionZ+1)*kappaOne # Thermal conductivity scaling based off of original Epperlein paper\n",
    "    rhoB=k**2*np.sqrt(np.pi)/4 * kappaB # Expected Braginskii value\n",
    "    Nt = len(loadedData.coords[\"t\"])\n",
    "    deltaT = loadedData[\"T\"].data[:,maxCoord] - 1\n",
    "    dAmpT = np.log(deltaT[1:]/deltaT[:Nt-1])\n",
    "    dt = loadedData.coords[\"t\"].data[1:] - loadedData.coords[\"t\"].data[:Nt-1]\n",
    "    return - dAmpT/(rhoB*dt)\n",
    "    "
   ]
  },
  {
   "cell_type": "code",
   "execution_count": null,
   "metadata": {},
   "outputs": [],
   "source": [
    "rRatio=rhoRatio(dataset,maxCoord=maxCoords[1],ionZ=ionZ,k=k)\n",
    "rRatio"
   ]
  },
  {
   "cell_type": "code",
   "execution_count": null,
   "metadata": {},
   "outputs": [],
   "source": [
    "qRatio = qRatio(dataset,maxCoord=maxCoords[1])\n",
    "qRatio"
   ]
  },
  {
   "cell_type": "code",
   "execution_count": null,
   "metadata": {},
   "outputs": [],
   "source": [
    "plt.plot(rRatio,label=\"$\\\\rho$ ratio\")\n",
    "plt.plot(qRatio,label=\"q ratio\")\n",
    "plt.legend()\n"
   ]
  }
 ],
 "metadata": {
  "kernelspec": {
   "display_name": "Python 3",
   "language": "python",
   "name": "python3"
  },
  "language_info": {
   "codemirror_mode": {
    "name": "ipython",
    "version": 3
   },
   "file_extension": ".py",
   "mimetype": "text/x-python",
   "name": "python",
   "nbconvert_exporter": "python",
   "pygments_lexer": "ipython3",
   "version": "3.8.10"
  },
  "orig_nbformat": 4,
  "vscode": {
   "interpreter": {
    "hash": "31f2aee4e71d21fbe5cf8b01ff0e069b9275f58929596ceb00d14d90e3e16cd6"
   }
  }
 },
 "nbformat": 4,
 "nbformat_minor": 2
}
