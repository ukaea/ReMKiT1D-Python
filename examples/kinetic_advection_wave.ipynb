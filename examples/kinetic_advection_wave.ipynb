{
 "cells": [
  {
   "attachments": {},
   "cell_type": "markdown",
   "metadata": {},
   "source": [
    "## Example - testing kinetic advection using a wave problem \n",
    "\n",
    "This example tests the kinetic advection operators by building a toy wave problem from the Vlasov advection terms for f0 and f1\n",
    "\n",
    "This is a v2.0.0 rewrite of the notebook that corresponds to Section 5.2.1. of the ReMKiT1D code paper."
   ]
  },
  {
   "cell_type": "code",
   "execution_count": null,
   "metadata": {},
   "outputs": [],
   "source": [
    "import numpy as np\n",
    "import holoviews as hv\n",
    "import matplotlib.pyplot as plt\n",
    "\n",
    "import RMK_support as rmk\n",
    "import RMK_support.common_models as cm"
   ]
  },
  {
   "attachments": {},
   "cell_type": "markdown",
   "metadata": {},
   "source": [
    "### Context initialization"
   ]
  },
  {
   "cell_type": "code",
   "execution_count": null,
   "metadata": {},
   "outputs": [],
   "source": [
    "rk = rmk.RMKContext()\n",
    "rk.IOContext=rmk.IOContext(HDF5Dir=\"./RMKOutput/RMK_kin_adv_test/\" )\n",
    "rk.mpiContext = rmk.MPIContext(4)"
   ]
  },
  {
   "attachments": {},
   "cell_type": "markdown",
   "metadata": {},
   "source": [
    "### Grid setup"
   ]
  },
  {
   "cell_type": "code",
   "execution_count": null,
   "metadata": {},
   "outputs": [],
   "source": [
    "xGrid = 0.1*np.ones(128) \n",
    "L = sum(xGrid)\n",
    "vGrid = np.logspace(-2,1,80) #In normalized velocity - default normalization is thermal velocity sqrt(m_e * k * T_e/2)\n",
    "lMax = 1\n",
    "rk.grid = rmk.Grid(xGrid,vGrid,lMax,interpretXGridAsWidths=True,isPeriodic=True)"
   ]
  },
  {
   "attachments": {},
   "cell_type": "markdown",
   "metadata": {},
   "source": [
    "### Variables"
   ]
  },
  {
   "cell_type": "code",
   "execution_count": null,
   "metadata": {},
   "outputs": [],
   "source": [
    "n = np.exp(-(rk.grid.xGrid-np.mean(rk.grid.xGrid))**2) # A Gaussian spatial profile\n",
    "\n",
    "fInit = np.zeros([rk.grid.numX,rk.grid.numH,rk.grid.numV])\n",
    "for i in range(rk.grid.numV):\n",
    "    fInit[:,rk.grid.getH(0)-1,i] = n \n",
    "\n",
    "f = rmk.Variable(\"f\",rk.grid,data=fInit,isDistribution=True)\n",
    "rk.variables.add(f)"
   ]
  },
  {
   "attachments": {},
   "cell_type": "markdown",
   "metadata": {},
   "source": [
    "### Adding the advection model\n",
    "\n",
    "The spatial advection model is implemented in common_models.py and is just used directly here. For implementation details see the corresponding function."
   ]
  },
  {
   "cell_type": "code",
   "execution_count": null,
   "metadata": {},
   "outputs": [],
   "source": [
    "rk.models.add(cm.kinAdvX(f,rk.grid))"
   ]
  },
  {
   "attachments": {},
   "cell_type": "markdown",
   "metadata": {},
   "source": [
    "### Integrator and timestep options\n",
    "\n",
    "Simple single step backwards Euler integration"
   ]
  },
  {
   "cell_type": "code",
   "execution_count": null,
   "metadata": {},
   "outputs": [],
   "source": [
    "integrator = rmk.BDEIntegrator(\"BDE\",absTol=10.0,convergenceVars=[f])\n",
    "integrationStep = rmk.IntegrationStep(\"BE\",integrator)\n",
    "integrationStep.add(rk.models) \n",
    "rk.integrationScheme = rmk.IntegrationScheme(dt=0.01,steps=integrationStep) \n",
    "rk.integrationScheme.setFixedNumTimesteps(4000,40) "
   ]
  },
  {
   "cell_type": "markdown",
   "metadata": {},
   "source": [
    "#### Generate a LaTeX summary of the ReMKiT1D run "
   ]
  },
  {
   "cell_type": "code",
   "execution_count": null,
   "metadata": {},
   "outputs": [],
   "source": [
    "rk.generatePDF(\"Kinetic Advection Wave test\")"
   ]
  },
  {
   "attachments": {},
   "cell_type": "markdown",
   "metadata": {},
   "source": [
    "### Create config file"
   ]
  },
  {
   "cell_type": "code",
   "execution_count": null,
   "metadata": {},
   "outputs": [],
   "source": [
    "rk.writeConfigFile()"
   ]
  },
  {
   "attachments": {},
   "cell_type": "markdown",
   "metadata": {},
   "source": [
    "### Data analysis\n"
   ]
  },
  {
   "attachments": {},
   "cell_type": "markdown",
   "metadata": {},
   "source": [
    "#### Loading data"
   ]
  },
  {
   "cell_type": "code",
   "execution_count": null,
   "metadata": {},
   "outputs": [],
   "source": [
    "loadedData = rk.loadSimulation()\n",
    "dataset = loadedData.dataset"
   ]
  },
  {
   "cell_type": "code",
   "execution_count": null,
   "metadata": {},
   "outputs": [],
   "source": [
    "hv.extension('matplotlib')\n",
    "%matplotlib inline \n",
    "plt.rcParams['figure.dpi'] = 150\n",
    "hv.output(size=150,dpi=150)"
   ]
  },
  {
   "attachments": {},
   "cell_type": "markdown",
   "metadata": {},
   "source": [
    "### Compare to analytic travelling wave solution"
   ]
  },
  {
   "cell_type": "code",
   "execution_count": null,
   "metadata": {},
   "outputs": [],
   "source": [
    "wave_speeds=rk.grid.vGrid/np.sqrt(3)\n",
    "times = dataset.coords['t'].data\n",
    "f0_analytic=np.zeros((len(times),rk.grid.numX,rk.grid.numV))\n",
    "\n",
    "for i in range(len(times)):\n",
    "    for k,c in enumerate(wave_speeds):\n",
    "        leftPositionMod = (rk.grid.xGrid-c*times[i]) % L\n",
    "        leftPosition = np.where(leftPositionMod > 0,leftPositionMod,leftPositionMod+L)\n",
    "        rightPosition = (rk.grid.xGrid+c*times[i]) % L\n",
    "        f0_analytic[i,:,k] = 0.5*(np.exp(-(leftPosition-np.mean(rk.grid.xGrid))**2) + np.exp(-(rightPosition-np.mean(rk.grid.xGrid))**2))\n"
   ]
  },
  {
   "cell_type": "code",
   "execution_count": null,
   "metadata": {},
   "outputs": [],
   "source": [
    "dataName = 'f'\n",
    "vInd = 40 # Lower velocities will be less diffusive\n",
    "curveDict = {t: hv.Scatter(dataset[dataName][{\"t\":t,\"h\":0,\"v\":vInd}]).opts(marker=\"o\",color=\"r\",s=6.0)*hv.Curve((rk.grid.xGrid,f0_analytic[t,:,vInd])) for t in range(len(times))}\n",
    "kdims = [hv.Dimension(('t', 'Time'),unit=dataset.coords[\"t\"].attrs[\"units\"], default=0)]\n",
    "hv.HoloMap(curveDict,kdims=kdims)"
   ]
  },
  {
   "attachments": {},
   "cell_type": "markdown",
   "metadata": {},
   "source": [
    "### Reproducing the plot in the paper"
   ]
  },
  {
   "cell_type": "code",
   "execution_count": null,
   "metadata": {},
   "outputs": [],
   "source": [
    "diff = np.abs(f0_analytic - dataset['f'][:,:,0,:])"
   ]
  },
  {
   "cell_type": "code",
   "execution_count": null,
   "metadata": {},
   "outputs": [],
   "source": [
    "plotVPoints = [0,19,39,59]"
   ]
  },
  {
   "cell_type": "code",
   "execution_count": null,
   "metadata": {},
   "outputs": [],
   "source": [
    "relativeErrorPlot=hv.Overlay([hv.Curve(diff.reduce(np.max,'x')[:,v],label=\"$v={:.2f}$\".format(rk.grid.vGrid[v])+'$ v_{th}$').opts(ylabel='$\\Delta f_0$',linestyle='--',fontscale=1.5, fig_size=150,linewidth=2.0,logy=True,ylim=(1e-7,1)) for v in plotVPoints]).opts(legend_position='top',legend_cols=2)"
   ]
  },
  {
   "cell_type": "code",
   "execution_count": null,
   "metadata": {},
   "outputs": [],
   "source": [
    "hv.output(fig='pdf')\n",
    "hv.save(relativeErrorPlot, 'advectionKinTestRelErr.pdf', dpi=144)"
   ]
  }
 ],
 "metadata": {
  "kernelspec": {
   "display_name": "Python 3.9.5 64-bit",
   "language": "python",
   "name": "python3"
  },
  "language_info": {
   "codemirror_mode": {
    "name": "ipython",
    "version": 3
   },
   "file_extension": ".py",
   "mimetype": "text/x-python",
   "name": "python",
   "nbconvert_exporter": "python",
   "pygments_lexer": "ipython3",
   "version": "3.8.10"
  },
  "orig_nbformat": 4,
  "vscode": {
   "interpreter": {
    "hash": "31f2aee4e71d21fbe5cf8b01ff0e069b9275f58929596ceb00d14d90e3e16cd6"
   }
  }
 },
 "nbformat": 4,
 "nbformat_minor": 2
}
