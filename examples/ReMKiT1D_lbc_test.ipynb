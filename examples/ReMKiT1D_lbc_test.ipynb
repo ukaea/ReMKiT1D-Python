{
 "cells": [
  {
   "attachments": {},
   "cell_type": "markdown",
   "metadata": {},
   "source": [
    "## ReMKiT1D input generator - logical boundary condition test\n",
    "\n",
    "This example tests the logical boundary condition by looking at the sheath heat transmission coefficient for a Maxwellian distribution"
   ]
  },
  {
   "cell_type": "code",
   "execution_count": null,
   "metadata": {},
   "outputs": [],
   "source": [
    "import numpy as np\n",
    "import xarray as xr\n",
    "import holoviews as hv\n",
    "import matplotlib.pyplot as plt\n",
    "import matplotlib as mpl\n",
    "from holoviews import opts\n",
    "import panel as pn\n",
    "\n",
    "import sys\n",
    "sys.path.append('../')\n",
    "from RMK_support import RKWrapper ,Grid\n",
    "import RMK_support.simple_containers as sc\n",
    "import RMK_support.IO_support as io\n",
    "import RMK_support.common_models as cm\n",
    "import RMK_support.sk_normalization as skn\n"
   ]
  },
  {
   "attachments": {},
   "cell_type": "markdown",
   "metadata": {},
   "source": [
    "### Some useful constants"
   ]
  },
  {
   "cell_type": "code",
   "execution_count": null,
   "metadata": {},
   "outputs": [],
   "source": [
    "elCharge = 1.60218e-19\n",
    "elMass = 9.10938e-31\n",
    "amu = 1.6605390666e-27 #atomic mass unit\n",
    "ionMass = 2.014*amu # deuterium mass\n",
    "epsilon0 = 8.854188e-12 #vacuum permittivity \n",
    "heavySpeciesMass = 2.014 #in amus\n"
   ]
  },
  {
   "attachments": {},
   "cell_type": "markdown",
   "metadata": {},
   "source": [
    "### Wrapper initialization"
   ]
  },
  {
   "cell_type": "code",
   "execution_count": null,
   "metadata": {},
   "outputs": [],
   "source": [
    "rk = RKWrapper()"
   ]
  },
  {
   "attachments": {},
   "cell_type": "markdown",
   "metadata": {},
   "source": [
    "### Global parameters for IO files"
   ]
  },
  {
   "cell_type": "code",
   "execution_count": null,
   "metadata": {},
   "outputs": [],
   "source": [
    "rk.jsonFilepath = \"./config.json\" # Default value\n",
    "hdf5Filepath = \"./RMKOutput/RMK_lbc_test/\" \n",
    "rk.setHDF5Path(hdf5Filepath)"
   ]
  },
  {
   "attachments": {},
   "cell_type": "markdown",
   "metadata": {},
   "source": [
    "### Setting options for external libraries used by ReMKiT1D"
   ]
  },
  {
   "attachments": {},
   "cell_type": "markdown",
   "metadata": {},
   "source": [
    "#### MPI\n"
   ]
  },
  {
   "cell_type": "code",
   "execution_count": null,
   "metadata": {},
   "outputs": [],
   "source": [
    "numProcsX = 1 # Number of processes in x direction\n",
    "numProcsH = 1 # Number of processes in harmonic \n",
    "numProcs = numProcsX * numProcsH\n",
    "haloWidth = 1 # Halo width in cells\n",
    "\n",
    "rk.setMPIData(numProcsX,numProcsH,haloWidth)"
   ]
  },
  {
   "attachments": {},
   "cell_type": "markdown",
   "metadata": {},
   "source": [
    "#### PETSc\n",
    "\n",
    "Default settings are used here."
   ]
  },
  {
   "attachments": {},
   "cell_type": "markdown",
   "metadata": {},
   "source": [
    "#### HDF5\n",
    "\n",
    "No input HDF5 file is used here and all variables are outputted by default using the wrapper class."
   ]
  },
  {
   "attachments": {},
   "cell_type": "markdown",
   "metadata": {},
   "source": [
    "### Normalization setup"
   ]
  },
  {
   "cell_type": "code",
   "execution_count": null,
   "metadata": {},
   "outputs": [],
   "source": [
    "rk.setNormDensity(1.0e19)\n",
    "rk.setNormTemperature(10.0)\n",
    "rk.setNormRefZ(1.0)\n",
    "\n",
    "timeNorm = skn.collTimeei(rk.normalization[\"eVTemperature\"],rk.normalization[\"density\"],rk.normalization[\"referenceIonZ\"])"
   ]
  },
  {
   "attachments": {},
   "cell_type": "markdown",
   "metadata": {},
   "source": [
    "### Grid setup"
   ]
  },
  {
   "cell_type": "code",
   "execution_count": null,
   "metadata": {},
   "outputs": [],
   "source": [
    "xGrid = np.ones(4) \n",
    "L = sum(xGrid)\n",
    "dv0 = 0.05\n",
    "cv = 1.025\n",
    "vGrid = [dv0/2]\n",
    "for i in range(1,120):\n",
    "    vGrid.append(vGrid[i-1]*cv)\n",
    "lMax = 1 \n",
    "gridObj = Grid(xGrid,np.array(vGrid),lMax,interpretXGridAsWidths=True,interpretVGridAsWidths=True)"
   ]
  },
  {
   "cell_type": "code",
   "execution_count": null,
   "metadata": {},
   "outputs": [],
   "source": [
    "# Add the grid to the wrapper\n",
    "rk.grid=gridObj"
   ]
  },
  {
   "attachments": {},
   "cell_type": "markdown",
   "metadata": {},
   "source": [
    "### Set temperature derivation option and add electron species"
   ]
  },
  {
   "cell_type": "code",
   "execution_count": null,
   "metadata": {},
   "outputs": [],
   "source": [
    "rk.setStandardTextbookOptions([0]) \n",
    "\n",
    "rk.addSpecies(\"e\",0)\n",
    "rk.addSpecies(\"D+\",-1,atomicA=2.014,charge=1.0)"
   ]
  },
  {
   "attachments": {},
   "cell_type": "markdown",
   "metadata": {},
   "source": [
    "### Add custom derivations\n",
    "\n",
    "These are the extrapolation derivations for the distribution function and for fluid variables and the target current derivations."
   ]
  },
  {
   "cell_type": "code",
   "execution_count": null,
   "metadata": {},
   "outputs": [],
   "source": [
    "rk.addCustomDerivation(\"lbcRightExt\",sc.distScalingExtrapolationDerivation(True,True))\n",
    "rk.addCustomDerivation(\"lbcLeftExt\",sc.distScalingExtrapolationDerivation(True,True,True))\n",
    "\n",
    "rk.addCustomDerivation(\"logLinExtrapRight\",sc.boundedExtrapolationDerivation(sc.linLogExtrapolation()))\n",
    "rk.addCustomDerivation(\"logLinExtrapLeft\",sc.boundedExtrapolationDerivation(sc.linLogExtrapolation(leftBoundary=True),ignoreLowerBound=True))\n",
    "\n",
    "rk.addCustomDerivation(\"currentDeriv\",sc.simpleDerivation(multConst=np.sqrt(elMass/ionMass),varPowers=[1.0]))\n",
    "rk.addCustomDerivation(\"currentDerivLeft\",sc.simpleDerivation(multConst=-np.sqrt(elMass/ionMass),varPowers=[1.0]))\n"
   ]
  },
  {
   "attachments": {},
   "cell_type": "markdown",
   "metadata": {},
   "source": [
    "### Variables"
   ]
  },
  {
   "cell_type": "code",
   "execution_count": null,
   "metadata": {},
   "outputs": [],
   "source": [
    "n = 1.0 + 0.001*np.sin(2*np.pi*gridObj.xGrid/L)\n",
    "T = np.ones(gridObj.numX())\n",
    "f = np.zeros([gridObj.numX(),gridObj.numH(),gridObj.numV()])\n",
    "for i in range(gridObj.numX()):\n",
    "    f[i,gridObj.getH(0)-1,:] = (np.pi*T[i])**(-1.5) * n[i]* np.exp(-gridObj.vGrid**2/T[i])\n",
    "\n",
    "numerical_dens = gridObj.velocityMoment(f,0,1)\n",
    "for i in range(gridObj.numX()):\n",
    "    f[i,gridObj.getH(0)-1,:] = n[i] *f[i,gridObj.getH(0)-1,:]/numerical_dens[i]\n",
    "\n",
    "rk.addVarAndDual(\"f\",f,isDistribution=True,isCommunicated=True)\n",
    "rk.addVarAndDual(\"n\",n,units='$10^{19} m^{-3}$',isDerived=True,derivationRule=sc.derivationRule(\"densityMoment\",[\"f\"]))\n",
    "rk.addVar(\"nb_right\",isDerived=True,isScalar=True,units='$10^{19} m^{-3}$',derivationRule=sc.derivationRule(\"logLinExtrapRight\",[\"n\"]))\n",
    "rk.addVar(\"nb_left\",isDerived=True,isScalar=True,units='$10^{19} m^{-3}$',derivationRule=sc.derivationRule(\"logLinExtrapLeft\",[\"n\"]))\n",
    "\n",
    "rk.addVar(\"ionCurrent_right\",isDerived=True,isScalar=True,derivationRule=sc.derivationRule(\"currentDeriv\",[\"nb_right\"]))\n",
    "rk.addVar(\"ionCurrent_left\",isDerived=True,isScalar=True,derivationRule=sc.derivationRule(\"currentDerivLeft\",[\"nb_left\"]))\n",
    "\n",
    "# Boundary property value containers\n",
    "rk.addVar(\"gamma_right\",isDerived=True,isScalar=True)\n",
    "rk.addVar(\"potential_right\",isDerived=True,isScalar=True)\n",
    "rk.addVar(\"temp_right\",isDerived=True,isScalar=True)\n",
    "\n",
    "rk.addVar(\"gamma_left\",isDerived=True,isScalar=True)\n",
    "rk.addVar(\"potential_left\",isDerived=True,isScalar=True)\n",
    "rk.addVar(\"temp_left\",isDerived=True,isScalar=True)\n",
    "\n",
    "rk.addVar(\"time\",isScalar=True,isDerived=True)"
   ]
  },
  {
   "attachments": {},
   "cell_type": "markdown",
   "metadata": {},
   "source": [
    "### LBC models"
   ]
  },
  {
   "cell_type": "code",
   "execution_count": null,
   "metadata": {},
   "outputs": [],
   "source": [
    "cm.addLBCModel(\"lbc_right\",\"f\",rk,sc.derivationRule(\"lbcRightExt\",[\"f\",\"n\",\"n_dual\",\"nb_right\"]),\n",
    "                \"ionCurrent_right\",evolvedHarmonics=[1])\n",
    "\n",
    "cm.addLBCModel(\"lbc_left\",\"f\",rk,sc.derivationRule(\"lbcLeftExt\",[\"f\",\"n\",\"n_dual\",\"nb_left\"]),\n",
    "                \"ionCurrent_left\",evolvedHarmonics=[1],leftBoundary=True)"
   ]
  },
  {
   "attachments": {},
   "cell_type": "markdown",
   "metadata": {},
   "source": [
    "### Manipulators\n",
    "\n",
    "Adding manipulators to extract boundary properties from modelbound data"
   ]
  },
  {
   "cell_type": "code",
   "execution_count": null,
   "metadata": {},
   "outputs": [],
   "source": [
    "rk.addManipulator(\"gammaExtRight\",sc.extractorManipulator(\"lbc_right\",\"gamma\",\"gamma_right\"))\n",
    "rk.addManipulator(\"potentialExtRight\",sc.extractorManipulator(\"lbc_right\",\"potential\",\"potential_right\"))\n",
    "rk.addManipulator(\"tempExtRight\",sc.extractorManipulator(\"lbc_right\",\"shTemp\",\"temp_right\"))\n",
    "\n",
    "rk.addManipulator(\"gammaExtLeft\",sc.extractorManipulator(\"lbc_left\",\"gamma\",\"gamma_left\"))\n",
    "rk.addManipulator(\"potentialExtLeft\",sc.extractorManipulator(\"lbc_left\",\"potential\",\"potential_left\"))\n",
    "rk.addManipulator(\"tempExtLeft\",sc.extractorManipulator(\"lbc_left\",\"shTemp\",\"temp_left\"))"
   ]
  },
  {
   "attachments": {},
   "cell_type": "markdown",
   "metadata": {},
   "source": [
    "### Integrator and timestep options\n",
    "\n",
    "Simple single step backwards Euler integration"
   ]
  },
  {
   "cell_type": "code",
   "execution_count": null,
   "metadata": {},
   "outputs": [],
   "source": [
    "# Everything default except for more lenient absolute convergence tolerance\n",
    "integrator = sc.picardBDEIntegrator(absTol=10.0, convergenceVars=[\"f\"])\n",
    "\n",
    "rk.addIntegrator(\"BE\", integrator)\n"
   ]
  },
  {
   "attachments": {},
   "cell_type": "markdown",
   "metadata": {},
   "source": [
    "0 timestep to check analytic solution"
   ]
  },
  {
   "cell_type": "code",
   "execution_count": null,
   "metadata": {},
   "outputs": [],
   "source": [
    "initialTimestep = 0.0\n",
    "\n",
    "rk.setIntegratorGlobalData(1, 1, initialTimestep)\n"
   ]
  },
  {
   "cell_type": "code",
   "execution_count": null,
   "metadata": {},
   "outputs": [],
   "source": [
    "bdeStep = sc.IntegrationStep(\"BE\")\n",
    "\n",
    "for tag in rk.modelTags():\n",
    "    bdeStep.addModel(tag)\n",
    "\n",
    "rk.addIntegrationStep(\"BE1\", bdeStep.dict())\n"
   ]
  },
  {
   "attachments": {},
   "cell_type": "markdown",
   "metadata": {},
   "source": [
    "#### Timeloop options"
   ]
  },
  {
   "cell_type": "code",
   "execution_count": null,
   "metadata": {},
   "outputs": [],
   "source": [
    "rk.setFixedNumTimesteps(1)\n",
    "rk.setFixedStepOutput(1)\n"
   ]
  },
  {
   "attachments": {},
   "cell_type": "markdown",
   "metadata": {},
   "source": [
    "### Create config file"
   ]
  },
  {
   "cell_type": "code",
   "execution_count": null,
   "metadata": {},
   "outputs": [],
   "source": [
    "rk.writeConfigFile()\n"
   ]
  },
  {
   "attachments": {},
   "cell_type": "markdown",
   "metadata": {},
   "source": [
    "### Data analysis\n"
   ]
  },
  {
   "cell_type": "code",
   "execution_count": null,
   "metadata": {},
   "outputs": [],
   "source": [
    "numFiles = 1\n"
   ]
  },
  {
   "attachments": {},
   "cell_type": "markdown",
   "metadata": {},
   "source": [
    "#### Loading data\n",
    "\n",
    "Set loadpath to ReMKiT1D directory"
   ]
  },
  {
   "cell_type": "code",
   "execution_count": null,
   "metadata": {},
   "outputs": [],
   "source": [
    "loadpath = hdf5Filepath\n",
    "loadFilenames = [loadpath+f'ReMKiT1DVarOutput_{i}.h5' for i in range(numFiles+1)]\n"
   ]
  },
  {
   "cell_type": "code",
   "execution_count": null,
   "metadata": {},
   "outputs": [],
   "source": [
    "loadedData = io.loadFromHDF5(rk.varCont, filepaths=loadFilenames)\n",
    "loadedData\n"
   ]
  },
  {
   "attachments": {},
   "cell_type": "markdown",
   "metadata": {},
   "source": [
    "Compare solution to analytic value. Note that $\\gamma_e$ saved as modelbound data is calculated using the cut-off distribution temperature, so to rescale to unit temperature the analytical gamma must be divided by the sheath temperature variable temp_right."
   ]
  },
  {
   "cell_type": "code",
   "execution_count": null,
   "metadata": {},
   "outputs": [],
   "source": [
    "analyticGamma = (2-0.5*np.log(4*np.pi*elMass/ionMass))/loadedData[\"temp_right\"].data[1,0]\n",
    "abs(loadedData[\"gamma_right\"].data[1,0] - analyticGamma)/analyticGamma"
   ]
  },
  {
   "cell_type": "code",
   "execution_count": null,
   "metadata": {},
   "outputs": [],
   "source": [
    "nalyticGamma = (2-0.5*np.log(4*np.pi*elMass/ionMass))/loadedData[\"temp_left\"].data[1,0]\n",
    "abs(loadedData[\"gamma_left\"].data[1,0] - analyticGamma)/analyticGamma"
   ]
  },
  {
   "cell_type": "code",
   "execution_count": null,
   "metadata": {},
   "outputs": [],
   "source": []
  }
 ],
 "metadata": {
  "kernelspec": {
   "display_name": "Python 3.9.5 64-bit",
   "language": "python",
   "name": "python3"
  },
  "language_info": {
   "codemirror_mode": {
    "name": "ipython",
    "version": 3
   },
   "file_extension": ".py",
   "mimetype": "text/x-python",
   "name": "python",
   "nbconvert_exporter": "python",
   "pygments_lexer": "ipython3",
   "version": "3.8.10"
  },
  "orig_nbformat": 4,
  "vscode": {
   "interpreter": {
    "hash": "31f2aee4e71d21fbe5cf8b01ff0e069b9275f58929596ceb00d14d90e3e16cd6"
   }
  }
 },
 "nbformat": 4,
 "nbformat_minor": 2
}
