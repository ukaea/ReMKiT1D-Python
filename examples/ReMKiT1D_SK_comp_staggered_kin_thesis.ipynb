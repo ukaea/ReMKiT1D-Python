{
 "cells": [
  {
   "attachments": {},
   "cell_type": "markdown",
   "metadata": {},
   "source": [
    "## Comparison script with kinetic SOL-KiT version\n",
    "\n",
    "This notebook generates configs using the generator script containing a SOL-KiT-like kinetic model. See Appendix B of the ReMKiT1D code paper. "
   ]
  },
  {
   "cell_type": "code",
   "execution_count": 1,
   "metadata": {},
   "outputs": [],
   "source": [
    "import numpy as np\n",
    "import xarray as xr\n",
    "import holoviews as hv\n",
    "import matplotlib.pyplot as plt\n",
    "import panel as pn\n",
    "import pickle\n",
    "from sk_comp_thesis_kin import generatorSKThesisKin\n",
    "\n",
    "import sys\n",
    "sys.path.append('../')\n",
    "import RMK_support.IO_support as io\n",
    "import RMK_support.dashboard_support as ds"
   ]
  },
  {
   "attachments": {},
   "cell_type": "markdown",
   "metadata": {},
   "source": [
    "### Grid parameters for Mijin thesis comparison"
   ]
  },
  {
   "cell_type": "code",
   "execution_count": 2,
   "metadata": {},
   "outputs": [],
   "source": [
    "dx0=0.13542325129584085E+0*8.5/2.5*10.18/9.881556569543156\n",
    "dxN=0.13542325129584085E+0*0.5/2.5*10.18/9.881556569543156"
   ]
  },
  {
   "cell_type": "code",
   "execution_count": 3,
   "metadata": {},
   "outputs": [],
   "source": [
    "heatingPower=3.5464790894703255"
   ]
  },
  {
   "attachments": {},
   "cell_type": "markdown",
   "metadata": {},
   "source": [
    "### Initialize kinetic run wrapper using external script\n",
    "\n",
    "See script for input parameter docs."
   ]
  },
  {
   "cell_type": "code",
   "execution_count": 4,
   "metadata": {},
   "outputs": [
    {
     "name": "stderr",
     "output_type": "stream",
     "text": [
      "/home/stefan/SMijin/ReMKiT1D-Python-Support/examples/../RMK_support/crm_support.py:110: UserWarning: getTransitionIndicesAndEnergies was unable to find some transition energy indices\n",
      "  warnings.warn(\"getTransitionIndicesAndEnergies was unable to find some transition energy indices\")\n"
     ]
    }
   ],
   "source": [
    "rk = generatorSKThesisKin(dx0 = dx0,\n",
    "                        dxN = dxN,\n",
    "                        Nx = 64,\n",
    "                        Nh=9,\n",
    "                        lmax=3,\n",
    "                        numNeutrals=1,\n",
    "                        initialTimestep=0.5,\n",
    "                        heatingPower=heatingPower,\n",
    "                        # includeSpontEmission=True,\n",
    "                        # includedJanevTransitions=[\"ex\",\"deex\",\"ion\",\"recomb3b\"],\n",
    "                        # loglinExtrap=True,\n",
    "                        amjuelCXRate=True,\n",
    "                        nu=0.8/1.09345676,\n",
    "                        amjuelRates=True,\n",
    "                        # initFromFluidRun = True,\n",
    "                        # hdf5InputFile=\"../RMK_SK_comp_staggered_thesis/ReMKiT1DVarOutput_54\"\n",
    "                        )"
   ]
  },
  {
   "cell_type": "code",
   "execution_count": 8,
   "metadata": {},
   "outputs": [],
   "source": [
    "rk.setMinimumIntervalOutput(1000)\n",
    "rk.setTimeTargetTimestepping(20000)\n",
    "rk.setRestartOptions(True,False,1000)"
   ]
  },
  {
   "cell_type": "code",
   "execution_count": 9,
   "metadata": {},
   "outputs": [],
   "source": [
    "rk.writeConfigFile()"
   ]
  },
  {
   "attachments": {},
   "cell_type": "markdown",
   "metadata": {},
   "source": [
    "### Load and analyze data"
   ]
  },
  {
   "cell_type": "code",
   "execution_count": null,
   "metadata": {},
   "outputs": [],
   "source": [
    "numFiles = 20"
   ]
  },
  {
   "cell_type": "code",
   "execution_count": null,
   "metadata": {},
   "outputs": [],
   "source": [
    "loadFilenames = [rk.hdf5Filepath+f'ReMKiT1DVarOutput_{i}.h5' for i in range(numFiles+1)]"
   ]
  },
  {
   "cell_type": "code",
   "execution_count": null,
   "metadata": {},
   "outputs": [],
   "source": [
    "loadedData = io.loadFromHDF5(rk.varCont,filepaths=loadFilenames)\n",
    "loadedData"
   ]
  },
  {
   "cell_type": "code",
   "execution_count": null,
   "metadata": {},
   "outputs": [],
   "source": [
    "hv.extension('matplotlib')\n",
    "%matplotlib inline \n",
    "plt.rcParams['figure.dpi'] = 150\n",
    "hv.output(size=100,dpi=150)"
   ]
  },
  {
   "cell_type": "code",
   "execution_count": null,
   "metadata": {},
   "outputs": [],
   "source": [
    "pn.extension(comms=\"vscode\") # change comms if not using VSCode\n",
    "dashboard = ds.ReMKiT1DDashboard(loadedData,rk.grid)\n",
    "\n",
    "dashboard.fluid2Comparison().show()\n"
   ]
  },
  {
   "cell_type": "code",
   "execution_count": null,
   "metadata": {},
   "outputs": [],
   "source": [
    "dashboard.distDynMap().show()"
   ]
  }
 ],
 "metadata": {
  "kernelspec": {
   "display_name": "Python 3",
   "language": "python",
   "name": "python3"
  },
  "language_info": {
   "codemirror_mode": {
    "name": "ipython",
    "version": 3
   },
   "file_extension": ".py",
   "mimetype": "text/x-python",
   "name": "python",
   "nbconvert_exporter": "python",
   "pygments_lexer": "ipython3",
   "version": "3.8.10"
  },
  "orig_nbformat": 4,
  "vscode": {
   "interpreter": {
    "hash": "31f2aee4e71d21fbe5cf8b01ff0e069b9275f58929596ceb00d14d90e3e16cd6"
   }
  }
 },
 "nbformat": 4,
 "nbformat_minor": 2
}
