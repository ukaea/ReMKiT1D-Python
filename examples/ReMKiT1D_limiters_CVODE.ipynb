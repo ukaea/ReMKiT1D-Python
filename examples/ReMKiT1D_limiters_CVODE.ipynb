{
 "cells": [
  {
   "cell_type": "markdown",
   "metadata": {},
   "source": [
    "## ReMKiT1D input generator - flux limiters with calculation trees and CVODE\n",
    "\n",
    "This notebook generates an input file for a ReMKiT1D run solving a simple advection problem by building a MUSCL scheme using built-in unary transformations and stationary model evaluations. It demonstrates several features new to ReMKiT1D v1.2.0:\n",
    "- Use of built-in flux limiter (slope limiter) functions within `UnaryTransform`.\n",
    "- Support for the SUNDIALS `CVODE` integrator. Basic functionality is provided in this example."
   ]
  },
  {
   "cell_type": "code",
   "execution_count": null,
   "metadata": {},
   "outputs": [],
   "source": [
    "from RMK_support import RKWrapper ,Grid\n",
    "import RMK_support.simple_containers as sc\n",
    "import RMK_support.common_models as cm\n",
    "import RMK_support.IO_support as io\n",
    "from RMK_support import Node, treeDerivation, UnaryTransform\n",
    "\n",
    "import numpy as np\n",
    "import holoviews as hv\n",
    "import matplotlib.pyplot as plt"
   ]
  },
  {
   "cell_type": "markdown",
   "metadata": {},
   "source": [
    "Standard setup of the wrapper, with uniform periodic spatial grid"
   ]
  },
  {
   "cell_type": "code",
   "execution_count": null,
   "metadata": {},
   "outputs": [],
   "source": [
    "#Wrapper initialization\n",
    "rk = RKWrapper()\n",
    "\n",
    "#I/O setup\n",
    "rk.jsonFilepath = \"./config.json\" \n",
    "hdf5Filepath = \"./RMKOutput/RMK_limiters_CVODE/\"\n",
    "rk.setHDF5Path(hdf5Filepath) \n",
    "\n",
    "#MPI setup\n",
    "rk.setMPIData(numProcsX=4)\n",
    "\n",
    "#Grid initialization\n",
    "xGridWidths = 0.025*np.ones(512)\n",
    "gridObj = Grid(xGridWidths, interpretXGridAsWidths=True,isPeriodic=True)\n",
    "rk.grid = gridObj"
   ]
  },
  {
   "cell_type": "code",
   "execution_count": null,
   "metadata": {},
   "outputs": [],
   "source": [
    "#Variables\n",
    "\n",
    "# Generate a steep-sided \"box\" of finite value in 1D space:\n",
    "n = np.ones(512) # Try np.zeros (CVODE might struggle, but RK3 should work fine)\n",
    "n[100:200] = 2\n",
    "\n",
    "# Define density variables for three different scenarios:\n",
    "rk.addVarAndDual('n_s',n,isCommunicated=True) # Flux limiter: superbee\n",
    "rk.addVarAndDual('n_m',n,isCommunicated=True) # Flux limiter: minmod\n",
    "rk.addVarAndDual('n_u',n,isCommunicated=True) # Unlimited flux\n",
    "\n",
    "#Note that time is not added here, in from v1.2.0 time is added automatically unless the wrapper is instructed otherwise"
   ]
  },
  {
   "cell_type": "markdown",
   "metadata": {},
   "source": [
    "### Building a MUSCL scheme from scratch \n",
    "\n",
    "We wish to calculate a Rusanov (Lax-Friedrichs) flux for the simple advection equation \n",
    "\n",
    "$$ \\frac{\\partial n}{\\partial t} + \\frac{\\partial n}{\\partial x} = 0 $$ \n",
    "which has the flux $F=n$ and the flux Jacobian $\\partial F/ \\partial n = 1$.\n",
    "\n",
    "On a cell edge, the numerical flux for this problem (simplified because of the trivial Jacobian) is given by \n",
    "\n",
    "$$ F^*_{i+1/2} = \\langle F \\rangle_{i+1/2} - [\\![ n ]\\!]_{i+1/2}$$\n",
    "\n",
    "where the average and jump operators are\n",
    "\n",
    "$$ \\langle F \\rangle_{i+1/2} = \\frac{1}{2}\\left[n^R_{i+1/2}+n^L_{i+1/2}\\right] $$\n",
    "$$ [\\![ n ]\\!]_{i+1/2} = \\frac{1}{2}\\left[n^R_{i+1/2}-n^L_{i+1/2}\\right] $$\n",
    "\n",
    "The two values $n^R$ and $n^L$ are the right and left values of the advected quantity at the cell edge, given by\n",
    "\n",
    "$$n^L_{i+1/2} = n_i + 0.5\\phi(r_i)(n_{i+1}-n_{i})$$\n",
    "$$n^R_{i+1/2} = n_{i+1} - 0.5\\phi(r_{i+1})(n_{i+2}-n_{i+1})$$\n",
    "where \n",
    "\n",
    "$$r_i = \\frac{n_i-n_{i-1}}{n_{i+1}-n_{i}}$$\n",
    "is the slope ratio and $\\phi$ is the limiter function we wish to use. In this example, we will use the minmod and superbee limiters whose respective functions are:\n",
    "\n",
    "$$ \\phi_m(r) = \\max[0,\\min[0,r]] $$\n",
    "$$ \\phi_s(r) = \\max[0,\\min[2r,1],\\min[r,2]]$$"
   ]
  },
  {
   "cell_type": "markdown",
   "metadata": {},
   "source": [
    "### Adding the slopes and limiters\n",
    "\n",
    "We will use the calculation tree feature in ReMKiT1D, together with several built-in unary transforms to do this.\n",
    "\n",
    "The `slopeRatio` unary transform calculates\n",
    "\n",
    "$$r_i = \\frac{n_i-n_{i-k}}{n_{i+k}-n_{i}}$$\n",
    "where $n_{i\\pm k}$ is calculating by shifting the MPI local array left or right (more on the unary `shift` below). \n",
    "The shift amount k is determined by the first integer parameter passed to the uniform transform. To handle the case when the denominator is small, we introduce two real parameters $a_1$ and $a_2$, so that if the denominator is less than $a_1$\n",
    "\n",
    "$$r_i = 1, n_{i+k}-2n_i + n_{i-k} < a_1$$\n",
    "otherwise \n",
    "$$r_i = a_2  \\text{sgn}(n_i-n_{i-k}) \\text{sgn}(n_i-n_{i-k})$$"
   ]
  },
  {
   "cell_type": "code",
   "execution_count": null,
   "metadata": {},
   "outputs": [],
   "source": [
    "#Here we take consecutive slopes, setting the small a1 to 1e-6 and the large a2 to 1e2\n",
    "slopeRatio = UnaryTransform(\"slopeRatio\",realParams=[1e-6,1e2],intParams=[1])\n",
    "\n",
    "# Now we add the two variables containing the slope ratios \n",
    "\n",
    "rk.addVar(\"slopeRatio_s\",isDerived=True,derivationRule=sc.derivationRule(\"slRatio_s\",[\"n_s\"]),derivOptions=treeDerivation(slopeRatio(Node(\"n_s\"))))\n",
    "\n",
    "rk.addVar(\"slopeRatio_m\",isDerived=True,derivationRule=sc.derivationRule(\"slRatio_m\",[\"n_m\"]),derivOptions=treeDerivation(slopeRatio(Node(\"n_m\"))))"
   ]
  },
  {
   "cell_type": "markdown",
   "metadata": {},
   "source": [
    "The limiters are also unary transform we can easily use to build the limiter variables"
   ]
  },
  {
   "cell_type": "code",
   "execution_count": null,
   "metadata": {},
   "outputs": [],
   "source": [
    "superbee=UnaryTransform(\"superbeeLimiter\")\n",
    "\n",
    "#We fold the 0.5 into the limiter variable \n",
    "rk.addVar(\"densLimiter_s\",isDerived=True,derivationRule=sc.derivationRule(\"densLimiter_s\",[\"slopeRatio_s\"]),derivOptions=treeDerivation(superbee(Node(\"slopeRatio_s\"))/2),isOnDualGrid=True,isCommunicated=True)\n",
    "\n",
    "minmod=UnaryTransform(\"minmodLimiter\")\n",
    "rk.addVar(\"densLimiter_m\",isDerived=True,derivationRule=sc.derivationRule(\"densLimiter_m\",[\"slopeRatio_m\"]),derivOptions=treeDerivation(minmod(Node(\"slopeRatio_m\"))/2),isOnDualGrid=True,isCommunicated=True)\n",
    "\n",
    "# The limiters are communicated because we need the phi(r_i+1) for the left edge densities\n"
   ]
  },
  {
   "cell_type": "markdown",
   "metadata": {},
   "source": [
    "### The shift transform\n",
    "\n",
    "The `shift` unary transform allows us to perform low level array manipulations using calculation trees. Specifically, shift is parameterized by a single integer, so that\n",
    "\n",
    "$$\\left[\\text{shift}_k(n)\\right]_i = n_{i-k}$$\n",
    "with the shift performed cyclically on the local ReMKiT1D arrays (at each processor), including the halo values. Care should be exercised near boundaries, as no transform in ReMKiT1D has any global information.\n",
    "\n",
    "We use the shift transform when we want to perform finite difference operations within calculation trees."
   ]
  },
  {
   "cell_type": "markdown",
   "metadata": {},
   "source": [
    "### The average and jump operators\n",
    "\n",
    "We will use a `customFluid1DStencil` to build the average and jump operators. For this, we will need to write them out explicitly first, resulting in \n",
    "\n",
    "$$ \\langle n \\rangle_{i+1/2} = \\frac{1}{2}\\left[n_{i+1} - 0.5\\phi(r_{i+1})(n_{i+2}-n_{i+1}) + n_i + 0.5\\phi(r_i)(n_{i+1}-n_{i})\\right] $$\n",
    "$$ [\\![ n ]\\!]_{i+1/2} = \\frac{1}{2}\\left[n_{i+1} - 0.5\\phi(r_{i+1})(n_{i+2}-n_{i+1}) - n_i - 0.5\\phi(r_i)(n_{i+1}-n_{i})\\right] $$\n",
    "\n",
    "We notice that both operators can be written in the form \n",
    "\n",
    "$$v_0 n_i + v_1 n_{i+1} + v_2 n_{i+2}$$\n",
    "where the $v$'s are functions only of $\\phi$. We introduce $\\Phi=0.5\\phi$ to simplify notation and to reflect the limiter variable we've added having the $0.5$ factor included.\n",
    "\n",
    "Let's see what $v_1$ is for the jump operator. We collect all terms multiplying $n_{i+1}$ on the RHS, and get \n",
    "\n",
    "$$\\left[v_{jump,1}\\right]_i = 1 - \\Phi_i + \\Phi_{i+1}$$\n",
    "\n",
    "To write the above in calculation tree form, we use the `shift` operator with $k=-1$\n",
    "\n",
    "$$v_{jump,1} = 1 - \\Phi + \\text{shift}_{-1}(\\Phi)$$\n",
    "\n",
    "We can similarly find and write all of the $v$ variables, and we add them below."
   ]
  },
  {
   "cell_type": "code",
   "execution_count": null,
   "metadata": {},
   "outputs": [],
   "source": [
    "# Setting the shift operator for use\n",
    "shift = UnaryTransform(\"shift\",intParams=[-1])\n",
    "\n",
    "# The superbee v's\n",
    "rk.addVar(\"leftVarAvg_s\",isDerived=True,derivationRule=sc.derivationRule(\"left_s\",[\"densLimiter_s\"]),derivOptions=treeDerivation(1-Node(\"densLimiter_s\")))\n",
    "\n",
    "rk.addVar(\"midVarAvg_s\",isDerived=True,derivationRule=sc.derivationRule(\"midAvg_s\",[\"densLimiter_s\"]),derivOptions=treeDerivation(1+Node(\"densLimiter_s\")+shift(Node(\"densLimiter_s\"))))\n",
    "\n",
    "rk.addVar(\"leftVarJmp_s\",isDerived=True,derivationRule=sc.derivationRule(\"leftJmp_s\",[\"densLimiter_s\"]),derivOptions=treeDerivation(-1+Node(\"densLimiter_s\")))\n",
    "\n",
    "rk.addVar(\"rightVarAvg_s\",isDerived=True,derivationRule=sc.derivationRule(\"rightAvg_s\",[\"densLimiter_s\"]),derivOptions=treeDerivation(-shift(Node(\"densLimiter_s\"))))\n",
    "\n",
    "rk.addVar(\"midVarJmp_s\",isDerived=True,derivationRule=sc.derivationRule(\"midJmp_s\",[\"densLimiter_s\"]),derivOptions=treeDerivation(1-Node(\"densLimiter_s\")+shift(Node(\"densLimiter_s\"))))\n",
    "\n",
    "rk.addVar(\"rightVarJmp_s\",isDerived=True,derivationRule=sc.derivationRule(\"rightJmp_s\",[\"densLimiter_s\"]),derivOptions=treeDerivation(-shift(Node(\"densLimiter_s\"))))\n",
    "\n",
    "#The minmod v's\n",
    "rk.addVar(\"leftVarAvg_m\",isDerived=True,derivationRule=sc.derivationRule(\"left_m\",[\"densLimiter_m\"]),derivOptions=treeDerivation(1-Node(\"densLimiter_m\")))\n",
    "\n",
    "rk.addVar(\"midVarAvg_m\",isDerived=True,derivationRule=sc.derivationRule(\"midAvg_m\",[\"densLimiter_m\"]),derivOptions=treeDerivation(1+Node(\"densLimiter_m\")+shift(Node(\"densLimiter_m\"))))\n",
    "\n",
    "rk.addVar(\"leftVarJmp_m\",isDerived=True,derivationRule=sc.derivationRule(\"leftJmp_m\",[\"densLimiter_m\"]),derivOptions=treeDerivation(-1+Node(\"densLimiter_m\")))\n",
    "\n",
    "rk.addVar(\"rightVarAvg_m\",isDerived=True,derivationRule=sc.derivationRule(\"rightAvg_m\",[\"densLimiter_m\"]),derivOptions=treeDerivation(-shift(Node(\"densLimiter_m\"))))\n",
    "\n",
    "rk.addVar(\"midVarJmp_m\",isDerived=True,derivationRule=sc.derivationRule(\"midJmp_m\",[\"densLimiter_m\"]),derivOptions=treeDerivation(1-Node(\"densLimiter_m\")+shift(Node(\"densLimiter_m\"))))\n",
    "\n",
    "rk.addVar(\"rightVarJmp_m\",isDerived=True,derivationRule=sc.derivationRule(\"rightJmp_m\",[\"densLimiter_m\"]),derivOptions=treeDerivation(-shift(Node(\"densLimiter_m\"))))"
   ]
  },
  {
   "cell_type": "markdown",
   "metadata": {},
   "source": [
    "If we think of representing the jump and the average operators as matrix-vector products \n",
    "\n",
    "$$ M_{ij} n_{j}$$\n",
    "we see that the $v$'s above are the columns of the matrix $M$ (up to a factor of $1/2$).\n",
    "\n",
    "We can use the `customFluid1DStencil` below to generate stencil with the appropriate columns"
   ]
  },
  {
   "cell_type": "code",
   "execution_count": null,
   "metadata": {},
   "outputs": [],
   "source": [
    "# The stencil act on $n_i$,$n_{i+1}$, and $n_{i+2}$, so the stencil shorthand is [0,1,2]. We divide each column by 2 using the fixedColumnVecs, and set the variables corresponding to each of the stencil column using varContColumnVars.\n",
    "\n",
    "# Superbee stencils\n",
    "averageStencil_s = sc.customFluid1DStencil([0,1,2],fixedColumnVecs=[0.5*np.ones(512)]*3,varContColumnVars=[\"leftVarAvg_s\",\"midVarAvg_s\",\"rightVarAvg_s\"])\n",
    "\n",
    "jumpStencil_s = sc.customFluid1DStencil([0,1,2],fixedColumnVecs=[0.5*np.ones(512)]*3,varContColumnVars=[\"leftVarJmp_s\",\"midVarJmp_s\",\"rightVarJmp_s\"])\n",
    "\n",
    "#Minmod stencils\n",
    "averageStencil_m = sc.customFluid1DStencil([0,1,2],fixedColumnVecs=[0.5*np.ones(512)]*3,varContColumnVars=[\"leftVarAvg_m\",\"midVarAvg_m\",\"rightVarAvg_m\"])\n",
    "\n",
    "jumpStencil_m = sc.customFluid1DStencil([0,1,2],fixedColumnVecs=[0.5*np.ones(512)]*3,varContColumnVars=[\"leftVarJmp_m\",\"midVarJmp_m\",\"rightVarJmp_m\"])"
   ]
  },
  {
   "cell_type": "markdown",
   "metadata": {},
   "source": [
    "Define the three flux variables, including the two limited fluxes and the one unlimited flux:"
   ]
  },
  {
   "cell_type": "code",
   "execution_count": null,
   "metadata": {},
   "outputs": [],
   "source": [
    "rk.addVar(\"numFlux_s\",isStationary=True,isOnDualGrid=True,isCommunicated=True)\n",
    "rk.addVar(\"numFlux_m\",isStationary=True,isOnDualGrid=True,isCommunicated=True)\n",
    "rk.addVar(\"unlimitedFlux\",isStationary=True,isOnDualGrid=True,isCommunicated=True)"
   ]
  },
  {
   "cell_type": "markdown",
   "metadata": {},
   "source": [
    "And then we can add three models, one for each numerical flux. The models correspond to solving \n",
    "\n",
    "$$ 0 = - F^* + \\langle n \\rangle - [\\![ n ]\\!]$$\n",
    "so they need 3 terms on the RHS."
   ]
  },
  {
   "cell_type": "code",
   "execution_count": null,
   "metadata": {},
   "outputs": [],
   "source": [
    "\n",
    "# Superbee flux\n",
    "newModel = sc.CustomModel(\"numFlux_s\")\n",
    "\n",
    "newModel.addTerm(\"id\",sc.GeneralMatrixTerm(\"numFlux_s\",customNormConst=-1)) # Note that as of v1.2.0 diagonal stencils are the default option, so we do not need to specify it any more\n",
    "\n",
    "newModel.addTerm(\"avg\",sc.GeneralMatrixTerm(\"numFlux_s\",\"n_s\",stencilData=averageStencil_s))\n",
    "\n",
    "newModel.addTerm(\"jmp\",sc.GeneralMatrixTerm(\"numFlux_s\",\"n_s\",customNormConst=-1,stencilData=jumpStencil_s))\n",
    "\n",
    "# Here we use another v1.2.0 feature, which enables marking models as integrable for easier addition to integration steps, as we'll see below\n",
    "rk.addModel(newModel,isIntegrable=False)\n",
    "\n",
    "# Minmod flux\n",
    "newModel = sc.CustomModel(\"numFlux_m\")\n",
    "\n",
    "newModel.addTerm(\"id\",sc.GeneralMatrixTerm(\"numFlux_m\",customNormConst=-1))\n",
    "\n",
    "newModel.addTerm(\"avg\",sc.GeneralMatrixTerm(\"numFlux_m\",\"n_m\",stencilData=averageStencil_m))\n",
    "\n",
    "newModel.addTerm(\"jmp\",sc.GeneralMatrixTerm(\"numFlux_m\",\"n_m\",customNormConst=-1,stencilData=jumpStencil_m))\n",
    "\n",
    "rk.addModel(newModel,isIntegrable=False)\n",
    "\n",
    "# Unlimited flux, given solely by: 0 = -F + <n>\n",
    "newModel = sc.CustomModel(\"unlimitedFluxModel\")\n",
    "\n",
    "newModel.addTerm(\"id\",sc.GeneralMatrixTerm(\"unlimitedFlux\",customNormConst=-1))\n",
    "\n",
    "newModel.addTerm(\"avg\",sc.GeneralMatrixTerm(\"unlimitedFlux\",\"n_u\"))\n",
    "\n",
    "rk.addModel(newModel,isIntegrable=False)"
   ]
  },
  {
   "cell_type": "markdown",
   "metadata": {},
   "source": [
    "Finally, because we've marked the models above as not integrable, we need another way of evaluating the variables. In v1.2.0, we can evaluate models where the \"evolved\" stationary variable is only a function of other variables by adding the following manipulator objects.\n",
    "\n",
    "These will update and evaluate all terms \"evolving\" a given variable and add the result to the variable. In our case this will calculate the numerical fluxes by evaluating the matrix terms.\n",
    "\n",
    "This new feature enables the conversion of purely implicit scripts relying on stationary variables to scripts that can safely use CVODE and RK integrators."
   ]
  },
  {
   "cell_type": "code",
   "execution_count": null,
   "metadata": {},
   "outputs": [],
   "source": [
    "rk.addStationaryEvaluator(\"numFlux_s\")\n",
    "rk.addStationaryEvaluator(\"numFlux_m\")\n",
    "rk.addStationaryEvaluator(\"unlimitedFlux\")"
   ]
  },
  {
   "cell_type": "markdown",
   "metadata": {},
   "source": [
    "It is then a simple matter to use standard staggered advection models with the numerical flux"
   ]
  },
  {
   "cell_type": "code",
   "execution_count": null,
   "metadata": {},
   "outputs": [],
   "source": [
    "rk.addModel(cm.staggeredAdvection(\"nAdvection_s\",\"n_s\",\"numFlux_s\"))\n",
    "rk.addModel(cm.staggeredAdvection(\"nAdvection_m\",\"n_m\",\"numFlux_m\"))\n",
    "rk.addModel(cm.staggeredAdvection(\"nAdvection_u\",\"n_u\",\"unlimitedFlux\"))"
   ]
  },
  {
   "cell_type": "markdown",
   "metadata": {},
   "source": [
    "### Setting up integrators\n",
    "\n",
    "Below we set up integrator options. We add both a CVODE and an RK3 integrator.\n",
    "\n",
    "Try each of these out by setting `usedIntegrator` to either `\"CVODE\"` or `\"RK\"`:"
   ]
  },
  {
   "cell_type": "code",
   "execution_count": null,
   "metadata": {},
   "outputs": [],
   "source": [
    "rk.addIntegrator(\"CVODE\",sc.CVODEIntegrator(absTol=1e-12))\n",
    "rk.addIntegrator(\"RK\",sc.rkIntegrator(3))\n",
    "\n",
    "rk.setIntegratorGlobalData(initialTimestep=0.001) \n",
    "\n",
    "usedIntegrator = \"RK\"\n",
    "integratorStep = sc.IntegrationStep(usedIntegrator)\n",
    "\n",
    "for tag in rk.modelTags(integrableOnly=True):\n",
    "    integratorStep.addModel(tag)\n",
    "\n",
    "rk.addIntegrationStep(\"Step\"+usedIntegrator,integratorStep.dict())\n",
    "\n",
    "rk.setFixedNumTimesteps(10000)\n",
    "rk.setFixedStepOutput(100)\n",
    "rk.setPETScOptions(active=False) #We can turn off PETSc objects in the code if we're not using them (this should save some memory, though it is likely not significant)"
   ]
  },
  {
   "cell_type": "code",
   "execution_count": null,
   "metadata": {},
   "outputs": [],
   "source": [
    "rk.writeConfigFile()"
   ]
  },
  {
   "cell_type": "markdown",
   "metadata": {},
   "source": [
    "## Data analysis"
   ]
  },
  {
   "cell_type": "code",
   "execution_count": null,
   "metadata": {},
   "outputs": [],
   "source": [
    "hv.extension('matplotlib')\n",
    "%matplotlib inline \n",
    "plt.rcParams['figure.dpi'] = 150\n",
    "hv.output(size=150,dpi=150)"
   ]
  },
  {
   "cell_type": "code",
   "execution_count": null,
   "metadata": {},
   "outputs": [],
   "source": [
    "numFiles = 100\n",
    "loadpath = hdf5Filepath\n",
    "loadFilenames = [loadpath+f'ReMKiT1DVarOutput_{i}.h5' for i in range(numFiles+1)]\n",
    "loadedData = io.loadFromHDF5(rk.varCont,filepaths=loadFilenames)\n",
    "loadedData"
   ]
  },
  {
   "cell_type": "markdown",
   "metadata": {},
   "source": [
    "We can compare the dissipative behaviour of each of the three scenarios."
   ]
  },
  {
   "cell_type": "code",
   "execution_count": null,
   "metadata": {},
   "outputs": [],
   "source": [
    "import panel as pn \n",
    "import RMK_support.dashboard_support as ds\n",
    "\n",
    "pn.extension(comms=\"vscode\") # change comms if not using VSCode\n",
    "dashboard = ds.ReMKiT1DDashboard(loadedData,rk.grid)"
   ]
  },
  {
   "cell_type": "markdown",
   "metadata": {},
   "source": [
    "Compare the superbee and minmod flux limiters:"
   ]
  },
  {
   "cell_type": "code",
   "execution_count": null,
   "metadata": {},
   "outputs": [],
   "source": [
    "dashboard.fluidMultiComparison([\"n_s\",\"n_m\"])"
   ]
  },
  {
   "cell_type": "markdown",
   "metadata": {},
   "source": [
    "Compare the unlimited flux scenario `\"n_u\"` with the flux-limited scenarios `\"n_s\"` and `\"n_m\"`:"
   ]
  },
  {
   "cell_type": "code",
   "execution_count": null,
   "metadata": {},
   "outputs": [],
   "source": [
    "dashboard.fluidMultiComparison([\"n_u\",\"n_s\",\"n_m\"])"
   ]
  }
 ],
 "metadata": {
  "kernelspec": {
   "display_name": "Python 3",
   "language": "python",
   "name": "python3"
  },
  "language_info": {
   "codemirror_mode": {
    "name": "ipython",
    "version": 3
   },
   "file_extension": ".py",
   "mimetype": "text/x-python",
   "name": "python",
   "nbconvert_exporter": "python",
   "pygments_lexer": "ipython3",
   "version": "3.8.10"
  }
 },
 "nbformat": 4,
 "nbformat_minor": 2
}
