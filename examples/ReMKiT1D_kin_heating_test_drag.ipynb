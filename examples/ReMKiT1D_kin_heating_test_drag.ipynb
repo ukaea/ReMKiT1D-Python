{
 "cells": [
  {
   "attachments": {},
   "cell_type": "markdown",
   "metadata": {},
   "source": [
    "## ReMKiT1D input generator - testing kinetic drag heating operator\n",
    "\n",
    "This notebook tests whether the implemented common_models.py drag heating operator for the $f_0$ harmonic performs as expected.\n"
   ]
  },
  {
   "cell_type": "code",
   "execution_count": null,
   "metadata": {},
   "outputs": [],
   "source": [
    "import numpy as np\n",
    "import xarray as xr\n",
    "import holoviews as hv\n",
    "import matplotlib.pyplot as plt\n",
    "import matplotlib as mpl\n",
    "from holoviews import opts\n",
    "import panel as pn\n",
    "\n",
    "import sys\n",
    "sys.path.append('../')\n",
    "from RMK_support import RKWrapper ,Grid\n",
    "import RMK_support.simple_containers as sc\n",
    "import RMK_support.IO_support as io\n",
    "import RMK_support.common_models as cm\n",
    "import RMK_support.sk_normalization as skn\n"
   ]
  },
  {
   "attachments": {},
   "cell_type": "markdown",
   "metadata": {},
   "source": [
    "### Wrapper initialization"
   ]
  },
  {
   "cell_type": "code",
   "execution_count": null,
   "metadata": {},
   "outputs": [],
   "source": [
    "rk = RKWrapper()"
   ]
  },
  {
   "attachments": {},
   "cell_type": "markdown",
   "metadata": {},
   "source": [
    "### Global parameters for IO files"
   ]
  },
  {
   "cell_type": "code",
   "execution_count": null,
   "metadata": {},
   "outputs": [],
   "source": [
    "rk.jsonFilepath = \"./config.json\" # Default value\n",
    "hdf5Filepath = \"./RMKOutput/RMK_kin_heating_test/\" \n",
    "rk.setHDF5Path(hdf5Filepath)"
   ]
  },
  {
   "attachments": {},
   "cell_type": "markdown",
   "metadata": {},
   "source": [
    "### Setting options for external libraries used by ReMKiT1D"
   ]
  },
  {
   "attachments": {},
   "cell_type": "markdown",
   "metadata": {},
   "source": [
    "#### MPI\n"
   ]
  },
  {
   "cell_type": "code",
   "execution_count": null,
   "metadata": {},
   "outputs": [],
   "source": [
    "numProcsX = 4 # Number of processes in x direction\n",
    "numProcsH = 1 # Number of processes in harmonic \n",
    "numProcs = numProcsX * numProcsH\n",
    "haloWidth = 1 # Halo width in cells\n",
    "\n",
    "rk.setMPIData(numProcsX,numProcsH,haloWidth)"
   ]
  },
  {
   "attachments": {},
   "cell_type": "markdown",
   "metadata": {},
   "source": [
    "### Normalization setup"
   ]
  },
  {
   "cell_type": "code",
   "execution_count": null,
   "metadata": {},
   "outputs": [],
   "source": [
    "rk.setNormDensity(1.0e19)\n",
    "rk.setNormTemperature(10.0)\n",
    "rk.setNormRefZ(1.0)\n",
    "\n",
    "timeNorm = skn.collTimeei(rk.normalization[\"eVTemperature\"],rk.normalization[\"density\"],rk.normalization[\"referenceIonZ\"])"
   ]
  },
  {
   "attachments": {},
   "cell_type": "markdown",
   "metadata": {},
   "source": [
    "### Grid setup"
   ]
  },
  {
   "cell_type": "code",
   "execution_count": null,
   "metadata": {},
   "outputs": [],
   "source": [
    "xGrid = 0.1*np.ones(128) \n",
    "dv0 = 0.01\n",
    "cv = 1.025\n",
    "vGrid = [dv0]\n",
    "for i in range(1,120):\n",
    "    vGrid.append(vGrid[i-1]*cv)\n",
    "lMax = 0\n",
    "gridObj = Grid(xGrid,np.array(vGrid),lMax,interpretXGridAsWidths=True,interpretVGridAsWidths=True,isPeriodic=True)\n",
    "L = sum(xGrid)\n"
   ]
  },
  {
   "cell_type": "code",
   "execution_count": null,
   "metadata": {},
   "outputs": [],
   "source": [
    "# Add the grid to the wrapper\n",
    "rk.grid = gridObj"
   ]
  },
  {
   "attachments": {},
   "cell_type": "markdown",
   "metadata": {},
   "source": [
    "### Set default species"
   ]
  },
  {
   "cell_type": "code",
   "execution_count": null,
   "metadata": {},
   "outputs": [],
   "source": [
    "rk.addSpecies(\"e\",0)\n",
    "rk.addSpecies(\"D+\",-1,atomicA=2.014,charge=1.0)\n",
    "rk.setStandardTextbookOptions([0]) \n"
   ]
  },
  {
   "attachments": {},
   "cell_type": "markdown",
   "metadata": {},
   "source": [
    "### Variables"
   ]
  },
  {
   "cell_type": "code",
   "execution_count": null,
   "metadata": {},
   "outputs": [],
   "source": [
    "n = 1.0*np.ones(gridObj.numX())# + 0.001*np.sin(2*np.pi*gridObj.xGrid/L)\n",
    "T = 1\n",
    "f = np.zeros([gridObj.numX(),gridObj.numH(),gridObj.numV()])\n",
    "for i in range(gridObj.numX()):\n",
    "    f[i,gridObj.getH(0)-1,:] = (T*np.pi)**(-1.5) * n[i] * np.exp(-gridObj.vGrid**2/T)\n",
    "\n",
    "# Rescale distribution function to ensure that the numerical density moment agrees with the initial values\n",
    "numerical_dens = gridObj.velocityMoment(f,0,1)\n",
    "for i in range(gridObj.numX()):\n",
    "    f[i,gridObj.getH(0)-1,:] = n[i] *f[i,gridObj.getH(0)-1,:]/numerical_dens[i]\n",
    "    \n",
    "rk.addVar(\"f\",f,isDistribution=True,isCommunicated=True)\n",
    "rk.addVar(\"n\",n,isDerived=True,units='$10^{19} m^{-3}$',derivationRule=sc.derivationRule(\"densityMoment\",[\"f\"]))\n",
    "rk.addVar(\"W\",isDerived=True,derivationRule=sc.derivationRule(\"energyMoment\",[\"f\"]))\n",
    "rk.addVar(\"zeroVar\",isDerived=True,outputVar=False)\n",
    "rk.addVar(\"T\",isDerived=True,derivationRule=sc.derivationRule(\"tempFromEnergye\",[\"W\",\"n\",\"zeroVar\"]))\n",
    "rk.addVar(\"time\",isScalar=True,isDerived=True)\n",
    "\n",
    "rk.addCustomDerivation(\"momDeriv1\",sc.momentDerivation(1,1))\n",
    "rk.addVar(\"mom1f0\",n,isDerived=True,derivationRule=sc.derivationRule(\"momDeriv1\",[\"f\"]))"
   ]
  },
  {
   "attachments": {},
   "cell_type": "markdown",
   "metadata": {},
   "source": [
    "### Adding the heating"
   ]
  },
  {
   "cell_type": "code",
   "execution_count": null,
   "metadata": {},
   "outputs": [],
   "source": [
    "energyInjectionRate = 0.02\n",
    "heatTerm = cm.dvEnergyTerm(\"f\",sc.VarData([\"n\",\"mom1f0\"],[1.0,-1.0]),rk,-energyInjectionRate,k=1)\n",
    "heatModel = sc.CustomModel(\"heating\")\n",
    "heatModel.addTerm(\"dragHeating\",heatTerm)\n",
    "rk.addModel(heatModel.dict())"
   ]
  },
  {
   "attachments": {},
   "cell_type": "markdown",
   "metadata": {},
   "source": [
    "### Integrator and timestep options\n",
    "\n",
    "Simple single step backwards Euler integration"
   ]
  },
  {
   "cell_type": "code",
   "execution_count": null,
   "metadata": {},
   "outputs": [],
   "source": [
    "integrator = sc.picardBDEIntegrator(absTol=10.0) #Everything default except for more lenient absolute convergence tolerance\n",
    "\n",
    "rk.addIntegrator(\"BE\",integrator)"
   ]
  },
  {
   "attachments": {},
   "cell_type": "markdown",
   "metadata": {},
   "source": [
    "Set initial timestep length and numbers of allowed implicit and general groups"
   ]
  },
  {
   "cell_type": "code",
   "execution_count": null,
   "metadata": {},
   "outputs": [],
   "source": [
    "initialTimestep =  0.1\n",
    "\n",
    "rk.setIntegratorGlobalData(1,1,initialTimestep) "
   ]
  },
  {
   "cell_type": "code",
   "execution_count": null,
   "metadata": {},
   "outputs": [],
   "source": [
    "bdeStep = sc.IntegrationStep(\"BE\")\n",
    "\n",
    "for tag in rk.modelTags():\n",
    "    bdeStep.addModel(tag)\n",
    "\n",
    "rk.addIntegrationStep(\"BE1\",bdeStep.dict())"
   ]
  },
  {
   "attachments": {},
   "cell_type": "markdown",
   "metadata": {},
   "source": [
    "#### Timeloop options"
   ]
  },
  {
   "cell_type": "code",
   "execution_count": null,
   "metadata": {},
   "outputs": [],
   "source": [
    "rk.setFixedNumTimesteps(100)\n",
    "rk.setFixedStepOutput(10)"
   ]
  },
  {
   "attachments": {},
   "cell_type": "markdown",
   "metadata": {},
   "source": [
    "### Create config file"
   ]
  },
  {
   "cell_type": "code",
   "execution_count": null,
   "metadata": {},
   "outputs": [],
   "source": [
    "rk.writeConfigFile()"
   ]
  },
  {
   "attachments": {},
   "cell_type": "markdown",
   "metadata": {},
   "source": [
    "### Data analysis\n"
   ]
  },
  {
   "cell_type": "code",
   "execution_count": null,
   "metadata": {},
   "outputs": [],
   "source": [
    "numFiles = 10"
   ]
  },
  {
   "attachments": {},
   "cell_type": "markdown",
   "metadata": {},
   "source": [
    "#### Loading data\n",
    "\n",
    "Set loadpath to ReMKiT1D directory"
   ]
  },
  {
   "cell_type": "code",
   "execution_count": null,
   "metadata": {},
   "outputs": [],
   "source": [
    "loadpath = hdf5Filepath\n",
    "loadFilenames = [loadpath+f'ReMKiT1DVarOutput_{i}.h5' for i in range(numFiles+1)]"
   ]
  },
  {
   "cell_type": "code",
   "execution_count": null,
   "metadata": {},
   "outputs": [],
   "source": [
    "loadedData = io.loadFromHDF5(rk.varCont,filepaths=loadFilenames,varsToIgnore=\"zeroVar\")\n",
    "loadedData"
   ]
  },
  {
   "cell_type": "code",
   "execution_count": null,
   "metadata": {},
   "outputs": [],
   "source": [
    "hv.extension('matplotlib')\n",
    "%matplotlib inline \n",
    "plt.rcParams['figure.dpi'] = 150\n",
    "hv.output(size=80,dpi=150)"
   ]
  },
  {
   "attachments": {},
   "cell_type": "markdown",
   "metadata": {},
   "source": [
    "### Test distribution function distortion due to heating operator"
   ]
  },
  {
   "cell_type": "code",
   "execution_count": null,
   "metadata": {},
   "outputs": [],
   "source": [
    "dataName = 'f'\n",
    "xInd = 60 \n",
    "\n",
    "times = loadedData.coords['time'].data\n",
    "f0_analytic=np.zeros((numFiles+1,gridObj.numV()))\n",
    "temps = loadedData[\"T\"].data\n",
    "dens = loadedData[\"n\"].data\n",
    "for i in range(numFiles+1):\n",
    "        f0_analytic[i,:] = (temps[i,xInd]*np.pi)**(-1.5) * dens[i,xInd] * np.exp(-gridObj.vGrid**2/temps[i,xInd])\n",
    "        \n",
    "curveDict = {t: hv.Curve([(v**2,loadedData[dataName].data[t,xInd,0,i]) for i,v in enumerate(loadedData.coords[\"v\"].data)]).opts(logy=True,ylim=(1e-20,1e0),xlim=(0,60))*\n",
    "              hv.Curve([(v**2,f0_analytic[t,i]) for i,v in enumerate(loadedData.coords[\"v\"].data)]).opts(logy=True,ylim=(1e-20,1e0),xlim=(0,60))for t in range(numFiles+1)}\n",
    "kdims = [hv.Dimension(('time', 'Time'),unit=loadedData.coords[\"time\"].attrs[\"units\"], default=0)]\n",
    "hv.HoloMap(curveDict,kdims=kdims).opts()"
   ]
  },
  {
   "attachments": {},
   "cell_type": "markdown",
   "metadata": {},
   "source": [
    "### Check spatial profile"
   ]
  },
  {
   "cell_type": "code",
   "execution_count": null,
   "metadata": {},
   "outputs": [],
   "source": [
    "curveDict = {t: hv.Curve(loadedData[\"W\"][{\"time\":t}]) for t in range(numFiles+1)}\n",
    "kdims = [hv.Dimension(('time', 'Time'),unit=loadedData.coords[\"time\"].attrs[\"units\"], default=0)]\n",
    "hv.HoloMap(curveDict,kdims=kdims).opts()"
   ]
  },
  {
   "attachments": {},
   "cell_type": "markdown",
   "metadata": {},
   "source": [
    "### Check heating amount \n",
    "\n",
    "The error is likely mostly due to velocity space integration"
   ]
  },
  {
   "cell_type": "code",
   "execution_count": null,
   "metadata": {},
   "outputs": [],
   "source": [
    "heatingError = (loadedData[\"W\"].data[1,63]-loadedData[\"W\"].data[0,63] - 0.02)/0.02\n",
    "heatingError\n",
    "\n"
   ]
  },
  {
   "attachments": {},
   "cell_type": "markdown",
   "metadata": {},
   "source": []
  }
 ],
 "metadata": {
  "kernelspec": {
   "display_name": "Python 3.9.5 64-bit",
   "language": "python",
   "name": "python3"
  },
  "language_info": {
   "codemirror_mode": {
    "name": "ipython",
    "version": 3
   },
   "file_extension": ".py",
   "mimetype": "text/x-python",
   "name": "python",
   "nbconvert_exporter": "python",
   "pygments_lexer": "ipython3",
   "version": "3.8.10"
  },
  "orig_nbformat": 4,
  "vscode": {
   "interpreter": {
    "hash": "31f2aee4e71d21fbe5cf8b01ff0e069b9275f58929596ceb00d14d90e3e16cd6"
   }
  }
 },
 "nbformat": 4,
 "nbformat_minor": 2
}
