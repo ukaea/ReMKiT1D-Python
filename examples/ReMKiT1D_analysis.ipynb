{
 "cells": [
  {
   "attachments": {},
   "cell_type": "markdown",
   "metadata": {},
   "source": [
    "## ReMKiT1D Analysis \n",
    "\n",
    "This notebook provides examples of most often used ReMKiT1D data analysis/plotting scripts"
   ]
  },
  {
   "cell_type": "code",
   "execution_count": null,
   "metadata": {},
   "outputs": [],
   "source": [
    "import numpy as np\n",
    "import xarray as xr\n",
    "import holoviews as hv\n",
    "import matplotlib.pyplot as plt\n",
    "import matplotlib as mpl\n",
    "from holoviews import opts\n",
    "import panel as pn \n",
    "import sys\n",
    "sys.path.append('../')\n",
    "from RMK_support import Grid,VariableContainer\n",
    "import RMK_support.IO_support as io\n",
    "import RMK_support.dashboard_support as ds"
   ]
  },
  {
   "attachments": {},
   "cell_type": "markdown",
   "metadata": {},
   "source": [
    "### Set global plotting options"
   ]
  },
  {
   "cell_type": "code",
   "execution_count": null,
   "metadata": {},
   "outputs": [],
   "source": [
    "hv.extension('matplotlib')\n",
    "%matplotlib inline \n",
    "plt.rcParams['figure.dpi'] = 150\n",
    "hv.output(size=100,dpi=150)"
   ]
  },
  {
   "attachments": {},
   "cell_type": "markdown",
   "metadata": {},
   "source": [
    "### HDF5 Path"
   ]
  },
  {
   "cell_type": "code",
   "execution_count": null,
   "metadata": {},
   "outputs": [],
   "source": [
    "hdf5Filepath = \"./\" #Default value"
   ]
  },
  {
   "attachments": {},
   "cell_type": "markdown",
   "metadata": {},
   "source": [
    "### Grid data\n",
    "\n",
    "Currently best to copy this from your initialization script (also see pkl_analysis for when the original pickled RKWrapper object is available)"
   ]
  },
  {
   "cell_type": "code",
   "execution_count": null,
   "metadata": {},
   "outputs": [],
   "source": [
    "xGrid = np.linspace(0.5,15,128) \n",
    "vGrid = np.logspace(-2,0,80) \n",
    "lMax = 3\n",
    "gridObj = Grid(xGrid,vGrid,lMax,interpretVGridAsWidths=True,isLengthInMeters=True)\n",
    "gridObj.xJacobian = np.ones(129) "
   ]
  },
  {
   "attachments": {},
   "cell_type": "markdown",
   "metadata": {},
   "source": [
    "### Example data\n",
    "\n",
    "Create some example data for plotting"
   ]
  },
  {
   "cell_type": "code",
   "execution_count": null,
   "metadata": {},
   "outputs": [],
   "source": [
    "n = np.ones(gridObj.numX())\n",
    "T = np.linspace(10.0,5.0,gridObj.numX())\n",
    "f = np.zeros([gridObj.numX(),gridObj.numH(),gridObj.numV()])\n",
    "# Set harmonic with l = 0 to a maxwellian using standard normalizaion (see above)\n",
    "for i in range(gridObj.numX()):\n",
    "    f[i,gridObj.getH(0)-1,:] = np.pi**(-1.5) * n[i] * np.exp(-gridObj.vGrid**2/T[i])\n",
    "\n",
    "vc = VariableContainer(gridObj)\n",
    "\n",
    "vc.setVariable(\"n\",n)\n",
    "vc.setVariable(\"T\",T,units=\"eV\")\n",
    "vc.setVariable(\"f\",f,isDistribution=True)\n",
    "vc.setVariable(\"time\",isScalar=True) \n",
    "\n",
    "exampleFilenames = [hdf5Filepath+f'Example{i}.h5' for i in range(6)]\n",
    "\n",
    "for i in range(6):\n",
    "    buffer = (i+1)*np.ones(gridObj.numX())\n",
    "    vc.dataset[\"n\"][:] = buffer\n",
    "    buffer = vc.dataset[\"T\"].copy()\n",
    "    buffer.data =  np.linspace(10.0 - i,5.0+i,gridObj.numX())\n",
    "    vc.dataset[\"T\"][:] = buffer\n",
    "    buffer = (i+1)*np.ones(1)*0.1\n",
    "    vc.dataset[\"time\"][:] = buffer\n",
    "\n",
    "    io.writeRMKHDF5(vc,filepath=exampleFilenames[i]) \n"
   ]
  },
  {
   "attachments": {},
   "cell_type": "markdown",
   "metadata": {},
   "source": [
    "### Prepare variable container for loading data"
   ]
  },
  {
   "cell_type": "code",
   "execution_count": null,
   "metadata": {},
   "outputs": [],
   "source": [
    "vcLoad = VariableContainer(gridObj)\n",
    "vcLoad.setVariable(\"n\",units='$10^{19} m^{-3}$')\n",
    "vcLoad.setVariable(\"T\",units=\"eV\")\n",
    "vcLoad.setVariable(\"f\",isDistribution=True)\n",
    "vcLoad.setVariable(\"time\",isScalar=True) "
   ]
  },
  {
   "attachments": {},
   "cell_type": "markdown",
   "metadata": {},
   "source": [
    "### Load data from example files"
   ]
  },
  {
   "cell_type": "code",
   "execution_count": null,
   "metadata": {},
   "outputs": [],
   "source": [
    "loadedData = io.loadFromHDF5(vcLoad,filepaths=exampleFilenames)\n",
    "loadedData"
   ]
  },
  {
   "attachments": {},
   "cell_type": "markdown",
   "metadata": {},
   "source": [
    "### Set some names and units for the coordinates"
   ]
  },
  {
   "cell_type": "code",
   "execution_count": null,
   "metadata": {},
   "outputs": [],
   "source": [
    "loadedData.coords['x'].attrs['units'] = \"m\"\n",
    "loadedData.coords['v'].attrs['units'] = \"$v_{th}$\"\n",
    "loadedData.coords['time'].attrs['standard_name'] = 't'\n",
    "loadedData.coords['time'].attrs['units'] = \"s\"\n"
   ]
  },
  {
   "attachments": {},
   "cell_type": "markdown",
   "metadata": {},
   "source": [
    "### Quick plotting using inbuilt xarray matplotlib support\n",
    "\n",
    "See [xarray plotting guide](https://xarray.pydata.org/en/stable/user-guide/plotting.html#)"
   ]
  },
  {
   "cell_type": "code",
   "execution_count": null,
   "metadata": {},
   "outputs": [],
   "source": [
    "plot = loadedData['T'][{\"time\":0}].plot()\n",
    "plt.title('Temperature')"
   ]
  },
  {
   "cell_type": "code",
   "execution_count": null,
   "metadata": {},
   "outputs": [],
   "source": [
    "plot = loadedData['T'][{\"x\":100}].plot()\n",
    "plt.title('Temperature at x=0')"
   ]
  },
  {
   "cell_type": "code",
   "execution_count": null,
   "metadata": {},
   "outputs": [],
   "source": [
    "plot = loadedData['f'][{\"x\":0,\"h\":0,\"time\":0}].plot(yscale='log')\n",
    "plt.title('$f_0$ at x = 0')\n",
    "plt.ylabel(\"\")\n",
    "plt.xlabel(\"E (eV)\")\n",
    "plt.xscale('function', functions=(lambda x : x**2,lambda x : x**(1/2)))\n",
    "xticks = np.linspace(min(loadedData['v'].data**2),max(loadedData['v'].data**2),10)\n",
    "plt.xticks(xticks**(1/2),map(str,np.around(xticks,1)))\n",
    "plt.show()"
   ]
  },
  {
   "attachments": {},
   "cell_type": "markdown",
   "metadata": {},
   "source": [
    "### Explore single fluid variable at different points in time using HoloMap\n",
    "\n",
    "See [HoloViews](https://holoviews.org/index.html)"
   ]
  },
  {
   "cell_type": "code",
   "execution_count": null,
   "metadata": {},
   "outputs": [],
   "source": [
    "dataName = 'T'\n",
    "\n",
    "curveDict = {t: hv.Curve(loadedData[dataName][{\"time\":t}]) for t in range(6)}\n",
    "kdims = [hv.Dimension(('time', 'Time'),unit=loadedData.coords[\"time\"].attrs[\"units\"], default=0)]\n",
    "hv.HoloMap(curveDict,kdims=kdims)"
   ]
  },
  {
   "attachments": {},
   "cell_type": "markdown",
   "metadata": {},
   "source": [
    "### Compare data using HoloViews overlay and layout features"
   ]
  },
  {
   "cell_type": "code",
   "execution_count": null,
   "metadata": {},
   "outputs": [],
   "source": [
    "# hook used for matplotlib axes formatting, move this into separate module\n",
    "def format_axes(plot, element):\n",
    "    ax = plot.handles['axis']\n",
    "    ax.get_xaxis().set_major_locator(mpl.ticker.AutoLocator())\n",
    "    ax.get_xaxis().set_minor_locator(mpl.ticker.AutoMinorLocator())\n",
    "    ax.get_yaxis().set_major_locator(mpl.ticker.MaxNLocator(integer=True))\n",
    "    ax.get_yaxis().set_minor_locator(mpl.ticker.AutoMinorLocator())\n",
    "\n",
    "dataName1 = 'T'\n",
    "dataName2 = 'n'\n",
    "plotName1 = 'Temperature'\n",
    "plotName2 = 'Density'\n",
    "\n",
    "# Fontsize dictionary useful to keep around\n",
    "fontsize={\n",
    "    'title': 15, \n",
    "    'labels': 14, \n",
    "    'xticks': 10, \n",
    "    'yticks': 10,\n",
    "}\n",
    "\n",
    "timesToCompare = [0,2,3]\n",
    "\n",
    "curves1 = [hv.Curve(loadedData[dataName1][{\"time\":t}]) for t in timesToCompare]\n",
    "overlay1 = hv.Overlay(curves1)\n",
    "curves2 = [hv.Curve(loadedData[dataName2][{\"time\":t}],label=f't = {loadedData.coords[\"time\"].data[t]:.2f} '+str(loadedData.coords[\"time\"].attrs[\"units\"])) for t in timesToCompare]\n",
    "overlay2 = hv.Overlay(curves2).opts(legend_position='right')\n",
    "\n",
    "layout = overlay1.relabel(plotName1) + overlay2.relabel(plotName2)\n",
    "\n",
    "layout.opts(opts.Curve(linewidth=2.0,color=hv.Palette('copper'),fontsize=fontsize,hooks=[format_axes]))\n",
    "layout.opts(sublabel_format=\"{alpha}\",sublabel_size=15)\n",
    "\n"
   ]
  },
  {
   "attachments": {},
   "cell_type": "markdown",
   "metadata": {},
   "source": [
    "### Explore multiple variables interactively using basic dashboard"
   ]
  },
  {
   "cell_type": "code",
   "execution_count": null,
   "metadata": {},
   "outputs": [],
   "source": [
    "pn.extension(comms=\"vscode\") # change comms if not using VSCode\n",
    "dashboard = ds.ReMKiT1DDashboard(loadedData,gridObj)\n",
    "\n",
    "dashboard.fluid2Comparison()\n"
   ]
  },
  {
   "cell_type": "code",
   "execution_count": null,
   "metadata": {},
   "outputs": [],
   "source": []
  }
 ],
 "metadata": {
  "interpreter": {
   "hash": "31f2aee4e71d21fbe5cf8b01ff0e069b9275f58929596ceb00d14d90e3e16cd6"
  },
  "kernelspec": {
   "display_name": "Python 3.9.5 64-bit",
   "language": "python",
   "name": "python3"
  },
  "language_info": {
   "codemirror_mode": {
    "name": "ipython",
    "version": 3
   },
   "file_extension": ".py",
   "mimetype": "text/x-python",
   "name": "python",
   "nbconvert_exporter": "python",
   "pygments_lexer": "ipython3",
   "version": "3.8.10"
  },
  "orig_nbformat": 4
 },
 "nbformat": 4,
 "nbformat_minor": 2
}
