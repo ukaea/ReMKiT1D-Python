{
 "cells": [
  {
   "attachments": {},
   "cell_type": "markdown",
   "metadata": {},
   "source": [
    "## ReMKiT1D input generator - 0D hydrogen CRM using CRM modelbound data and term generator functionality\n",
    "\n",
    "A feature that adds flexibility and convenience to ReMKiT1D is associating term generators with custom models in addition to specifying user-generated terms. This notebook shows how to use the CRM modelbound data class in ReMKiT1D together with the CRM density evolution term generator to build a hydrogen CRM with inbuilt data. \n",
    "\n",
    "Initial data are designed to reproduce Figure 8 in Colonna et al. (Spectrochimica Acta Part B 56 2001 587᎐598) or to show convergence to Saha-Boltzmann for opaque plasmas.\n",
    "\n",
    "This notebook corresponds to the two fluid test performed in Section 5.3. in the ReMKiT1D code paper."
   ]
  },
  {
   "cell_type": "code",
   "execution_count": null,
   "metadata": {},
   "outputs": [],
   "source": [
    "import numpy as np\n",
    "import xarray as xr\n",
    "import holoviews as hv\n",
    "import matplotlib.pyplot as plt\n",
    "import matplotlib as mpl\n",
    "from holoviews import opts\n",
    "import panel as pn\n",
    "\n",
    "import sys\n",
    "sys.path.append('../')\n",
    "from RMK_support import RKWrapper ,Grid\n",
    "import RMK_support.simple_containers as sc\n",
    "import RMK_support.IO_support as io\n",
    "import RMK_support.dashboard_support as ds\n",
    "import RMK_support.common_models as cm\n",
    "import RMK_support.sk_normalization as skn\n",
    "import RMK_support.crm_support as crm # This is the main python module for crm construction\n"
   ]
  },
  {
   "attachments": {},
   "cell_type": "markdown",
   "metadata": {},
   "source": [
    "### Some useful constants"
   ]
  },
  {
   "cell_type": "code",
   "execution_count": null,
   "metadata": {},
   "outputs": [],
   "source": [
    "heavySpeciesMass = 2.014 #in amus\n",
    "hPlanck = 6.62607004e-34\n",
    "elMass =  9.10938e-31\n",
    "elCharge = 1.60218e-19\n"
   ]
  },
  {
   "attachments": {},
   "cell_type": "markdown",
   "metadata": {},
   "source": [
    "### Wrapper initialization"
   ]
  },
  {
   "cell_type": "code",
   "execution_count": null,
   "metadata": {},
   "outputs": [],
   "source": [
    "rk = RKWrapper()"
   ]
  },
  {
   "attachments": {},
   "cell_type": "markdown",
   "metadata": {},
   "source": [
    "### Filepaths"
   ]
  },
  {
   "cell_type": "code",
   "execution_count": null,
   "metadata": {},
   "outputs": [],
   "source": [
    "rk.jsonFilepath = \"./config.json\" # Default value\n",
    "hdf5Filepath = \"./RMKOutput/RMK_CRM_example/\"\n",
    "rk.setHDF5Path(hdf5Filepath) "
   ]
  },
  {
   "attachments": {},
   "cell_type": "markdown",
   "metadata": {},
   "source": [
    "### Normalization setup"
   ]
  },
  {
   "cell_type": "code",
   "execution_count": null,
   "metadata": {},
   "outputs": [],
   "source": [
    "rk.setNormDensity(1.0e19)\n",
    "rk.setNormTemperature(10.0)\n",
    "rk.setNormRefZ(1.0)\n",
    "\n",
    "tempNorm = rk.normalization[\"eVTemperature\"] \n",
    "densNorm = rk.normalization[\"density\"]\n",
    "timeNorm = skn.collTimeei(tempNorm,densNorm,rk.normalization[\"referenceIonZ\"])\n"
   ]
  },
  {
   "attachments": {},
   "cell_type": "markdown",
   "metadata": {},
   "source": [
    "### Grid setup"
   ]
  },
  {
   "cell_type": "code",
   "execution_count": null,
   "metadata": {},
   "outputs": [],
   "source": [
    "xGrid = np.ones(1) # 0D\n",
    "# Need a non-trivial velocity grid for <sigma v> integrals\n",
    "vGrid = np.logspace(-2,0,80) #In normalized velocity - default normalization is thermal velocity sqrt(m_e * k * T_e/2)\n",
    "\n",
    "lMax = 0 \n",
    "gridObj = Grid(xGrid,vGrid,lMax,interpretXGridAsWidths=True ,interpretVGridAsWidths=True)"
   ]
  },
  {
   "cell_type": "code",
   "execution_count": null,
   "metadata": {},
   "outputs": [],
   "source": [
    "# Add the grid to the wrapper\n",
    "rk.grid=gridObj"
   ]
  },
  {
   "attachments": {},
   "cell_type": "markdown",
   "metadata": {},
   "source": [
    "### Species initialization \n",
    "\n",
    "NOTE: The CRM density evolution generator assumes that all species it evolves have a density as their first associated variable and that it is an implicit and fluid variable. Also, the prebuilt Janev data requires that neutral IDs correspond to principle quantum numbers of excited states."
   ]
  },
  {
   "cell_type": "code",
   "execution_count": null,
   "metadata": {},
   "outputs": [],
   "source": [
    "electronSpecies = sc.Species(\"e\",0,associatedVars=[\"ne\"]) \n",
    "ionSpecies = sc.Species(\"D+\",-1,atomicA=heavySpeciesMass,charge=1.0,associatedVars=[\"ni\"])\n",
    "\n",
    "rk.addSpecies(\"e\",0,associatedVars=[\"ne\"])\n",
    "rk.addSpecies(\"D+\",-1,atomicA=heavySpeciesMass,charge=1.0,associatedVars=[\"ni\"])\n",
    "\n",
    "numNeutrals=25\n",
    "neutralDensList = [\"n\"+str(i) for i in range(1,numNeutrals+1)] # List of neutral density names\n",
    "\n",
    "for neutral in neutralDensList:\n",
    "    rk.addSpecies(\"D\"+neutral[1:],int(neutral[1:]),heavySpeciesMass,associatedVars=[neutral])"
   ]
  },
  {
   "attachments": {},
   "cell_type": "markdown",
   "metadata": {},
   "source": [
    "### Variable initialization"
   ]
  },
  {
   "cell_type": "code",
   "execution_count": null,
   "metadata": {},
   "outputs": [],
   "source": [
    "T0 = 1.72 # Temperature in eV approx 20000K corresponding to case 1 in Colonna et al.\n",
    "T = T0*np.ones(gridObj.numX())/tempNorm\n",
    "\n",
    "rk.addVar(\"T\",T,units='$10eV$',isDerived=True,outputVar=True)\n",
    "rk.addVar(\"time\",isScalar=True,isDerived=True,outputVar=True)\n",
    "\n",
    "# 10% ionization fixed initial densities with no excited states\n",
    "ne = 0.9\n",
    "n1 = 0.1\n",
    "\n",
    "ntot = ne + n1 #total density in case we want to calculate Saha-Boltzmann distribution\n",
    "\n",
    "reprColonna = True # Set to true to approximately reproduce 10^-8 line in figure 8 of Colonna et al. If false will run to equilibrium at lower density\n",
    "fixedID0 =  None # No fixed initial ionization degree\n",
    "if reprColonna:\n",
    "    ntot = 733893.9 # Density corresponding to approximately 1atm of pressure at 1000K\n",
    "    fixedID0 = 1e-3\n",
    "\n",
    "\n",
    "stateTempInit = T0/2 # (Saha-)Boltzmann temperature corresponding to case 1 in Colonna et al.\n",
    "neutDensSBInit = [dens/densNorm for dens in crm.hydrogenSahaBoltzmann(numNeutrals,stateTempInit,ntot*densNorm,fixedIonizationDegree=fixedID0)]\n",
    "\n",
    "initialSahaBoltzmann = True # Set to true for initial (Saha-)Boltzmann condition\n",
    "if initialSahaBoltzmann: \n",
    "    n = neutDensSBInit[0]*np.ones(gridObj.numX())  \n",
    "else:\n",
    "    n = ne*np.ones(gridObj.numX())\n",
    "\n",
    "# We need a distribution function to calculate rates from cross-sections built into the code\n",
    "f = np.zeros([gridObj.numX(),gridObj.numH(),gridObj.numV()])\n",
    "for i in range(gridObj.numX()):\n",
    "    f[i,gridObj.getH(0)-1,:] = (T[i]*np.pi)**(-1.5) * n[i] * np.exp(-gridObj.vGrid**2/T[i])\n",
    "if reprColonna:\n",
    "    rk.addVar(\"f\",f,isDerived=True,isDistribution=True,outputVar=True)\n",
    "    \n",
    "else:\n",
    "    rk.addVar(\"f\",f,isDerived=True,isDistribution=True,derivationRule=sc.derivationRule(\"maxwellianDistribution\",[\"T\",\"ne\"]),outputVar=True)\n",
    "    \n",
    "rk.addVar(\"ne\",n,units='$10^{19} m^{-3}$',outputVar=True)\n",
    "rk.addVar(\"ni\",n,units='$10^{19} m^{-3}$',outputVar=True)\n",
    "\n",
    "if initialSahaBoltzmann:\n",
    "    for i in range(1,numNeutrals+1):\n",
    "        rk.addVar(neutralDensList[i-1],neutDensSBInit[i]*np.ones(gridObj.numX()),units='$10^{19} m^{-3}$',outputVar=True)\n",
    "else:\n",
    "    rk.addVar(\"n1\",n1*np.ones(gridObj.numX()),units='$10^{19} m^{-3}$',outputVar=True)\n",
    "    for i in range(2,numNeutrals+1):\n",
    "        rk.addVar(neutralDensList[i-1],units='$10^{19} m^{-3}$',outputVar=True)\n",
    "\n",
    "\n",
    "# Calculate expected Saha-Boltzmann at T0\n",
    "neutDensSB = [dens/densNorm for dens in crm.hydrogenSahaBoltzmann(numNeutrals,T0,ntot*densNorm)]"
   ]
  },
  {
   "attachments": {},
   "cell_type": "markdown",
   "metadata": {},
   "source": [
    "### External libraries"
   ]
  },
  {
   "attachments": {},
   "cell_type": "markdown",
   "metadata": {},
   "source": [
    "#### MPI\n",
    "\n",
    "Single processor setup."
   ]
  },
  {
   "cell_type": "code",
   "execution_count": null,
   "metadata": {},
   "outputs": [],
   "source": [
    "numProcsX = 1 # Number of processes in x direction\n",
    "numProcsH = 1 # Number of processes in harmonic direction\n",
    "numProcs = numProcsH*numProcsX\n",
    "haloWidth = 1 # Halo width in cells\n",
    "rk.setMPIData(numProcsX,numProcsH,haloWidth)"
   ]
  },
  {
   "attachments": {},
   "cell_type": "markdown",
   "metadata": {},
   "source": [
    "#### PETSc\n",
    "\n",
    "Defaults."
   ]
  },
  {
   "attachments": {},
   "cell_type": "markdown",
   "metadata": {},
   "source": [
    "#### HDF5\n",
    "\n",
    "Output variables set when adding variables"
   ]
  },
  {
   "attachments": {},
   "cell_type": "markdown",
   "metadata": {},
   "source": [
    "### Models\n",
    "\n",
    "Here only a single model is added, and is constructed using the CRM term generator and modelbound CRM data"
   ]
  },
  {
   "attachments": {},
   "cell_type": "markdown",
   "metadata": {},
   "source": [
    "#### Generating modelbound data based on inbuilt cross-sections\n",
    "\n",
    "The ModelboundCRMData object simplifies the construction of CRM modelbound data using the crm_support module. See the module documentation for details on how to add different types of currently supported transition objects.\n",
    "\n",
    "NOTE: Inbuilt hydrogen cross-sections in ReMKiT1D are based on Janev fits. Transitions which use Janev cross-sections and rates can be added using the addJanevTransitions function from the crm module.\n",
    "\n",
    "NOTE: Rates of modelbound transitions can be accessed as named modelbound row data in the form \"rate{ID}index{transIndex}\" where ID is 0 for the reaction (particle) rate, 1 for momentum (not always supported!) and 2 for energy rates. transIndex is the index of the transition in the ModelboundCRMData.transitionTags list. For standard names of inbuilt transitions see crm_support module."
   ]
  },
  {
   "cell_type": "code",
   "execution_count": null,
   "metadata": {},
   "outputs": [],
   "source": [
    "includeRadiativeProcesses = reprColonna # Should be included for Colonna Figure 8 reproduction and turned off for Saha-Boltzmann convergence\n",
    "#Set the list of included Janev transitions\n",
    "includedJanevTransitions = [\"ex\",\"deex\",\"ion\",\"recomb3b\"] \n",
    "if includeRadiativeProcesses:\n",
    "    includedJanevTransitions.append(\"recombRad\") #Add radiative recombination if radiative processes are included\n",
    "mbData = crm.ModelboundCRMData()\n",
    "crm.addJanevTransitionsToCRMData(mbData,numNeutrals,tempNorm,\"f\",\"T\",detailedBalanceCSPriority=1,processes=includedJanevTransitions)"
   ]
  },
  {
   "attachments": {},
   "cell_type": "markdown",
   "metadata": {},
   "source": [
    "#### Reading and adding NIST data for spontaneous transition probabilities\n",
    "\n",
    "Hydrogen transition probabilities are included in the Aki.csv file, and have been taken from the NIST database."
   ]
  },
  {
   "cell_type": "code",
   "execution_count": null,
   "metadata": {},
   "outputs": [],
   "source": [
    "\n",
    "\"\"\"\n",
    "Kramida, A., Ralchenko, Yu., Reader, J., and NIST ASD Team (2021). NIST Atomic Spectra Database (ver. 5.9), [Online]. Available: https://physics.nist.gov/asd [2022, May 13]. National Institute of Standards and Technology, Gaithersburg, MD. DOI: https://doi.org/10.18434/T4W30F\n",
    "\"\"\"\n",
    "\n",
    "spontTransDict = crm.readNISTAkiCSV(\"../data/Aki.csv\")"
   ]
  },
  {
   "attachments": {},
   "cell_type": "markdown",
   "metadata": {},
   "source": [
    "Adding hydrogen spontaneous emission transitions can be done using the following function."
   ]
  },
  {
   "cell_type": "code",
   "execution_count": null,
   "metadata": {},
   "outputs": [],
   "source": [
    "if includeRadiativeProcesses:\n",
    "    crm.addHSpontaneousEmissionToCRMData(mbData,spontTransDict,min(numNeutrals,20),min(numNeutrals,20),timeNorm,tempNorm) #NIST data only has a full transition list for n<=20"
   ]
  },
  {
   "attachments": {},
   "cell_type": "markdown",
   "metadata": {},
   "source": [
    "#### Creating the CRM model object\n",
    "\n",
    "The CRM model is constructed by specifying the modelbound data (defined above) and adding a term generator that can interpret that data and create a collisional-radiative model from it. \n",
    "\n",
    "Term generators are sets of rules used to automate term construction. The CRM term generator uses the modelbound CRM data of its host model, identifies which transitions produce a change in the populations of evolved species, and generates corresponding source and sink terms for each species. "
   ]
  },
  {
   "cell_type": "code",
   "execution_count": null,
   "metadata": {},
   "outputs": [],
   "source": [
    "#CRM model\n",
    " \n",
    "#Adding the model tag to tag list\n",
    "modelTag = \"CRMmodel\"\n",
    "\n",
    "#Initializing model\n",
    "crmModel = sc.CustomModel(modelTag=modelTag)\n",
    "\n",
    "crmModel.setModelboundData(mbData.dict())\n",
    "\n",
    "#Add term generator responsible for buildling CRM model\n",
    "crmTermGenerator = crm.termGeneratorCRM()\n",
    "\n",
    "crmModel.addTermGenerator(\"crmTermGen\",crmTermGenerator)\n",
    "\n",
    "#Add model to wrapper\n",
    "\n",
    "rk.addModel(crmModel.dict())\n"
   ]
  },
  {
   "attachments": {},
   "cell_type": "markdown",
   "metadata": {},
   "source": [
    "### Integrator and timestep options\n",
    "\n",
    "Simple single step backwards Euler integration"
   ]
  },
  {
   "cell_type": "code",
   "execution_count": null,
   "metadata": {},
   "outputs": [],
   "source": [
    "integrator = sc.picardBDEIntegrator(absTol=100.0,convergenceVars=[\"f\",\"n1\"]) \n",
    "\n",
    "rk.addIntegrator(\"BE\",integrator)"
   ]
  },
  {
   "attachments": {},
   "cell_type": "markdown",
   "metadata": {},
   "source": [
    "Set initial timestep length and numbers of allowed implicit and general groups"
   ]
  },
  {
   "cell_type": "code",
   "execution_count": null,
   "metadata": {},
   "outputs": [],
   "source": [
    "initialTimestep = 1e5 # Large timestep to obtain steady state\n",
    "if reprColonna:\n",
    "    initialTimestep = 1e-4 # Small timestep to resolve evolution for Colonna Fig 8 reproduction\n",
    "\n",
    "rk.setIntegratorGlobalData(1,1,initialTimestep) "
   ]
  },
  {
   "cell_type": "code",
   "execution_count": null,
   "metadata": {},
   "outputs": [],
   "source": [
    "bdeStep = sc.IntegrationStep(\"BE\")\n",
    "\n",
    "for tag in rk.modelTags():\n",
    "    bdeStep.addModel(tag)\n",
    "\n",
    "rk.addIntegrationStep(\"BE1\",bdeStep.dict())"
   ]
  },
  {
   "attachments": {},
   "cell_type": "markdown",
   "metadata": {},
   "source": [
    "#### Timeloop options"
   ]
  },
  {
   "cell_type": "code",
   "execution_count": null,
   "metadata": {},
   "outputs": [],
   "source": [
    "rk.setFixedNumTimesteps(1500)\n",
    "rk.setFixedStepOutput(100)"
   ]
  },
  {
   "attachments": {},
   "cell_type": "markdown",
   "metadata": {},
   "source": [
    "### Create config file"
   ]
  },
  {
   "cell_type": "code",
   "execution_count": null,
   "metadata": {},
   "outputs": [],
   "source": [
    "rk.writeConfigFile()"
   ]
  },
  {
   "attachments": {},
   "cell_type": "markdown",
   "metadata": {},
   "source": [
    "### Data analysis\n"
   ]
  },
  {
   "cell_type": "code",
   "execution_count": null,
   "metadata": {},
   "outputs": [],
   "source": [
    "numFiles = 15"
   ]
  },
  {
   "attachments": {},
   "cell_type": "markdown",
   "metadata": {},
   "source": [
    "#### Loading data\n",
    "\n",
    "Set loadpath to ReMKiT1D directory"
   ]
  },
  {
   "cell_type": "code",
   "execution_count": null,
   "metadata": {},
   "outputs": [],
   "source": [
    "loadpath = hdf5Filepath\n",
    "loadFilenames = [loadpath+f'ReMKiT1DVarOutput_{i}.h5' for i in range(numFiles+1)]"
   ]
  },
  {
   "cell_type": "code",
   "execution_count": null,
   "metadata": {},
   "outputs": [],
   "source": [
    "loadedData = io.loadFromHDF5(rk.varCont,filepaths=loadFilenames)\n",
    "loadedData"
   ]
  },
  {
   "cell_type": "code",
   "execution_count": null,
   "metadata": {},
   "outputs": [],
   "source": [
    "hv.extension('matplotlib')\n",
    "%matplotlib inline \n",
    "plt.rcParams['figure.dpi'] = 150\n",
    "hv.output(size=80,dpi=150)"
   ]
  },
  {
   "attachments": {},
   "cell_type": "markdown",
   "metadata": {},
   "source": [
    "#### Compare final state densities with a Saha-Boltzmann equilibrium\n",
    "\n",
    "If reprColonna is true will compare to the initial distribution, otherwise will compare to the expected Saha-Boltzmann distribution at the electron temperature."
   ]
  },
  {
   "cell_type": "code",
   "execution_count": null,
   "metadata": {},
   "outputs": [],
   "source": [
    "# Neutral state densities extracted from dataset\n",
    "neutralDens1 = [loadedData[neutralDensList[i]][-1,0] for i in range(numNeutrals)]\n",
    "\n",
    "# Excited state energies\n",
    "stateEnergies = [13.6*(1-1/(i+1)**2) for i in range(numNeutrals)]\n",
    "\n",
    "if reprColonna:\n",
    "    coords1 = [(stateEnergies[i],neutralDens1[i]/((i+1)**2)/(neutralDens1[0])) for i in range(numNeutrals)] #Degeneracy weighted densities in final timestep\n",
    "    \n",
    "    coords2 = [(stateEnergies[i],neutDensSBInit[i+1]/((i+1)**2*neutDensSBInit[1]) )for i in range(numNeutrals)] #Initial Saha-Boltzmann densities (weighted)\n",
    "else:\n",
    "    coords1 = [(stateEnergies[i],neutralDens1[i]/(2*(i+1)**2)) for i in range(numNeutrals)] #Degeneracy weighted densities in final timestep\n",
    "    coords2 = [(stateEnergies[i],neutDensSB[i+1]/(2*(i+1)**2)) for i in range(numNeutrals)] #Expected Saha-Boltzmann densities (weighted)\n",
    "    \n",
    "if reprColonna: \n",
    "    label2 = 't = 0'\n",
    "    label1 = f't = {loadedData.coords[\"time\"].values[-1]*timeNorm:.2e}s'\n",
    "else:\n",
    "    label1 = 'ReMKiT1D'\n",
    "    label2 = 'Saha-Boltzmann'\n",
    "    \n",
    "curve2 = hv.Curve(coords2,label=label2).opts(color=\"r\")\n",
    "if reprColonna:\n",
    "    curve1 = hv.Curve(coords1,label=label1).opts(color=\"k\",linestyle='--')\n",
    "else:\n",
    "    curve1 = hv.Scatter(coords1,label=label1).opts(marker=\"x\",color=\"k\",s=15.0)\n",
    "    \n",
    "curve = curve2*curve1\n",
    "curve.opts(logy=True,xlabel=\"E [eV]\",ylabel='$n_i/g_i$',aspect=0.5)\n"
   ]
  },
  {
   "attachments": {},
   "cell_type": "markdown",
   "metadata": {},
   "source": [
    "#### Produce paper plots"
   ]
  },
  {
   "cell_type": "code",
   "execution_count": null,
   "metadata": {},
   "outputs": [],
   "source": [
    "if reprColonna:\n",
    "    hv.save(curve.opts(logy=True,xlabel=\"E [eV]\",ylabel='$n_i/g_i$',aspect=0.5),\"colonna_comp.pdf\",dpi=144)\n",
    "else:\n",
    "    hv.save(curve.opts(logy=True,xlabel=\"E [eV]\",ylabel='$n_i/g_i$',aspect=0.5),\"sb_comp.pdf\",dpi=144)"
   ]
  }
 ],
 "metadata": {
  "interpreter": {
   "hash": "31f2aee4e71d21fbe5cf8b01ff0e069b9275f58929596ceb00d14d90e3e16cd6"
  },
  "kernelspec": {
   "display_name": "Python 3.9.5 64-bit",
   "language": "python",
   "name": "python3"
  },
  "language_info": {
   "codemirror_mode": {
    "name": "ipython",
    "version": 3
   },
   "file_extension": ".py",
   "mimetype": "text/x-python",
   "name": "python",
   "nbconvert_exporter": "python",
   "pygments_lexer": "ipython3",
   "version": "3.8.10"
  },
  "orig_nbformat": 4,
  "vscode": {
   "interpreter": {
    "hash": "31f2aee4e71d21fbe5cf8b01ff0e069b9275f58929596ceb00d14d90e3e16cd6"
   }
  }
 },
 "nbformat": 4,
 "nbformat_minor": 2
}
