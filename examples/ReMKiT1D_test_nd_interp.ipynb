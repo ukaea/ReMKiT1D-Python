{
 "cells": [
  {
   "attachments": {},
   "cell_type": "markdown",
   "metadata": {},
   "source": [
    "## ReMKiT1D input generator - testing multilinear interpolation\n",
    "\n",
    "This example tests the n-dimensional linear interpolation derivation in ReMKiT1D using the json interface"
   ]
  },
  {
   "cell_type": "code",
   "execution_count": null,
   "metadata": {},
   "outputs": [],
   "source": [
    "import numpy as np\n",
    "import xarray as xr\n",
    "import holoviews as hv\n",
    "import matplotlib.pyplot as plt\n",
    "import matplotlib as mpl\n",
    "from holoviews import opts\n",
    "import panel as pn\n",
    "\n",
    "import sys\n",
    "sys.path.append('../')\n",
    "from RMK_support import RKWrapper ,Grid\n",
    "import RMK_support.IO_support as io \n",
    "import RMK_support.simple_containers as sc\n",
    "from scipy.interpolate import RegularGridInterpolator"
   ]
  },
  {
   "attachments": {},
   "cell_type": "markdown",
   "metadata": {},
   "source": [
    "### Wrapper initialization"
   ]
  },
  {
   "cell_type": "code",
   "execution_count": null,
   "metadata": {},
   "outputs": [],
   "source": [
    "rk = RKWrapper()"
   ]
  },
  {
   "attachments": {},
   "cell_type": "markdown",
   "metadata": {},
   "source": [
    "### Global parameters for IO files"
   ]
  },
  {
   "cell_type": "code",
   "execution_count": null,
   "metadata": {},
   "outputs": [],
   "source": [
    "rk.jsonFilepath = \"./config.json\" # Default value\n",
    "hdf5Filepath = \"./RMKOutput/RMK_nd_interp/\" \n",
    "rk.setHDF5Path(hdf5Filepath)"
   ]
  },
  {
   "attachments": {},
   "cell_type": "markdown",
   "metadata": {},
   "source": [
    "### Setting options for external libraries used by ReMKiT1D"
   ]
  },
  {
   "attachments": {},
   "cell_type": "markdown",
   "metadata": {},
   "source": [
    "#### MPI\n"
   ]
  },
  {
   "cell_type": "code",
   "execution_count": null,
   "metadata": {},
   "outputs": [],
   "source": [
    "numProcsX = 1 # Number of processes in x direction\n",
    "numProcsH = 1 # Number of processes in harmonic \n",
    "numProcs = numProcsX * numProcsH\n",
    "haloWidth = 1 # Halo width in cells\n",
    "\n",
    "rk.setMPIData(numProcsX,numProcsH,haloWidth)"
   ]
  },
  {
   "attachments": {},
   "cell_type": "markdown",
   "metadata": {},
   "source": [
    "### Normalization setup"
   ]
  },
  {
   "cell_type": "code",
   "execution_count": null,
   "metadata": {},
   "outputs": [],
   "source": [
    "rk.setNormDensity(1.0e19)\n",
    "rk.setNormTemperature(10.0)\n",
    "rk.setNormRefZ(1.0)"
   ]
  },
  {
   "attachments": {},
   "cell_type": "markdown",
   "metadata": {},
   "source": [
    "### Grid setup"
   ]
  },
  {
   "cell_type": "code",
   "execution_count": null,
   "metadata": {},
   "outputs": [],
   "source": [
    "xGrid = np.ones(4) \n",
    "gridObj = Grid(xGrid,interpretXGridAsWidths=True)"
   ]
  },
  {
   "cell_type": "code",
   "execution_count": null,
   "metadata": {},
   "outputs": [],
   "source": [
    "# Add the grid to the wrapper\n",
    "rk.grid=gridObj"
   ]
  },
  {
   "attachments": {},
   "cell_type": "markdown",
   "metadata": {},
   "source": [
    "### Add custom derivations\n",
    "\n",
    "These are the interpolation derivations to be tested"
   ]
  },
  {
   "cell_type": "code",
   "execution_count": null,
   "metadata": {},
   "outputs": [],
   "source": [
    "# grids\n",
    "grid1 = np.linspace(1,6,10)\n",
    "grid2 = np.linspace(10,173,15)\n",
    "grid3 = np.linspace(0.5,3,10)\n",
    "\n",
    "# 1D interpolation \n",
    "\n",
    "data1D = grid1*0.5 + grid1**2/10\n",
    "rk.addCustomDerivation(\"interp1D\",sc.nDInterpolationDerivation([grid1],data1D))\n",
    "\n",
    "# 2D interpolation\n",
    "\n",
    "xg2,yg2 = np.meshgrid(grid1,grid2,indexing='ij',sparse=True)\n",
    "f = lambda x,y: x**2 + 2*y + 1\n",
    "data2D = f(xg2,yg2)\n",
    "rk .addCustomDerivation(\"interp2D\",sc.nDInterpolationDerivation([grid1,grid2],data2D))\n",
    "\n",
    "# 3D interpolation\n",
    "\n",
    "xg3,yg3,zg3 = np.meshgrid(grid1,grid2,grid3,indexing='ij',sparse=True)\n",
    "f = lambda x,y,z: x**2 + 2*y + 1 + z**3\n",
    "data3D = f(xg3,yg3,zg3)\n",
    "rk .addCustomDerivation(\"interp3D\",sc.nDInterpolationDerivation([grid1,grid2,grid3],data3D))"
   ]
  },
  {
   "cell_type": "code",
   "execution_count": null,
   "metadata": {},
   "outputs": [],
   "source": [
    "interp1 = RegularGridInterpolator((grid1,),data1D)\n",
    "interp2 = RegularGridInterpolator((grid1,grid2),data2D)\n",
    "interp3 = RegularGridInterpolator((grid1,grid2,grid3),data3D)"
   ]
  },
  {
   "attachments": {},
   "cell_type": "markdown",
   "metadata": {},
   "source": [
    "### Variables"
   ]
  },
  {
   "cell_type": "code",
   "execution_count": null,
   "metadata": {},
   "outputs": [],
   "source": [
    "var1 = np.random.rand(4)*5 + 1\n",
    "var2 = np.random.rand(4)*163 + 10\n",
    "var3 = np.random.rand(4)*2.5 + 0.5\n",
    "\n",
    "rk.addVar(\"var1\",var1,isDerived=True)\n",
    "rk.addVar(\"var2\",var2,isDerived=True)\n",
    "rk.addVar(\"var3\",var3,isDerived=True)\n",
    "\n",
    "rk.addVar(\"interp1\",isDerived=True, derivationRule=sc.derivationRule(\"interp1D\",[\"var1\"]))\n",
    "rk.addVar(\"interp2\",isDerived=True, derivationRule=sc.derivationRule(\"interp2D\",[\"var1\",\"var2\"]))\n",
    "rk.addVar(\"interp3\",isDerived=True, derivationRule=sc.derivationRule(\"interp3D\",[\"var1\",\"var2\",\"var3\"]))"
   ]
  },
  {
   "cell_type": "code",
   "execution_count": null,
   "metadata": {},
   "outputs": [],
   "source": [
    "interpVals1 = interp1(var1)\n",
    "interpVals2 = interp2(np.array(list(zip(var1,var2))))\n",
    "interpVals3 = interp3(np.array(list(zip(var1,var2,var3))))\n"
   ]
  },
  {
   "cell_type": "code",
   "execution_count": null,
   "metadata": {},
   "outputs": [],
   "source": [
    "\n",
    "integrator = sc.rkIntegrator(1)\n",
    "rk.addIntegrator(\"RK\", integrator)\n"
   ]
  },
  {
   "cell_type": "code",
   "execution_count": null,
   "metadata": {},
   "outputs": [],
   "source": [
    "initialTimestep = 0.0\n",
    "rk.setIntegratorGlobalData(1, 1, initialTimestep)"
   ]
  },
  {
   "cell_type": "code",
   "execution_count": null,
   "metadata": {},
   "outputs": [],
   "source": [
    "bdeStep = sc.IntegrationStep(\"RK\")\n",
    "\n",
    "rk.addIntegrationStep(\"RK1\", bdeStep.dict())\n"
   ]
  },
  {
   "attachments": {},
   "cell_type": "markdown",
   "metadata": {},
   "source": [
    "#### Timeloop options"
   ]
  },
  {
   "cell_type": "code",
   "execution_count": null,
   "metadata": {},
   "outputs": [],
   "source": [
    "rk.setFixedNumTimesteps(1)\n",
    "rk.setFixedStepOutput(1)\n"
   ]
  },
  {
   "attachments": {},
   "cell_type": "markdown",
   "metadata": {},
   "source": [
    "### Create config file"
   ]
  },
  {
   "attachments": {},
   "cell_type": "markdown",
   "metadata": {},
   "source": [
    "NOTE: Run in build mode, as debug will complain there are no models"
   ]
  },
  {
   "cell_type": "code",
   "execution_count": null,
   "metadata": {},
   "outputs": [],
   "source": [
    "rk.writeConfigFile()\n"
   ]
  },
  {
   "attachments": {},
   "cell_type": "markdown",
   "metadata": {},
   "source": [
    "### Data analysis\n"
   ]
  },
  {
   "cell_type": "code",
   "execution_count": null,
   "metadata": {},
   "outputs": [],
   "source": [
    "numFiles = 1\n"
   ]
  },
  {
   "attachments": {},
   "cell_type": "markdown",
   "metadata": {},
   "source": [
    "#### Loading data\n",
    "\n",
    "Set loadpath to ReMKiT1D directory"
   ]
  },
  {
   "cell_type": "code",
   "execution_count": null,
   "metadata": {},
   "outputs": [],
   "source": [
    "loadpath = hdf5Filepath\n",
    "loadFilenames = [loadpath+f'ReMKiT1DVarOutput_{i}.h5' for i in range(numFiles+1)]\n"
   ]
  },
  {
   "cell_type": "code",
   "execution_count": null,
   "metadata": {},
   "outputs": [],
   "source": [
    "loadedData = io.loadFromHDF5(rk.varCont, filepaths=loadFilenames)\n",
    "loadedData\n"
   ]
  },
  {
   "cell_type": "code",
   "execution_count": null,
   "metadata": {},
   "outputs": [],
   "source": [
    "interpVals1-loadedData[\"interp1\"][-1,:]"
   ]
  },
  {
   "cell_type": "code",
   "execution_count": null,
   "metadata": {},
   "outputs": [],
   "source": [
    "interpVals2-loadedData[\"interp2\"][-1,:]"
   ]
  },
  {
   "cell_type": "code",
   "execution_count": null,
   "metadata": {},
   "outputs": [],
   "source": [
    "interpVals3-loadedData[\"interp3\"][-1,:]"
   ]
  }
 ],
 "metadata": {
  "kernelspec": {
   "display_name": "Python 3.9.5 64-bit",
   "language": "python",
   "name": "python3"
  },
  "language_info": {
   "codemirror_mode": {
    "name": "ipython",
    "version": 3
   },
   "file_extension": ".py",
   "mimetype": "text/x-python",
   "name": "python",
   "nbconvert_exporter": "python",
   "pygments_lexer": "ipython3",
   "version": "3.8.10"
  },
  "orig_nbformat": 4,
  "vscode": {
   "interpreter": {
    "hash": "31f2aee4e71d21fbe5cf8b01ff0e069b9275f58929596ceb00d14d90e3e16cd6"
   }
  }
 },
 "nbformat": 4,
 "nbformat_minor": 2
}
