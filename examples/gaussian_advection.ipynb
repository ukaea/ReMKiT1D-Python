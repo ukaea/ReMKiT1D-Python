{
 "cells": [
  {
   "attachments": {},
   "cell_type": "markdown",
   "metadata": {},
   "source": [
    "## Example - Gaussian advection\n",
    "\n",
    "This notebook is the v2.0.0 rewrite of the original ReMKiT1D_advection_test notebook, reproducing the example from Sections 3.2. and 5.1.1. of the ReMKiT1D code paper in v2.0.0 syntax. "
   ]
  },
  {
   "cell_type": "code",
   "execution_count": null,
   "metadata": {},
   "outputs": [],
   "source": [
    "%load_ext autoreload\n",
    "%autoreload 2\n",
    "import RMK_support as rmk\n",
    "from RMK_support import node\n",
    "from RMK_support.stencils import StaggeredDivStencil as Div, StaggeredGradStencil as Grad\n",
    "\n",
    "import numpy as np\n",
    "import holoviews as hv\n",
    "import matplotlib.pyplot as plt"
   ]
  },
  {
   "attachments": {},
   "cell_type": "markdown",
   "metadata": {},
   "source": [
    "### Context initialisation with IO and MPI context setting"
   ]
  },
  {
   "cell_type": "code",
   "execution_count": null,
   "metadata": {},
   "outputs": [],
   "source": [
    "rk = rmk.RMKContext()\n",
    "rk.IOContext = rmk.IOContext(HDF5Dir=\"./RMKOutput/RMK_advection_test/\")\n",
    "rk.mpiContext = rmk.MPIContext(numProcsX=4)"
   ]
  },
  {
   "attachments": {},
   "cell_type": "markdown",
   "metadata": {},
   "source": [
    "### Grid initialization\n"
   ]
  },
  {
   "cell_type": "code",
   "execution_count": null,
   "metadata": {},
   "outputs": [],
   "source": [
    "# In normalized length or in meters - defaults to normalized unless isLengthInMeters=True in Grid\n",
    "xGridWidths = 0.025*np.ones(512)\n",
    "rk.grid = rmk.Grid(xGridWidths, interpretXGridAsWidths=True)"
   ]
  },
  {
   "attachments": {},
   "cell_type": "markdown",
   "metadata": {},
   "source": [
    "### Variable container\n"
   ]
  },
  {
   "attachments": {},
   "cell_type": "markdown",
   "metadata": {},
   "source": [
    "#### Adding variables\n"
   ]
  },
  {
   "cell_type": "code",
   "execution_count": null,
   "metadata": {},
   "outputs": [],
   "source": [
    "nInit = 1 + np.exp(-(rk.grid.xGrid-np.mean(rk.grid.xGrid))**2) # A Gaussian perturbation\n",
    "TInit = np.ones(len(rk.grid.xGrid)) # Constant temperature\n",
    "\n",
    "n,n_dual = rmk.varAndDual(\"n\",rk.grid,data=nInit) #both variable and its dual\n",
    "T = rmk.Variable(\"T\",rk.grid,data=TInit,isDerived=True,isCommunicated=False)\n",
    "G_dual,G = rmk.varAndDual(\"G\",rk.grid,primaryOnDualGrid=True) #the first return value is the primary, so here it is the dual\n",
    "\n",
    "rk.variables.add(n,n_dual,T,G_dual,G)"
   ]
  },
  {
   "cell_type": "code",
   "execution_count": null,
   "metadata": {},
   "outputs": [],
   "source": [
    "#v2.0.0 generating nodes from variables and vice versa\n",
    "massRatio = 1/1836\n",
    "\n",
    "W = rmk.varFromNode(\"dummyVar\",rk.grid,node = 1.5*node(n)*node(T) + node(G)**2/(node(n)*massRatio)) \n",
    "rk.variables[\"W\"] = W # this will copy and rename the variable to \"W\" when added \n",
    "rk.variables.add(W.rename(\"otherW\")) # This is another way of doing it  "
   ]
  },
  {
   "attachments": {},
   "cell_type": "markdown",
   "metadata": {},
   "source": [
    "### Models \n",
    "\n",
    "$\\frac{\\partial n}{\\partial t} = - \\frac{\\partial u}{\\partial x}$\n",
    "\n",
    "$m_i \\frac{\\partial u}{\\partial t} = - \\frac{\\partial (nkT)}{\\partial x}$\n",
    "\n",
    "In v2.0.0, model construction is vastly simplified\n"
   ]
  },
  {
   "cell_type": "code",
   "execution_count": null,
   "metadata": {},
   "outputs": [],
   "source": [
    "model = rmk.Model(name=\"adv\")\n",
    "\n",
    "# Models have ddt components, representing individual contributions to equations\n",
    "# Matrix terms can be automatically constructed by invoking various stencils \n",
    "\n",
    "model.ddt[n] += - Div()(G_dual).rename(\"div_G\") \n",
    "model.ddt[G_dual] += -massRatio/2 * Grad()(T * n).rename(\"grad_p\") # Here n will be the implicit variable - in Matrix terms constructed by invoking stencils it is always the rightmost variable\n",
    "\n",
    "rk.models.add(model)"
   ]
  },
  {
   "attachments": {},
   "cell_type": "markdown",
   "metadata": {},
   "source": [
    "### Integrator options"
   ]
  },
  {
   "cell_type": "code",
   "execution_count": null,
   "metadata": {},
   "outputs": [],
   "source": [
    "# the implicit BDE integrator that checks convergence based on the variables n and G_dual\n",
    "integrator = rmk.BDEIntegrator(\"BDE\",nonlinTol=1e-12,absTol=10.0,convergenceVars=[n,G_dual])\n",
    "integrationStep = rmk.IntegrationStep(\"BE\",integrator)\n",
    "integrationStep.add(rk.models) # Add all models in context\n",
    "rk.integrationScheme = rmk.IntegrationScheme(dt=0.1,steps=integrationStep) #Create a scheme with our single step and a constant integration timestep 0.1\n",
    "rk.integrationScheme.setFixedNumTimesteps(10000,200) # Run for 10000 steps outputting every 200"
   ]
  },
  {
   "cell_type": "markdown",
   "metadata": {},
   "source": [
    "#### Generate a LaTeX summary of the ReMKiT1D run "
   ]
  },
  {
   "cell_type": "code",
   "execution_count": null,
   "metadata": {},
   "outputs": [],
   "source": [
    "rk.generatePDF(\"Gaussian Advection Example\")"
   ]
  },
  {
   "attachments": {},
   "cell_type": "markdown",
   "metadata": {},
   "source": [
    "### Create config file"
   ]
  },
  {
   "cell_type": "code",
   "execution_count": null,
   "metadata": {},
   "outputs": [],
   "source": [
    "rk.writeConfigFile()"
   ]
  },
  {
   "attachments": {},
   "cell_type": "markdown",
   "metadata": {},
   "source": [
    "### Set global plotting options"
   ]
  },
  {
   "cell_type": "code",
   "execution_count": null,
   "metadata": {},
   "outputs": [],
   "source": [
    "hv.extension('matplotlib')\n",
    "%matplotlib inline \n",
    "plt.rcParams['figure.dpi'] = 150\n",
    "hv.output(size=150,dpi=150)"
   ]
  },
  {
   "attachments": {},
   "cell_type": "markdown",
   "metadata": {},
   "source": [
    "### Load data from ReMKiT1D output files"
   ]
  },
  {
   "cell_type": "code",
   "execution_count": null,
   "metadata": {},
   "outputs": [],
   "source": [
    "loadedData = rk.loadSimulation()\n",
    "dataset = loadedData.dataset"
   ]
  },
  {
   "attachments": {},
   "cell_type": "markdown",
   "metadata": {},
   "source": [
    "### Compare with analytic solution"
   ]
  },
  {
   "cell_type": "code",
   "execution_count": null,
   "metadata": {},
   "outputs": [],
   "source": [
    "times = dataset.coords['t'].data\n",
    "wave_speed= np.sqrt(massRatio/2)\n",
    "n_analytic=np.zeros((len(times),rk.grid.numX))\n",
    "L = sum(xGridWidths)\n",
    "for i in range(len(times)):\n",
    "        leftPositionMod = (rk.grid.xGrid-wave_speed*times[i]) % L\n",
    "        leftPosition = np.where(leftPositionMod > 0,leftPositionMod,leftPositionMod+L)\n",
    "        rightPosition = (rk.grid.xGrid+wave_speed*times[i]) % L\n",
    "        n_analytic[i,:] =1 + 0.5*(np.exp(-(leftPosition-np.mean(rk.grid.xGrid))**2) + np.exp(-(rightPosition-np.mean(rk.grid.xGrid))**2)) \n"
   ]
  },
  {
   "cell_type": "code",
   "execution_count": null,
   "metadata": {},
   "outputs": [],
   "source": [
    "dataName = 'n'\n",
    "\n",
    "curveDict = {t: hv.Scatter(dataset[dataName][{\"t\":t}],label='simulation').opts(marker=\"o\",color=\"r\",s=6.0)*hv.Curve((rk.grid.xGrid,n_analytic[t,:]),label='analytic result').opts(title=f't = {dataset[\"t\"].values[t]:.2f} '+dataset.coords[\"t\"].attrs[\"units\"],fontscale=2, fig_size=150,linewidth=3.0) for t in range(len(times))}\n",
    "kdims = [hv.Dimension(('t', 'Time'),unit=dataset.coords[\"t\"].attrs[\"units\"], default=0)]\n",
    "hv.HoloMap(curveDict,kdims=kdims).opts()"
   ]
  },
  {
   "attachments": {},
   "cell_type": "markdown",
   "metadata": {},
   "source": [
    "### Check if W is calculated correctly"
   ]
  },
  {
   "cell_type": "code",
   "execution_count": null,
   "metadata": {},
   "outputs": [],
   "source": [
    "dataName = 'W'\n",
    "\n",
    "testWCalc = dataset['n']*dataset['T'] * 1.5 + dataset['G']**2 /( dataset['n']*massRatio) - dataset['W']\n",
    "\n",
    "print(testWCalc.where(np.abs(testWCalc)>5e-16,drop=True))"
   ]
  },
  {
   "attachments": {},
   "cell_type": "markdown",
   "metadata": {},
   "source": [
    "### Reproducing graphs from the paper"
   ]
  },
  {
   "attachments": {},
   "cell_type": "markdown",
   "metadata": {},
   "source": [
    "### Relative error wrt analytic solution"
   ]
  },
  {
   "cell_type": "code",
   "execution_count": null,
   "metadata": {},
   "outputs": [],
   "source": [
    "diff = np.abs(n_analytic - dataset['n'])/n_analytic"
   ]
  },
  {
   "cell_type": "code",
   "execution_count": null,
   "metadata": {},
   "outputs": [],
   "source": [
    "relativeErrorPlot=hv.Curve(diff.reduce(np.max,'x')).opts(ylabel='$\\delta n$',marker='o',fontscale=2, fig_size=150,linewidth=3.0)"
   ]
  },
  {
   "cell_type": "code",
   "execution_count": null,
   "metadata": {},
   "outputs": [],
   "source": [
    "relativeErrorPlot.opts()"
   ]
  },
  {
   "cell_type": "code",
   "execution_count": null,
   "metadata": {},
   "outputs": [],
   "source": [
    "hv.output(fig='pdf')\n",
    "hv.save(relativeErrorPlot, 'advectionTestRelErr.pdf', dpi=144)"
   ]
  },
  {
   "attachments": {},
   "cell_type": "markdown",
   "metadata": {},
   "source": [
    "### Final simulation state"
   ]
  },
  {
   "cell_type": "code",
   "execution_count": null,
   "metadata": {},
   "outputs": [],
   "source": [
    "hv.save(curveDict[50].opts(legend_position='top',legend_cols=1,title=''),'finalDensityAdv.pdf',dpi=144)"
   ]
  }
 ],
 "metadata": {
  "kernelspec": {
   "display_name": "Python 3",
   "language": "python",
   "name": "python3"
  },
  "language_info": {
   "codemirror_mode": {
    "name": "ipython",
    "version": 3
   },
   "file_extension": ".py",
   "mimetype": "text/x-python",
   "name": "python",
   "nbconvert_exporter": "python",
   "pygments_lexer": "ipython3",
   "version": "3.8.10"
  },
  "orig_nbformat": 4,
  "vscode": {
   "interpreter": {
    "hash": "31f2aee4e71d21fbe5cf8b01ff0e069b9275f58929596ceb00d14d90e3e16cd6"
   }
  }
 },
 "nbformat": 4,
 "nbformat_minor": 2
}
