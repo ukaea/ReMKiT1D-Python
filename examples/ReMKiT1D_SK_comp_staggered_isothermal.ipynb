{
 "cells": [
  {
   "attachments": {},
   "cell_type": "markdown",
   "metadata": {},
   "source": [
    "## ReMKiT1D input generator - staggered grids with a SOL-KiT style problem - isothermal\n",
    "\n",
    "This example shows how staggered grids can be used in a setting which is comparable to a SOL-KiT fluid mode simulation with fixed temperature. Here linear extrapolation is used with Ti=Te=5eV.\n"
   ]
  },
  {
   "attachments": {},
   "cell_type": "markdown",
   "metadata": {},
   "source": [
    "The following are dependencies for this example"
   ]
  },
  {
   "cell_type": "code",
   "execution_count": null,
   "metadata": {},
   "outputs": [],
   "source": [
    "import numpy as np\n",
    "import xarray as xr\n",
    "import holoviews as hv\n",
    "import matplotlib.pyplot as plt\n",
    "import matplotlib as mpl\n",
    "from holoviews import opts\n",
    "import panel as pn\n",
    "import pickle\n",
    "\n",
    "import sys\n",
    "sys.path.append('../')\n",
    "from RMK_support import RKWrapper ,Grid\n",
    "import RMK_support.simple_containers as sc\n",
    "import RMK_support.IO_support as io\n",
    "import RMK_support.dashboard_support as ds\n",
    "import RMK_support.common_models as cm\n",
    "import RMK_support.crm_support as crm # This is the main python module for crm construction\n"
   ]
  },
  {
   "attachments": {},
   "cell_type": "markdown",
   "metadata": {},
   "source": [
    "### Some useful constants"
   ]
  },
  {
   "cell_type": "code",
   "execution_count": null,
   "metadata": {},
   "outputs": [],
   "source": [
    "elCharge = 1.60218e-19\n",
    "elMass = 9.10938e-31\n",
    "amu = 1.6605390666e-27 #atomic mass unit\n",
    "ionMass = 2.014*amu # deuterium mass\n",
    "epsilon0 = 8.854188e-12 #vacuum permittivity \n",
    "heavySpeciesMass = 2.014 #in amus"
   ]
  },
  {
   "attachments": {},
   "cell_type": "markdown",
   "metadata": {},
   "source": [
    "### Wrapper initialization"
   ]
  },
  {
   "cell_type": "code",
   "execution_count": null,
   "metadata": {},
   "outputs": [],
   "source": [
    "rk = RKWrapper()"
   ]
  },
  {
   "attachments": {},
   "cell_type": "markdown",
   "metadata": {},
   "source": [
    "### Global parameters for IO files"
   ]
  },
  {
   "cell_type": "code",
   "execution_count": null,
   "metadata": {},
   "outputs": [],
   "source": [
    "rk.jsonFilepath = \"./config.json\" # Default value\n",
    "hdf5Filepath = \"./RMKOutput/RMK_SK_comp_staggered_isothermal/\" \n",
    "rk.setHDF5Path(hdf5Filepath)"
   ]
  },
  {
   "attachments": {},
   "cell_type": "markdown",
   "metadata": {},
   "source": [
    "### Setting options for external libraries used by ReMKiT1D"
   ]
  },
  {
   "attachments": {},
   "cell_type": "markdown",
   "metadata": {},
   "source": [
    "#### MPI\n"
   ]
  },
  {
   "cell_type": "code",
   "execution_count": null,
   "metadata": {},
   "outputs": [],
   "source": [
    "numProcsX = 2 # Number of processes in x direction\n",
    "numProcsH = 1 # Number of processes in harmonic \n",
    "numProcs = numProcsX * numProcsH\n",
    "haloWidth = 1 # Halo width in cells\n",
    "\n",
    "rk.setMPIData(numProcsX,numProcsH,haloWidth)"
   ]
  },
  {
   "attachments": {},
   "cell_type": "markdown",
   "metadata": {},
   "source": [
    "### Normalization"
   ]
  },
  {
   "cell_type": "code",
   "execution_count": null,
   "metadata": {},
   "outputs": [],
   "source": [
    "rk.setNormDensity(1.0e19)\n",
    "rk.setNormTemperature(10.0)\n",
    "rk.setNormRefZ(1.0)\n",
    "\n",
    "#Time normalization taken from already initialized config file with same input as above (this is a little inconvenient, but normalization should not change frequently enough to warrant anything more involved)\n",
    "timeNorm = 0.72204953888999173E-7 # in s\n",
    "# for convenience\n",
    "tempNorm = rk.normalization[\"eVTemperature\"] \n",
    "densNorm = rk.normalization[\"density\"]\n",
    "\n",
    "#Cross-section normalization taken from initialized config file\n",
    "sigmaNorm = 0.73842563254919593E-18 # in m^{2}\n",
    "lengthNorm = 0.13542325129584085E+0"
   ]
  },
  {
   "attachments": {},
   "cell_type": "markdown",
   "metadata": {},
   "source": [
    "### Grid initialization"
   ]
  },
  {
   "cell_type": "code",
   "execution_count": null,
   "metadata": {},
   "outputs": [],
   "source": [
    "dx0 = 0.27\n",
    "dxN = 0.0125\n",
    "Nx = 128 \n",
    "xGridWidths = np.geomspace(dx0,dxN,Nx)\n",
    "L = sum(xGridWidths)\n",
    "dv0 = 0.05\n",
    "dvN = 0.4 \n",
    "Nv = 80 \n",
    "vGridWidths = np.geomspace(dv0,dvN,Nv)\n",
    "lMax = 0\n",
    "gridObj = Grid(xGridWidths,vGridWidths,lMax,interpretXGridAsWidths=True,interpretVGridAsWidths=True,isLengthInMeters=True)\n",
    "\n",
    "dxNNorm = dxN/lengthNorm\n",
    "dxNStagNorm = dxNNorm + xGridWidths[-2]/(2*lengthNorm)"
   ]
  },
  {
   "cell_type": "code",
   "execution_count": null,
   "metadata": {},
   "outputs": [],
   "source": [
    "# Add the grid to the config file\n",
    "rk.grid = gridObj"
   ]
  },
  {
   "attachments": {},
   "cell_type": "markdown",
   "metadata": {},
   "source": [
    "### Custom derivations"
   ]
  },
  {
   "cell_type": "code",
   "execution_count": null,
   "metadata": {},
   "outputs": [],
   "source": [
    "# Diffusion coefficient derivation in 1D with neutral temperature Tn and with the cross section used being the low energy charge-exchange cross-seciton\n",
    "# NOTE: SOL-KiT has a spurious sqrt(2) factor in the diffusion coefficient, so that is kept here for a consistent comparison\n",
    "Tn = 3.0/tempNorm\n",
    "\n",
    "diffusionDeriv = sc.simpleDerivation(np.sqrt(Tn)/2,[-1.0])\n",
    "\n",
    "rk.addCustomDerivation(\"neutDiffD\",diffusionDeriv)\n",
    "\n",
    "rk.addCustomDerivation(\"identityDeriv\",sc.simpleDerivation(1.0,[1.0]))\n",
    "absDeriv = sc.multiplicativeDerivation(\"identityDeriv\",[1],funcName=\"abs\")\n",
    "rk.addCustomDerivation(\"absDeriv\",absDeriv)\n",
    "rk.addCustomDerivation(\"square\",sc.simpleDerivation(1.0,[2.0]))"
   ]
  },
  {
   "attachments": {},
   "cell_type": "markdown",
   "metadata": {},
   "source": [
    "### Custom extrapolation derivs"
   ]
  },
  {
   "cell_type": "code",
   "execution_count": null,
   "metadata": {},
   "outputs": [],
   "source": [
    "rk.addCustomDerivation(\"linExtrapRight\",sc.boundedExtrapolationDerivation(sc.linExtrapolation(),ignoreUpperBound=True))\n",
    "\n",
    "rk.addCustomDerivation(\"linExtrapRightLB\",sc.boundedExtrapolationDerivation(sc.linExtrapolation(),expectLowerBoundVar=True,ignoreUpperBound=True))\n",
    "\n",
    "rk.addCustomDerivation(\"boundaryFlux\",sc.multiplicativeDerivation(\"linExtrapRight\",innerDerivationIndices=[1],outerDerivation=\"linExtrapRightLB\",outerDerivationIndices=[2,3]))\n",
    "\n"
   ]
  },
  {
   "attachments": {},
   "cell_type": "markdown",
   "metadata": {},
   "source": [
    "### Handling particle species data"
   ]
  },
  {
   "cell_type": "code",
   "execution_count": null,
   "metadata": {},
   "outputs": [],
   "source": [
    "rk.addSpecies(\"e\",0,atomicA=elMass/amu,charge=-1.0,associatedVars=[\"ne\",\"Ge\",\"We\"]) \n",
    "rk.addSpecies(\"D+\",-1,atomicA=2.014,charge=1.0,associatedVars=[\"ni\",\"Gi\"])\n",
    "\n",
    "# Set neutrals \n",
    "numNeutrals=1\n",
    "neutralDensList = [\"n\"+str(i) for i in range(1,numNeutrals+1)] # List of neutral density names\n",
    "\n",
    "for neutral in neutralDensList:\n",
    "    rk.addSpecies(\"D\"+neutral[1:],int(neutral[1:]),heavySpeciesMass,associatedVars=[neutral])\n",
    "\n",
    "electronSpecies = rk.getSpecies(\"e\")\n",
    "ionSpecies = rk.getSpecies(\"D+\")"
   ]
  },
  {
   "attachments": {},
   "cell_type": "markdown",
   "metadata": {},
   "source": [
    "#### Handling variables on staggered/dual grid\n",
    "\n",
    "Variables can have the isOnDualGrid option set to true. Then, the variable values live on the dual grid (in 1D this is cell edges).\n"
   ]
  },
  {
   "cell_type": "code",
   "execution_count": null,
   "metadata": {},
   "outputs": [],
   "source": [
    "n = np.ones(Nx)\n",
    "T = 0.5*np.ones(Nx)\n",
    "W = 3*n*T/2\n",
    "# Set conserved variables in container\n",
    "\n",
    "rk.addVarAndDual(\"ne\",n,units='$10^{19} m^{-3}$',isCommunicated=True) #Units are not used by ReMKiT1D, but are useful to specify for later plotting\n",
    "rk.addVarAndDual(\"ni\",n,units='$10^{19} m^{-3}$',isCommunicated=True)\n",
    "rk.addVarAndDual(\"Ge\",primaryOnDualGrid=True,isCommunicated=True) # Ge_dual is evolved, and Ge is derived\n",
    "rk.addVarAndDual(\"Gi\",primaryOnDualGrid=True,isCommunicated=True)\n",
    "\n",
    "# Temperatures\n",
    "rk.addVarAndDual(\"Te\",T,isDerived=True,units='$10eV$',isCommunicated=True)\n",
    "\n",
    "\n",
    "# Set E field\n",
    "\n",
    "rk.addVarAndDual(\"E\",primaryOnDualGrid=True)\n",
    "\n",
    "# Set derived fluid quantities\n",
    "\n",
    "rk.addVarAndDual(\"ue\",isDerived=True,primaryOnDualGrid=True,derivationRule=sc.derivationRule(\"flowSpeedFromFlux\",[\"Ge_dual\",\"ne_dual\"]),isCommunicated=True)\n",
    "rk.addVarAndDual(\"ui\",isDerived=True,primaryOnDualGrid=True,derivationRule=sc.derivationRule(\"flowSpeedFromFlux\",[\"Gi_dual\",\"ni_dual\"]),isCommunicated=True)\n",
    "rk.addVar(\"cs\",isDerived=True,derivationRule=sc.derivationRule(\"sonicSpeedD+\",[\"Te\",\"Te\"]))\n",
    "\n",
    "rk.addVar(\"cs_b\",isDerived=True,isScalar=True,isCommunicated=True,hostScalarProcess=numProcs-numProcsH\n",
    "          ,derivationRule=sc.derivationRule(\"linExtrapRight\",[\"cs\"]))\n",
    "\n",
    "rk.addVar(\"n_b\",isDerived=True,isScalar=True,isCommunicated=True,hostScalarProcess=numProcs-numProcsH\n",
    "          ,derivationRule=sc.derivationRule(\"linExtrapRight\",[\"ne\"]))\n",
    "\n",
    "rk.addVar(\"G_b\",isDerived=True,isScalar=True,isCommunicated=True,hostScalarProcess=numProcs-numProcsH\n",
    "          ,derivationRule=sc.derivationRule(\"boundaryFlux\",[\"ni\",\"ui\",\"cs_b\"]))\n",
    "\n",
    "rk.addVar(\"u_b\",isDerived=True,isScalar=True,isCommunicated=True,hostScalarProcess=numProcs-numProcsH\n",
    "          ,derivationRule=sc.derivationRule(\"flowSpeedFromFlux\",[\"G_b\",\"n_b\"]))\n",
    "\n",
    "# Set scalar quantities \n",
    "rk.addVar(\"time\",isScalar=True,isDerived=True)\n",
    "\n",
    "# Set neutral densities\n",
    "\n",
    "for neut in neutralDensList:\n",
    "        rk.addVarAndDual(neut,units='$10^{19} m^{-3}$',isCommunicated=True)\n",
    "\n",
    "# We need a distribution function to calculate rates from cross-sections built into the code\n",
    "f = np.zeros([gridObj.numX(),gridObj.numH(),gridObj.numV()])\n",
    "for i in range(gridObj.numX()):\n",
    "    f[i,gridObj.getH(0)-1,:] = np.pi**(-1.5) * T[i] ** (-1.5) * n[i] * np.exp(-gridObj.vGrid**2/T[i])\n",
    "rk.addVar(\"f\",f,isDerived=True,isDistribution=True,derivationRule=sc.derivationRule(\"maxwellianDistribution\",[\"Te\",\"ne\"]))\n",
    "\n"
   ]
  },
  {
   "attachments": {},
   "cell_type": "markdown",
   "metadata": {},
   "source": [
    "### Models "
   ]
  },
  {
   "attachments": {},
   "cell_type": "markdown",
   "metadata": {},
   "source": [
    "### Density advection"
   ]
  },
  {
   "cell_type": "code",
   "execution_count": null,
   "metadata": {},
   "outputs": [],
   "source": [
    "#Electron continuity advection\n",
    "\n",
    "#Adding the model tag to tag list\n",
    "modelTag = \"continuity-ne\"\n",
    "\n",
    "#Initializing model using common models \n",
    "electronContModel = cm.staggeredAdvection(modelTag=modelTag, advectedVar=\"ne\",\n",
    "                                          fluxVar=\"Ge_dual\", advectionSpeed=\"ue\", lowerBoundVar=\"cs\", rightOutflow=True)\n",
    "\n",
    "rk.addModel(electronContModel.dict())"
   ]
  },
  {
   "cell_type": "code",
   "execution_count": null,
   "metadata": {},
   "outputs": [],
   "source": [
    "#Ion continuity advection\n",
    "\n",
    "#Adding the model tag to tag list\n",
    "modelTag = \"continuity-ni\"\n",
    "\n",
    "#Initializing model using common models\n",
    "ionContModel = cm.staggeredAdvection(modelTag=modelTag, advectedVar=\"ni\",\n",
    "                                     fluxVar=\"Gi_dual\", advectionSpeed=\"ui\", lowerBoundVar=\"cs\", rightOutflow=True)\n",
    "\n",
    "rk.addModel(ionContModel.dict())"
   ]
  },
  {
   "attachments": {},
   "cell_type": "markdown",
   "metadata": {},
   "source": [
    "### Pressure gradient forces"
   ]
  },
  {
   "cell_type": "code",
   "execution_count": null,
   "metadata": {},
   "outputs": [],
   "source": [
    "#Electron pressure grad\n",
    "\n",
    "#Adding the model tag to tag list\n",
    "modelTag = \"pressureGrad-Ge\"\n",
    "\n",
    "#Initializing model\n",
    "electronPressureGradModel = cm.staggeredPressureGrad(modelTag=modelTag,fluxVar=\"Ge_dual\",densityVar=\"ne\",temperatureVar=\"Te\",speciesMass=elMass)\n",
    "\n",
    "rk.addModel(electronPressureGradModel.dict())"
   ]
  },
  {
   "cell_type": "code",
   "execution_count": null,
   "metadata": {},
   "outputs": [],
   "source": [
    "#Ion pressure grad\n",
    "\n",
    "#Adding the model tag to tag list\n",
    "modelTag = \"pressureGrad-Gi\"\n",
    "\n",
    "#Initializing model\n",
    "ionPressureGradModel = cm.staggeredPressureGrad(modelTag=modelTag,fluxVar=\"Gi_dual\",densityVar=\"ni\",temperatureVar=\"Te\",speciesMass=ionMass)\n",
    "\n",
    "rk.addModel(ionPressureGradModel.dict())"
   ]
  },
  {
   "attachments": {},
   "cell_type": "markdown",
   "metadata": {},
   "source": [
    "### Momentum advection"
   ]
  },
  {
   "cell_type": "code",
   "execution_count": null,
   "metadata": {},
   "outputs": [],
   "source": [
    "#Electron momentum advection\n",
    "\n",
    "#Adding the model tag to tag list\n",
    "modelTag = \"advection-Ge\"\n",
    "\n",
    "#Initializing model\n",
    "electronMomAdvModel = cm.staggeredAdvection(modelTag=modelTag\n",
    "                                        ,advectedVar=\"Ge_dual\"\n",
    "                                        ,fluxVar=\"\"\n",
    "                                        ,advectionSpeed=\"ue\"\n",
    "                                        ,staggeredAdvectionSpeed=\"ue_dual\"\n",
    "                                        ,lowerBoundVar=\"cs\"\n",
    "                                        ,rightOutflow=True,\n",
    "                                        staggeredAdvectedVar=True)\n",
    "\n",
    "rk.addModel(electronMomAdvModel.dict())"
   ]
  },
  {
   "cell_type": "code",
   "execution_count": null,
   "metadata": {},
   "outputs": [],
   "source": [
    "#Ion momentum advection\n",
    "\n",
    "#Adding the model tag to tag list\n",
    "modelTag = \"advection-Gi\"\n",
    "\n",
    "#Initializing model\n",
    "ionMomAdvModel = cm.staggeredAdvection(modelTag=modelTag\n",
    "                                        ,advectedVar=\"Gi_dual\"\n",
    "                                        ,fluxVar=\"\"\n",
    "                                        ,advectionSpeed=\"ui\"\n",
    "                                        ,staggeredAdvectionSpeed=\"ui_dual\"\n",
    "                                        ,lowerBoundVar=\"cs\"\n",
    "                                        ,rightOutflow=True,\n",
    "                                        staggeredAdvectedVar=True)\n",
    "\n",
    "rk.addModel(ionMomAdvModel.dict())"
   ]
  },
  {
   "attachments": {},
   "cell_type": "markdown",
   "metadata": {},
   "source": [
    "### Ampere-Maxwell term and Lorentz force"
   ]
  },
  {
   "cell_type": "code",
   "execution_count": null,
   "metadata": {},
   "outputs": [],
   "source": [
    "#Ampere-Maxwell E field equation \n",
    " \n",
    "#Adding the model tag to tag list\n",
    "modelTag = \"ampereMaxwell\"\n",
    "\n",
    "#Initializing model\n",
    "ampereMawellModel = cm.ampereMaxwell(modelTag=modelTag,\n",
    "                                     eFieldName=\"E_dual\",\n",
    "                                     speciesFluxes=[\"Ge_dual\",\"Gi_dual\"],\n",
    "                                     species=[electronSpecies,ionSpecies])\n",
    "\n",
    "rk.addModel(ampereMawellModel.dict())"
   ]
  },
  {
   "cell_type": "code",
   "execution_count": null,
   "metadata": {},
   "outputs": [],
   "source": [
    "#Lorentz force terms \n",
    " \n",
    "#Adding the model tag to tag list\n",
    "modelTag = \"lorentzForce\"\n",
    "\n",
    "#Initializing model\n",
    "lorentzForceModel = cm.lorentzForces(modelTag=modelTag,\n",
    "                                     eFieldName=\"E_dual\",\n",
    "                                     speciesFluxes=[\"Ge_dual\",\"Gi_dual\"],\n",
    "                                     speciesDensities=[\"ne_dual\",\"ni_dual\"],\n",
    "                                     species=[electronSpecies,ionSpecies])\n",
    "\n",
    "rk.addModel(lorentzForceModel.dict())"
   ]
  },
  {
   "attachments": {},
   "cell_type": "markdown",
   "metadata": {},
   "source": [
    "### Neutral diffusion and recycling"
   ]
  },
  {
   "cell_type": "code",
   "execution_count": null,
   "metadata": {},
   "outputs": [],
   "source": [
    "# Ground state diffusion and recyling\n",
    "\n",
    "#Adding the model tag to tag list\n",
    "modelTag = \"neutDyn\"\n",
    "\n",
    "#Initializing model\n",
    "neutDynModel = sc.CustomModel(modelTag=modelTag)\n",
    "\n",
    "recConst = 1.0 # Recycling coef\n",
    "normConstRec = sc.CustomNormConst(multConst=recConst,normNames=[\"speed\",\"time\",\"length\"],normPowers=[1.0,1.0,-1.0])\n",
    "\n",
    "sigmaCx = [3.0e-19, 2**4 * 1.0e-19, 3**4 * 7.0e-20] + [i**4 * 6.0e-20 for i in range(4,numNeutrals+1)]\n",
    "normConstDiff = [sc.CustomNormConst(multConst = np.sqrt(elMass/ionMass) / (sigmaCx[i] / sigmaNorm), normNames=[\"density\",\"length\",\"crossSection\"],normPowers=[-1.0,-1.0,-1.0]) for i in range(numNeutrals)]\n",
    "\n",
    "# Diffusion term\n",
    "for i in range(numNeutrals):\n",
    "    evolvedVar = \"n\" + str(i+1)\n",
    "    implicitVar = \"n\" + str(i+1)\n",
    "    diffTerm = sc.GeneralMatrixTerm(evolvedVar,implicitVar,customNormConst=normConstDiff[i],stencilData=sc.diffusionStencil(\"neutDiffD\",[\"ni_dual\"],doNotInterpolate=True))\n",
    "    neutDynModel.addTerm(\"neutralDiff\"+str(i+1),diffTerm)\n",
    "\n",
    "#Recycling term \n",
    "\n",
    "#Recycling term \n",
    "evolvedVar = \"n1\"\n",
    "implicitVar = \"ni\"\n",
    "recTerm = sc.GeneralMatrixTerm(evolvedVar,implicitVar,customNormConst=normConstRec,stencilData=sc.boundaryStencilDiv(\"ui\",\"cs\"),implicitGroups=[2])\n",
    "neutDynModel.addTerm(\"recyclingTerm\",recTerm)\n",
    "\n",
    "rk.addModel(neutDynModel.dict())"
   ]
  },
  {
   "attachments": {},
   "cell_type": "markdown",
   "metadata": {},
   "source": [
    "### CX friction"
   ]
  },
  {
   "cell_type": "code",
   "execution_count": null,
   "metadata": {},
   "outputs": [],
   "source": [
    "#Ion-neutral CX friction force terms \n",
    " \n",
    "#Adding the model tag to tag list\n",
    "modelTag = \"inFriction\"\n",
    "\n",
    "mbData = sc.VarlikeModelboundData()\n",
    "mbData.addVariable(\"abs_ui\",derivationRule=sc.derivationRule(\"absDeriv\",[\"ui_dual\"]))\n",
    "\n",
    "#Initializing model\n",
    "inFrictionModel = sc.CustomModel(modelTag=modelTag)\n",
    "\n",
    "inFrictionModel.setModelboundData(mbData.dict())\n",
    "\n",
    "# Use constant low-energy CX cross-sections\n",
    "sigmaCx = [3.0e-19, 2**4 * 1.0e-19, 3**4 * 7.0e-20] + [i**4 * 6.0e-20 for i in range(4,numNeutrals+1)]\n",
    "\n",
    "# Setting normalization constant calculation \n",
    "normConstCX = [sc.CustomNormConst(multConst=-sigmaCx[i]/sigmaNorm,normNames=[\"time\",\"density\",\"speed\",\"crossSection\"],normPowers=[1.0,1.0,1.0,1.0]) for i in range(numNeutrals)]\n",
    "\n",
    "vDataIonCX = [sc.VarData(reqRowVars=[\"n\" + str(i+1)+\"_dual\"],reqMBRowVars=[\"abs_ui\"])  for i in range(numNeutrals)]\n",
    "\n",
    "#Ion friction term \n",
    "\n",
    "evolvedVar = \"Gi_dual\"\n",
    "\n",
    "implicitVar = \"Gi_dual\"\n",
    "\n",
    "ionCXFriction = [sc.GeneralMatrixTerm(evolvedVar,implicitVar=implicitVar,customNormConst=normConstCX[i],varData=vDataIonCX[i],stencilData=sc.diagonalStencil()) for i in range(numNeutrals)]\n",
    "\n",
    "for i in range(numNeutrals):\n",
    "    inFrictionModel.addTerm(\"iFriction_cx\"+str(i+1),ionCXFriction[i])\n",
    "\n",
    "rk.addModel(inFrictionModel.dict())"
   ]
  },
  {
   "attachments": {},
   "cell_type": "markdown",
   "metadata": {},
   "source": [
    "### CRM density and energy evolution"
   ]
  },
  {
   "cell_type": "code",
   "execution_count": null,
   "metadata": {},
   "outputs": [],
   "source": [
    "includedJanevTransitions = [\"ion\"] \n",
    "mbData = crm.ModelboundCRMData()\n",
    "crm.addJanevTransitionsToCRMData(mbData,numNeutrals,tempNorm,\"f\",\"Te\",detailedBalanceCSPriority=1,processes=includedJanevTransitions)\n"
   ]
  },
  {
   "cell_type": "code",
   "execution_count": null,
   "metadata": {},
   "outputs": [],
   "source": [
    "#CRM model\n",
    " \n",
    "#Adding the model tag to tag list\n",
    "modelTag = \"CRMmodel\"\n",
    "\n",
    "#Initializing model\n",
    "crmModel = sc.CustomModel(modelTag=modelTag)\n",
    "\n",
    "crmModel.setModelboundData(mbData.dict())\n",
    "\n",
    "#Add ionization term generator for ions\n",
    "ionInds,ionEnergies = mbData.getTransitionIndicesAndEnergies(\"JanevIon\")\n",
    "crmTermGeneratorIon = crm.termGeneratorCRM(implicitTermGroups=[2],evolvedSpeciesIDs=[-1],includedTransitionIndices=ionInds)\n",
    "crmModel.addTermGenerator(\"crmTermGenIonIonization\",crmTermGeneratorIon)\n",
    "\n",
    "#Add all other terms for other particle species\n",
    "crmTermGenerator = crm.termGeneratorCRM(evolvedSpeciesIDs=[0]+[i+1 for i in range(numNeutrals)])\n",
    "\n",
    "crmModel.addTermGenerator(\"crmTermGen\",crmTermGenerator)\n",
    "\n",
    "rk.addModel(crmModel.dict())"
   ]
  },
  {
   "attachments": {},
   "cell_type": "markdown",
   "metadata": {},
   "source": [
    "### Integrator options\n",
    "\n",
    "ReMKiT1D allows for highly customizable integrator options, with the default integrator being a composite integrator object containing Runge-Kutta explicit and Backwards Euler (with Picard iterations) implicit integrators. The properties of individual integrators can be modified and the integrators arranged in integration steps to produce more complicated integration schemes, such as Strang splitting. \n",
    "\n",
    "In this example only the Backwards Euler integrator is used, as set up below."
   ]
  },
  {
   "cell_type": "code",
   "execution_count": null,
   "metadata": {},
   "outputs": [],
   "source": [
    "integrator = sc.picardBDEIntegrator(absTol=100.0,convergenceVars=[\"ne\",\"ni\",\"Ge_dual\",\"Gi_dual\",\"n1\"]) \n",
    "\n",
    "rk.addIntegrator(\"BE\",integrator)"
   ]
  },
  {
   "attachments": {},
   "cell_type": "markdown",
   "metadata": {},
   "source": [
    "### Timestep control\n",
    "\n",
    "Here the timestep is rescaled based on collisionality."
   ]
  },
  {
   "cell_type": "code",
   "execution_count": null,
   "metadata": {},
   "outputs": [],
   "source": [
    "initialTimestep=10.0\n",
    "\n",
    "rk.setIntegratorGlobalData(3,2,initialTimestep) \n",
    "\n",
    "timestepControllerOptions = sc.scalingTimestepController([\"ne\",\"Te\"],[-1.0,1.5])\n",
    "\n",
    "rk.setTimestepController(timestepControllerOptions)"
   ]
  },
  {
   "attachments": {},
   "cell_type": "markdown",
   "metadata": {},
   "source": [
    "### Controlling integration steps\n",
    "\n",
    "As mentioned above, ReMKiT1D alows for composing integrators in a sequence using integration steps. \n",
    "\n",
    "This example uses the simplest behaviour - a single step integration"
   ]
  },
  {
   "cell_type": "code",
   "execution_count": null,
   "metadata": {},
   "outputs": [],
   "source": [
    "bdeStep = sc.IntegrationStep(\"BE\",defaultEvaluateGroups=[1,2,3],defaultUpdateModelData=True,defaultUpdateGroups=[1,2,3])\n",
    "\n",
    "for tag in rk.modelTags():\n",
    "    bdeStep.addModel(tag)\n",
    "\n",
    "rk.addIntegrationStep(\"StepBDE\",bdeStep.dict())"
   ]
  },
  {
   "attachments": {},
   "cell_type": "markdown",
   "metadata": {},
   "source": [
    "### Time loop options\n",
    "\n",
    "The main part of ReMKiT1D is the time loop, where the variables are advanced through time by repeatedly calling the integrators defined above. The following shows a way to set timeloop options based on a time target:"
   ]
  },
  {
   "cell_type": "code",
   "execution_count": null,
   "metadata": {},
   "outputs": [],
   "source": [
    "rk.setTimeTargetTimestepping(160000.0)\n",
    "rk.setMinimumIntervalOutput(8000.0)\n",
    "rk.setRestartOptions(True, False, 1000) #Change to True when restarting"
   ]
  },
  {
   "cell_type": "code",
   "execution_count": null,
   "metadata": {},
   "outputs": [],
   "source": [
    "terms = rk.getTermsThatEvolveVar(\"ne\")\n",
    "\n",
    "for pair in terms:\n",
    "    model,term=pair\n",
    "    rk.addVar(model+term,isDerived=True)\n",
    "    rk.addManipulator(model+term,sc.termEvaluatorManipulator([pair],model+term))"
   ]
  },
  {
   "cell_type": "code",
   "execution_count": null,
   "metadata": {},
   "outputs": [],
   "source": [
    "terms = rk.getTermsThatEvolveVar(\"Ge_dual\")\n",
    "\n",
    "for pair in terms:\n",
    "    model,term=pair\n",
    "    rk.addVar(model+term,isDerived=True)\n",
    "    rk.addManipulator(model+term,sc.termEvaluatorManipulator([pair],model+term))"
   ]
  },
  {
   "cell_type": "code",
   "execution_count": null,
   "metadata": {},
   "outputs": [],
   "source": [
    "terms = rk.getTermsThatEvolveVar(\"Gi_dual\")\n",
    "\n",
    "for pair in terms:\n",
    "    model,term=pair\n",
    "    rk.addVar(model+term,isDerived=True)\n",
    "    rk.addManipulator(model+term,sc.termEvaluatorManipulator([pair],model+term))"
   ]
  },
  {
   "cell_type": "code",
   "execution_count": null,
   "metadata": {},
   "outputs": [],
   "source": [
    "terms = rk.getTermsThatEvolveVar(\"n1\")\n",
    "\n",
    "for pair in terms:\n",
    "    model,term=pair\n",
    "    rk.addVar(model+term,isDerived=True)\n",
    "    rk.addManipulator(model+term,sc.termEvaluatorManipulator([pair],model+term))"
   ]
  },
  {
   "cell_type": "code",
   "execution_count": null,
   "metadata": {},
   "outputs": [],
   "source": [
    "terms = rk.getTermsThatEvolveVar(\"E_dual\")\n",
    "\n",
    "for pair in terms:\n",
    "    model,term=pair\n",
    "    rk.addVar(model+term,isDerived=True)\n",
    "    rk.addManipulator(model+term,sc.termEvaluatorManipulator([pair],model+term))"
   ]
  },
  {
   "cell_type": "code",
   "execution_count": null,
   "metadata": {},
   "outputs": [],
   "source": [
    "rk.addVar(\"ionsource\",isDerived=True)\n",
    "rk.addManipulator(\"ionsource\",sc.groupEvaluatorManipulator(\"CRMmodel\",2,\"ionsource\"))"
   ]
  },
  {
   "attachments": {},
   "cell_type": "markdown",
   "metadata": {},
   "source": [
    "### Write config file"
   ]
  },
  {
   "cell_type": "code",
   "execution_count": null,
   "metadata": {},
   "outputs": [],
   "source": [
    "rk.writeConfigFile()"
   ]
  },
  {
   "attachments": {},
   "cell_type": "markdown",
   "metadata": {},
   "source": [
    "### Data analysis"
   ]
  },
  {
   "cell_type": "code",
   "execution_count": null,
   "metadata": {},
   "outputs": [],
   "source": [
    "numFiles = 20"
   ]
  },
  {
   "cell_type": "code",
   "execution_count": null,
   "metadata": {},
   "outputs": [],
   "source": [
    "loadFilenames = [hdf5Filepath+f'ReMKiT1DVarOutput_{i}.h5' for i in range(numFiles+1)]"
   ]
  },
  {
   "cell_type": "code",
   "execution_count": null,
   "metadata": {},
   "outputs": [],
   "source": [
    "loadedData = io.loadFromHDF5(rk.varCont,filepaths=loadFilenames,varsToIgnore=[\"ionGamma\"])\n",
    "loadedData"
   ]
  },
  {
   "cell_type": "code",
   "execution_count": null,
   "metadata": {},
   "outputs": [],
   "source": [
    "hv.extension('matplotlib')\n",
    "%matplotlib inline \n",
    "plt.rcParams['figure.dpi'] = 150\n",
    "hv.output(size=100,dpi=150)"
   ]
  },
  {
   "attachments": {},
   "cell_type": "markdown",
   "metadata": {},
   "source": [
    "#### Explore data using basic dashboard"
   ]
  },
  {
   "cell_type": "code",
   "execution_count": null,
   "metadata": {},
   "outputs": [],
   "source": [
    "pn.extension(comms=\"vscode\") # change comms if not using VSCode\n",
    "dashboard = ds.ReMKiT1DDashboard(loadedData,gridObj)\n",
    "\n",
    "dashboard.fluid2Comparison().show()\n"
   ]
  }
 ],
 "metadata": {
  "kernelspec": {
   "display_name": "Python 3",
   "language": "python",
   "name": "python3"
  },
  "language_info": {
   "codemirror_mode": {
    "name": "ipython",
    "version": 3
   },
   "file_extension": ".py",
   "mimetype": "text/x-python",
   "name": "python",
   "nbconvert_exporter": "python",
   "pygments_lexer": "ipython3",
   "version": "3.8.10"
  },
  "orig_nbformat": 4,
  "vscode": {
   "interpreter": {
    "hash": "916dbcbb3f70747c44a77c7bcd40155683ae19c65e1c03b4aa3499c5328201f1"
   }
  }
 },
 "nbformat": 4,
 "nbformat_minor": 2
}
