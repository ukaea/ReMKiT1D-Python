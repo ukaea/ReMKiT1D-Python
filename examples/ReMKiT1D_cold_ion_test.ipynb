{
 "cells": [
  {
   "attachments": {},
   "cell_type": "markdown",
   "metadata": {},
   "source": [
    "## ReMKiT1D input generator - Flowing cold ion collision integral test\n",
    "This example tests whether the cold ion collision integral reproduces the expected analytical value in the low flow limit.\n",
    "\n",
    "This test corresponds to the thirds test in Section 5.2.2. of the ReMKiT1D code paper."
   ]
  },
  {
   "cell_type": "code",
   "execution_count": null,
   "metadata": {},
   "outputs": [],
   "source": [
    "import numpy as np\n",
    "import xarray as xr\n",
    "import holoviews as hv\n",
    "import matplotlib.pyplot as plt\n",
    "import matplotlib as mpl\n",
    "from holoviews import opts\n",
    "import panel as pn\n",
    "\n",
    "import sys\n",
    "sys.path.append('../')\n",
    "from RMK_support import RKWrapper ,Grid\n",
    "import RMK_support.simple_containers as sc\n",
    "import RMK_support.IO_support as io\n",
    "import RMK_support.dashboard_support as ds\n",
    "import RMK_support.common_models as cm\n",
    "\n"
   ]
  },
  {
   "attachments": {},
   "cell_type": "markdown",
   "metadata": {},
   "source": [
    "### Some useful constants"
   ]
  },
  {
   "cell_type": "code",
   "execution_count": null,
   "metadata": {},
   "outputs": [],
   "source": [
    "elCharge = 1.60218e-19\n",
    "elMass = 9.10938e-31\n",
    "amu = 1.6605390666e-27  # atomic mass unit\n",
    "ionMass = 2.014*amu  # deuterium mass\n",
    "epsilon0 = 8.854188e-12  # vacuum permittivity\n",
    "heavySpeciesMass = 2.014  # in amus\n"
   ]
  },
  {
   "attachments": {},
   "cell_type": "markdown",
   "metadata": {},
   "source": [
    "### Wrapper initialization"
   ]
  },
  {
   "cell_type": "code",
   "execution_count": null,
   "metadata": {},
   "outputs": [],
   "source": [
    "rk = RKWrapper()\n"
   ]
  },
  {
   "attachments": {},
   "cell_type": "markdown",
   "metadata": {},
   "source": [
    "### Global parameters for IO files"
   ]
  },
  {
   "cell_type": "code",
   "execution_count": null,
   "metadata": {},
   "outputs": [],
   "source": [
    "rk.jsonFilepath = \"./config.json\"  # Default value\n",
    "hdf5Filepath = \"./RMKOutput/RMK_CI_test/\"\n",
    "rk.setHDF5Path(hdf5Filepath)\n"
   ]
  },
  {
   "attachments": {},
   "cell_type": "markdown",
   "metadata": {},
   "source": [
    "### Setting options for external libraries used by ReMKiT1D"
   ]
  },
  {
   "attachments": {},
   "cell_type": "markdown",
   "metadata": {},
   "source": [
    "#### MPI\n"
   ]
  },
  {
   "cell_type": "code",
   "execution_count": null,
   "metadata": {},
   "outputs": [],
   "source": [
    "numProcsX = 4  # Number of processes in x direction\n",
    "numProcsH = 1  # Number of processes in harmonic\n",
    "numProcs = numProcsX * numProcsH\n",
    "haloWidth = 1  # Halo width in cells\n",
    "\n",
    "rk.setMPIData(numProcsX, numProcsH, haloWidth)\n"
   ]
  },
  {
   "attachments": {},
   "cell_type": "markdown",
   "metadata": {},
   "source": [
    "### Normalization setup"
   ]
  },
  {
   "cell_type": "code",
   "execution_count": null,
   "metadata": {},
   "outputs": [],
   "source": [
    "rk.setNormDensity(1.0e19)\n",
    "rk.setNormTemperature(100.0)\n",
    "rk.setNormRefZ(1.0)\n"
   ]
  },
  {
   "attachments": {},
   "cell_type": "markdown",
   "metadata": {},
   "source": [
    "### Grid setup"
   ]
  },
  {
   "cell_type": "code",
   "execution_count": null,
   "metadata": {},
   "outputs": [],
   "source": [
    "xGrid = 150*np.ones(64)\n",
    "dv0 = 0.0307\n",
    "cv = 1.025\n",
    "vGrid = [dv0]\n",
    "for i in range(1,120):\n",
    "    vGrid.append(vGrid[i-1]*cv)\n",
    "lMax = 1\n",
    "gridObj = Grid(xGrid, np.array(vGrid), lMax, interpretXGridAsWidths=True, interpretVGridAsWidths=True, isPeriodic=True)\n",
    "L = sum(xGrid)"
   ]
  },
  {
   "cell_type": "code",
   "execution_count": null,
   "metadata": {},
   "outputs": [],
   "source": [
    "# Add the grid to the wrapper\n",
    "rk.grid = gridObj\n"
   ]
  },
  {
   "attachments": {},
   "cell_type": "markdown",
   "metadata": {},
   "source": [
    "### Set default species and temperature derivations"
   ]
  },
  {
   "cell_type": "code",
   "execution_count": null,
   "metadata": {},
   "outputs": [],
   "source": [
    "rk.setStandardTextbookOptions([0])\n",
    "\n",
    "rk.addSpecies(\"e\", 0)\n",
    "rk.addSpecies(\"D+\", -1, atomicA=2.014, charge=1.0)\n"
   ]
  },
  {
   "attachments": {},
   "cell_type": "markdown",
   "metadata": {},
   "source": [
    "### Variables"
   ]
  },
  {
   "cell_type": "code",
   "execution_count": null,
   "metadata": {},
   "outputs": [],
   "source": [
    "n = np.ones(gridObj.numX())\n",
    "u = 0.0001*np.ones(gridObj.numX()) # Slow flow in order to reproduce the analytical solution.\n",
    "\n",
    "T = np.ones(gridObj.numX())\n",
    "W = 3*n*T/2\n",
    "f = np.zeros([gridObj.numX(),gridObj.numH(),gridObj.numV()])\n",
    "for i in range(gridObj.numX()):\n",
    "    f[i,gridObj.getH(0)-1,:] = (np.pi*T[i])**(-1.5) * n[i]* np.exp(-gridObj.vGrid**2/T[i])\n",
    "\n",
    "# Rescale distribution function to ensure that the numerical density moment agrees with the initial values\n",
    "numerical_dens = gridObj.velocityMoment(f,0,1)\n",
    "for i in range(gridObj.numX()):\n",
    "    f[i,gridObj.getH(0)-1,:] = n[i] *f[i,gridObj.getH(0)-1,:]/numerical_dens[i]\n",
    "    \n",
    "rk.addVarAndDual(\"f\",f,isDistribution=True,isCommunicated=True)\n",
    "rk.addVar(\"W\",W,units='$10eV$',isDerived=True,derivationRule=sc.derivationRule(\"energyMoment\",[\"f\"]))\n",
    "rk.addVarAndDual(\"n\",n,units='$10^{19} m^{-3}$',isDerived=True,derivationRule=sc.derivationRule(\"densityMoment\",[\"f\"]))\n",
    "rk.addVarAndDual(\"ni\",n)\n",
    "rk.addVarAndDual(\"Gi\",n*u,primaryOnDualGrid=True)\n",
    "rk.addVar(\"ui\",u,isDerived=True,derivationRule=sc.derivationRule(\"flowSpeedFromFlux\",[\"Gi_dual\",\"ni_dual\"]))\n",
    "rk.addVarAndDual(\"G\",isDerived=True,primaryOnDualGrid=True,derivationRule=sc.derivationRule(\"fluxMoment\",[\"f\"]))\n",
    "rk.addVarAndDual(\"u\",isDerived=True,primaryOnDualGrid=True,derivationRule=sc.derivationRule(\"flowSpeedFromFlux\",[\"G_dual\",\"n_dual\"]),isCommunicated=True)\n",
    "rk.addVarAndDual(\"T\",T,isDerived=True,derivationRule=sc.derivationRule(\"tempFromEnergye\",[\"W\",\"n\",\"G\"]),isCommunicated=True)\n",
    "rk.addVar(\"time\",isScalar=True,isDerived=True)\n"
   ]
  },
  {
   "attachments": {},
   "cell_type": "markdown",
   "metadata": {},
   "source": [
    "## Adding the flowing cold ion electron-ion model\n",
    "\n",
    "This model is implemented in common_models.py and only used here."
   ]
  },
  {
   "cell_type": "code",
   "execution_count": null,
   "metadata": {},
   "outputs": [],
   "source": [
    "cm.addFlowingIonEIColl(modelTag=\"e-i_odd\",\n",
    "                          distFunName=\"f\",\n",
    "                          ionDensVar=\"ni\",\n",
    "                          ionFlowSpeedVar=\"ui\",\n",
    "                          electronDensVar=\"n_dual\",\n",
    "                          electronTempVar=\"T_dual\",\n",
    "                          ionSpeciesName=\"D+\",\n",
    "                          evolvedHarmonics=list(range(2, gridObj.numH()+1, 2)),\n",
    "                          wrapper=rk,\n",
    "                          dualDistFun=\"f_dual\",\n",
    "                          ionFluxVar=\"Gi_dual\")"
   ]
  },
  {
   "attachments": {},
   "cell_type": "markdown",
   "metadata": {},
   "source": [
    "### Integrator and timestep options\n",
    "\n",
    "Simple single step backwards Euler integration"
   ]
  },
  {
   "cell_type": "code",
   "execution_count": null,
   "metadata": {},
   "outputs": [],
   "source": [
    "# Everything default except for more lenient absolute convergence tolerance\n",
    "integrator = sc.picardBDEIntegrator(absTol=10.0, convergenceVars=[\"f\",\"Gi_dual\"],nonlinTol=1e-14)\n",
    "\n",
    "rk.addIntegrator(\"BE\", integrator)\n"
   ]
  },
  {
   "attachments": {},
   "cell_type": "markdown",
   "metadata": {},
   "source": [
    "Set initial timestep length and numbers of allowed implicit and general groups"
   ]
  },
  {
   "cell_type": "code",
   "execution_count": null,
   "metadata": {},
   "outputs": [],
   "source": [
    "initialTimestep = 0.1\n",
    "\n",
    "rk.setIntegratorGlobalData(1,1, initialTimestep)\n"
   ]
  },
  {
   "attachments": {},
   "cell_type": "markdown",
   "metadata": {},
   "source": [
    "Single integration step"
   ]
  },
  {
   "cell_type": "code",
   "execution_count": null,
   "metadata": {},
   "outputs": [],
   "source": [
    "bdeStep = sc.IntegrationStep(\"BE\")\n",
    "\n",
    "for tag in rk.modelTags():\n",
    "    bdeStep.addModel(tag)\n",
    "\n",
    "rk.addIntegrationStep(\"BE1\", bdeStep.dict())\n"
   ]
  },
  {
   "attachments": {},
   "cell_type": "markdown",
   "metadata": {},
   "source": [
    "#### Timeloop options"
   ]
  },
  {
   "cell_type": "code",
   "execution_count": null,
   "metadata": {},
   "outputs": [],
   "source": [
    "rk.setFixedNumTimesteps(1000)\n",
    "rk.setFixedStepOutput(100)\n"
   ]
  },
  {
   "attachments": {},
   "cell_type": "markdown",
   "metadata": {},
   "source": [
    "### Create config file"
   ]
  },
  {
   "cell_type": "code",
   "execution_count": null,
   "metadata": {},
   "outputs": [],
   "source": [
    "rk.writeConfigFile()\n"
   ]
  },
  {
   "attachments": {},
   "cell_type": "markdown",
   "metadata": {},
   "source": [
    "### Data analysis\n"
   ]
  },
  {
   "cell_type": "code",
   "execution_count": null,
   "metadata": {},
   "outputs": [],
   "source": [
    "numFiles = 10"
   ]
  },
  {
   "attachments": {},
   "cell_type": "markdown",
   "metadata": {},
   "source": [
    "#### Loading data\n",
    "\n",
    "Set loadpath to ReMKiT1D directory"
   ]
  },
  {
   "cell_type": "code",
   "execution_count": null,
   "metadata": {},
   "outputs": [],
   "source": [
    "loadpath = hdf5Filepath\n",
    "loadFilenames = [loadpath+f'ReMKiT1DVarOutput_{i}.h5' for i in range(numFiles+1)]\n"
   ]
  },
  {
   "cell_type": "code",
   "execution_count": null,
   "metadata": {},
   "outputs": [],
   "source": [
    "loadedData = io.loadFromHDF5(rk.varCont, filepaths=loadFilenames)\n",
    "loadedData\n"
   ]
  },
  {
   "cell_type": "code",
   "execution_count": null,
   "metadata": {},
   "outputs": [],
   "source": [
    "loadedData.coords['x'].attrs['units'] = \"$x_0$\"\n",
    "loadedData.coords['v'].attrs['units'] = \"$v_{th}$\"\n",
    "loadedData.coords['time'].attrs['standard_name'] = 't'\n",
    "loadedData.coords['time'].attrs['units'] = \"$t_0$\"\n"
   ]
  },
  {
   "cell_type": "code",
   "execution_count": null,
   "metadata": {},
   "outputs": [],
   "source": [
    "hv.extension('matplotlib')\n",
    "%matplotlib inline\n",
    "plt.rcParams['figure.dpi'] = 150\n",
    "hv.output(size=80, dpi=150)\n"
   ]
  },
  {
   "attachments": {},
   "cell_type": "markdown",
   "metadata": {},
   "source": [
    "### Relative velocity error"
   ]
  },
  {
   "cell_type": "code",
   "execution_count": null,
   "metadata": {},
   "outputs": [],
   "source": [
    "abs(loadedData[\"u\"].data[-1,0]-loadedData[\"ui\"].data[-1,0])/loadedData[\"ui\"].data[-1,0]"
   ]
  },
  {
   "attachments": {},
   "cell_type": "markdown",
   "metadata": {},
   "source": [
    "### Compare with analytic solution"
   ]
  },
  {
   "cell_type": "code",
   "execution_count": null,
   "metadata": {},
   "outputs": [],
   "source": [
    "f_analytic = np.zeros([gridObj.numX(),gridObj.numV()])\n",
    "final_ue=loadedData[\"u\"].data[-1,:]\n",
    "for i in range(gridObj.numX()):\n",
    "    f_analytic[i,:] = 2*final_ue[i]*gridObj.vGrid *(np.pi*T[i])**(-1.5) * n[i]* np.exp(-gridObj.vGrid**2/T[i])/T[i]"
   ]
  },
  {
   "cell_type": "code",
   "execution_count": null,
   "metadata": {},
   "outputs": [],
   "source": [
    "dataName = 'f'\n",
    "curve = hv.Curve((gridObj.vGrid,f_analytic[0,:]),label='Analytical formula') *hv.Scatter((gridObj.vGrid,loadedData[\"f\"].data[-1,0,1,:]),label='Numerical result').opts(s=6.0,color='r',marker='x')\n",
    "curve.opts(xlabel='v [$v_{th}$]',ylabel='f$_1$ [normalized units]')"
   ]
  },
  {
   "attachments": {},
   "cell_type": "markdown",
   "metadata": {},
   "source": [
    "### Relative total momentum error"
   ]
  },
  {
   "cell_type": "code",
   "execution_count": null,
   "metadata": {},
   "outputs": [],
   "source": [
    "initMom = loadedData[\"G_dual\"][0,0]*elMass/ionMass +loadedData[\"Gi_dual\"][0,0]   # initial momentum in electron units\n",
    "endMom = loadedData[\"G_dual\"][:,0]*elMass/ionMass +loadedData[\"Gi_dual\"][:,0]  # final momentum in electron units\n",
    "\n",
    "momErr=abs(endMom-initMom)/initMom"
   ]
  },
  {
   "cell_type": "code",
   "execution_count": null,
   "metadata": {},
   "outputs": [],
   "source": [
    "momErr"
   ]
  },
  {
   "cell_type": "code",
   "execution_count": null,
   "metadata": {},
   "outputs": [],
   "source": [
    "hv.output(fig='pdf')\n",
    "hv.save(curve.opts(xlabel='v [$v_{th}$]',ylabel='f$_1$ [normalized units]'), 'e-if1Relaxation.pdf', dpi=144)"
   ]
  }
 ],
 "metadata": {
  "kernelspec": {
   "display_name": "Python 3.9.5 64-bit",
   "language": "python",
   "name": "python3"
  },
  "language_info": {
   "codemirror_mode": {
    "name": "ipython",
    "version": 3
   },
   "file_extension": ".py",
   "mimetype": "text/x-python",
   "name": "python",
   "nbconvert_exporter": "python",
   "pygments_lexer": "ipython3",
   "version": "3.8.10"
  },
  "orig_nbformat": 4,
  "vscode": {
   "interpreter": {
    "hash": "31f2aee4e71d21fbe5cf8b01ff0e069b9275f58929596ceb00d14d90e3e16cd6"
   }
  }
 },
 "nbformat": 4,
 "nbformat_minor": 2
}
