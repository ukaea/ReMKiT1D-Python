{
 "cells": [
  {
   "cell_type": "markdown",
   "metadata": {},
   "source": [
    "## Example - 2-fluid problem with no outflow boundary conditions - MMS\n",
    "\n",
    "This notebook generates the Method of Manufactured Solutions test from the ReMKiT1D paper. See section 5.1.2. in that paper for more details.\n",
    "\n",
    "This is the v2.0.0 rewrite of the original notebook.\n",
    "\n",
    "**NOTE**: Due to changes to some operator conventions in v2.0.0 the exact numerical values of the errors from the paper are not exactly replicated, but the MMS convergence is reproduced, as expected."
   ]
  },
  {
   "cell_type": "code",
   "execution_count": null,
   "metadata": {},
   "outputs": [],
   "source": [
    "import RMK_support as rmk \n",
    "import RMK_support.common_models as cm\n",
    "import RMK_support.dashboard_support as ds\n",
    "\n",
    "import numpy as np\n",
    "import holoviews as hv\n",
    "import matplotlib.pyplot as plt\n",
    "import panel as pn\n",
    "import pickle"
   ]
  },
  {
   "cell_type": "markdown",
   "metadata": {},
   "source": [
    "### Some useful constants"
   ]
  },
  {
   "cell_type": "code",
   "execution_count": null,
   "metadata": {},
   "outputs": [],
   "source": [
    "elCharge = 1.60218e-19\n",
    "elMass = 9.10938e-31\n",
    "amu = 1.6605390666e-27 #atomic mass unit\n",
    "ionMass = 2.014*amu # deuterium mass\n",
    "epsilon0 = 8.854188e-12 #vacuum permittivity \n",
    "heavySpeciesMass = 2.014 #in amus"
   ]
  },
  {
   "cell_type": "markdown",
   "metadata": {},
   "source": [
    "### Context initialisation "
   ]
  },
  {
   "cell_type": "code",
   "execution_count": null,
   "metadata": {},
   "outputs": [],
   "source": [
    "rk = rmk.RMKContext()\n",
    "\n",
    "rk.mpiContext = rmk.MPIContext(8)\n",
    "rk.IOContext = rmk.IOContext(HDF5Dir=\"./RMKOutput/RMK_MMS_test/\")"
   ]
  },
  {
   "cell_type": "markdown",
   "metadata": {},
   "source": [
    "### Grid initialisation"
   ]
  },
  {
   "cell_type": "code",
   "execution_count": null,
   "metadata": {},
   "outputs": [],
   "source": [
    "L=10\n",
    "Nx = 1024\n",
    "xGridWidths = L/Nx*np.ones(Nx)\n",
    "rk.grid = rmk.Grid(xGridWidths,interpretXGridAsWidths=True,isLengthInMeters=True)"
   ]
  },
  {
   "cell_type": "markdown",
   "metadata": {},
   "source": [
    "### Species data"
   ]
  },
  {
   "cell_type": "code",
   "execution_count": null,
   "metadata": {},
   "outputs": [],
   "source": [
    "electronSpecies = rmk.Species(\"e\",0,atomicA=elMass/amu,charge=-1.0) \n",
    "\n",
    "ionSpecies = rmk.Species(\"D+\",-1,atomicA=2.014,charge=1.0)\n",
    "\n",
    "rk.species.add(electronSpecies,ionSpecies)"
   ]
  },
  {
   "cell_type": "markdown",
   "metadata": {},
   "source": [
    "### Calculate variable initial values based on MMS test"
   ]
  },
  {
   "cell_type": "code",
   "execution_count": null,
   "metadata": {},
   "outputs": [],
   "source": [
    "# Manufactured solution terms\n",
    "\n",
    "lengthNorm = rk.norms[\"length\"]\n",
    "dualGrid = rk.grid.xGridDual\n",
    "dn = 0.1\n",
    "n_MMS = np.ones(Nx) + dn * (rk.grid.xGrid-L)/L\n",
    "ndual_MMS = np.ones(Nx) + dn * (dualGrid-L)/L\n",
    "\n",
    "T0 = 0.5\n",
    "u0 = 0.01\n",
    "\n",
    "u_MMS = -u0 * rk.grid.xGrid*(rk.grid.xGrid-L)/L**2\n",
    "udual_MMS = -u0 *  dualGrid*((dualGrid-L)/L)/L\n",
    "dudx = -u0*(2*rk.grid.xGrid-L)/L**2*lengthNorm\n",
    "dudualdx = -u0*(2*dualGrid-L)/L**2*lengthNorm\n",
    "\n",
    "gamma_MMS = n_MMS * u_MMS \n",
    "gammadual_MMS = ndual_MMS*udual_MMS\n",
    "\n",
    "dndx = dn/L*lengthNorm\n",
    "\n",
    "dGamma = dndx*u_MMS+dudx*n_MMS\n",
    "dGammadual = dndx*udual_MMS + dudualdx*ndual_MMS\n",
    "duGammadual = dGammadual*udual_MMS + dudualdx*gammadual_MMS\n",
    "\n",
    "fixBoundaryCells = False\n",
    "# Numerically modify duGammadual to account for fact ReMKiT1D uses extended boundary cells on staggered grid\n",
    "if fixBoundaryCells:\n",
    "    duGammadual[0] = (udual_MMS[0]*gammadual_MMS[0]+gammadual_MMS[1]*udual_MMS[1])/2 *lengthNorm/ (xGridWidths[0]+xGridWidths[1]/2) \n",
    "    duGammadual[-2] = -(udual_MMS[-2]*gammadual_MMS[-2]+udual_MMS[-3]*gammadual_MMS[-3])/2 *lengthNorm/ (xGridWidths[-1]+xGridWidths[-2]/2) \n",
    "\n",
    "T_MMS = T0*np.ones(Nx)\n",
    "\n",
    "Edual_MMS = - (0.5 * T_MMS * dndx + duGammadual)/ndual_MMS # Using assumed normalization"
   ]
  },
  {
   "cell_type": "markdown",
   "metadata": {},
   "source": [
    "### Set variables"
   ]
  },
  {
   "cell_type": "code",
   "execution_count": null,
   "metadata": {},
   "outputs": [],
   "source": [
    "ne,ne_dual = rmk.varAndDual(\"ne\",rk.grid,data=n_MMS,units='$10^{19} m^{-3}$')\n",
    "\n",
    "ni,ni_dual = rmk.varAndDual(\"ni\",rk.grid,data=n_MMS,units='$10^{19} m^{-3}$')\n",
    "\n",
    "Ge_dual,Ge = rmk.varAndDual(\"Ge\",rk.grid,data=gammadual_MMS,primaryOnDualGrid=True)\n",
    "\n",
    "Gi_dual,Gi = rmk.varAndDual(\"Gi\",rk.grid,data=gammadual_MMS,primaryOnDualGrid=True)\n",
    "\n",
    "Te,Te_dual = rmk.varAndDual(\"Te\",rk.grid,data=T_MMS,units='$10eV$')\n",
    "\n",
    "E_dual,E = rmk.varAndDual(\"E\",rk.grid,data=Edual_MMS,primaryOnDualGrid=True)\n",
    "\n",
    "ue_dual,ue = rmk.varAndDual(\"ue\",rk.grid,primaryOnDualGrid=True,derivation=rk.textbook[\"flowSpeedFromFlux\"],derivationArgs=[\"Ge_dual\",\"ne_dual\"])\n",
    "\n",
    "ui_dual,ui = rmk.varAndDual(\"ui\",rk.grid,primaryOnDualGrid=True,derivation=rk.textbook[\"flowSpeedFromFlux\"],derivationArgs=[\"Gi_dual\",\"ni_dual\"])\n",
    "\n",
    "rk.variables.add(ne,ne_dual,ni,ni_dual,Ge_dual,Ge,Gi_dual,Te,Te_dual,E_dual,E,ue_dual,ue,ui_dual,ui)"
   ]
  },
  {
   "cell_type": "markdown",
   "metadata": {},
   "source": [
    "### Models"
   ]
  },
  {
   "cell_type": "code",
   "execution_count": null,
   "metadata": {},
   "outputs": [],
   "source": [
    "#Advection and pressure gradient\n",
    "\n",
    "rk.models.add(cm.advection(ne,Ge_dual).rename(\"continuity-ne\"),\n",
    "              cm.advection(ni,Gi_dual).rename(\"continuity-ni\"),\n",
    "              cm.pressureGrad(Ge_dual,Te*ne,normConst=0.5).rename(\"pressureGrad-Ge\"),\n",
    "              cm.pressureGrad(Gi_dual,Te*ni,normConst=elMass/(2*ionMass)).rename(\"pressureGrad-Gi\"),\n",
    "              cm.advection(Ge_dual,ue_dual*Ge_dual).rename(\"advection-Ge\"),\n",
    "              cm.advection(Gi_dual,ui_dual*Gi_dual).rename(\"advection-Gi\"))"
   ]
  },
  {
   "cell_type": "code",
   "execution_count": null,
   "metadata": {},
   "outputs": [],
   "source": [
    "#Ampere-Maxwell and Lorentz force\n",
    "\n",
    "rk.models.add(cm.ampereMaxwell(E_dual,\n",
    "                               speciesFluxes=[Ge_dual,Gi_dual],\n",
    "                               species=[electronSpecies,ionSpecies],\n",
    "                               norms=rk.norms).rename(\"ampereMaxwell\"),\n",
    "              cm.lorentzForces(E_dual,\n",
    "                               speciesFluxes=[Ge_dual,Gi_dual],\n",
    "                               speciesDensities=[ne_dual,ni_dual],\n",
    "                               species=[electronSpecies,ionSpecies],\n",
    "                               norms=rk.norms).rename(\"lorentzForce\"))"
   ]
  },
  {
   "cell_type": "markdown",
   "metadata": {},
   "source": [
    "### MMS Source model"
   ]
  },
  {
   "cell_type": "code",
   "execution_count": null,
   "metadata": {},
   "outputs": [],
   "source": [
    "nSource = rk.grid.profile(dGamma,latexName=\"S_{n,MMS}\")\n",
    "\n",
    "gammaSourceion = rk.grid.profile(duGammadual +  (0.5*T_MMS * dndx - ndual_MMS*Edual_MMS)*elMass/ionMass,latexName=\"S_{\\\\Gamma,MMS}\")\n",
    "\n",
    "mmsModel = rmk.Model(\"mmsModel\")\n",
    "\n",
    "# Continuity equation MMS sources\n",
    "mmsModel.ddt[ne] += cm.simpleSourceTerm(ne,nSource).rename(\"sourcene\")\n",
    "mmsModel.ddt[ni] += cm.simpleSourceTerm(ni,nSource).rename(\"sourceni\")\n",
    "\n",
    "\n",
    "# Momentum equation MMS source\n",
    "\n",
    "mmsModel.ddt[Gi_dual] += ni_dual**(-1) * (gammaSourceion * rmk.DiagonalStencil()(ni)).rename(\"sourceGi\")\n",
    "\n",
    "rk.models.add(mmsModel)"
   ]
  },
  {
   "cell_type": "markdown",
   "metadata": {},
   "source": [
    "### Integration scheme setup"
   ]
  },
  {
   "cell_type": "code",
   "execution_count": null,
   "metadata": {},
   "outputs": [],
   "source": [
    "integrator = rmk.BDEIntegrator(\"BDE\",nonlinTol=1e-14,absTol=10.0,convergenceVars=[ne,ni,Ge_dual,Gi_dual])\n",
    "integrationStep = rmk.IntegrationStep(\"BE\",integrator)\n",
    "integrationStep.add(rk.models) \n",
    "rk.integrationScheme = rmk.IntegrationScheme(dt=rmk.Timestep(10.0*Te**1.5/ne),steps=integrationStep) \n",
    "rk.integrationScheme.setOutputPoints(list(np.linspace(1000,20000,20)))"
   ]
  },
  {
   "cell_type": "markdown",
   "metadata": {},
   "source": [
    "### Add term diagnosis variables"
   ]
  },
  {
   "cell_type": "code",
   "execution_count": null,
   "metadata": {},
   "outputs": [],
   "source": [
    "rk.addTermDiagnostics(ne,Ge_dual,Gi_dual,E_dual)"
   ]
  },
  {
   "cell_type": "markdown",
   "metadata": {},
   "source": [
    "### Write config file"
   ]
  },
  {
   "cell_type": "code",
   "execution_count": null,
   "metadata": {},
   "outputs": [],
   "source": [
    "rk.writeConfigFile()"
   ]
  },
  {
   "cell_type": "markdown",
   "metadata": {},
   "source": [
    "### Generate PDF summary"
   ]
  },
  {
   "cell_type": "code",
   "execution_count": null,
   "metadata": {},
   "outputs": [],
   "source": [
    "rk.generatePDF(\"MMS test\")"
   ]
  },
  {
   "cell_type": "markdown",
   "metadata": {},
   "source": [
    "## Data analysis"
   ]
  },
  {
   "cell_type": "code",
   "execution_count": null,
   "metadata": {},
   "outputs": [],
   "source": [
    "loadedData = rk.loadSimulation().dataset\n",
    "loadedData"
   ]
  },
  {
   "cell_type": "code",
   "execution_count": null,
   "metadata": {},
   "outputs": [],
   "source": [
    "hv.extension('matplotlib')\n",
    "%matplotlib inline \n",
    "plt.rcParams['figure.dpi'] = 150\n",
    "hv.output(size=100,dpi=150)"
   ]
  },
  {
   "cell_type": "markdown",
   "metadata": {},
   "source": [
    "#### Explore data using basic dashboard"
   ]
  },
  {
   "cell_type": "code",
   "execution_count": null,
   "metadata": {},
   "outputs": [],
   "source": [
    "pn.extension(comms=\"vscode\") # change comms if not using VSCode\n",
    "dashboard = ds.ReMKiT1DDashboard(loadedData,rk.grid)\n",
    "\n",
    "dashboard.fluid2Comparison().show()\n"
   ]
  },
  {
   "cell_type": "code",
   "execution_count": null,
   "metadata": {},
   "outputs": [],
   "source": [
    "varsToCheck = ['ne','ue_dual','E_dual']\n",
    "mmsVars = [n_MMS,udual_MMS,Edual_MMS]\n",
    "\n",
    "errors = [np.abs(loadedData[varsToCheck[i]]-mmsVars[i])/abs(mmsVars[i]) for i in range(len(mmsVars))]\n",
    "maxErrors = [error.reduce(np.nanmax,dim) for error,dim in zip(errors,[\"x\",\"x_dual\",\"x_dual\"])]"
   ]
  },
  {
   "cell_type": "code",
   "execution_count": null,
   "metadata": {},
   "outputs": [],
   "source": [
    "curves = hv.Overlay([hv.Curve(maxErrors[i],label=varsToCheck[i]) for i in range(len(mmsVars))])"
   ]
  },
  {
   "cell_type": "code",
   "execution_count": null,
   "metadata": {},
   "outputs": [],
   "source": [
    "curves.opts(ylim=(1e-10,1),logy=True)"
   ]
  },
  {
   "cell_type": "code",
   "execution_count": null,
   "metadata": {},
   "outputs": [],
   "source": [
    "maxErrorDict = {}\n",
    "maxErrorDictFix = {}"
   ]
  },
  {
   "cell_type": "markdown",
   "metadata": {},
   "source": [
    "#### Add maximum errors based on which run was performed\n",
    "\n",
    "To reproduce the results, run ReMKiT1D with the appropriate fixBoundaryCells flag and the number of spatial cells Nx"
   ]
  },
  {
   "cell_type": "code",
   "execution_count": null,
   "metadata": {},
   "outputs": [],
   "source": [
    "if fixBoundaryCells:\n",
    "    maxErrorDictFix[Nx]=maxErrors\n",
    "else:\n",
    "    maxErrorDict[Nx]=maxErrors"
   ]
  },
  {
   "cell_type": "code",
   "execution_count": null,
   "metadata": {},
   "outputs": [],
   "source": [
    "pickle.dump((maxErrorDict,maxErrorDictFix),open(\"mmsTest.pkl\",\"wb\"))"
   ]
  },
  {
   "cell_type": "code",
   "execution_count": null,
   "metadata": {},
   "outputs": [],
   "source": [
    "maxErrorDict,maxErrorDictFix= pickle.load(open(\"mmsTest.pkl\",\"rb\"))"
   ]
  },
  {
   "cell_type": "code",
   "execution_count": null,
   "metadata": {},
   "outputs": [],
   "source": [
    "plotNoFix = hv.Overlay([hv.Curve((list(maxErrorDict.keys()),[maxErrorDict[key][i][-1] for key in maxErrorDict.keys()])) for i in range(len(mmsVars))])\n",
    "plotNoFix.opts(logx=True,logy=True,xlabel='$N_x$',ylabel='max($\\delta$)',ylim=(1e-9,1))"
   ]
  },
  {
   "cell_type": "code",
   "execution_count": null,
   "metadata": {},
   "outputs": [],
   "source": [
    "plotFix = hv.Overlay([hv.Curve((list(maxErrorDictFix.keys()),[maxErrorDictFix[key][i][-1] for key in maxErrorDictFix.keys()]),label=varsToCheck[i]) for i in range(len(mmsVars))])\n",
    "plotFix.opts(logx=True,logy=True,xlabel='$N_x$',ylabel='max($\\delta$)',ylim=(1e-9,1))"
   ]
  },
  {
   "cell_type": "code",
   "execution_count": null,
   "metadata": {},
   "outputs": [],
   "source": [
    "hv.save(plotNoFix, 'mmsTestNoFix.pdf', dpi=144)\n",
    "hv.save(plotFix, 'mmsTestFix.pdf', dpi=144)\n"
   ]
  },
  {
   "cell_type": "markdown",
   "metadata": {},
   "source": [
    "### Number of acoustic transition times the simulation is run for"
   ]
  },
  {
   "cell_type": "code",
   "execution_count": null,
   "metadata": {},
   "outputs": [],
   "source": [
    "20000*lengthNorm*np.sqrt(T0*elMass/ionMass)/L"
   ]
  },
  {
   "cell_type": "markdown",
   "metadata": {},
   "source": []
  }
 ],
 "metadata": {
  "kernelspec": {
   "display_name": "Python 3",
   "language": "python",
   "name": "python3"
  },
  "language_info": {
   "codemirror_mode": {
    "name": "ipython",
    "version": 3
   },
   "file_extension": ".py",
   "mimetype": "text/x-python",
   "name": "python",
   "nbconvert_exporter": "python",
   "pygments_lexer": "ipython3",
   "version": "3.8.10"
  }
 },
 "nbformat": 4,
 "nbformat_minor": 2
}
