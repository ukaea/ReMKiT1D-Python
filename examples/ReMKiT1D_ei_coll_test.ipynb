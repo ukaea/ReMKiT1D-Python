{
 "cells": [
  {
   "attachments": {},
   "cell_type": "markdown",
   "metadata": {},
   "source": [
    "## ReMKiT1D input generator - electron-ion collision operator test for l=0\n",
    "\n",
    "This example tests temperature relaxation between electrons and ions due to Coulomb collisions.\n",
    "\n",
    "This test corresponds to the second test in Section 6.2.2. in the ReMKiT1D paper.\n"
   ]
  },
  {
   "cell_type": "code",
   "execution_count": null,
   "metadata": {},
   "outputs": [],
   "source": [
    "import numpy as np\n",
    "import xarray as xr\n",
    "import holoviews as hv\n",
    "import matplotlib.pyplot as plt\n",
    "import matplotlib as mpl\n",
    "from holoviews import opts\n",
    "\n",
    "import sys\n",
    "sys.path.append('../')\n",
    "from RMK_support import RKWrapper ,Grid\n",
    "import RMK_support.simple_containers as sc\n",
    "import RMK_support.IO_support as io\n",
    "import RMK_support.common_models as cm\n",
    "import RMK_support.sk_normalization as skn\n",
    "\n",
    "import scipy.optimize"
   ]
  },
  {
   "attachments": {},
   "cell_type": "markdown",
   "metadata": {},
   "source": [
    "### Wrapper initialization"
   ]
  },
  {
   "cell_type": "code",
   "execution_count": null,
   "metadata": {},
   "outputs": [],
   "source": [
    "rk = RKWrapper()"
   ]
  },
  {
   "attachments": {},
   "cell_type": "markdown",
   "metadata": {},
   "source": [
    "### Global parameters for IO files"
   ]
  },
  {
   "cell_type": "code",
   "execution_count": null,
   "metadata": {},
   "outputs": [],
   "source": [
    "rk.jsonFilepath = \"./config.json\" # Default value\n",
    "hdf5Filepath = \"./RMKOutput/RMK_ei_0_coll_test/\" \n",
    "rk.setHDF5Path(hdf5Filepath)"
   ]
  },
  {
   "attachments": {},
   "cell_type": "markdown",
   "metadata": {},
   "source": [
    "### Setting options for external libraries used by ReMKiT1D"
   ]
  },
  {
   "attachments": {},
   "cell_type": "markdown",
   "metadata": {},
   "source": [
    "#### MPI\n"
   ]
  },
  {
   "cell_type": "code",
   "execution_count": null,
   "metadata": {},
   "outputs": [],
   "source": [
    "numProcsX = 1 # Number of processes in x direction\n",
    "numProcsH = 1 # Number of processes in harmonic \n",
    "numProcs = numProcsX * numProcsH\n",
    "haloWidth = 1 # Halo width in cells\n",
    "\n",
    "rk.setMPIData(numProcsX,numProcsH,haloWidth)"
   ]
  },
  {
   "attachments": {},
   "cell_type": "markdown",
   "metadata": {},
   "source": [
    "#### PETSc\n",
    "\n",
    "Default settings are used here."
   ]
  },
  {
   "attachments": {},
   "cell_type": "markdown",
   "metadata": {},
   "source": [
    "#### HDF5\n",
    "\n",
    "No input HDF5 file is used here and all variables are outputted by default using the wrapper class."
   ]
  },
  {
   "attachments": {},
   "cell_type": "markdown",
   "metadata": {},
   "source": [
    "### Normalization setup"
   ]
  },
  {
   "cell_type": "code",
   "execution_count": null,
   "metadata": {},
   "outputs": [],
   "source": [
    "rk.setNormDensity(1.0e19)\n",
    "rk.setNormTemperature(10.0)\n",
    "rk.setNormRefZ(1.0)\n",
    "\n",
    "timeNorm = skn.collTimeei(rk.normalization[\"eVTemperature\"],rk.normalization[\"density\"],rk.normalization[\"referenceIonZ\"])"
   ]
  },
  {
   "attachments": {},
   "cell_type": "markdown",
   "metadata": {},
   "source": [
    "### Grid setup"
   ]
  },
  {
   "cell_type": "code",
   "execution_count": null,
   "metadata": {},
   "outputs": [],
   "source": [
    "xGrid = np.ones(1) # 0D\n",
    "dv0 = 0.0307\n",
    "cv = 1.025\n",
    "vGrid = [dv0/2]\n",
    "for i in range(1,120):\n",
    "    vGrid.append(vGrid[i-1]*cv)\n",
    "lMax = 0 \n",
    "gridObj = Grid(xGrid,np.array(vGrid),lMax,interpretXGridAsWidths=True,interpretVGridAsWidths=True)"
   ]
  },
  {
   "cell_type": "code",
   "execution_count": null,
   "metadata": {},
   "outputs": [],
   "source": [
    "# Add the grid to the wrapper\n",
    "rk.grid=gridObj"
   ]
  },
  {
   "attachments": {},
   "cell_type": "markdown",
   "metadata": {},
   "source": [
    "### Set temperature derivation option and add electron species"
   ]
  },
  {
   "cell_type": "code",
   "execution_count": null,
   "metadata": {},
   "outputs": [],
   "source": [
    "rk.setStandardTextbookOptions([-1,0]) \n",
    "\n",
    "rk.addSpecies(\"e\",0)\n",
    "rk.addSpecies(\"D+\",-1,atomicA=2.014,charge=1.0)"
   ]
  },
  {
   "attachments": {},
   "cell_type": "markdown",
   "metadata": {},
   "source": [
    "### Variable initialization"
   ]
  },
  {
   "cell_type": "code",
   "execution_count": null,
   "metadata": {},
   "outputs": [],
   "source": [
    "T0 = 0.8\n",
    "n0 = 1.0\n",
    "T = T0*np.ones(gridObj.numX())\n",
    "n = n0 * np.ones(gridObj.numX())\n",
    "W = 3*n*T/2\n",
    "\n",
    "f = np.zeros([gridObj.numX(),gridObj.numH(),gridObj.numV()])\n",
    "for i in range(gridObj.numX()):\n",
    "    f[i,gridObj.getH(0)-1,:] = (T0*np.pi)**(-1.5) * n0 * np.exp(-gridObj.vGrid**2/T0) \n",
    "    \n",
    "rk.addVar(\"f\",f,isDistribution=True)\n",
    "rk.addVar(\"Wi\",W/2,units='$10eV$')\n",
    "rk.addVar(\"W\",W,units='$10eV$',isDerived=True,derivationRule=sc.derivationRule(\"energyMoment\",[\"f\"]))\n",
    "rk.addVar(\"n\",n,units='$10^{19} m^{-3}$',isDerived=True,derivationRule=sc.derivationRule(\"densityMoment\",[\"f\"]))\n",
    "rk.addVar(\"zeroVar\",isDerived=True,outputVar=False)\n",
    "rk.addVar(\"T\",T,isDerived=True,derivationRule=sc.derivationRule(\"tempFromEnergye\",[\"W\",\"n\",\"zeroVar\"]))\n",
    "rk.addVar(\"Ti\",T/2,isDerived=True,derivationRule=sc.derivationRule(\"tempFromEnergyD+\",[\"Wi\",\"n\",\"zeroVar\"]))\n",
    "rk.addVar(\"time\",isScalar=True,isDerived=True)"
   ]
  },
  {
   "attachments": {},
   "cell_type": "markdown",
   "metadata": {},
   "source": [
    "### Adding e-e collision operator model for l = 0"
   ]
  },
  {
   "attachments": {},
   "cell_type": "markdown",
   "metadata": {},
   "source": [
    "Adding the electron-electron operator here to keep the distribution from deviating from a Maxwellian for the analytical comparison"
   ]
  },
  {
   "cell_type": "code",
   "execution_count": null,
   "metadata": {},
   "outputs": [],
   "source": [
    "cm.addEECollIsotropic(modelTag=\"e-e0\",distFunName=\"f\",elTempVar=\"T\",elDensVar=\"n\",wrapper=rk)\n"
   ]
  },
  {
   "attachments": {},
   "cell_type": "markdown",
   "metadata": {},
   "source": [
    "### Adding e-i collision operator model for l = 0"
   ]
  },
  {
   "attachments": {},
   "cell_type": "markdown",
   "metadata": {},
   "source": [
    "The e-i collision operator for l=0 is implemented in common_models.py and only used here."
   ]
  },
  {
   "cell_type": "code",
   "execution_count": null,
   "metadata": {},
   "outputs": [],
   "source": [
    "cm.addEICollIsotropic(modelTag=\"e-i0\",distFunName=\"f\",elTempVar=\"T\",elDensVar=\"n\",ionTempVar=\"Ti\",ionDensVar=\"n\",ionSpeciesName=\"D+\",wrapper=rk,ionEnVar=\"Wi\")"
   ]
  },
  {
   "attachments": {},
   "cell_type": "markdown",
   "metadata": {},
   "source": [
    "### Integrator and timestep options\n",
    "\n",
    "Simple single step backwards Euler integration"
   ]
  },
  {
   "cell_type": "code",
   "execution_count": null,
   "metadata": {},
   "outputs": [],
   "source": [
    "integrator = sc.picardBDEIntegrator(absTol=10.0) #Everything default except for more lenient absolute convergence tolerance\n",
    "\n",
    "rk.addIntegrator(\"BE\",integrator)"
   ]
  },
  {
   "attachments": {},
   "cell_type": "markdown",
   "metadata": {},
   "source": [
    "Set initial timestep length and numbers of allowed implicit and general groups"
   ]
  },
  {
   "cell_type": "code",
   "execution_count": null,
   "metadata": {},
   "outputs": [],
   "source": [
    "initialTimestep =  0.1\n",
    "\n",
    "rk.setIntegratorGlobalData(1,1,initialTimestep) "
   ]
  },
  {
   "attachments": {},
   "cell_type": "markdown",
   "metadata": {},
   "source": [
    "Single integration step"
   ]
  },
  {
   "cell_type": "code",
   "execution_count": null,
   "metadata": {},
   "outputs": [],
   "source": [
    "bdeStep = sc.IntegrationStep(\"BE\")\n",
    "\n",
    "for tag in rk.modelTags():\n",
    "    bdeStep.addModel(tag)\n",
    "\n",
    "rk.addIntegrationStep(\"BE1\",bdeStep.dict())"
   ]
  },
  {
   "attachments": {},
   "cell_type": "markdown",
   "metadata": {},
   "source": [
    "Adding Coulomb log diagnostic variable using the extractor manipulator."
   ]
  },
  {
   "cell_type": "code",
   "execution_count": null,
   "metadata": {},
   "outputs": [],
   "source": [
    "rk.addVar(\"logLei\",isDerived=True)\n",
    "rk.addManipulator(\"logLeiExtractor\",sc.extractorManipulator(\"e-i0\",\"logLei\",\"logLei\",priority=4))"
   ]
  },
  {
   "attachments": {},
   "cell_type": "markdown",
   "metadata": {},
   "source": [
    "#### Timeloop options"
   ]
  },
  {
   "cell_type": "code",
   "execution_count": null,
   "metadata": {},
   "outputs": [],
   "source": [
    "rk.setFixedNumTimesteps(40000)\n",
    "rk.setFixedStepOutput(500)"
   ]
  },
  {
   "attachments": {},
   "cell_type": "markdown",
   "metadata": {},
   "source": [
    "### Create config file"
   ]
  },
  {
   "cell_type": "code",
   "execution_count": null,
   "metadata": {},
   "outputs": [],
   "source": [
    "rk.writeConfigFile()"
   ]
  },
  {
   "attachments": {},
   "cell_type": "markdown",
   "metadata": {},
   "source": [
    "### Data analysis\n"
   ]
  },
  {
   "cell_type": "code",
   "execution_count": null,
   "metadata": {},
   "outputs": [],
   "source": [
    "numFiles = 80"
   ]
  },
  {
   "attachments": {},
   "cell_type": "markdown",
   "metadata": {},
   "source": [
    "#### Loading data\n",
    "\n",
    "Set loadpath to ReMKiT1D directory"
   ]
  },
  {
   "cell_type": "code",
   "execution_count": null,
   "metadata": {},
   "outputs": [],
   "source": [
    "loadpath = hdf5Filepath\n",
    "loadFilenames = [loadpath+f'ReMKiT1DVarOutput_{i}.h5' for i in range(numFiles+1)]"
   ]
  },
  {
   "cell_type": "code",
   "execution_count": null,
   "metadata": {},
   "outputs": [],
   "source": [
    "loadedData = io.loadFromHDF5(rk.varCont,filepaths=loadFilenames,varsToIgnore=\"zeroVar\")\n",
    "loadedData"
   ]
  },
  {
   "cell_type": "code",
   "execution_count": null,
   "metadata": {},
   "outputs": [],
   "source": [
    "hv.extension('matplotlib')\n",
    "%matplotlib inline \n",
    "plt.rcParams['figure.dpi'] = 150\n",
    "hv.output(size=80,dpi=150)"
   ]
  },
  {
   "attachments": {},
   "cell_type": "markdown",
   "metadata": {},
   "source": [
    "### Compare with analytical solution"
   ]
  },
  {
   "attachments": {},
   "cell_type": "markdown",
   "metadata": {},
   "source": [
    "Note that here we let the Coulomb log vary, so that might introduce another small error compared to the analytical solution. For analytical solution form see Shkarofsky's book Chapter 7-10."
   ]
  },
  {
   "cell_type": "code",
   "execution_count": null,
   "metadata": {},
   "outputs": [],
   "source": [
    "elCharge = 1.60218e-19\n",
    "elMass = 9.10938e-31\n",
    "epsilon0 = 8.854188e-12 #vacuum permittivity \n",
    "amu = 1.6605390666e-27 #atomic mass unit\n",
    "gamma0norm = elCharge**4/(4*np.pi*elMass**2*epsilon0**2)\n",
    "Ttot = (loadedData[\"T\"].data[0,0] + loadedData[\"Ti\"].data[0,0])/2 # Plasma temperature\n",
    "tei0 = 8*gamma0norm  * elMass / (rk.getSpecies(\"D+\").atomicA * amu)*2*loadedData[\"n\"].data[0]*rk.normalization[\"density\"]*(elMass/(2*elCharge*Ttot*rk.normalization[\"eVTemperature\"]))**(3/2)/(3*np.sqrt(np.pi)) "
   ]
  },
  {
   "cell_type": "code",
   "execution_count": null,
   "metadata": {},
   "outputs": [],
   "source": [
    "norms = skn.calculateNorms(10,1e19,1)\n",
    "tei0 = tei0[0]*norms[\"time\"] # Ratio of time normalization to the temperature relaxation time"
   ]
  },
  {
   "cell_type": "code",
   "execution_count": null,
   "metadata": {},
   "outputs": [],
   "source": [
    "def analyticDeltaT(x,*args):\n",
    "    return 2*(args[0]**(3/2)-(1+x)**(3/2))/3+2*(np.sqrt(args[0])-np.sqrt(1+x)) + np.log((np.sqrt(args[0])-1)/(np.sqrt(args[0])+1)) - np.log((np.sqrt(1+x)-1)/(np.sqrt(1+x)+1)) - args[1]"
   ]
  },
  {
   "cell_type": "code",
   "execution_count": null,
   "metadata": {},
   "outputs": [],
   "source": [
    "def analyticDeltaTJac(x,*args):\n",
    "\n",
    "    return - (1+x)**(3/2)/x"
   ]
  },
  {
   "cell_type": "code",
   "execution_count": null,
   "metadata": {},
   "outputs": [],
   "source": [
    "analyticDT = np.zeros(numFiles+1)\n",
    "x0 = 1 + 0.5*(loadedData[\"T\"].data[0,0] - loadedData[\"Ti\"].data[0,0])/Ttot # initial condition (1+xi in Shkarofsky)\n",
    "tei = np.zeros(numFiles+1)\n",
    "for i in range(numFiles+1):\n",
    "    tei[i] = tei0 * loadedData[\"time\"].data[i] * loadedData[\"logLei\"].data[i,0]\n",
    "    guessdT = 0.5*(loadedData[\"T\"].data[i,0] - loadedData[\"Ti\"].data[i,0])/Ttot\n",
    "    root = scipy.optimize.fsolve(analyticDeltaT,guessdT,args=(x0,tei[i]),fprime=analyticDeltaTJac)\n",
    "    analyticDT[i] = root[0]*2*Ttot"
   ]
  },
  {
   "cell_type": "code",
   "execution_count": null,
   "metadata": {},
   "outputs": [],
   "source": [
    "deltaT = loadedData[\"T\"].data[:,0] - loadedData[\"Ti\"].data[:,0]"
   ]
  },
  {
   "cell_type": "code",
   "execution_count": null,
   "metadata": {},
   "outputs": [],
   "source": [
    "analyticCurve = hv.Curve((tei,analyticDT),label=\"Analytical formula\")\n",
    "numericalScatter = hv.Scatter((tei,deltaT),label=\"Numerical result\").opts(marker=\"x\",color=\"r\",s=5.0)\n",
    "\n",
    "overlay = analyticCurve*numericalScatter\n",
    "overlay.opts(xlabel=\"$t'_{ei}$\",ylabel=\"$\\Delta T [10eV]$\")"
   ]
  },
  {
   "attachments": {},
   "cell_type": "markdown",
   "metadata": {},
   "source": [
    "#### Visualising the kinetic over-relaxation"
   ]
  },
  {
   "cell_type": "code",
   "execution_count": null,
   "metadata": {},
   "outputs": [],
   "source": [
    "error = deltaT-analyticDT\n",
    "\n",
    "errorPlot=hv.Curve((tei,error)).opts(xlabel=\"$t'_{ei}$\",ylabel=\"$\\Delta T_{err} [10eV]$\")"
   ]
  },
  {
   "cell_type": "code",
   "execution_count": null,
   "metadata": {},
   "outputs": [],
   "source": [
    "hv.output(fig='pdf')\n",
    "hv.save(overlay.opts(xlabel=\"$t'_{ei}$\",ylabel=\"$\\Delta T [10eV]$\"), 'e-iTempRel.pdf', dpi=144)\n",
    "hv.save(errorPlot,'e-iOverRel.pdf',dpi=144)"
   ]
  },
  {
   "cell_type": "code",
   "execution_count": null,
   "metadata": {},
   "outputs": [],
   "source": []
  }
 ],
 "metadata": {
  "kernelspec": {
   "display_name": "Python 3.9.5 64-bit",
   "language": "python",
   "name": "python3"
  },
  "language_info": {
   "codemirror_mode": {
    "name": "ipython",
    "version": 3
   },
   "file_extension": ".py",
   "mimetype": "text/x-python",
   "name": "python",
   "nbconvert_exporter": "python",
   "pygments_lexer": "ipython3",
   "version": "3.8.10"
  },
  "orig_nbformat": 4,
  "vscode": {
   "interpreter": {
    "hash": "31f2aee4e71d21fbe5cf8b01ff0e069b9275f58929596ceb00d14d90e3e16cd6"
   }
  }
 },
 "nbformat": 4,
 "nbformat_minor": 2
}
