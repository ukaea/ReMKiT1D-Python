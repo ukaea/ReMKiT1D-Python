{
 "cells": [
  {
   "attachments": {},
   "cell_type": "markdown",
   "metadata": {},
   "source": [
    "## Example - testing kinetic diffusive heating operator\n",
    "\n",
    "This notebook tests whether the implemented common_models.py diffusive heating operator for the $f_0$ harmonic performs as expected.\n",
    "\n",
    "This is the v2.0.0 rewrite of the original test.\n"
   ]
  },
  {
   "cell_type": "code",
   "execution_count": null,
   "metadata": {},
   "outputs": [],
   "source": [
    "import numpy as np\n",
    "import holoviews as hv\n",
    "import matplotlib.pyplot as plt\n",
    "\n",
    "import RMK_support as rmk\n",
    "import RMK_support.common_models as cm\n",
    "from RMK_support import varFromNode,node\n"
   ]
  },
  {
   "attachments": {},
   "cell_type": "markdown",
   "metadata": {},
   "source": [
    "### Context initialization"
   ]
  },
  {
   "cell_type": "code",
   "execution_count": null,
   "metadata": {},
   "outputs": [],
   "source": [
    "rk = rmk.RMKContext()\n",
    "rk.IOContext = rmk.IOContext(HDF5Dir=\"./RMKOutput/RMK_kin_heating_test/\")\n",
    "rk.mpiContext = rmk.MPIContext(4)"
   ]
  },
  {
   "attachments": {},
   "cell_type": "markdown",
   "metadata": {},
   "source": [
    "### Grid setup"
   ]
  },
  {
   "cell_type": "code",
   "execution_count": null,
   "metadata": {},
   "outputs": [],
   "source": [
    "xGrid = 0.1*np.ones(128) \n",
    "dv0 = 0.01\n",
    "cv = 1.025\n",
    "vGrid = [dv0]\n",
    "for i in range(1,120):\n",
    "    vGrid.append(vGrid[i-1]*cv)\n",
    "lMax = 0\n",
    "rk.grid = rmk.Grid(xGrid,np.array(vGrid),lMax,interpretXGridAsWidths=True,interpretVGridAsWidths=True,isPeriodic=True)\n",
    "L = sum(xGrid)"
   ]
  },
  {
   "attachments": {},
   "cell_type": "markdown",
   "metadata": {},
   "source": [
    "### Variables"
   ]
  },
  {
   "cell_type": "code",
   "execution_count": null,
   "metadata": {},
   "outputs": [],
   "source": [
    "nInit = 1.0*np.ones(rk.grid.numX())\n",
    "TInit = 1\n",
    "fInit = np.zeros([rk.grid.numX(),rk.grid.numH(),rk.grid.numV()])\n",
    "for i in range(rk.grid.numX()):\n",
    "    fInit[i,rk.grid.getH(0)-1,:] = (TInit*np.pi)**(-1.5) * nInit[i] * np.exp(-rk.grid.vGrid**2/TInit)\n",
    "\n",
    "# Rescale distribution function to ensure that the numerical density moment agrees with the initial values\n",
    "numerical_dens = rk.grid.velocityMoment(fInit,0,1)\n",
    "for i in range(rk.grid.numX()):\n",
    "    fInit[i,rk.grid.getH(0)-1,:] = nInit[i] *fInit[i,rk.grid.getH(0)-1,:]/numerical_dens[i]\n",
    "\n",
    "f = rmk.Variable(\"f\",rk.grid,data=fInit,isDistribution=True)\n",
    "W = rmk.Variable(\"W\",rk.grid,derivation=rk.textbook[\"energyMoment\"],derivationArgs=[\"f\"])\n",
    "n = rmk.Variable(\"n\",rk.grid,derivation=rk.textbook[\"densityMoment\"],derivationArgs=[\"f\"])\n",
    "T =  varFromNode(\"T\",rk.grid,node=(2/3)*node(W)/node(n))\n",
    "\n",
    "rk.variables.add(f,W,n,T)"
   ]
  },
  {
   "attachments": {},
   "cell_type": "markdown",
   "metadata": {},
   "source": [
    "### Adding the heating"
   ]
  },
  {
   "cell_type": "code",
   "execution_count": null,
   "metadata": {},
   "outputs": [],
   "source": [
    "heatingModel = rmk.Model(\"heating\")\n",
    "\n",
    "energyInjectionRate = 0.02\n",
    "eProf = np.zeros(128)\n",
    "eProf[54:74] = energyInjectionRate\n",
    "heatingModel.ddt[f] += cm.diffusiveHeatingTerm(rk.grid,rk.norms,f,n,heatingProfile=rk.grid.profile(eProf,\"X\",\"H\"))\n",
    "rk.models.add(heatingModel)"
   ]
  },
  {
   "attachments": {},
   "cell_type": "markdown",
   "metadata": {},
   "source": [
    "### Integrator and timestep options\n",
    "\n",
    "Simple single step backwards Euler integration"
   ]
  },
  {
   "cell_type": "code",
   "execution_count": null,
   "metadata": {},
   "outputs": [],
   "source": [
    "integrator = rmk.BDEIntegrator(\"BDE\",absTol=10.0,convergenceVars=[f])\n",
    "integrationStep = rmk.IntegrationStep(\"BE\",integrator)\n",
    "integrationStep.add(rk.models) \n",
    "rk.integrationScheme = rmk.IntegrationScheme(dt=0.1,steps=integrationStep) \n",
    "rk.integrationScheme.setFixedNumTimesteps(100,10) "
   ]
  },
  {
   "cell_type": "markdown",
   "metadata": {},
   "source": [
    "#### Generate a LaTeX summary of the ReMKiT1D run "
   ]
  },
  {
   "cell_type": "code",
   "execution_count": null,
   "metadata": {},
   "outputs": [],
   "source": [
    "rk.generatePDF(\"Kinetic diffusive heating test\")"
   ]
  },
  {
   "attachments": {},
   "cell_type": "markdown",
   "metadata": {},
   "source": [
    "### Create config file"
   ]
  },
  {
   "cell_type": "code",
   "execution_count": null,
   "metadata": {},
   "outputs": [],
   "source": [
    "rk.writeConfigFile()"
   ]
  },
  {
   "attachments": {},
   "cell_type": "markdown",
   "metadata": {},
   "source": [
    "### Data analysis\n"
   ]
  },
  {
   "cell_type": "code",
   "execution_count": null,
   "metadata": {},
   "outputs": [],
   "source": [
    "loadedData = rk.loadSimulation()\n",
    "dataset = loadedData.dataset"
   ]
  },
  {
   "cell_type": "code",
   "execution_count": null,
   "metadata": {},
   "outputs": [],
   "source": [
    "dataset"
   ]
  },
  {
   "cell_type": "code",
   "execution_count": null,
   "metadata": {},
   "outputs": [],
   "source": [
    "hv.extension('matplotlib')\n",
    "%matplotlib inline \n",
    "plt.rcParams['figure.dpi'] = 150\n",
    "hv.output(size=80,dpi=150)"
   ]
  },
  {
   "attachments": {},
   "cell_type": "markdown",
   "metadata": {},
   "source": [
    "### Test distribution function distortion due to heating operator"
   ]
  },
  {
   "cell_type": "code",
   "execution_count": null,
   "metadata": {},
   "outputs": [],
   "source": [
    "dataName = 'f'\n",
    "xInd = 60 \n",
    "\n",
    "times = dataset.coords['t'].data\n",
    "f0_analytic=np.zeros((len(times),rk.grid.numV()))\n",
    "temps = dataset[\"T\"].data\n",
    "dens = dataset[\"n\"].data\n",
    "for i in range(len(times)):\n",
    "        f0_analytic[i,:] = (temps[i,xInd]*np.pi)**(-1.5) * dens[i,xInd] * np.exp(-rk.grid.vGrid**2/temps[i,xInd])\n",
    "        \n",
    "curveDict = {t: hv.Curve([(v**2,dataset[dataName].data[t,xInd,0,i]) for i,v in enumerate(dataset.coords[\"v\"].data)]).opts(logy=True,ylim=(1e-20,1e0),xlim=(0,60))*\n",
    "              hv.Curve([(v**2,f0_analytic[t,i]) for i,v in enumerate(dataset.coords[\"v\"].data)]).opts(logy=True,ylim=(1e-20,1e0),xlim=(0,60))for t in range(len(times))}\n",
    "kdims = [hv.Dimension(('t', 'Time'),unit=dataset.coords[\"t\"].attrs[\"units\"], default=0)]\n",
    "hv.HoloMap(curveDict,kdims=kdims).opts()"
   ]
  },
  {
   "attachments": {},
   "cell_type": "markdown",
   "metadata": {},
   "source": [
    "### Check spatial profile"
   ]
  },
  {
   "cell_type": "code",
   "execution_count": null,
   "metadata": {},
   "outputs": [],
   "source": [
    "curveDict = {t: hv.Curve(dataset[\"W\"][{\"t\":t}]) for t in range(len(times))}\n",
    "kdims = [hv.Dimension(('t', 'Time'),unit=dataset.coords[\"t\"].attrs[\"units\"], default=0)]\n",
    "hv.HoloMap(curveDict,kdims=kdims).opts()"
   ]
  },
  {
   "attachments": {},
   "cell_type": "markdown",
   "metadata": {},
   "source": [
    "### Check heating amount \n",
    "\n",
    "The error is likely mostly due to velocity space integration"
   ]
  },
  {
   "cell_type": "code",
   "execution_count": null,
   "metadata": {},
   "outputs": [],
   "source": [
    "heatingError = (dataset[\"W\"].data[1,63]-dataset[\"W\"].data[0,63] - 0.02)/0.02\n",
    "heatingError\n"
   ]
  },
  {
   "attachments": {},
   "cell_type": "markdown",
   "metadata": {},
   "source": []
  }
 ],
 "metadata": {
  "kernelspec": {
   "display_name": "Python 3.9.5 64-bit",
   "language": "python",
   "name": "python3"
  },
  "language_info": {
   "codemirror_mode": {
    "name": "ipython",
    "version": 3
   },
   "file_extension": ".py",
   "mimetype": "text/x-python",
   "name": "python",
   "nbconvert_exporter": "python",
   "pygments_lexer": "ipython3",
   "version": "3.8.10"
  },
  "orig_nbformat": 4,
  "vscode": {
   "interpreter": {
    "hash": "31f2aee4e71d21fbe5cf8b01ff0e069b9275f58929596ceb00d14d90e3e16cd6"
   }
  }
 },
 "nbformat": 4,
 "nbformat_minor": 2
}
