{
 "cells": [
  {
   "attachments": {},
   "cell_type": "markdown",
   "metadata": {},
   "source": [
    "## ReMKiT1D input generator - 0D hydrogen CRM using CRM modelbound data and term generator functionality with kinetic electrons\n",
    "\n",
    "This notebook corresponds to the kinetic test in Section 6.3. of the ReMKiT1D code paper. It tests particle and energy conservation properties of SOL-KiT-like implementations of electron-neutral Boltzmann collisions from common_models.py"
   ]
  },
  {
   "cell_type": "code",
   "execution_count": null,
   "metadata": {},
   "outputs": [],
   "source": [
    "import numpy as np\n",
    "import xarray as xr\n",
    "import holoviews as hv\n",
    "import matplotlib.pyplot as plt\n",
    "import matplotlib as mpl\n",
    "from holoviews import opts\n",
    "import panel as pn\n",
    "\n",
    "import sys\n",
    "sys.path.append('../')\n",
    "from RMK_support import RKWrapper ,Grid\n",
    "import RMK_support.simple_containers as sc\n",
    "import RMK_support.IO_support as io\n",
    "import RMK_support.crm_support as crm # This is the main python module for crm construction"
   ]
  },
  {
   "attachments": {},
   "cell_type": "markdown",
   "metadata": {},
   "source": [
    "### Some useful constants"
   ]
  },
  {
   "cell_type": "code",
   "execution_count": null,
   "metadata": {},
   "outputs": [],
   "source": [
    "heavySpeciesMass = 2.014 #in amus\n",
    "hPlanck = 6.62607004e-34\n",
    "elMass =  9.10938e-31\n",
    "elCharge = 1.60218e-19\n"
   ]
  },
  {
   "attachments": {},
   "cell_type": "markdown",
   "metadata": {},
   "source": [
    "### Wrapper initialization"
   ]
  },
  {
   "cell_type": "code",
   "execution_count": null,
   "metadata": {},
   "outputs": [],
   "source": [
    "rk = RKWrapper()"
   ]
  },
  {
   "attachments": {},
   "cell_type": "markdown",
   "metadata": {},
   "source": [
    "### Filepaths"
   ]
  },
  {
   "cell_type": "code",
   "execution_count": null,
   "metadata": {},
   "outputs": [],
   "source": [
    "rk.jsonFilepath = \"./config.json\" # Default value\n",
    "hdf5Filepath = \"./RMKOutput/RMK_kin_crm_test/\"\n",
    "rk.setHDF5Path(hdf5Filepath) "
   ]
  },
  {
   "attachments": {},
   "cell_type": "markdown",
   "metadata": {},
   "source": [
    "### Normalization setup"
   ]
  },
  {
   "cell_type": "code",
   "execution_count": null,
   "metadata": {},
   "outputs": [],
   "source": [
    "rk.setNormDensity(1.0e19)\n",
    "rk.setNormTemperature(5.0)\n",
    "rk.setNormRefZ(1.0)\n",
    "\n",
    "# for convenience\n",
    "tempNorm = rk.normalization[\"eVTemperature\"] \n",
    "densNorm = rk.normalization[\"density\"]"
   ]
  },
  {
   "attachments": {},
   "cell_type": "markdown",
   "metadata": {},
   "source": [
    "### Grid setup"
   ]
  },
  {
   "cell_type": "code",
   "execution_count": null,
   "metadata": {},
   "outputs": [],
   "source": [
    "xGrid = np.ones(1) # 0D\n",
    "dv0 = 0.01\n",
    "cv = 1.025\n",
    "vGrid = [dv0]\n",
    "for i in range(1,120):\n",
    "    vGrid.append(vGrid[i-1]*cv)\n",
    "lMax = 0 \n",
    "gridObj = Grid(xGrid,vGrid,lMax,interpretXGridAsWidths=True ,interpretVGridAsWidths=True)"
   ]
  },
  {
   "cell_type": "code",
   "execution_count": null,
   "metadata": {},
   "outputs": [],
   "source": [
    "# Add the grid to the wrapper\n",
    "rk.grid=gridObj"
   ]
  },
  {
   "attachments": {},
   "cell_type": "markdown",
   "metadata": {},
   "source": [
    "### Species initialization \n",
    "\n",
    "NOTE: The CRM density evolution generator assumes that all species it evolves have a density as their first associated variable and that it is an implicit and fluid variable. Also, the prebuilt Janev data requires that neutral IDs correspond to principle quantum numbers of excited states."
   ]
  },
  {
   "cell_type": "code",
   "execution_count": null,
   "metadata": {},
   "outputs": [],
   "source": [
    "electronSpecies = sc.Species(\"e\",0,associatedVars=[\"ne\"]) \n",
    "ionSpecies = sc.Species(\"D+\",-1,atomicA=heavySpeciesMass,charge=1.0,associatedVars=[\"ni\"])\n",
    "\n",
    "rk.addSpecies(\"e\",0,associatedVars=[\"ne\"])\n",
    "rk.addSpecies(\"D+\",-1,atomicA=heavySpeciesMass,charge=1.0,associatedVars=[\"ni\"])\n",
    "\n",
    "numNeutrals=20\n",
    "neutralDensList = [\"n\"+str(i) for i in range(1,numNeutrals+1)] # List of neutral density names\n",
    "\n",
    "for neutral in neutralDensList:\n",
    "    rk.addSpecies(\"D\"+neutral[1:],int(neutral[1:]),heavySpeciesMass,associatedVars=[neutral])\n",
    "\n",
    "# Add electron temperature derivation\n",
    "rk.setStandardTextbookOptions([0]) \n"
   ]
  },
  {
   "attachments": {},
   "cell_type": "markdown",
   "metadata": {},
   "source": [
    "### Variable initialization"
   ]
  },
  {
   "cell_type": "code",
   "execution_count": null,
   "metadata": {},
   "outputs": [],
   "source": [
    "T = np.ones(gridObj.numX())\n",
    "\n",
    "rk.addVar(\"time\",isScalar=True,isDerived=True,outputVar=True)\n",
    "\n",
    "n = np.ones(gridObj.numX())  \n",
    "n1 = 0.1*np.ones(gridObj.numX())\n",
    "\n",
    "f = np.zeros([gridObj.numX(),gridObj.numH(),gridObj.numV()])\n",
    "for i in range(gridObj.numX()):\n",
    "    f[i,gridObj.getH(0)-1,:] = (T[i]*np.pi)**(-1.5) * n[i] * np.exp(-gridObj.vGrid**2/T[i])\n",
    "\n",
    "# Rescale distribution function to ensure that the numerical density moment agrees with the initial values\n",
    "numerical_dens = gridObj.velocityMoment(f,0,1)\n",
    "for i in range(gridObj.numX()):\n",
    "    f[i,gridObj.getH(0)-1,:] = n[i] *f[i,gridObj.getH(0)-1,:]/numerical_dens[i]\n",
    "    \n",
    "rk.addVar(\"f\",f,isDistribution=True)\n",
    "rk.addVar(\"ne\",n,isDerived=True,units='$10^{19} m^{-3}$',derivationRule=sc.derivationRule(\"densityMoment\",[\"f\"]))\n",
    "rk.addVar(\"ni\",n,units='$10^{19} m^{-3}$',outputVar=True)\n",
    "\n",
    "W = 3*n*T/2\n",
    "\n",
    "rk.addVar(\"We\",W,units='$10eV$',isDerived=True,derivationRule=sc.derivationRule(\"energyMoment\",[\"f\"]))\n",
    "rk.addVar(\"zeroVar\",isDerived=True,outputVar=False)\n",
    "rk.addVar(\"Te\",T,isDerived=True,derivationRule=sc.derivationRule(\"tempFromEnergye\",[\"We\",\"ne\",\"zeroVar\"]))\n",
    "\n",
    "rk.addVar(\"n1\",n1*np.ones(gridObj.numX()),units='$10^{19} m^{-3}$',outputVar=True)\n",
    "for i in range(2,numNeutrals+1):\n",
    "    rk.addVar(neutralDensList[i-1],units='$10^{19} m^{-3}$',outputVar=True)"
   ]
  },
  {
   "attachments": {},
   "cell_type": "markdown",
   "metadata": {},
   "source": [
    "### External libraries"
   ]
  },
  {
   "attachments": {},
   "cell_type": "markdown",
   "metadata": {},
   "source": [
    "#### MPI\n",
    "\n",
    "Single processor setup."
   ]
  },
  {
   "cell_type": "code",
   "execution_count": null,
   "metadata": {},
   "outputs": [],
   "source": [
    "numProcsX = 1 # Number of processes in x direction\n",
    "numProcsH = 1 # Number of processes in harmonic direction\n",
    "numProcs = numProcsH*numProcsX\n",
    "haloWidth = 1 # Halo width in cells\n",
    "rk.setMPIData(numProcsX,numProcsH,haloWidth)"
   ]
  },
  {
   "attachments": {},
   "cell_type": "markdown",
   "metadata": {},
   "source": [
    "#### PETSc\n",
    "\n",
    "Defaults."
   ]
  },
  {
   "attachments": {},
   "cell_type": "markdown",
   "metadata": {},
   "source": [
    "#### HDF5\n",
    "\n",
    "Output variables set when adding variables"
   ]
  },
  {
   "attachments": {},
   "cell_type": "markdown",
   "metadata": {},
   "source": [
    "### Models"
   ]
  },
  {
   "attachments": {},
   "cell_type": "markdown",
   "metadata": {},
   "source": [
    "#### Generating modelbound data based on inbuilt cross-sections"
   ]
  },
  {
   "cell_type": "code",
   "execution_count": null,
   "metadata": {},
   "outputs": [],
   "source": [
    "includedJanevTransitions = [\"ex\",\"deex\",\"ion\",\"recomb3b\"] \n",
    "mbData = crm.ModelboundCRMData()\n",
    "crm.addJanevTransitionsToCRMData(mbData,numNeutrals,tempNorm,\"f\",\"Te\",detailedBalanceCSPriority=1,processes=includedJanevTransitions,lowestCellEnergy=gridObj.vGrid[0]**2)"
   ]
  },
  {
   "attachments": {},
   "cell_type": "markdown",
   "metadata": {},
   "source": [
    "#### Creating the CRM model object"
   ]
  },
  {
   "cell_type": "code",
   "execution_count": null,
   "metadata": {},
   "outputs": [],
   "source": [
    "#CRM model\n",
    " \n",
    "#Adding the model tag to tag list\n",
    "modelTag = \"CRMmodel\"\n",
    "\n",
    "#Initializing model\n",
    "crmModel = sc.CustomModel(modelTag=modelTag)\n",
    "\n",
    "crmModel.setModelboundData(mbData.dict())\n",
    "\n",
    "#Add term generator responsible for buildling CRM model for ions\n",
    "crmTermGeneratorIons = crm.termGeneratorCRM(evolvedSpeciesIDs=[-1])\n",
    "\n",
    "crmModel.addTermGenerator(\"ionCRM\",crmTermGeneratorIons)\n",
    "\n",
    "#Add term generator responsible for buildling CRM model for all neutral states\n",
    "\n",
    "crmTermGeneratorNeutrals = crm.termGeneratorCRM(evolvedSpeciesIDs=list(range(1,numNeutrals+1)))\n",
    "\n",
    "crmModel.addTermGenerator(\"neutralCRM\",crmTermGeneratorNeutrals)\n",
    "\n",
    "#Add Boltzmann term generator for excitation\n",
    "exInds,exEnergies = mbData.getTransitionIndicesAndEnergies(\"JanevEx\")\n",
    "\n",
    "crmBoltzTermGenExE = crm.termGeneratorCRMBoltz(\"f\",1,exInds,exEnergies,implicitTermGroups=[1]) #Emission terms\n",
    "\n",
    "crmModel.addTermGenerator(\"exCRME\",crmBoltzTermGenExE)\n",
    "\n",
    "crmBoltzTermGenExA = crm.termGeneratorCRMBoltz(\"f\",1,exInds,exEnergies,absorptionTerms=True,implicitTermGroups=[1]) #Absorption terms\n",
    "\n",
    "crmModel.addTermGenerator(\"exCRMA\",crmBoltzTermGenExA)\n",
    "\n",
    "#Add Boltzmann term generators for ionization\n",
    "\n",
    "ionInds,ionEnergies = mbData.getTransitionIndicesAndEnergies(\"JanevIon\")\n",
    "\n",
    "crmBoltzTermGenIonE = crm.termGeneratorCRMBoltz(\"f\",1,ionInds,ionEnergies) #Emission terms\n",
    "\n",
    "crmModel.addTermGenerator(\"ionCRME\",crmBoltzTermGenIonE)\n",
    "\n",
    "crmBoltzTermGenIonA = crm.termGeneratorCRMBoltz(\"f\",1,ionInds,ionEnergies,absorptionTerms=True) #Absorption terms\n",
    "\n",
    "crmModel.addTermGenerator(\"ionCRMA\",crmBoltzTermGenIonA)\n",
    "\n",
    "#Add Boltzmann term generators for deexcitation\n",
    "\n",
    "deexInds,deexEnergies = mbData.getTransitionIndicesAndEnergies(\"JanevDeex\")\n",
    "\n",
    "crmBoltzTermGenDeexE = crm.termGeneratorCRMBoltz(\"f\",1,deexInds,deexEnergies,detailedBalanceTerms=True,implicitTermGroups=[2]) #Emission terms\n",
    "\n",
    "crmModel.addTermGenerator(\"deexCRME\",crmBoltzTermGenDeexE)\n",
    "\n",
    "crmBoltzTermGenDeexA = crm.termGeneratorCRMBoltz(\"f\",1,deexInds,deexEnergies,absorptionTerms=True,detailedBalanceTerms=True,implicitTermGroups=[2]) #Absorption terms\n",
    "\n",
    "crmModel.addTermGenerator(\"deexCRMA\",crmBoltzTermGenDeexA)\n",
    "\n",
    "# #Add Boltzmann term generators for 3b recombination\n",
    "\n",
    "recomb3bInds,recomb3bEnergies = mbData.getTransitionIndicesAndEnergies(\"JanevRecomb3b\")\n",
    "\n",
    "crmBoltzTermGen3bRecombE = crm.termGeneratorCRMBoltz(\"f\",1,recomb3bInds,recomb3bEnergies,detailedBalanceTerms=True) #Emission terms\n",
    "\n",
    "crmModel.addTermGenerator(\"recomb3bCRME\",crmBoltzTermGen3bRecombE)\n",
    "\n",
    "crmBoltzTermGen3bRecombA = crm.termGeneratorCRMBoltz(\"f\",1,recomb3bInds,recomb3bEnergies,absorptionTerms=True,detailedBalanceTerms=True) #Absorption terms\n",
    "\n",
    "crmModel.addTermGenerator(\"recomb3bCRMA\",crmBoltzTermGen3bRecombA)\n",
    "\n",
    "#Add secondary electron sources/sinks due to ionization and recombination\n",
    "\n",
    "secElInds = ionInds + recomb3bInds \n",
    "\n",
    "crmSecElTermGen = crm.termGeneratorCRMSecEl(\"f\",secElInds)\n",
    "\n",
    "crmModel.addTermGenerator(\"secElCRM\",crmSecElTermGen)\n",
    "\n",
    "#Add model to wrapper\n",
    "\n",
    "rk.addModel(crmModel.dict())\n"
   ]
  },
  {
   "attachments": {},
   "cell_type": "markdown",
   "metadata": {},
   "source": [
    "### Integrator and timestep options\n",
    "\n",
    "Simple single step backwards Euler integration"
   ]
  },
  {
   "cell_type": "code",
   "execution_count": null,
   "metadata": {},
   "outputs": [],
   "source": [
    "integrator = sc.picardBDEIntegrator(convergenceVars=[\"f\",\"We\",\"n1\",\"n2\",\"Te\"],nonlinTol=1.0e-14) \n",
    "\n",
    "rk.addIntegrator(\"BE\",integrator)"
   ]
  },
  {
   "attachments": {},
   "cell_type": "markdown",
   "metadata": {},
   "source": [
    "Set initial timestep length and numbers of allowed implicit and general groups"
   ]
  },
  {
   "cell_type": "code",
   "execution_count": null,
   "metadata": {},
   "outputs": [],
   "source": [
    "initialTimestep = 0.5\n",
    "\n",
    "rk.setIntegratorGlobalData(2,2,initialTimestep) "
   ]
  },
  {
   "attachments": {},
   "cell_type": "markdown",
   "metadata": {},
   "source": [
    "Single integration step"
   ]
  },
  {
   "cell_type": "code",
   "execution_count": null,
   "metadata": {},
   "outputs": [],
   "source": [
    "bdeStep = sc.IntegrationStep(\"BE\",defaultEvaluateGroups=[1,2],defaultUpdateGroups=[1,2])\n",
    "\n",
    "for tag in rk.modelTags():\n",
    "    bdeStep.addModel(tag)\n",
    "\n",
    "rk.addIntegrationStep(\"BE1\",bdeStep.dict())"
   ]
  },
  {
   "attachments": {},
   "cell_type": "markdown",
   "metadata": {},
   "source": [
    "#### Timeloop options"
   ]
  },
  {
   "cell_type": "code",
   "execution_count": null,
   "metadata": {},
   "outputs": [],
   "source": [
    "rk.setFixedNumTimesteps(30000)\n",
    "rk.setFixedStepOutput(1000)"
   ]
  },
  {
   "attachments": {},
   "cell_type": "markdown",
   "metadata": {},
   "source": [
    "### Create config file"
   ]
  },
  {
   "cell_type": "code",
   "execution_count": null,
   "metadata": {},
   "outputs": [],
   "source": [
    "rk.writeConfigFile()"
   ]
  },
  {
   "attachments": {},
   "cell_type": "markdown",
   "metadata": {},
   "source": [
    "### Data analysis\n"
   ]
  },
  {
   "cell_type": "code",
   "execution_count": null,
   "metadata": {},
   "outputs": [],
   "source": [
    "numFiles = 30"
   ]
  },
  {
   "attachments": {},
   "cell_type": "markdown",
   "metadata": {},
   "source": [
    "#### Loading data\n",
    "\n",
    "Set loadpath to ReMKiT1D directory"
   ]
  },
  {
   "cell_type": "code",
   "execution_count": null,
   "metadata": {},
   "outputs": [],
   "source": [
    "loadpath = hdf5Filepath\n",
    "loadFilenames = [loadpath+f'ReMKiT1DVarOutput_{i}.h5' for i in range(numFiles+1)]"
   ]
  },
  {
   "cell_type": "code",
   "execution_count": null,
   "metadata": {},
   "outputs": [],
   "source": [
    "loadedData = io.loadFromHDF5(rk.varCont,filepaths=loadFilenames,varsToIgnore=\"zeroVar\")\n",
    "loadedData"
   ]
  },
  {
   "cell_type": "code",
   "execution_count": null,
   "metadata": {},
   "outputs": [],
   "source": [
    "hv.extension('matplotlib')\n",
    "%matplotlib inline \n",
    "plt.rcParams['figure.dpi'] = 150\n",
    "hv.output(size=80,dpi=150)"
   ]
  },
  {
   "cell_type": "code",
   "execution_count": null,
   "metadata": {},
   "outputs": [],
   "source": [
    "eTot = loadedData[\"We\"].data[:,0] + loadedData[\"ni\"].data[:,0]*13.6/tempNorm\n",
    "\n",
    "for i,state in enumerate(neutralDensList):\n",
    "    eTot = eTot + loadedData[state].data[:,0] * 13.6 * (1 - 1/(i+1)**2)/tempNorm\n",
    "\n",
    "dE=abs(eTot - eTot[0])/eTot[0]\n",
    "\n",
    "ntot = loadedData[\"ni\"].data[:,0]\n",
    "\n",
    "for state in neutralDensList:\n",
    "    ntot = ntot + loadedData[state].data[:,0]\n",
    "\n",
    "dn =abs(ntot-ntot[0])/ntot[0]\n",
    "\n",
    "timeNorm = 0.27699197412978324E-7\n",
    "\n",
    "eCurve = hv.Curve([(t*timeNorm*1000,dE[i]) for i,t in enumerate(loadedData.coords[\"time\"])],label=\"E\").opts(linestyle=\"--\")\n",
    "\n",
    "nCurve = hv.Curve([(t*timeNorm*1000,dn[i]) for i,t in enumerate(loadedData.coords[\"time\"])],label=\"n\")\n",
    "\n",
    "curve = nCurve*eCurve\n",
    "curve.opts(xlabel=\"t [ms]\",ylabel='$\\delta$')\n"
   ]
  },
  {
   "cell_type": "code",
   "execution_count": null,
   "metadata": {},
   "outputs": [],
   "source": [
    "hv.save(curve.opts(xlabel=\"t [ms]\",ylabel='$\\delta$'),\"kin_crm_test.pdf\",dpi=144)"
   ]
  }
 ],
 "metadata": {
  "interpreter": {
   "hash": "31f2aee4e71d21fbe5cf8b01ff0e069b9275f58929596ceb00d14d90e3e16cd6"
  },
  "kernelspec": {
   "display_name": "Python 3.9.5 64-bit",
   "language": "python",
   "name": "python3"
  },
  "language_info": {
   "codemirror_mode": {
    "name": "ipython",
    "version": 3
   },
   "file_extension": ".py",
   "mimetype": "text/x-python",
   "name": "python",
   "nbconvert_exporter": "python",
   "pygments_lexer": "ipython3",
   "version": "3.8.10"
  },
  "orig_nbformat": 4,
  "vscode": {
   "interpreter": {
    "hash": "31f2aee4e71d21fbe5cf8b01ff0e069b9275f58929596ceb00d14d90e3e16cd6"
   }
  }
 },
 "nbformat": 4,
 "nbformat_minor": 2
}
