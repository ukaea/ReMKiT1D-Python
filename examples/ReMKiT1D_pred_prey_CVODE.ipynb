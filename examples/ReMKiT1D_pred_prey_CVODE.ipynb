{
 "cells": [
  {
   "cell_type": "markdown",
   "metadata": {},
   "source": [
    "## ReMKiT1D input generator - CVODE and DerivationTerms\n",
    "\n",
    "This notebook generates an input file for a ReMKiT1D run solving the predator-prey system and showcasing new v1.2.0 features such as the CVODE integrator support and DerivationTerms.\n",
    "\n",
    "The predator-prey system can be written as follows:\n",
    "\n",
    "$$ \\frac{dx}{dt} = (\\alpha - \\beta y)x $$\n",
    "$$ \\frac{dy}{dt} = (\\delta x - \\gamma)y $$\n",
    "\n",
    "where $\\alpha$ and $\\beta$ are the prey growth and death factors, and $\\delta$ and $\\gamma$ are the predator growth and death factors. $x$ and $y$ are prey and predator numbers in arbitrary units."
   ]
  },
  {
   "cell_type": "code",
   "execution_count": null,
   "metadata": {},
   "outputs": [],
   "source": [
    "from RMK_support import RKWrapper ,Grid, Node, treeDerivation\n",
    "import RMK_support.simple_containers as sc\n",
    "import RMK_support.IO_support as io\n",
    "import RMK_support.dashboard_support as ds\n",
    "import RMK_support.common_models as cm\n",
    "\n",
    "import numpy as np\n",
    "import holoviews as hv \n",
    "import panel as pn\n",
    "import matplotlib.pyplot as plt"
   ]
  },
  {
   "cell_type": "markdown",
   "metadata": {},
   "source": [
    "Wrapper and grid setup. The grid is 0D in this simple problem."
   ]
  },
  {
   "cell_type": "code",
   "execution_count": null,
   "metadata": {},
   "outputs": [],
   "source": [
    "rk = RKWrapper(addTimeVar=True) # The new default, adding the time variable the first time any variable is added\n",
    "rk.jsonFilepath = \"./config.json\" # Default value\n",
    "hdf5Filepath = \"./RMKOutput/RMK_pred_prey/\"\n",
    "rk.setHDF5Path(hdf5Filepath) \n",
    "rk.grid = Grid(np.zeros(1))"
   ]
  },
  {
   "cell_type": "markdown",
   "metadata": {},
   "source": [
    "Setting initial x and y values, and setting two pairs of predatorr-prey variables, one to be evolved with RK2 and the other with CVODE."
   ]
  },
  {
   "cell_type": "code",
   "execution_count": null,
   "metadata": {},
   "outputs": [],
   "source": [
    "x0 = 10*np.ones(1)\n",
    "y0 = 2 *np.ones(1)\n",
    "\n",
    "rk.addVar(\"xVar1\",x0)\n",
    "rk.addVar(\"yVar1\",y0)\n",
    "rk.addVar(\"xVar2\",x0)\n",
    "rk.addVar(\"yVar2\",y0)\n",
    "\n",
    "alpha = 1.1\n",
    "beta = 0.4\n",
    "delta = 0.1\n",
    "gamma = 0.4"
   ]
  },
  {
   "cell_type": "markdown",
   "metadata": {},
   "source": [
    "In order to use DerivationTerms, we register two pairs of derivations using the calculation tree approach."
   ]
  },
  {
   "cell_type": "code",
   "execution_count": null,
   "metadata": {},
   "outputs": [],
   "source": [
    "rk.addCustomDerivation(\"xDeriv1\",derivOptions=treeDerivation(alpha*Node(\"xVar1\")-beta*Node(\"yVar1\")*Node(\"xVar1\")))\n",
    "rk.addCustomDerivation(\"yDeriv1\",derivOptions=treeDerivation(delta*Node(\"xVar1\")*Node(\"yVar1\")-gamma*Node(\"yVar1\")))\n",
    "\n",
    "rk.addCustomDerivation(\"xDeriv2\",derivOptions=treeDerivation(alpha*Node(\"xVar2\")-beta*Node(\"yVar2\")*Node(\"xVar2\")))\n",
    "rk.addCustomDerivation(\"yDeriv2\",derivOptions=treeDerivation(delta*Node(\"xVar2\")*Node(\"yVar2\")-gamma*Node(\"yVar2\")))"
   ]
  },
  {
   "cell_type": "markdown",
   "metadata": {},
   "source": [
    "We now add 4 models, one for each evolved variable, and each with a single derivation term."
   ]
  },
  {
   "cell_type": "code",
   "execution_count": null,
   "metadata": {},
   "outputs": [],
   "source": [
    "xModel = sc.CustomModel(\"xEvo1\")\n",
    "\n",
    "xModel.addTerm(\"_term\",sc.DerivationTerm(\"xVar1\",sc.derivationRule(\"xDeriv1\",[\"xVar1\",\"yVar1\"])))\n",
    "\n",
    "rk.addModel(xModel)\n",
    "\n",
    "yModel = sc.CustomModel(\"yEvo1\")\n",
    "\n",
    "yModel.addTerm(\"_term\",sc.DerivationTerm(\"yVar1\",sc.derivationRule(\"yDeriv1\",[\"xVar1\",\"yVar1\"]),generalGroups=[2])) # We set the group to 2 here just to demonstrate that term groups are now automatically handled when setting integrator global options below\n",
    "\n",
    "rk.addModel(yModel)"
   ]
  },
  {
   "cell_type": "code",
   "execution_count": null,
   "metadata": {},
   "outputs": [],
   "source": [
    "xModel = sc.CustomModel(\"xEvo2\")\n",
    "\n",
    "xModel.addTerm(\"_term\",sc.DerivationTerm(\"xVar2\",sc.derivationRule(\"xDeriv2\",[\"xVar2\",\"yVar2\"])))\n",
    "\n",
    "rk.addModel(xModel)\n",
    "\n",
    "yModel = sc.CustomModel(\"yEvo2\")\n",
    "\n",
    "yModel.addTerm(\"_term\",sc.DerivationTerm(\"yVar2\",sc.derivationRule(\"yDeriv2\",[\"xVar2\",\"yVar2\"]),generalGroups=[2]))\n",
    "\n",
    "rk.addModel(yModel)"
   ]
  },
  {
   "cell_type": "markdown",
   "metadata": {},
   "source": [
    "### Integrator setup "
   ]
  },
  {
   "cell_type": "code",
   "execution_count": null,
   "metadata": {},
   "outputs": [],
   "source": [
    "rk.setIntegratorGlobalData(initialTimestep=0.01) # Note that we did not have to set group numbers\n",
    "rk.addIntegrator(\"CVODE\",sc.CVODEIntegrator(relTol=1e-5,absTol=1e-12)) # Try out different CVODE options (for example relTol = 1e-5 will significantly reduce accuracy)\n",
    "\n",
    "integrationStep = sc.IntegrationStep(\"CVODE\")\n",
    "\n",
    "# We add the first two models to the CVODE integration\n",
    "for tag in rk.modelTags()[:2]:\n",
    "    # Here we can automatically detect which groups are active for the given term (this handles both implicit and general groups)\n",
    "    integrationStep.addModel(tag,updateGroups=rk.activeGroups(tag),evaluateGroups=rk.activeGroups(tag))\n",
    "\n",
    "rk.addIntegrationStep(\"step1\",integrationStep.dict())\n",
    "\n",
    "rk.addIntegrator(\"RK2\",sc.rkIntegrator(2)) # Try out different orders here, too (first order clearly cannot handle the problem)\n",
    "\n",
    "integrationStep = sc.IntegrationStep(\"RK2\")\n",
    "\n",
    "#The other two models go in the RK2 integrator step\n",
    "for tag in rk.modelTags()[2:]:\n",
    "    integrationStep.addModel(tag,updateGroups=rk.activeGroups(tag),evaluateGroups=rk.activeGroups(tag))\n",
    "\n",
    "rk.addIntegrationStep(\"step2\",integrationStep.dict())"
   ]
  },
  {
   "cell_type": "code",
   "execution_count": null,
   "metadata": {},
   "outputs": [],
   "source": [
    "rk.setTimeTargetTimestepping(50.0) # Run until 50 time units have elapsed\n",
    "rk.setMinimumIntervalOutput(0.1) # Output every 0.1 time unit (might not have exactly 500 files because of rounding)"
   ]
  },
  {
   "cell_type": "markdown",
   "metadata": {},
   "source": [
    "### Output configuration file"
   ]
  },
  {
   "cell_type": "code",
   "execution_count": null,
   "metadata": {},
   "outputs": [],
   "source": [
    "rk.writeConfigFile()"
   ]
  },
  {
   "cell_type": "markdown",
   "metadata": {},
   "source": [
    "## Data analysis"
   ]
  },
  {
   "cell_type": "code",
   "execution_count": null,
   "metadata": {},
   "outputs": [],
   "source": [
    "hv.extension('matplotlib')\n",
    "%matplotlib inline \n",
    "plt.rcParams['figure.dpi'] = 150\n",
    "hv.output(size=100,dpi=150)\n",
    "\n",
    "numFiles=471\n",
    "loadpath = rk.hdf5Filepath\n",
    "loadFilenames = [loadpath+f'ReMKiT1DVarOutput_{i}.h5' for i in range(numFiles+1)]\n",
    "loadedData = io.loadFromHDF5(rk.varCont, filepaths=loadFilenames)\n",
    "loadedData"
   ]
  },
  {
   "cell_type": "markdown",
   "metadata": {},
   "source": [
    "### Comparing the two solvers"
   ]
  },
  {
   "cell_type": "code",
   "execution_count": null,
   "metadata": {},
   "outputs": [],
   "source": [
    "pn.extension(comms=\"vscode\") # change comms if not using VSCode\n",
    "dashboard = ds.ReMKiT1DDashboard(loadedData,rk.grid)\n",
    "\n",
    "# Time trace comparison\n",
    "dashboard.fluidMultiComparison([\"xVar1\",\"yVar1\",\"xVar2\",\"yVar2\"],fixedPosition=True)"
   ]
  },
  {
   "cell_type": "markdown",
   "metadata": {},
   "source": [
    "Orbit comparison"
   ]
  },
  {
   "cell_type": "code",
   "execution_count": null,
   "metadata": {},
   "outputs": [],
   "source": [
    "fig,ax = plt.subplots(1,2,sharey=\"row\")\n",
    "\n",
    "ax[0].plot(loadedData[\"xVar2\"],loadedData[\"yVar2\"])\n",
    "\n",
    "ax[0].title.set_text(\"RK2\")\n",
    "\n",
    "ax[0].set_xlabel(\"x\")\n",
    "ax[0].set_ylabel(\"y\")\n",
    "\n",
    "ax[1].plot(loadedData[\"xVar1\"],loadedData[\"yVar1\"])\n",
    "\n",
    "ax[1].title.set_text(\"CVODE\")\n",
    "\n",
    "ax[1].set_xlabel(\"x\")"
   ]
  },
  {
   "cell_type": "code",
   "execution_count": null,
   "metadata": {},
   "outputs": [],
   "source": []
  }
 ],
 "metadata": {
  "kernelspec": {
   "display_name": "Python 3",
   "language": "python",
   "name": "python3"
  },
  "language_info": {
   "codemirror_mode": {
    "name": "ipython",
    "version": 3
   },
   "file_extension": ".py",
   "mimetype": "text/x-python",
   "name": "python",
   "nbconvert_exporter": "python",
   "pygments_lexer": "ipython3",
   "version": "3.8.10"
  }
 },
 "nbformat": 4,
 "nbformat_minor": 2
}
