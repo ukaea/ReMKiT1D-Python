{
 "cells": [
  {
   "attachments": {},
   "cell_type": "markdown",
   "metadata": {},
   "source": [
    "# ReMKiT1D input generator - Poisson solver\n",
    "\n",
    "This notebook creates the json input file for a poisson solver model.\n",
    "The model being solved is:\n",
    "$$\n",
    "\\nabla^2\\phi = f\n",
    "$$\n",
    "Where $f$ is the charge distribution."
   ]
  },
  {
   "cell_type": "code",
   "execution_count": 114,
   "metadata": {},
   "outputs": [],
   "source": [
    "import numpy as np\n",
    "import xarray as xr\n",
    "import sys\n",
    "\n",
    "import holoviews as hv\n",
    "import matplotlib.pyplot as plt\n",
    "import matplotlib as mpl\n",
    "from holoviews import opts\n",
    "import panel as pn\n",
    "\n",
    "sys.path.append('../')\n",
    "import RMK_support.simple_containers as sc\n",
    "import RMK_support.IO_support as io\n",
    "from RMK_support import RKWrapper ,Grid\n",
    "import RMK_support.sk_normalization as skn"
   ]
  },
  {
   "attachments": {},
   "cell_type": "markdown",
   "metadata": {},
   "source": [
    "### Useful constants"
   ]
  },
  {
   "cell_type": "code",
   "execution_count": 115,
   "metadata": {},
   "outputs": [],
   "source": [
    "elCharge = 1.60218e-19\n",
    "elMass = 9.10938e-31\n",
    "amu = 1.6605390666e-27  # atomic mass unit\n",
    "ionMass = 2.014*amu  # deuterium mass\n",
    "epsilon0 = 8.854188e-12  # vacuum permittivity\n",
    "heavySpeciesMass = 2.014  # in amus"
   ]
  },
  {
   "attachments": {},
   "cell_type": "markdown",
   "metadata": {},
   "source": [
    "### Wrapper initialisation"
   ]
  },
  {
   "cell_type": "code",
   "execution_count": 116,
   "metadata": {},
   "outputs": [],
   "source": [
    "rk = RKWrapper()"
   ]
  },
  {
   "attachments": {},
   "cell_type": "markdown",
   "metadata": {},
   "source": [
    "### Global parameters for IO files"
   ]
  },
  {
   "cell_type": "code",
   "execution_count": 117,
   "metadata": {},
   "outputs": [],
   "source": [
    "rk.jsonFilepath = \"./config.json\"  # Default value\n",
    "hdf5Filepath = \"./RMKOutput/RMK_poisson/\"\n",
    "rk.setHDF5Path(hdf5Filepath)"
   ]
  },
  {
   "attachments": {},
   "cell_type": "markdown",
   "metadata": {},
   "source": [
    "### Setting options for external libraries used by ReMKiT1D"
   ]
  },
  {
   "attachments": {},
   "cell_type": "markdown",
   "metadata": {},
   "source": [
    "### MPI"
   ]
  },
  {
   "cell_type": "code",
   "execution_count": 118,
   "metadata": {},
   "outputs": [],
   "source": [
    "numProcsX = 4  # Number of processes in x direction\n",
    "numProcsH = 1  # Number of processes in harmonic\n",
    "numProcs = numProcsX * numProcsH\n",
    "haloWidth = 1  # Halo width in cells\n",
    "\n",
    "rk.setMPIData(numProcsX, numProcsH, haloWidth)"
   ]
  },
  {
   "attachments": {},
   "cell_type": "markdown",
   "metadata": {},
   "source": [
    "### Normalisation"
   ]
  },
  {
   "cell_type": "code",
   "execution_count": 119,
   "metadata": {},
   "outputs": [],
   "source": [
    "rk.setNormDensity(1.0e19)\n",
    "rk.setNormTemperature(10.0)\n",
    "rk.setNormRefZ(1.0)\n",
    "\n",
    "# for convenience\n",
    "tempNorm = rk.normalization[\"eVTemperature\"]\n",
    "densNorm = rk.normalization[\"density\"]\n",
    "\n",
    "norms = skn.calculateNorms(tempNorm,densNorm,1.0)\n",
    "\n",
    "timeNorm = norms[\"time\"]\n",
    "sigmaNorm = norms[\"crossSection\"]\n",
    "lengthNorm = norms[\"length\"]\n",
    "speedNorm = norms[\"speed\"]"
   ]
  },
  {
   "attachments": {},
   "cell_type": "markdown",
   "metadata": {},
   "source": [
    "### Grid initialisation"
   ]
  },
  {
   "cell_type": "code",
   "execution_count": 120,
   "metadata": {},
   "outputs": [],
   "source": [
    "dx0 = 2*0.27/4\n",
    "dxN = 2*0.0125/4\n",
    "Nx = 64*4\n",
    "L = 10 # Length in meters\n",
    "xGridWidths = L/Nx*np.ones(Nx)\n",
    "dv0 = 0.05\n",
    "dvN = 0.4\n",
    "Nv = 80\n",
    "vGridWidths = np.geomspace(dv0, dvN, Nv)\n",
    "lMax = 0\n",
    "gridObj = Grid(xGridWidths, vGridWidths, lMax, interpretXGridAsWidths=True,\n",
    "               interpretVGridAsWidths=True, isLengthInMeters=True)"
   ]
  },
  {
   "cell_type": "code",
   "execution_count": 121,
   "metadata": {},
   "outputs": [],
   "source": [
    "# Add the grid to the config file\n",
    "rk.grid = gridObj"
   ]
  },
  {
   "attachments": {},
   "cell_type": "markdown",
   "metadata": {},
   "source": [
    "### Creating initial charge density configuration"
   ]
  },
  {
   "cell_type": "code",
   "execution_count": 122,
   "metadata": {},
   "outputs": [],
   "source": [
    "rho = 0.05*np.exp(-(gridObj.xGrid-L/2)**2)"
   ]
  },
  {
   "attachments": {},
   "cell_type": "markdown",
   "metadata": {},
   "source": [
    "### Creating variables"
   ]
  },
  {
   "cell_type": "code",
   "execution_count": 123,
   "metadata": {},
   "outputs": [],
   "source": [
    "rk.addVar(\"phi\", isCommunicated=True)\n",
    "rk.addVar(\"rho\", rho, isCommunicated=True)\n",
    "\n",
    "# Set scalar quantities \n",
    "rk.addVar(\"time\",isScalar=True,isDerived=True)"
   ]
  },
  {
   "attachments": {},
   "cell_type": "markdown",
   "metadata": {},
   "source": [
    "### Creating Poisson equation model"
   ]
  },
  {
   "cell_type": "code",
   "execution_count": 124,
   "metadata": {},
   "outputs": [],
   "source": [
    "# Adding the model tag to tag list\n",
    "modelTag = \"poisson\"\n",
    "\n",
    "# Initializing model\n",
    "poissonModel = sc.CustomModel(modelTag=modelTag)\n",
    "\n",
    "# Setting normalization constant calculation \n",
    "normConstPhi = sc.CustomNormConst(multConst=-1.0)\n",
    "normConstF = sc.CustomNormConst(multConst=elCharge/epsilon0)\n",
    "\n",
    "evolvedVar = \"phi\"\n",
    "\n",
    "# Adding custom derivation for diffusion coefficient\n",
    "rk.addCustomDerivation(\"diffusionDeriv\",sc.simpleDerivation(1.0,[1.0]))\n",
    "\n",
    "# Adding first laplacian term from poisson's eq.\n",
    "laplacian = sc.GeneralMatrixTerm(evolvedVar,customNormConst=normConstPhi,stencilData=sc.diffusionStencil(\"diffusionDeriv\",[\"phi\"]))\n",
    "\n",
    "poissonModel.addTerm(\"laplacian\",laplacian)\n",
    "\n",
    "# Adding charge distribution term\n",
    "chargeDist = sc.GeneralMatrixTerm(evolvedVar,implicitVar=\"rho\",customNormConst=normConstF,stencilData=sc.diagonalStencil())\n",
    "\n",
    "poissonModel.addTerm(\"chargeDist\",chargeDist)\n",
    "\n",
    "rk.addModel(poissonModel.dict())"
   ]
  },
  {
   "attachments": {},
   "cell_type": "markdown",
   "metadata": {},
   "source": [
    "### Integrator options"
   ]
  },
  {
   "cell_type": "code",
   "execution_count": 125,
   "metadata": {},
   "outputs": [],
   "source": [
    "integrator = sc.picardBDEIntegrator(absTol=10.0)\n",
    "\n",
    "rk.addIntegrator(\"BE\",integrator)\n",
    "\n",
    "initialTimestep=0.1\n",
    "rk.setIntegratorGlobalData(initialTimestep=initialTimestep)\n",
    "\n",
    "bdeStep = sc.IntegrationStep(\"BE\",defaultUpdateModelData=True)\n",
    "\n",
    "for tag in rk.modelTags():\n",
    "    bdeStep.addModel(tag)\n",
    "\n",
    "rk.addIntegrationStep(\"StepBDE\",bdeStep.dict())\n",
    "\n",
    "rk.setFixedNumTimesteps(8000)\n",
    "rk.setFixedStepOutput(500)\n",
    "\n",
    "rk.writeConfigFile()"
   ]
  },
  {
   "attachments": {},
   "cell_type": "markdown",
   "metadata": {},
   "source": [
    "### Analysis"
   ]
  },
  {
   "cell_type": "code",
   "execution_count": 126,
   "metadata": {},
   "outputs": [
    {
     "ename": "KeyError",
     "evalue": "\"Unable to open object (object 'time' doesn't exist)\"",
     "output_type": "error",
     "traceback": [
      "\u001b[0;31m---------------------------------------------------------------------------\u001b[0m",
      "\u001b[0;31mKeyError\u001b[0m                                  Traceback (most recent call last)",
      "Cell \u001b[0;32mIn[126], line 5\u001b[0m\n\u001b[1;32m      1\u001b[0m numFiles \u001b[39m=\u001b[39m \u001b[39m16\u001b[39m\n\u001b[1;32m      3\u001b[0m loadFilenames \u001b[39m=\u001b[39m [hdf5Filepath\u001b[39m+\u001b[39m\u001b[39mf\u001b[39m\u001b[39m'\u001b[39m\u001b[39mReMKiT1DVarOutput_\u001b[39m\u001b[39m{\u001b[39;00mi\u001b[39m}\u001b[39;00m\u001b[39m.h5\u001b[39m\u001b[39m'\u001b[39m \u001b[39mfor\u001b[39;00m i \u001b[39min\u001b[39;00m \u001b[39mrange\u001b[39m(numFiles\u001b[39m+\u001b[39m\u001b[39m1\u001b[39m)]\n\u001b[0;32m----> 5\u001b[0m loadedData \u001b[39m=\u001b[39m io\u001b[39m.\u001b[39;49mloadFromHDF5(rk\u001b[39m.\u001b[39;49mvarCont,filepaths\u001b[39m=\u001b[39;49mloadFilenames)\n\u001b[1;32m      7\u001b[0m loadedData\n",
      "File \u001b[0;32m~/.local/lib/python3.8/site-packages/RMK_support/IO_support.py:99\u001b[0m, in \u001b[0;36mloadFromHDF5\u001b[0;34m(baseVarCont, filepaths, varsToIgnore, isXinMeters)\u001b[0m\n\u001b[1;32m     94\u001b[0m         buffer[varName][\u001b[39mlen\u001b[39m(time), \u001b[39m.\u001b[39m\u001b[39m.\u001b[39m\u001b[39m.\u001b[39m] \u001b[39m=\u001b[39m data\u001b[39m.\u001b[39mreshape(\n\u001b[1;32m     95\u001b[0m             buffer[varName]\u001b[39m.\u001b[39mshape[\u001b[39m1\u001b[39m:]\n\u001b[1;32m     96\u001b[0m         )\n\u001b[1;32m     98\u001b[0m \u001b[39mif\u001b[39;00m \u001b[39m\"\u001b[39m\u001b[39mtime\u001b[39m\u001b[39m\"\u001b[39m \u001b[39min\u001b[39;00m \u001b[39mlist\u001b[39m(baseVarCont\u001b[39m.\u001b[39mdataset\u001b[39m.\u001b[39mdata_vars\u001b[39m.\u001b[39mkeys()):\n\u001b[0;32m---> 99\u001b[0m     dset \u001b[39m=\u001b[39m f[\u001b[39m\"\u001b[39;49m\u001b[39mtime\u001b[39;49m\u001b[39m\"\u001b[39;49m]\n\u001b[1;32m    100\u001b[0m     time\u001b[39m.\u001b[39mappend(dset[\u001b[39m0\u001b[39m])\n\u001b[1;32m    101\u001b[0m \u001b[39melse\u001b[39;00m:\n",
      "File \u001b[0;32mh5py/_objects.pyx:54\u001b[0m, in \u001b[0;36mh5py._objects.with_phil.wrapper\u001b[0;34m()\u001b[0m\n",
      "File \u001b[0;32mh5py/_objects.pyx:55\u001b[0m, in \u001b[0;36mh5py._objects.with_phil.wrapper\u001b[0;34m()\u001b[0m\n",
      "File \u001b[0;32m~/.local/lib/python3.8/site-packages/h5py/_hl/group.py:357\u001b[0m, in \u001b[0;36mGroup.__getitem__\u001b[0;34m(self, name)\u001b[0m\n\u001b[1;32m    355\u001b[0m         \u001b[39mraise\u001b[39;00m \u001b[39mValueError\u001b[39;00m(\u001b[39m\"\u001b[39m\u001b[39mInvalid HDF5 object reference\u001b[39m\u001b[39m\"\u001b[39m)\n\u001b[1;32m    356\u001b[0m \u001b[39melif\u001b[39;00m \u001b[39misinstance\u001b[39m(name, (\u001b[39mbytes\u001b[39m, \u001b[39mstr\u001b[39m)):\n\u001b[0;32m--> 357\u001b[0m     oid \u001b[39m=\u001b[39m h5o\u001b[39m.\u001b[39;49mopen(\u001b[39mself\u001b[39;49m\u001b[39m.\u001b[39;49mid, \u001b[39mself\u001b[39;49m\u001b[39m.\u001b[39;49m_e(name), lapl\u001b[39m=\u001b[39;49m\u001b[39mself\u001b[39;49m\u001b[39m.\u001b[39;49m_lapl)\n\u001b[1;32m    358\u001b[0m \u001b[39melse\u001b[39;00m:\n\u001b[1;32m    359\u001b[0m     \u001b[39mraise\u001b[39;00m \u001b[39mTypeError\u001b[39;00m(\u001b[39m\"\u001b[39m\u001b[39mAccessing a group is done with bytes or str, \u001b[39m\u001b[39m\"\u001b[39m\n\u001b[1;32m    360\u001b[0m                     \u001b[39m\"\u001b[39m\u001b[39mnot \u001b[39m\u001b[39m{}\u001b[39;00m\u001b[39m\"\u001b[39m\u001b[39m.\u001b[39mformat(\u001b[39mtype\u001b[39m(name)))\n",
      "File \u001b[0;32mh5py/_objects.pyx:54\u001b[0m, in \u001b[0;36mh5py._objects.with_phil.wrapper\u001b[0;34m()\u001b[0m\n",
      "File \u001b[0;32mh5py/_objects.pyx:55\u001b[0m, in \u001b[0;36mh5py._objects.with_phil.wrapper\u001b[0;34m()\u001b[0m\n",
      "File \u001b[0;32mh5py/h5o.pyx:190\u001b[0m, in \u001b[0;36mh5py.h5o.open\u001b[0;34m()\u001b[0m\n",
      "\u001b[0;31mKeyError\u001b[0m: \"Unable to open object (object 'time' doesn't exist)\""
     ]
    }
   ],
   "source": [
    "numFiles = 16\n",
    "\n",
    "loadFilenames = [hdf5Filepath+f'ReMKiT1DVarOutput_{i}.h5' for i in range(numFiles+1)]\n",
    "\n",
    "loadedData = io.loadFromHDF5(rk.varCont,filepaths=loadFilenames)\n",
    "\n",
    "loadedData"
   ]
  },
  {
   "cell_type": "code",
   "execution_count": null,
   "metadata": {},
   "outputs": [],
   "source": []
  }
 ],
 "metadata": {
  "kernelspec": {
   "display_name": "Python 3",
   "language": "python",
   "name": "python3"
  },
  "language_info": {
   "codemirror_mode": {
    "name": "ipython",
    "version": 3
   },
   "file_extension": ".py",
   "mimetype": "text/x-python",
   "name": "python",
   "nbconvert_exporter": "python",
   "pygments_lexer": "ipython3",
   "version": "3.8.10"
  },
  "orig_nbformat": 4,
  "vscode": {
   "interpreter": {
    "hash": "31f2aee4e71d21fbe5cf8b01ff0e069b9275f58929596ceb00d14d90e3e16cd6"
   }
  }
 },
 "nbformat": 4,
 "nbformat_minor": 2
}
