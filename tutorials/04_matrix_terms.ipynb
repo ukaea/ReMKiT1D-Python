{
 "cells": [
  {
   "cell_type": "markdown",
   "metadata": {},
   "source": [
    "## 04 - Matrix Terms\n",
    "\n",
    "ReMKiT1D equations are constructed from terms, and the main kind of term used is the `MatrixTerm`. \n",
    "\n",
    "A matrix term represents contributions to equations of the form\n",
    "\n",
    "$$\\frac{\\partial n}{\\partial t} = Mu$$\n",
    "where $n$ is the evolved variable and both $n$ and $u$ are implicit variables (**NOTE**: if the evolved variable is stationary, the LHS of the above equation is set to 0). The matrix elements of $M$ are decomposed as\n",
    "\n",
    "$$M_{ij} = cTF_iR_iS_{ij}C_j$$\n",
    "where $c$ is a constant scalar component, $T$ is a `TimeSignalData` component encoding periodic time dependence, $F_i$ is the `Profile` components, encoding explicit $X$,$V$, and $H$ dependence, $S_{ij}$ is the `Stencil`, which contains the structure of the operator, and $R_i$ and $C_i$ are `MultiplicativeArgument` objects, i.e. products of variables raised to powers (similar to `SimpleDerivation` from the previous tutorial).\n",
    "\n",
    "Except for the `Stencil` all other `MatrixTerm` components are optional. \n",
    "\n",
    "While `MatrixTerm` objects can be constructed directly using a constructor, from v2.0.0, ReMKiT1D offers a more intuitive way to construct these terms, which will be demonstrated in this tutorial. "
   ]
  },
  {
   "cell_type": "code",
   "execution_count": 1,
   "metadata": {},
   "outputs": [],
   "source": [
    "from RMK_support import Grid, Variable, DiagonalStencil\n",
    "import RMK_support.stencils as st \n",
    "\n",
    "import numpy as np"
   ]
  },
  {
   "cell_type": "markdown",
   "metadata": {},
   "source": [
    "We start by preparing some variables"
   ]
  },
  {
   "cell_type": "code",
   "execution_count": 2,
   "metadata": {},
   "outputs": [],
   "source": [
    "grid = Grid(xGrid = 0.1 * np.ones(16), \n",
    "            interpretXGridAsWidths = True, \n",
    "            vGrid = 0.1 * np.ones(8),\n",
    "            interpretVGridAsWidths = True,\n",
    "            lMax = 3,\n",
    "            )\n",
    "\n",
    "a,b,c = (Variable(name,grid,data=(i+1)*np.ones(16)) for i,name in enumerate([\"a\",\"b\",\"c\"]))"
   ]
  },
  {
   "cell_type": "markdown",
   "metadata": {},
   "source": [
    "To start creating a `MatrixTerm` we need a stencil. Many stencils are offered, and the user is encouraged to browse the examples and documentation. Here we focus on the `DiagonalStencil` and `StaggeredDivStencil` as examples. "
   ]
  },
  {
   "cell_type": "code",
   "execution_count": 3,
   "metadata": {},
   "outputs": [],
   "source": [
    "diag = DiagonalStencil()\n",
    "div = st.StaggeredDivStencil()"
   ]
  },
  {
   "cell_type": "markdown",
   "metadata": {},
   "source": [
    "We can create a term by acting on a `Variable` or a `MultiplicativeArgument`. If acting only on a `Variable`, that variable is taken as $u$ in the above equation (i.e. the implicit variable). If acting on a `MultiplicativeArgument`, the rightmost argument with power 1 or greater is the implicit variable, and the remainder become the column variables $C_j$."
   ]
  },
  {
   "cell_type": "code",
   "execution_count": 4,
   "metadata": {},
   "outputs": [],
   "source": [
    "# divergence of a (assuming the evolved variable - not yet set - and a live on opposite grids) \n",
    "term1 = div(a).rename(\"div_term\") #inline renaming is the recommended approach \n",
    "\n",
    "# Diagonal stencil (performs interpolation if the variables it acts on are not on the same grid as the evolved variable)\n",
    "term2 = diag(b*a**2/c) # All variables the stencil acts on must live on the same grid"
   ]
  },
  {
   "cell_type": "code",
   "execution_count": 5,
   "metadata": {},
   "outputs": [
    {
     "name": "stdout",
     "output_type": "stream",
     "text": [
      "div_term\n",
      "a\n",
      "<class 'RMK_support.stencils.StaggeredDivStencil'>\n",
      "unnamed_term\n",
      "a\n",
      "{'a': 1.0, 'b': 1.0, 'c': -1.0}\n"
     ]
    }
   ],
   "source": [
    "print(term1.name)\n",
    "print(term1.implicitVar.name)\n",
    "print(type(term1.stencil))\n",
    "\n",
    "print(term2.name) # Default name \n",
    "print(term2.implicitVar.name)\n",
    "print(term2.__C__.argMultiplicity) # The column variables and their powers, note that a's power was reduced by 1 since it's used as the implicit variable"
   ]
  },
  {
   "cell_type": "markdown",
   "metadata": {},
   "source": [
    "Evolved variables are not yet set! We can confirm this"
   ]
  },
  {
   "cell_type": "code",
   "execution_count": 6,
   "metadata": {},
   "outputs": [
    {
     "name": "stdout",
     "output_type": "stream",
     "text": [
      "None\n"
     ]
    }
   ],
   "source": [
    "print(term1.evolvedVar)"
   ]
  },
  {
   "cell_type": "markdown",
   "metadata": {},
   "source": [
    "Evolved variables can be set manually, but we will cover the preferred method in the next tutorial.\n",
    "\n",
    "Terms can be ***left*** multiplied by any of the following:\n",
    "\n",
    "* `Variables` or `MultiplicativeArguments` - this will multiply row variables $R_i$ (see the next tutorial for treating model-bound variables). If the `MultiplicativeArgument` has a scalar component it will multiply the existing scalar component.\n",
    "* Scalars (float or int) - this will multiply the scalar component of the term\n",
    "* `Profiles` - this will multiply the corresponding profile dependence by a given profile in one of the coordinates - unity by default (note that the evolved variable must live on the corresponding grids, e.g. v-grid if `Profile` is a V-profile, etc.)\n",
    "* `TimeSignalData` - this will add the corresponding periodic time-dependence (multiplicatively)\n",
    "\n",
    "We demonstrate some of these here (for `TimeSignalData` see SOL-KiT-like examples)"
   ]
  },
  {
   "cell_type": "code",
   "execution_count": 7,
   "metadata": {},
   "outputs": [],
   "source": [
    "term1 = 2*b**2*term1 # multiplication my MultiplicativeArgument (the scalar is folded into the argument)\n",
    "\n",
    "xProfile = grid.profile(2*np.ones(16))\n",
    "term1 = xProfile * term1\n",
    "\n",
    "# Note that all multiplication must be explicitly left-multiplication, so sometimes awkward nested brackets are unavoidable \n",
    "\n",
    "term2 = 3*b*(xProfile *(xProfile * term2)).rename(\"term2\") # we can rename the term at any point in this process"
   ]
  },
  {
   "cell_type": "markdown",
   "metadata": {},
   "source": [
    "We can interrogate some of the private components to see that the terms are correctly constructed"
   ]
  },
  {
   "cell_type": "code",
   "execution_count": 9,
   "metadata": {},
   "outputs": [
    {
     "name": "stdout",
     "output_type": "stream",
     "text": [
      "[2. 2. 2. 2. 2. 2. 2. 2. 2. 2. 2. 2. 2. 2. 2. 2.]\n",
      "{'b': 2.0}\n",
      "2\n",
      "\n",
      "\n",
      "[4. 4. 4. 4. 4. 4. 4. 4. 4. 4. 4. 4. 4. 4. 4. 4.]\n",
      "{'b': 1.0}\n",
      "3\n"
     ]
    }
   ],
   "source": [
    "print(term1.__profiles__[\"X\"].data) # Spatial profile dependence\n",
    "print(term1.__R__.argMultiplicity) # row variables and their powers\n",
    "print(term1.multConst) # scalar multiplicative constant\n",
    "\n",
    "print(\"\\n\")\n",
    "print(term2.__profiles__[\"X\"].data) # Spatial profile dependence (note that the profile was squared)\n",
    "print(term2.__R__.argMultiplicity) # row variables and their powers\n",
    "print(term2.multConst) # scalar multiplicative constant"
   ]
  },
  {
   "cell_type": "markdown",
   "metadata": {},
   "source": [
    "Terms have their own LaTeX representation (more on this in a later tutorial)"
   ]
  },
  {
   "cell_type": "code",
   "execution_count": 11,
   "metadata": {},
   "outputs": [
    {
     "name": "stdout",
     "output_type": "stream",
     "text": [
      " 2 X  \\text{b}^{2}  \\nabla\\cdot\\left( \\text{a}\\right)\n",
      " c X  \\text{b}^{2}  \\nabla\\cdot\\left( \\text{a}\\right)\n"
     ]
    }
   ],
   "source": [
    "print(term1.latex())\n",
    "\n",
    "# We can change the constant components latex \n",
    "\n",
    "term1.constLatex = \"c\"\n",
    "\n",
    "print(term1.latex())\n"
   ]
  },
  {
   "cell_type": "markdown",
   "metadata": {},
   "source": [
    "Finally, all of the special `MatrixTerm` properties that can be set at construction can also be set either inline or through setters. Examples include letting ReMKiT1D know that a the exact sparsity pattern of a term already exists (`skipPattern` - saving on startup time) or that a matrix will never be updated (`fixedMatrix` - saving on solver time). See `MatrixTerm` documentation for more details."
   ]
  }
 ],
 "metadata": {
  "kernelspec": {
   "display_name": "Python 3",
   "language": "python",
   "name": "python3"
  },
  "language_info": {
   "codemirror_mode": {
    "name": "ipython",
    "version": 3
   },
   "file_extension": ".py",
   "mimetype": "text/x-python",
   "name": "python",
   "nbconvert_exporter": "python",
   "pygments_lexer": "ipython3",
   "version": "3.8.10"
  }
 },
 "nbformat": 4,
 "nbformat_minor": 2
}
