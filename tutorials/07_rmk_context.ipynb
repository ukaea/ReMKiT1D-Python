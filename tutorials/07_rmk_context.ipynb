{
 "cells": [
  {
   "cell_type": "markdown",
   "metadata": {},
   "source": [
    "## 07 - RMK Context\n",
    "\n",
    "Up until now, all tutorials have covered individual building blocks of ReMKiT1D runs. In order to assemble runs these elements must be put together in a global context, where they will interact. \n",
    "\n",
    "In this tutorial we finish the basic concepts of ReMKiT1D by covering various parts and features of `RMKContext`:\n",
    "\n",
    "1. The `MPIContext` and `IOContext` components for setting MPI/JSON/HDF5 options \n",
    "2. Built-in normalisation, `Species` objects, and PETSc settings \n",
    "3. The standard workflow `Grid` -> `Variables` -> `Models` -> `IntegrationScheme` specifying a simulation \n",
    "4. `Manipulator` objects and using them in `RMKContext`\n",
    "5. `config.json` and LaTeX summary features\n",
    "\n",
    "For the workflow we will use parts of the Gaussian advection example from the examples directory. The reader is encouraged to explore that other examples for complete workflows. "
   ]
  },
  {
   "cell_type": "code",
   "execution_count": 1,
   "metadata": {},
   "outputs": [],
   "source": [
    "import RMK_support as rmk\n",
    "from RMK_support.stencils import StaggeredDivStencil as Div, StaggeredGradStencil as Grad\n",
    "\n",
    "import numpy as np"
   ]
  },
  {
   "cell_type": "markdown",
   "metadata": {},
   "source": [
    "ReMKiT1D supports parallelism in the spatial and harmonic directions, and these options can be set using `MPIContext`\n",
    "\n",
    "The IO directory for HDF5 files as well as the name of the JSON config files are set using `IOContext`. The `IOContext` also contains information on using data from an input HDF5 as well as restart checkpoint saving/loading options. These aren't covered in this tutorial, but used in examples."
   ]
  },
  {
   "cell_type": "code",
   "execution_count": 2,
   "metadata": {},
   "outputs": [],
   "source": [
    "rk = rmk.RMKContext() # The main context object \n",
    "\n",
    "rk.mpiContext = rmk.MPIContext(numProcsX = 4, # Number of MPI processes in the spatial direction\n",
    "                               numProcsH = 1 # Number of MPI processes in the harmonic direction\n",
    "                               )\n",
    "\n",
    "rk.IOContext = rmk.IOContext(jsonFilepath=\"./config_test.json\", # Path of the json config\n",
    "                             HDF5Dir=\"./dummy_dir\") # IO HDF5 directory path"
   ]
  },
  {
   "cell_type": "markdown",
   "metadata": {},
   "source": [
    "With the above settings, one would need to create a `dummy_dir` directory in the directory with the `config_test.json` file and use `mpirun -np 4 [ReMKiT1D executable path] -with_config_file=./config_test.json` to run ReMKiT1D once the config file is generated at the end of this tutorial. "
   ]
  },
  {
   "cell_type": "markdown",
   "metadata": {},
   "source": [
    "We can set a `Grid` object (needed for the normalisation below) in the context"
   ]
  },
  {
   "cell_type": "code",
   "execution_count": 3,
   "metadata": {},
   "outputs": [],
   "source": [
    "xGridWidths = 0.025*np.ones(512)\n",
    "rk.grid = rmk.Grid(xGridWidths, interpretXGridAsWidths=True)"
   ]
  },
  {
   "cell_type": "markdown",
   "metadata": {},
   "source": [
    "### Normalisation, Species, and PETSc options\n",
    "\n",
    "ReMKiT1D offers a default normalisation scheme (see [code paper](https://www.sciencedirect.com/science/article/pii/S0010465524001188)) used whenever units are required by built-in functions (for example when setting the `Grid` to interpret the spatial grid in metres). \n",
    "\n",
    "We can set and inspect the base normalisation quantities (density, temperature in eV, and reference ion charge) using the `RMKContext`, and we can retrieve any derived normalisation quantities."
   ]
  },
  {
   "cell_type": "code",
   "execution_count": 4,
   "metadata": {},
   "outputs": [
    {
     "name": "stdout",
     "output_type": "stream",
     "text": [
      "{'eVTemperature': 10, 'density': 1e+19, 'referenceIonZ': 1.0, 'time': 7.220495388899917e-08, 'velGrid': 1875539.6133072434, 'speed': 1875539.6133072434, 'EField': 147.6851265098392, 'heatFlux': 30049520.576485995, 'crossSection': 7.384256325491959e-19, 'length': 0.13542325129584085}\n"
     ]
    }
   ],
   "source": [
    "rk.normDensity = 1e19\n",
    "rk.normTemperature = 10\n",
    "rk.normZ = 1.0 \n",
    "\n",
    "print(rk.norms) # Normalisation in SI units (temperature in eV)"
   ]
  },
  {
   "cell_type": "markdown",
   "metadata": {},
   "source": [
    "The above has used the default `Textbook` object. If we wanted to set our own `Textbook` object we'd assign it to `rk.textbook`. A common case where this might be useful is when requesting built-in derivations that require some `Species` information. In the example in this tutorial this is not used, but we demonstrate how one would set species and use their information to ask the `Textbook` to generate a derivation for the corresponding species temperature (for which the species mass is needed).\n",
    "\n",
    "For more use cases of `Species` see examples, especially those regarding CRMs."
   ]
  },
  {
   "cell_type": "code",
   "execution_count": 5,
   "metadata": {},
   "outputs": [
    {
     "name": "stdout",
     "output_type": "stream",
     "text": [
      "tempFromEnergyD+\n"
     ]
    }
   ],
   "source": [
    "ionSpecies = rmk.Species(\"D+\",\n",
    "                         speciesID=-1, # Unique integer ID for this species (convention for ions is to use negative IDs)\n",
    "                         atomicA=2.0, # Atomic mass in amus,\n",
    "                         charge=1.0 # Charge in e\n",
    "                         )\n",
    "\n",
    "# to add the species to the context\n",
    "rk.species.add(ionSpecies)\n",
    "\n",
    "# to set a textbook that would generate a built-in derivation for the temperature\n",
    "rk.textbook = rmk.Textbook(rk.grid,\n",
    "                           tempDerivSpeciesIDs=[ionSpecies.speciesID] \n",
    "                           )\n",
    "\n",
    "#this would then let us use the following derivation in the Fortran code \n",
    "print(rk.textbook[\"tempFromEnergyD+\"].name) # See Textbook documentation for more info and examples for use cases"
   ]
  },
  {
   "cell_type": "markdown",
   "metadata": {},
   "source": [
    "As noted in the previous tutorial, the default Backwards Euler integrator uses PETSc, and `RMKContext` can be used to set the used PETSc options"
   ]
  },
  {
   "cell_type": "code",
   "execution_count": 6,
   "metadata": {},
   "outputs": [],
   "source": [
    "rk.setPETScOptions(kspSolverType=\"gmres\", # PETSc KSP solver\n",
    "                   cliOpts=\"-pc_type bjacobi -sub_pc_factor_shift_type nonzero -sub_pc_factor_levels 1\" # Non-default PETSc CLI options (see PETSc documentation)\n",
    "                   )"
   ]
  },
  {
   "cell_type": "markdown",
   "metadata": {},
   "source": [
    "### Default workflow with RMKContext \n",
    "\n",
    "After setting the `Grid` one can continue with the following workflow:\n",
    "\n",
    "1. Define and add `Variables`\n",
    "2. Define and add `Models`/`Terms`\n",
    "3. Set the `IntegrationScheme` \n",
    "\n",
    "Note that there is no need to add all `Variables` at the same time or all `Models`/`Terms` at the same time, either. The above is only the suggested workflow, and users should adapt it according to their use case and preference. "
   ]
  },
  {
   "cell_type": "code",
   "execution_count": 7,
   "metadata": {},
   "outputs": [],
   "source": [
    "nInit = 1 + np.exp(-(rk.grid.xGrid-np.mean(rk.grid.xGrid))**2) # A Gaussian perturbation\n",
    "TInit = np.ones(len(rk.grid.xGrid)) # Constant temperature\n",
    "\n",
    "n,n_dual = rmk.varAndDual(\"n\",rk.grid,data=nInit) \n",
    "T = rmk.Variable(\"T\",rk.grid,data=TInit,isDerived=True,isCommunicated=False)\n",
    "G_dual,G = rmk.varAndDual(\"G\",rk.grid,primaryOnDualGrid=True) \n",
    "\n",
    "rk.variables.add(n,T,G) # rk.variables is a VariableContainer\n",
    "\n",
    "model = rmk.Model(name=\"adv\")\n",
    "\n",
    "massRatio = 1/1836\n",
    "\n",
    "model.ddt[n] += - Div()(G_dual).rename(\"div_G\") # dn/dt = - div(G_dual)\n",
    "model.ddt[G_dual] += -massRatio/2 * Grad()(T * n).rename(\"grad_p\") # dG_dual/dt = -m_e/(2m_i) grad(n*T)\n",
    "\n",
    "rk.models.add(model) # rk.models is a ModelCollection"
   ]
  },
  {
   "cell_type": "markdown",
   "metadata": {},
   "source": [
    "In this example, we use a simple Backwards Euler solver with a fixed number of steps."
   ]
  },
  {
   "cell_type": "code",
   "execution_count": 8,
   "metadata": {},
   "outputs": [],
   "source": [
    "# the implicit BDE integrator that checks convergence based on the variables n and G_dual\n",
    "integrator = rmk.BDEIntegrator(\"BDE\",nonlinTol=1e-12,absTol=10.0,convergenceVars=[n,G_dual])\n",
    "integrationStep = rmk.IntegrationStep(\"BE\",integrator)\n",
    "integrationStep.add(rk.models) # Add all models in context\n",
    "rk.integrationScheme = rmk.IntegrationScheme(dt=0.1,steps=integrationStep) #Create a scheme with our single step and a constant integration timestep 0.1\n",
    "rk.integrationScheme.setFixedNumTimesteps(10000,200) # Run for 10000 steps outputting every 200"
   ]
  },
  {
   "cell_type": "markdown",
   "metadata": {},
   "source": [
    "### Manipulators\n",
    "\n",
    "`Manipulators` allow for non-standard data manipulation, and are mostly used for data access and diagnostics. \n",
    "\n",
    "Here we demonstrate a `TermEvaluator` manipulator to extract the `div_G` term into its own variable"
   ]
  },
  {
   "cell_type": "code",
   "execution_count": 9,
   "metadata": {},
   "outputs": [],
   "source": [
    "divG = rmk.Variable(\"divG\",rk.grid,isDerived=True) # We set the variable to be derived but do not add a derivation \n",
    "\n",
    "rk.variables.add(divG) # Register divG in the context\n",
    "\n",
    "divGEvaluator = rmk.TermEvaluator(\"divGEval\",\n",
    "                                  modelTermTags=[(\"adv\",\"div_G\")], # Evaluate term \"div_G\" in model \"adv\"\n",
    "                                  resultVar=divG # and store in divG\n",
    "                                  )\n",
    "\n",
    "rk.manipulators.add(divGEvaluator) # Register the manipulator"
   ]
  },
  {
   "cell_type": "markdown",
   "metadata": {},
   "source": [
    "`RMKContext` also offers an automatic addition of manipulators for the diagnosis of terms evolving any `Variable`"
   ]
  },
  {
   "cell_type": "code",
   "execution_count": 10,
   "metadata": {},
   "outputs": [],
   "source": [
    "rk.addTermDiagnostics(G_dual) # Will add term diagnosis for term grad_p in model adv which evolves G_dual"
   ]
  },
  {
   "cell_type": "markdown",
   "metadata": {},
   "source": [
    "### Generating config file and LaTeX summary"
   ]
  },
  {
   "cell_type": "markdown",
   "metadata": {},
   "source": [
    "To generate a ReMKiT1D config file from a context simply run the following\n",
    "\n",
    "**NOTE**: This tutorial **DOES NOT** generate a valid ReMKiT1D input file, and is used simply to showcase the Python interface syntax. For Fortran-runnable config files, see the examples directory."
   ]
  },
  {
   "cell_type": "code",
   "execution_count": 11,
   "metadata": {},
   "outputs": [
    {
     "name": "stdout",
     "output_type": "stream",
     "text": [
      "Checking terms in model adv:\n",
      "   Checking term div_G\n",
      "   Checking term grad_p\n"
     ]
    }
   ],
   "source": [
    "rk.writeConfigFile()"
   ]
  },
  {
   "cell_type": "markdown",
   "metadata": {},
   "source": [
    "ReMKiT1D's Python interface offers the ability to generate LaTeX summaries of contexts and save them as PDF files.\n",
    "\n",
    "Furthermore, remapping of variable names is supported "
   ]
  },
  {
   "cell_type": "code",
   "execution_count": 12,
   "metadata": {},
   "outputs": [
    {
     "name": "stdout",
     "output_type": "stream",
     "text": [
      "Checking terms in model adv:\n",
      "   Checking term div_G\n",
      "   Checking term grad_p\n"
     ]
    }
   ],
   "source": [
    "latexRemap = {\"n\":\"n\", # This will remove the \\text{} wrapper which is default around variable names\n",
    "              \"n_dual\":\"n_{dual}\",\n",
    "              \"G\":\"\\\\vec{G}\", # Note escape character\n",
    "              \"G_dual\":\"\\\\vec{G}_{dual}\"\n",
    "              } \n",
    "\n",
    "rk.generatePDF(latexFilename=\"Tutorial 07\", # Underscores will be inserted into the name\n",
    "               latexRemap=latexRemap,\n",
    "               cleanTex=True # Set to false to keep the intermediate tex files\n",
    "               )"
   ]
  }
 ],
 "metadata": {
  "kernelspec": {
   "display_name": "Python 3",
   "language": "python",
   "name": "python3"
  },
  "language_info": {
   "codemirror_mode": {
    "name": "ipython",
    "version": 3
   },
   "file_extension": ".py",
   "mimetype": "text/x-python",
   "name": "python",
   "nbconvert_exporter": "python",
   "pygments_lexer": "ipython3",
   "version": "3.8.10"
  }
 },
 "nbformat": 4,
 "nbformat_minor": 2
}
