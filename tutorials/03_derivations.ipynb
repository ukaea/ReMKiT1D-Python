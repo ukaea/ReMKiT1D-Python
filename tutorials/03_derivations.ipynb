{
 "cells": [
  {
   "cell_type": "markdown",
   "metadata": {},
   "source": [
    "## 03 - Derivations\n",
    "\n",
    "Derivations in ReMKiT1D represent function wrappers taking in variables as arguments. They are used primarily to define derived variables, but can also be used wherever some functional dependence on variable values needs to be specified. \n",
    "\n",
    "In this tutorial we cover:\n",
    "\n",
    "1. Derivation properties (`__call__` magic method on derivations) and creating derived variables directly using derivation objects\n",
    "2. Commonly used derivations (`NodeDerivation` and `SimpleDerivation`)\n",
    "3. Composite derivations and `DerivationClosures`\n",
    "4. `Textbooks`, built-in derivations"
   ]
  },
  {
   "cell_type": "code",
   "execution_count": 1,
   "metadata": {},
   "outputs": [],
   "source": [
    "from RMK_support import Grid, Variable, node\n",
    "\n",
    "import RMK_support.derivations as dv\n",
    "\n",
    "import numpy as np"
   ]
  },
  {
   "cell_type": "markdown",
   "metadata": {},
   "source": [
    "Many derivations are available, encapsulating various functional dependencies in ReMKiT1D. The reader is encouraged to explore examples and documentation to see how these are used. \n",
    "\n",
    "The most basic is the `SimpleDerivation`, which represents $ c\\prod_i v_i^{p_i} $, where $c$ is a scalar, $v_i$ are different variables and $p_i$ are powers associated with each."
   ]
  },
  {
   "cell_type": "code",
   "execution_count": 2,
   "metadata": {},
   "outputs": [],
   "source": [
    "deriv = dv.SimpleDerivation(\"d\", # name of the derivation\n",
    "                            multConst = 2.0, # multiplicative constant\n",
    "                            varPowers = [1.0,-2.0] # Powers associated with the variables \n",
    "                                                   # we have 2 powers so expect 2 variables \n",
    "                            )"
   ]
  },
  {
   "cell_type": "markdown",
   "metadata": {},
   "source": [
    "We can interrogate the derivation to see that it requires 2 (free) arguments."
   ]
  },
  {
   "cell_type": "code",
   "execution_count": 3,
   "metadata": {},
   "outputs": [
    {
     "name": "stdout",
     "output_type": "stream",
     "text": [
      "d\n",
      "2\n"
     ]
    }
   ],
   "source": [
    "print(deriv.name)\n",
    "print(deriv.numArgs)"
   ]
  },
  {
   "cell_type": "markdown",
   "metadata": {},
   "source": [
    "Let's create some dummy variables on a grid to showcase more derivation features"
   ]
  },
  {
   "cell_type": "code",
   "execution_count": 4,
   "metadata": {},
   "outputs": [],
   "source": [
    "grid = Grid(xGrid = 0.1 * np.ones(16), \n",
    "            interpretXGridAsWidths = True, \n",
    "            vGrid = 0.1 * np.ones(8),\n",
    "            interpretVGridAsWidths = True,\n",
    "            lMax = 3,\n",
    "            )\n",
    "\n",
    "a,b,c = (Variable(name,grid,data=(i+1)*np.ones(16)) for i,name in enumerate([\"a\",\"b\",\"c\"]))"
   ]
  },
  {
   "cell_type": "markdown",
   "metadata": {},
   "source": [
    "We can then pass the derivation to a new derived variable constructor"
   ]
  },
  {
   "cell_type": "code",
   "execution_count": 5,
   "metadata": {},
   "outputs": [
    {
     "name": "stdout",
     "output_type": "stream",
     "text": [
      "True\n",
      "d\n",
      "['a', 'b']\n"
     ]
    }
   ],
   "source": [
    "derivedVar = Variable(\"derived\",grid,\n",
    "                      derivation=deriv, # The derivation object\n",
    "                      derivationArgs=[\"a\",\"b\"] # The argument list - we need two arguments\n",
    "                      )\n",
    "\n",
    "print(derivedVar.isDerived)\n",
    "print(derivedVar.derivation.name)\n",
    "print(derivedVar.derivationArgs)"
   ]
  },
  {
   "cell_type": "markdown",
   "metadata": {},
   "source": [
    "Derivations support automatic generation of derived variables by application to the correct arguments:"
   ]
  },
  {
   "cell_type": "code",
   "execution_count": 6,
   "metadata": {},
   "outputs": [
    {
     "name": "stdout",
     "output_type": "stream",
     "text": [
      "d\n",
      "True\n",
      "d\n",
      "['a', 'b']\n"
     ]
    }
   ],
   "source": [
    "derivedVar = deriv(a,b)\n",
    "\n",
    "print(derivedVar.name)\n",
    "print(derivedVar.isDerived)\n",
    "print(derivedVar.derivation.name)\n",
    "print(derivedVar.derivationArgs)"
   ]
  },
  {
   "cell_type": "markdown",
   "metadata": {},
   "source": [
    "As we can see, the derivation passes its name on to the variable, we can use `rename()` to change this, or we can use other `VariableContainer` approaches when registering the variable (see previous tutorial)."
   ]
  },
  {
   "cell_type": "markdown",
   "metadata": {},
   "source": [
    "Some derivations have `evaluate()` methods defined, these accept numpy arrays, and also overload the `__call__` method. "
   ]
  },
  {
   "cell_type": "code",
   "execution_count": 7,
   "metadata": {},
   "outputs": [
    {
     "name": "stdout",
     "output_type": "stream",
     "text": [
      "[  2. 100.]\n",
      "[  2. 100.]\n"
     ]
    }
   ],
   "source": [
    "print(deriv(np.array([1.0, 2.0]),np.array([-1.0,-0.2])))\n",
    "print(deriv.evaluate(np.array([1.0, 2.0]),np.array([-1.0,-0.2])))"
   ]
  },
  {
   "cell_type": "markdown",
   "metadata": {},
   "source": [
    "We've seen in the previous tutorial that `Node` objects can be used to define derived variables. Formally, they do so via `NodeDerivation` objects."
   ]
  },
  {
   "cell_type": "code",
   "execution_count": 8,
   "metadata": {},
   "outputs": [
    {
     "name": "stdout",
     "output_type": "stream",
     "text": [
      "node\n",
      "0\n"
     ]
    }
   ],
   "source": [
    "nodeDeriv = dv.NodeDerivation(\"node\",node(a)+node(b)**2)\n",
    "\n",
    "print(nodeDeriv.name)\n",
    "print(nodeDeriv.numArgs)"
   ]
  },
  {
   "cell_type": "markdown",
   "metadata": {},
   "source": [
    "Note that the number of arguments for the derivation in 0. This is because the derivation itself absorbs the `Node` and has 0 free arguments. We can see this by asking the derivation for it's number of enclosed (or total) arguments:"
   ]
  },
  {
   "cell_type": "code",
   "execution_count": 9,
   "metadata": {},
   "outputs": [
    {
     "name": "stdout",
     "output_type": "stream",
     "text": [
      "2\n",
      "2\n"
     ]
    }
   ],
   "source": [
    "print(nodeDeriv.enclosedArgs)\n",
    "print(nodeDeriv.totNumArgs)"
   ]
  },
  {
   "cell_type": "markdown",
   "metadata": {},
   "source": [
    "We can get the argument list of a `NodeDerivation` by calling `fillArgs()`, which would normally require passing the argument list:"
   ]
  },
  {
   "cell_type": "code",
   "execution_count": 10,
   "metadata": {},
   "outputs": [
    {
     "name": "stdout",
     "output_type": "stream",
     "text": [
      "['a', 'b']\n",
      "['b', 'a']\n"
     ]
    }
   ],
   "source": [
    "print(nodeDeriv.fillArgs()) # Arguments for a NodeDerivation are enclosed\n",
    "print(deriv.fillArgs(\"b\",\"a\")) # Arguments for a SimpleDerivation are explicit"
   ]
  },
  {
   "cell_type": "markdown",
   "metadata": {},
   "source": [
    "Applying a derivation with 0 arguments is unfortunately ambiguous, so one must pass at least one argument of the correct type: "
   ]
  },
  {
   "cell_type": "code",
   "execution_count": 11,
   "metadata": {},
   "outputs": [
    {
     "name": "stdout",
     "output_type": "stream",
     "text": [
      "node\n",
      "True\n",
      "node\n",
      "['a', 'b']\n"
     ]
    },
    {
     "name": "stderr",
     "output_type": "stream",
     "text": [
      "/home/stefan/.local/lib/python3.8/site-packages/RMK_support/variable_container.py:235: UserWarning: derivationArgs set for variable node which is produced by a NodeDerivation. Ignoring in favour of node leaf variables.\n",
      "  warnings.warn(\n"
     ]
    }
   ],
   "source": [
    "nodeVar = nodeDeriv(c) # c will only be used to get some variable properties, but won't be an argument\n",
    "\n",
    "print(nodeVar.name)\n",
    "print(nodeVar.isDerived)\n",
    "print(nodeVar.derivation.name)\n",
    "print(nodeVar.derivationArgs)\n"
   ]
  },
  {
   "cell_type": "markdown",
   "metadata": {},
   "source": [
    "The warning above can be ignored when applying a `NodeDerivation`. "
   ]
  },
  {
   "cell_type": "markdown",
   "metadata": {},
   "source": [
    "For evaluation, the derivation still expects the correct number of total arguments."
   ]
  },
  {
   "cell_type": "code",
   "execution_count": 12,
   "metadata": {},
   "outputs": [
    {
     "name": "stdout",
     "output_type": "stream",
     "text": [
      "[5.]\n"
     ]
    }
   ],
   "source": [
    "print(nodeDeriv(np.ones(1),2*np.ones(1)))"
   ]
  },
  {
   "cell_type": "markdown",
   "metadata": {},
   "source": [
    "### Derivation Closures\n",
    "\n",
    "As seen above, some derivations contain enclosed arguments. While derivations such as `NodeDerivation` or `RangeFilterDerivation` (see docstrings) contain enclosed arguments by default, arguments can be enclosed explicitly using the `DerivationClosure` construct."
   ]
  },
  {
   "cell_type": "code",
   "execution_count": 13,
   "metadata": {},
   "outputs": [
    {
     "name": "stdout",
     "output_type": "stream",
     "text": [
      "1\n",
      "1\n",
      "1\n",
      "1\n"
     ]
    }
   ],
   "source": [
    "derivClosure1 = dv.DerivationClosure(deriv,a) # Enclosing a as the first argument of deriv\n",
    "derivClosure2 = dv.DerivationClosure(deriv,a,argPositions=(1,)) # Enclosing a as the second argument of deriv \n",
    "\n",
    "print(derivClosure1.enclosedArgs)\n",
    "print(derivClosure1.numArgs)\n",
    "print(derivClosure2.enclosedArgs)\n",
    "print(derivClosure2.numArgs)\n"
   ]
  },
  {
   "cell_type": "markdown",
   "metadata": {},
   "source": [
    "When using `fillArgs()` to interrogate a `Derivation` with enclosed arguments, those arguments will be combined with any passed free arguments in the correct order. This is how the Python interfaces ensures that the Fortran code get the expected argument orders."
   ]
  },
  {
   "cell_type": "code",
   "execution_count": 14,
   "metadata": {},
   "outputs": [
    {
     "name": "stdout",
     "output_type": "stream",
     "text": [
      "['a', 'b']\n",
      "['b', 'a']\n"
     ]
    }
   ],
   "source": [
    "print(derivClosure1.fillArgs(\"b\")) # Fill missing arguments (second)\n",
    "print(derivClosure2.fillArgs(\"b\")) # Fill missing argument (first)\n"
   ]
  },
  {
   "cell_type": "code",
   "execution_count": 15,
   "metadata": {},
   "outputs": [
    {
     "name": "stdout",
     "output_type": "stream",
     "text": [
      "['a', 'b']\n",
      "d\n"
     ]
    }
   ],
   "source": [
    "derivVar = derivClosure1(b) # Acting only on b \n",
    "\n",
    "print(derivedVar.derivationArgs)\n",
    "print(derivedVar.name) # Name of the derivation whose closure was taken"
   ]
  },
  {
   "cell_type": "markdown",
   "metadata": {},
   "source": [
    "### Complete closure arithmetic\n",
    "\n",
    "If a `DerivationClosure` is complete, i.e. has 0 free arguments, it can be added to/multiplied by other complete closures to produce composite derivations. \n",
    "\n",
    "**NOTE**: These are automatically named, and can quickly go over the allowed maximum ReMKiT1D derivation name lengths. It is thus advisable to rename them.\n",
    "\n",
    "**NOTE**: Derivation closure arithmetic is less efficient than `NodeDerivations`, so whenever possible these should be used for simple calculations. The closure example in this tutorial is a good case for using nodes, and the user is encouraged to play around and try to implement it using a `NodeDerivation`."
   ]
  },
  {
   "cell_type": "code",
   "execution_count": 16,
   "metadata": {},
   "outputs": [
    {
     "name": "stdout",
     "output_type": "stream",
     "text": [
      "composite\n",
      "6\n",
      "['a', 'b', 'b', 'c', 'a', 'b']\n"
     ]
    }
   ],
   "source": [
    "deriv1 = dv.DerivationClosure(deriv,a,b)\n",
    "deriv2 = dv.DerivationClosure(deriv,b,c)\n",
    "\n",
    "compositeDeriv = (deriv1*deriv2 + 2*deriv1**2).rename(\"composite\")\n",
    "\n",
    "print(compositeDeriv.name)\n",
    "print(compositeDeriv.enclosedArgs)\n",
    "print(compositeDeriv.fillArgs()) # a,b for deriv1, b,c for deriv 2, and a,b again for deriv1"
   ]
  },
  {
   "cell_type": "markdown",
   "metadata": {},
   "source": [
    "Unlike `NodeDerivation`, evaluating a `DerivationClosure` doesn't require passing argument values. Note that all used derivations must have the `evaluate()` method define, otherwise they can only be evaluated in the Fortran code. "
   ]
  },
  {
   "cell_type": "code",
   "execution_count": 17,
   "metadata": {},
   "outputs": [
    {
     "name": "stdout",
     "output_type": "stream",
     "text": [
      "[0.72222222 0.72222222 0.72222222 0.72222222 0.72222222 0.72222222\n",
      " 0.72222222 0.72222222 0.72222222 0.72222222 0.72222222 0.72222222\n",
      " 0.72222222 0.72222222 0.72222222 0.72222222]\n"
     ]
    }
   ],
   "source": [
    "print(compositeDeriv.evaluate()) # len 16 array since all variables were set as living on x only"
   ]
  },
  {
   "cell_type": "markdown",
   "metadata": {},
   "source": [
    "We can also apply Fortran functions (see `MultiplicativeDerivation` docstring) to complete closures to produce new closures."
   ]
  },
  {
   "cell_type": "code",
   "execution_count": 18,
   "metadata": {},
   "outputs": [
    {
     "name": "stdout",
     "output_type": "stream",
     "text": [
      "exp_d\n",
      "2\n",
      "['a', 'b']\n",
      "[1.64872127 1.64872127 1.64872127 1.64872127 1.64872127 1.64872127\n",
      " 1.64872127 1.64872127 1.64872127 1.64872127 1.64872127 1.64872127\n",
      " 1.64872127 1.64872127 1.64872127 1.64872127]\n"
     ]
    }
   ],
   "source": [
    "compositeDeriv2 = dv.funApply(\"exp\",deriv1)\n",
    "\n",
    "print(compositeDeriv2.name) # Auto-generated\n",
    "print(compositeDeriv2.enclosedArgs)\n",
    "print(compositeDeriv2.fillArgs()) \n",
    "\n",
    "print(compositeDeriv2.evaluate()) \n"
   ]
  },
  {
   "cell_type": "markdown",
   "metadata": {},
   "source": [
    "### Textbooks and built-in derivations\n",
    "\n",
    "Derivations in ReMKiT1D are stored in the `Textbook` object, which also provides access to various built-in derivations.\n",
    "\n",
    "For a list of built-in derivations and their explanations the user is referred to the `Textbook` docstring.\n",
    "\n",
    "Textbooks refer to species ID's which will be covered in a later tutorial. For now it's safe to assume these are unique integer tags linking to species data such as mass and charge."
   ]
  },
  {
   "cell_type": "code",
   "execution_count": 19,
   "metadata": {},
   "outputs": [
    {
     "name": "stdout",
     "output_type": "stream",
     "text": [
      "gradDeriv\n",
      "1\n"
     ]
    }
   ],
   "source": [
    "textbook = dv.Textbook(grid)\n",
    "\n",
    "# A built-in derivation \n",
    "\n",
    "deriv = textbook[\"gradDeriv\"] # We access derivations registered in a textbook by name\n",
    "\n",
    "print(deriv.name)\n",
    "print(deriv.numArgs)"
   ]
  },
  {
   "cell_type": "markdown",
   "metadata": {},
   "source": [
    "The user is encouraged to explore the documentation and examples for uses of built-in derivations. \n",
    "\n",
    "**NOTE**: All built-in derivations can be recreated using Python-level derivation objects, but are provided for convenience and backwards-compatibility."
   ]
  },
  {
   "cell_type": "markdown",
   "metadata": {},
   "source": [
    "All derivations can be registered in a textbook, and higher-level interfaces exist that perform this automatically. \n",
    "\n",
    "Here we demonstrate registering a derivation and getting all the registered derivation names (not including species-specific derivations)"
   ]
  },
  {
   "cell_type": "code",
   "execution_count": 20,
   "metadata": {},
   "outputs": [
    {
     "name": "stdout",
     "output_type": "stream",
     "text": [
      "['flowSpeedFromFlux', 'leftElectronGamma', 'rightElectronGamma', 'densityMoment', 'energyMoment', 'cclDragCoeff', 'cclDiffusionCoeff', 'cclWeight', 'fluxMoment', 'heatFluxMoment', 'viscosityTensorxxMoment', 'gridToDual', 'dualToGrid', 'distributionInterp', 'gradDeriv', 'logLee', 'maxwellianDistribution', 'd', 'dXd', 'd_pow_rmul', 'composite']\n"
     ]
    }
   ],
   "source": [
    "textbook.register(compositeDeriv) # This will register all of the derivations appearing in the composite\n",
    "\n",
    "print(textbook.registeredDerivs)"
   ]
  },
  {
   "cell_type": "markdown",
   "metadata": {},
   "source": [
    "Note that `composite` is registered, but so are also all the individual derivations appearing in the composite: \n",
    "\n",
    "* `d` - the base `SimpleDerivation`\n",
    "* `dXd` - multiplicative derivation (the `deriv1*deriv2` term)\n",
    "* `d_pow_rmul` - the `2*deriv1**2` term\n",
    "\n",
    "Here we see more auto-generated derivation names, and why we should be careful when using closure arithmetic. It can be very powerful, but requires careful derivation renaming to avoid unwieldy or illegal auto-generated names. A future update is likely to address this in an automated way, but users are currently warned to be careful with these auto-generated names."
   ]
  }
 ],
 "metadata": {
  "kernelspec": {
   "display_name": "Python 3",
   "language": "python",
   "name": "python3"
  },
  "language_info": {
   "codemirror_mode": {
    "name": "ipython",
    "version": 3
   },
   "file_extension": ".py",
   "mimetype": "text/x-python",
   "name": "python",
   "nbconvert_exporter": "python",
   "pygments_lexer": "ipython3",
   "version": "3.8.10"
  }
 },
 "nbformat": 4,
 "nbformat_minor": 2
}
