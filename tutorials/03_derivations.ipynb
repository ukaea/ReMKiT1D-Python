{
 "cells": [
  {
   "cell_type": "markdown",
   "metadata": {},
   "source": [
    "## 03 - Derivations\n",
    "\n",
    "Derivations in ReMKiT1D represent function wrappers taking in variables as arguments. They are used primarily to define derived variables, but can also be used wherever some functional dependence on variable values needs to be specified. \n",
    "\n",
    "In this tutorial we cover:\n",
    "\n",
    "1. Derivation properties (`__call__` magic method on derivations) and creating derived variables directly using derivation objects\n",
    "2. Commonly used derivations (`NodeDerivation` and `SimpleDerivation`)\n",
    "3. Composite derivations and `DerivationClosures`\n",
    "4. `Textbooks`, built-in derivations"
   ]
  }
 ],
 "metadata": {
  "language_info": {
   "name": "python"
  }
 },
 "nbformat": 4,
 "nbformat_minor": 2
}
