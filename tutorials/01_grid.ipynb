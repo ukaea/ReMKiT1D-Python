{
 "cells": [
  {
   "cell_type": "markdown",
   "metadata": {},
   "source": [
    "## 01 - Grids\n",
    "\n",
    "ReMKiT1D is spatially 1D with a Legendre harmonic representation of the effectively 2D velocity space, meaning that the angular dependence is captured in a harmonic dimension, while the magnitude of the velocity is discretised directly. \n",
    "\n",
    "For a detailed explanation of the spatial and velocity grids, see section 3.1.4 of the [code paper](https://www.sciencedirect.com/science/article/pii/S0010465524001188).\n",
    "\n",
    "A brief recap is given here: \n",
    "\n",
    "1. The spatial dimension is discretised into effectively two grids, the regular grid (representing cell centres) and the staggered/dual grid, representing cell edges.\n",
    "2. The velocity space is discretised into an integer-values harmonic dimension h and a 1D velocity magnitude grid \n",
    "3. Interpolation between spatial grids is provided, with the assumption that (in general) scalar fields of fluid quantities live in cell centres, and vector fields of fluid quantities live on cell edges. The electron distribution function harmonics are assumed to live in centres if they have an even l-number, and edges if odd. The user can circumvent this behaviour, however."
   ]
  },
  {
   "cell_type": "markdown",
   "metadata": {},
   "source": [
    "### The Grid object\n",
    "\n",
    "Grid data is encapsulated in the `Grid` object provided by RMK_support module."
   ]
  },
  {
   "cell_type": "code",
   "execution_count": 30,
   "metadata": {},
   "outputs": [],
   "source": [
    "from RMK_support import Grid,gridFromDict\n",
    "\n",
    "import numpy as np"
   ]
  },
  {
   "cell_type": "markdown",
   "metadata": {},
   "source": [
    "The signature of the `Grid` initialiser is:"
   ]
  },
  {
   "cell_type": "code",
   "execution_count": 31,
   "metadata": {},
   "outputs": [
    {
     "name": "stdout",
     "output_type": "stream",
     "text": [
      "\u001b[0;31mInit signature:\u001b[0m\n",
      "\u001b[0mGrid\u001b[0m\u001b[0;34m(\u001b[0m\u001b[0;34m\u001b[0m\n",
      "\u001b[0;34m\u001b[0m    \u001b[0mxGrid\u001b[0m\u001b[0;34m:\u001b[0m \u001b[0mnumpy\u001b[0m\u001b[0;34m.\u001b[0m\u001b[0mndarray\u001b[0m\u001b[0;34m,\u001b[0m\u001b[0;34m\u001b[0m\n",
      "\u001b[0;34m\u001b[0m    \u001b[0mvGrid\u001b[0m\u001b[0;34m:\u001b[0m \u001b[0mnumpy\u001b[0m\u001b[0;34m.\u001b[0m\u001b[0mndarray\u001b[0m \u001b[0;34m=\u001b[0m \u001b[0marray\u001b[0m\u001b[0;34m(\u001b[0m\u001b[0;34m[\u001b[0m\u001b[0;36m1.\u001b[0m\u001b[0;34m]\u001b[0m\u001b[0;34m)\u001b[0m\u001b[0;34m,\u001b[0m\u001b[0;34m\u001b[0m\n",
      "\u001b[0;34m\u001b[0m    \u001b[0mlMax\u001b[0m\u001b[0;34m=\u001b[0m\u001b[0;36m0\u001b[0m\u001b[0;34m,\u001b[0m\u001b[0;34m\u001b[0m\n",
      "\u001b[0;34m\u001b[0m    \u001b[0mmMax\u001b[0m\u001b[0;34m=\u001b[0m\u001b[0;36m0\u001b[0m\u001b[0;34m,\u001b[0m\u001b[0;34m\u001b[0m\n",
      "\u001b[0;34m\u001b[0m    \u001b[0minterpretXGridAsWidths\u001b[0m\u001b[0;34m=\u001b[0m\u001b[0;32mFalse\u001b[0m\u001b[0;34m,\u001b[0m\u001b[0;34m\u001b[0m\n",
      "\u001b[0;34m\u001b[0m    \u001b[0minterpretVGridAsWidths\u001b[0m\u001b[0;34m=\u001b[0m\u001b[0;32mFalse\u001b[0m\u001b[0;34m,\u001b[0m\u001b[0;34m\u001b[0m\n",
      "\u001b[0;34m\u001b[0m    \u001b[0misPeriodic\u001b[0m\u001b[0;34m=\u001b[0m\u001b[0;32mFalse\u001b[0m\u001b[0;34m,\u001b[0m\u001b[0;34m\u001b[0m\n",
      "\u001b[0;34m\u001b[0m    \u001b[0misLengthInMeters\u001b[0m\u001b[0;34m=\u001b[0m\u001b[0;32mFalse\u001b[0m\u001b[0;34m,\u001b[0m\u001b[0;34m\u001b[0m\n",
      "\u001b[0;34m\u001b[0m\u001b[0;34m)\u001b[0m\u001b[0;34m\u001b[0m\u001b[0;34m\u001b[0m\u001b[0m\n",
      "\u001b[0;31mDocstring:\u001b[0m      Class containing x and v-grid data\n",
      "\u001b[0;31mInit docstring:\u001b[0m\n",
      "Grid constructor\n",
      "\n",
      "Args:\n",
      "    xGrid (numpy.ndarray): x coordinates of each spatial grid cell centre or their widths. If using widths set interpretXGridAsWidths to True.\n",
      "    vGrid (numpy.ndarray, optional): v coordinates of each velocity grid cell centres or their widths.  If using widths set interpretVGridAsWidths to True. Defaults to a single cell (effectively no v-grid)\n",
      "    lMax (int, optional): Maximum l harmonic number. Defaults to 0.\n",
      "    mMax (int, optional): Maximum m harmonic number. Defaults to 0.\n",
      "    interpretXGridAsWidths (bool, optional): If True interprets xGrid as cell widths. Defaults to False.\n",
      "    interpretVGridAsWidths (bool, optional): If True interprets vGrid as cell widths. Defaults to False.\n",
      "    isPeriodic (bool, optional): If True the x grid is set to be periodic. This means that the right boundary of the rightmost cell is the left boundary of the leftmost cell. Defaults to False.\n",
      "    isLengthInMeters (bool, optional): If True will instruct ReMKiT1D to use the built-in normalization to deduce the normalized coordinates of the spatial grid. CAUTION: This can lead to issues if the default normalization is not used in the rest of the simulation. Defaults to False.\n",
      "\u001b[0;31mFile:\u001b[0m           ~/.local/lib/python3.8/site-packages/RMK_support/grid.py\n",
      "\u001b[0;31mType:\u001b[0m           type\n",
      "\u001b[0;31mSubclasses:\u001b[0m     "
     ]
    }
   ],
   "source": [
    "Grid?"
   ]
  },
  {
   "cell_type": "markdown",
   "metadata": {},
   "source": [
    "While the m-numbers are included here, note that the current version of ReMKiT1D doesn't support l,m-resolved kinetic simulations, and this is merely future-proofing.\n",
    "\n",
    "We proceed to construct an example (small) grid."
   ]
  },
  {
   "cell_type": "code",
   "execution_count": 32,
   "metadata": {},
   "outputs": [],
   "source": [
    "grid = Grid(xGrid = 0.1 * np.ones(16), \n",
    "            interpretXGridAsWidths = True, # Together with the above, \n",
    "                                           # this results in a uniform spatial grid\n",
    "            vGrid = 0.1 * np.ones(8),\n",
    "            interpretVGridAsWidths = True, # similarly for the velocity magnitude grid \n",
    "            lMax = 3, # This will result in 4 harmonics - l=0,1,2,3\n",
    "            )"
   ]
  },
  {
   "cell_type": "markdown",
   "metadata": {},
   "source": [
    "We can then get the individual grid points from the object"
   ]
  },
  {
   "cell_type": "code",
   "execution_count": 33,
   "metadata": {},
   "outputs": [
    {
     "name": "stdout",
     "output_type": "stream",
     "text": [
      "X: \n",
      "[0.05 0.15 0.25 0.35 0.45 0.55 0.65 0.75 0.85 0.95 1.05 1.15 1.25 1.35\n",
      " 1.45 1.55]\n",
      "V: \n",
      "[0.05 0.15 0.25 0.35 0.45 0.55 0.65 0.75]\n",
      "l: \n",
      "[0, 1, 2, 3]\n"
     ]
    }
   ],
   "source": [
    "print(\"X: \")\n",
    "print(grid.xGrid)\n",
    "\n",
    "print(\"V: \")\n",
    "print(grid.vGrid)\n",
    "\n",
    "print(\"l: \")\n",
    "print(grid.lGrid)"
   ]
  },
  {
   "cell_type": "markdown",
   "metadata": {},
   "source": [
    "For the spatial grid, we can also get the (right) cell edges/dual grid:"
   ]
  },
  {
   "cell_type": "code",
   "execution_count": 34,
   "metadata": {},
   "outputs": [
    {
     "name": "stdout",
     "output_type": "stream",
     "text": [
      "X_dual: \n",
      "[0.1 0.2 0.3 0.4 0.5 0.6 0.7 0.8 0.9 1.  1.1 1.2 1.3 1.4 1.5 1.6]\n"
     ]
    }
   ],
   "source": [
    "print(\"X_dual: \")\n",
    "print(grid.xGridDual)"
   ]
  },
  {
   "cell_type": "markdown",
   "metadata": {},
   "source": [
    "We can set the cell face Jacobian (surface area) values of the grid"
   ]
  },
  {
   "cell_type": "code",
   "execution_count": 35,
   "metadata": {},
   "outputs": [],
   "source": [
    "grid.xJacobian = np.linspace(1.0,2.0,17) # 17 points because we are setting \n",
    "                                         # the left cell face area of the fist cell as well"
   ]
  },
  {
   "cell_type": "markdown",
   "metadata": {},
   "source": [
    "We can get the volumes of the spatial cells (see the paper for details):"
   ]
  },
  {
   "cell_type": "code",
   "execution_count": 36,
   "metadata": {},
   "outputs": [
    {
     "name": "stdout",
     "output_type": "stream",
     "text": [
      "Volumes - regular grid:\n",
      "[0.103125 0.109375 0.115625 0.121875 0.128125 0.134375 0.140625 0.146875\n",
      " 0.153125 0.159375 0.165625 0.171875 0.178125 0.184375 0.190625 0.196875]\n",
      "Volumes - dual grid:\n",
      "[0.1578125 0.1125    0.11875   0.125     0.13125   0.1375    0.14375\n",
      " 0.15      0.15625   0.1625    0.16875   0.175     0.18125   0.1875\n",
      " 0.2921875 1.       ]\n"
     ]
    }
   ],
   "source": [
    "print(\"Volumes - regular grid:\")\n",
    "print(grid.xGridCellVolumes())\n",
    "\n",
    "print(\"Volumes - dual grid:\")\n",
    "print(grid.xGridCellVolumesDual(extendedBoundaryCells=True)) # We extend the boundary cells - see the paper"
   ]
  },
  {
   "cell_type": "markdown",
   "metadata": {},
   "source": [
    "We can see that the volumes increase due to the widening cross-section/increasing Jacobian.\n",
    "\n",
    "Note that the final volume value on the dual grid is 1. This is simply a placeholder, since there is one fewer dual cell than regular (except when using periodic grids)."
   ]
  },
  {
   "cell_type": "markdown",
   "metadata": {},
   "source": [
    "We can also ask for a multitude of other grid properties:"
   ]
  },
  {
   "cell_type": "code",
   "execution_count": 37,
   "metadata": {},
   "outputs": [
    {
     "name": "stdout",
     "output_type": "stream",
     "text": [
      "Number of X cells:\n",
      "16\n",
      "Number of harmonics:\n",
      "4\n",
      "Number of velocity space cells:\n",
      "8\n",
      "Spatial grid widths:\n",
      "[0.1 0.1 0.1 0.1 0.1 0.1 0.1 0.1 0.1 0.1 0.1 0.1 0.1 0.1 0.1 0.1]\n",
      "Velocity grid widths:\n",
      "[0.1 0.1 0.1 0.1 0.1 0.1 0.1 0.1]\n"
     ]
    }
   ],
   "source": [
    "print(\"Number of X cells:\")\n",
    "print(grid.numX)\n",
    "\n",
    "print(\"Number of harmonics:\")\n",
    "print(grid.numH)\n",
    "\n",
    "print(\"Number of velocity space cells:\")\n",
    "print(grid.numV)\n",
    "\n",
    "print(\"Spatial grid widths:\")\n",
    "print(grid.xWidths)\n",
    "\n",
    "print(\"Velocity grid widths:\")\n",
    "print(grid.vWidths)"
   ]
  },
  {
   "cell_type": "markdown",
   "metadata": {},
   "source": [
    "Grids also provide a number of data manipulation methods, such as interpolation, velocity space moments, as well as spatial integrals. Ingoing data has to conform to expected data shapes."
   ]
  },
  {
   "cell_type": "code",
   "execution_count": 38,
   "metadata": {},
   "outputs": [
    {
     "name": "stdout",
     "output_type": "stream",
     "text": [
      "1.3047034290358406\n"
     ]
    }
   ],
   "source": [
    "# A velocity space vector \n",
    "\n",
    "vec = np.linspace(0.1,1.2,8)\n",
    "\n",
    "# 4 * pi * integral of vec * v**3 dv - first moment of vec \n",
    "\n",
    "print(grid.velocityMoment(vec,1)) # velocityMoment also supports arrays in x,h,v an x,v dimensions"
   ]
  },
  {
   "cell_type": "code",
   "execution_count": 39,
   "metadata": {},
   "outputs": [
    {
     "name": "stdout",
     "output_type": "stream",
     "text": [
      "[ 0.5  1.5  2.5  3.5  4.5  5.5  6.5  7.5  8.5  9.5 10.5 11.5 12.5 13.5\n",
      " 14.5 15.5]\n",
      "[-0.5  0.5  1.5  2.5  3.5  4.5  5.5  6.5  7.5  8.5  9.5 10.5 11.5 12.5\n",
      " 13.5 14.5]\n"
     ]
    }
   ],
   "source": [
    "# A spatial quantity\n",
    "\n",
    "vec = np.linspace(0,15,16)\n",
    "\n",
    "# Treated as a vector on cell centres and interpolated on cell edges \n",
    "\n",
    "print(grid.gridToDual(vec))\n",
    "\n",
    "# Treated as a vector on cell edges and interpolated to cell centres \n",
    "\n",
    "print(grid.dualToGrid(vec))"
   ]
  },
  {
   "cell_type": "markdown",
   "metadata": {},
   "source": [
    "Let's construct a full distribution function data on our grid. It should have a shape (16,4,8) - x,h,v"
   ]
  },
  {
   "cell_type": "code",
   "execution_count": 40,
   "metadata": {},
   "outputs": [
    {
     "name": "stdout",
     "output_type": "stream",
     "text": [
      "Original distribution at a velocity grid point:\n",
      "[[ 0.  1.  2.  3.  4.  5.  6.  7.  8.  9. 10. 11. 12. 13. 14. 15.]\n",
      " [ 0.  2.  4.  6.  8. 10. 12. 14. 16. 18. 20. 22. 24. 26. 28. 30.]\n",
      " [ 0.  3.  6.  9. 12. 15. 18. 21. 24. 27. 30. 33. 36. 39. 42. 45.]\n",
      " [ 0.  4.  8. 12. 16. 20. 24. 28. 32. 36. 40. 44. 48. 52. 56. 60.]]\n"
     ]
    }
   ],
   "source": [
    "f = np.ones((16,4,8))\n",
    "\n",
    "for i in range(4):\n",
    "    for j in range(8):\n",
    "        f[:,i,j] = (i+1)*np.linspace(0,15,16)\n",
    "\n",
    "# assuming this distribution has even l harmonics on cell centres and od ones on cell edges we can interpolate it \n",
    "\n",
    "print(\"Original distribution at a velocity grid point:\")\n",
    "print(f[:,:,0].transpose())"
   ]
  },
  {
   "cell_type": "code",
   "execution_count": 41,
   "metadata": {},
   "outputs": [
    {
     "name": "stdout",
     "output_type": "stream",
     "text": [
      "\n",
      "\n",
      "With all harmonics on cell edges - interpolating even l:\n",
      "[[ 0.5  1.5  2.5  3.5  4.5  5.5  6.5  7.5  8.5  9.5 10.5 11.5 12.5 13.5\n",
      "  14.5 15.5]\n",
      " [ 0.   2.   4.   6.   8.  10.  12.  14.  16.  18.  20.  22.  24.  26.\n",
      "  28.  30. ]\n",
      " [ 1.5  4.5  7.5 10.5 13.5 16.5 19.5 22.5 25.5 28.5 31.5 34.5 37.5 40.5\n",
      "  43.5 46.5]\n",
      " [ 0.   4.   8.  12.  16.  20.  24.  28.  32.  36.  40.  44.  48.  52.\n",
      "  56.  60. ]]\n"
     ]
    }
   ],
   "source": [
    "print(\"\\n\")\n",
    "print(\"With all harmonics on cell edges - interpolating even l:\")\n",
    "print(grid.staggeredDistToDual(f)[:,:,0].transpose()) # This will interpolate only even harmonics "
   ]
  },
  {
   "cell_type": "code",
   "execution_count": 42,
   "metadata": {},
   "outputs": [
    {
     "name": "stdout",
     "output_type": "stream",
     "text": [
      "With all harmonics in cell centres - interpolating odd l:\n",
      "[[ 0.  1.  2.  3.  4.  5.  6.  7.  8.  9. 10. 11. 12. 13. 14. 15.]\n",
      " [-1.  1.  3.  5.  7.  9. 11. 13. 15. 17. 19. 21. 23. 25. 27. 29.]\n",
      " [ 0.  3.  6.  9. 12. 15. 18. 21. 24. 27. 30. 33. 36. 39. 42. 45.]\n",
      " [-2.  2.  6. 10. 14. 18. 22. 26. 30. 34. 38. 42. 46. 50. 54. 58.]]\n"
     ]
    }
   ],
   "source": [
    "print(\"With all harmonics in cell centres - interpolating odd l:\")\n",
    "print(grid.staggeredDistToGrid(f)[:,:,0].transpose()) # This will interpolate only odd harmonics "
   ]
  },
  {
   "cell_type": "code",
   "execution_count": 43,
   "metadata": {},
   "outputs": [
    {
     "name": "stdout",
     "output_type": "stream",
     "text": [
      "With even harmonics on cell edges and odd in cell centres:\n",
      "[[ 0.5  1.5  2.5  3.5  4.5  5.5  6.5  7.5  8.5  9.5 10.5 11.5 12.5 13.5\n",
      "  14.5 15.5]\n",
      " [-1.   1.   3.   5.   7.   9.  11.  13.  15.  17.  19.  21.  23.  25.\n",
      "  27.  29. ]\n",
      " [ 1.5  4.5  7.5 10.5 13.5 16.5 19.5 22.5 25.5 28.5 31.5 34.5 37.5 40.5\n",
      "  43.5 46.5]\n",
      " [-2.   2.   6.  10.  14.  18.  22.  26.  30.  34.  38.  42.  46.  50.\n",
      "  54.  58. ]]\n"
     ]
    }
   ],
   "source": [
    "print(\"With even harmonics on cell edges and odd in cell centres:\")\n",
    "print(grid.distFullInterp(f)[:,:,0].transpose()) # This will interpolate all harmonics to their opposite grids\n"
   ]
  },
  {
   "cell_type": "markdown",
   "metadata": {},
   "source": [
    "Finally, it is possible to serialise and de-serialise grid data"
   ]
  },
  {
   "cell_type": "code",
   "execution_count": 44,
   "metadata": {},
   "outputs": [
    {
     "name": "stdout",
     "output_type": "stream",
     "text": [
      "Old grid:\n",
      "{'xGrid': {'isPeriodic': False, 'isLengthInMeters': False, 'cellCentreCoords': [0.05, 0.15000000000000002, 0.25, 0.35, 0.44999999999999996, 0.5499999999999999, 0.6499999999999999, 0.7499999999999999, 0.8499999999999999, 0.9499999999999998, 1.0499999999999998, 1.15, 1.25, 1.35, 1.4500000000000002, 1.5500000000000003], 'faceJacobians': [1.0, 1.0625, 1.125, 1.1875, 1.25, 1.3125, 1.375, 1.4375, 1.5, 1.5625, 1.625, 1.6875, 1.75, 1.8125, 1.875, 1.9375, 2.0]}, 'vGrid': {'cellCentreCoords': [0.05, 0.15000000000000002, 0.25, 0.35, 0.44999999999999996, 0.5499999999999999, 0.6499999999999999, 0.7499999999999999], 'maxL': 3, 'maxM': 0}}\n",
      "New grid:\n",
      "{'xGrid': {'isPeriodic': False, 'isLengthInMeters': False, 'cellCentreCoords': [0.05, 0.15000000000000002, 0.25, 0.35, 0.44999999999999996, 0.5499999999999999, 0.6499999999999999, 0.7499999999999999, 0.8499999999999999, 0.9499999999999998, 1.0499999999999998, 1.15, 1.25, 1.35, 1.4500000000000002, 1.5500000000000003], 'faceJacobians': [1.0, 1.0625, 1.125, 1.1875, 1.25, 1.3125, 1.375, 1.4375, 1.5, 1.5625, 1.625, 1.6875, 1.75, 1.8125, 1.875, 1.9375, 2.0]}, 'vGrid': {'cellCentreCoords': [0.05, 0.15000000000000002, 0.25, 0.35, 0.44999999999999996, 0.5499999999999999, 0.6499999999999999, 0.7499999999999999], 'maxL': 3, 'maxM': 0}}\n"
     ]
    }
   ],
   "source": [
    "gridSerial = grid.dict()\n",
    "\n",
    "print(\"Old grid:\")\n",
    "print(gridSerial)\n",
    "\n",
    "newGrid = gridFromDict(gridSerial)\n",
    "\n",
    "print(\"New grid:\")\n",
    "print(newGrid.dict())"
   ]
  },
  {
   "cell_type": "markdown",
   "metadata": {},
   "source": [
    "### Profile objects \n",
    "\n",
    "`Profile` objects are wrappers for 1D data corresponding to one of the three ReMKiT1D grid dimensions X,H, or V.\n",
    "\n",
    "These can be constructed by directly invoking the `Profile` constructor, but this is not recommended. Instead, a grid can be used to wrap a numpy array as a `Profile` while performing bounds checking. "
   ]
  },
  {
   "cell_type": "code",
   "execution_count": 45,
   "metadata": {},
   "outputs": [
    {
     "name": "stdout",
     "output_type": "stream",
     "text": [
      "X profile:\n",
      "[1. 1. 1. 1. 1. 1. 1. 1. 1. 1. 1. 1. 1. 1. 1. 1.]\n",
      "X\n",
      "\n",
      "\n",
      "V profile:\n",
      "[1. 1. 1. 1. 1. 1. 1. 1.]\n",
      "V\n",
      "\n",
      "\n",
      "H profile:\n",
      "[1. 1. 1. 1.]\n",
      "H\n"
     ]
    }
   ],
   "source": [
    "xProfile = grid.profile(np.ones(16),dim=\"X\")\n",
    "vProfile = grid.profile(np.ones(8),dim=\"V\")\n",
    "hProfile = grid.profile(np.ones(4),dim=\"H\")\n",
    "\n",
    "print(\"X profile:\")\n",
    "print(xProfile.data)\n",
    "print(xProfile.dim)\n",
    "\n",
    "print(\"\\n\")\n",
    "print(\"V profile:\")\n",
    "print(vProfile.data)\n",
    "print(vProfile.dim)\n",
    "\n",
    "print(\"\\n\")\n",
    "print(\"H profile:\")\n",
    "print(hProfile.data)\n",
    "print(hProfile.dim)"
   ]
  },
  {
   "cell_type": "markdown",
   "metadata": {},
   "source": [
    "`Profile` wrappers are the preferred way of specifying fixed coordinate dependence, and are used in the construction of stencils and terms (see in later tutorials)."
   ]
  }
 ],
 "metadata": {
  "kernelspec": {
   "display_name": "Python 3",
   "language": "python",
   "name": "python3"
  },
  "language_info": {
   "codemirror_mode": {
    "name": "ipython",
    "version": 3
   },
   "file_extension": ".py",
   "mimetype": "text/x-python",
   "name": "python",
   "nbconvert_exporter": "python",
   "pygments_lexer": "ipython3",
   "version": "3.8.10"
  }
 },
 "nbformat": 4,
 "nbformat_minor": 2
}
