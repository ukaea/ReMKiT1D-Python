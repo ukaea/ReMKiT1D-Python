{
 "cells": [
  {
   "cell_type": "markdown",
   "metadata": {},
   "source": [
    "## 06 - Time integration\n",
    "\n",
    "ReMKiT1D offers full control over time integration schemes used with models, as well as a wide range of detail for users of varying levels. \n",
    "\n",
    "In this tutorial we cover:\n",
    "\n",
    "1. `Integrators`, and in particular the implemented default Backwards Euler integrator options \n",
    "2. `IntegrationRules` and `IntegrationSteps`\n",
    "3. `Timestep` control \n",
    "4. `IntegrationSchemes` and inline composition of integration steps"
   ]
  },
  {
   "cell_type": "code",
   "execution_count": 1,
   "metadata": {},
   "outputs": [],
   "source": [
    "from RMK_support import Variable,Grid,Model,DiagonalStencil,IntegrationRule,IntegrationStep,IntegrationScheme,BDEIntegrator,ModelCollection, Timestep\n",
    "\n",
    "import numpy as np"
   ]
  },
  {
   "cell_type": "markdown",
   "metadata": {},
   "source": [
    "Let's first build some `Variables`/`Models` (see previous tutorial for details)"
   ]
  },
  {
   "cell_type": "code",
   "execution_count": 2,
   "metadata": {},
   "outputs": [],
   "source": [
    "grid = Grid(xGrid = 0.1 * np.ones(16), \n",
    "            interpretXGridAsWidths = True, \n",
    "            vGrid = 0.1 * np.ones(8),\n",
    "            interpretVGridAsWidths = True,\n",
    "            lMax = 3,\n",
    "            )\n",
    "\n",
    "a,b,c = (Variable(name,grid,data=(i+1)*np.ones(16)) for i,name in enumerate([\"a\",\"b\",\"c\"]))\n",
    "\n",
    "model1 = Model(\"model1\") \n",
    "\n",
    "diag = DiagonalStencil()\n",
    "\n",
    "model1.ddt[a] += 2*diag(b).rename(\"term1\") - 0.1*diag(b*c).rename(\"term2\")\n",
    "model1.ddt[b] += 2*diag(c).rename(\"term3\") - diag(a*b).rename(\"term4\")\n",
    "\n",
    "model2 = model1.rename(\"model2\")\n",
    "for term in model2.ddt[a].terms:\n",
    "    term = term.regroup([2])\n",
    "\n",
    "collection = ModelCollection(model1,model2)"
   ]
  },
  {
   "cell_type": "markdown",
   "metadata": {},
   "source": [
    "In ReMKiT1D, a timestepping scheme consists of `IntegrationSteps`, each of which is associated with an `Integrator`, a set of `Rules` for each `Model` it evolves, as well as the fraction of the global `Timestep`. \n",
    "\n",
    "While there are shortcuts one can use when building the most basic of integration schemes, here we go over all of the components and features, starting with the built-in Backwards Euler integrator with fixed-point iterations. For other implemented integrators see examples and documentation.\n",
    "\n",
    "For the basics of how the integrator works see documentation and Appendix B in the [code paper](https://www.sciencedirect.com/science/article/pii/S0010465524001188). \n",
    "\n",
    "The integrator uses PETSc, and will, given a timestep length, attempt to take the step. If the solve fails, which can be because of linear solver failure (associated with a KSP failure code in PETSc), or because the maximum number of allowed fixed-point iterations is read, the solver can be instructed to retry the solve with half the requested step length. After a number of requested length steps the solver will try to consolidate back to a single substep. The properties of this internal step control can be set at solver construction - see `BDEIntegrator` docstring.\n"
   ]
  },
  {
   "cell_type": "code",
   "execution_count": 3,
   "metadata": {},
   "outputs": [],
   "source": [
    "integrator1 = BDEIntegrator(\"BDE1\", # Name of the integrator\n",
    "                           convergenceVars = [a, b], # Variables used to test convergence\n",
    "                           nonlinTol = 1e-12, # Relative convergence tolerance for fixed-point iterations\n",
    "                           maxNonlinIters = 100, # Allowed number of failed fixed-point iterations before the solver declares non-linear convergence failure\n",
    "                           associatedPETScGroup = 1, # If using multiple different BDEIntegrators to solve different model/term contributions they should be associated with different PETSc objects - Fortran 1-indexing\n",
    "                           internalStepControl = True, # Allow the solver to substep in case of failed solves (see other doctrings for control customisation options)\n",
    "                           relaxationWeight = 0.75 # Fixed-point relaxation weight <1 - under-relaxation, >1 over-relaxation \n",
    "                        )\n",
    "\n",
    "integrator2 = BDEIntegrator(\"BDE2\", associatedPETScGroup = 2) # We will use this for demonstrating operator splitting"
   ]
  },
  {
   "cell_type": "markdown",
   "metadata": {},
   "source": [
    "### Integration steps and rules"
   ]
  },
  {
   "cell_type": "markdown",
   "metadata": {},
   "source": [
    "`Integrators` are associated with `IntegrationSteps`, which can be chained (see last sectionbelow). \n",
    "\n",
    "Let's create two steps with our integrators"
   ]
  },
  {
   "cell_type": "code",
   "execution_count": 4,
   "metadata": {},
   "outputs": [],
   "source": [
    "step1 = IntegrationStep(\"step1\",\n",
    "                        integrator1)\n",
    "\n",
    "step2 = IntegrationStep(\"step2\",\n",
    "                        integrator2)\n",
    "\n",
    "# By default each step in a sequence starts from the output state of the previous step and evolves the time variable - this can be changed in the constructor, or by using the following\n",
    "\n",
    "step1 = step1.disableTimeEvo() \n",
    "step1 = step1.enableTimeEvo()\n",
    "\n",
    "step1 = step1.startFromZero() # Starts from the initial state of the system (at the start of the step sequence)\n",
    "step1 = step1.startFromLast() # Starts from the output of the previous step in the sequence (this is the default)"
   ]
  },
  {
   "cell_type": "markdown",
   "metadata": {},
   "source": [
    "Each step has a fraction of the global timestep (the timestep associated with the full step sequence) associated with it. This is by default 1.0, and can be automatically set when combining steps (see further down below)"
   ]
  },
  {
   "cell_type": "code",
   "execution_count": 5,
   "metadata": {},
   "outputs": [
    {
     "name": "stdout",
     "output_type": "stream",
     "text": [
      "1.0\n"
     ]
    }
   ],
   "source": [
    "print(step1.stepFraction)"
   ]
  },
  {
   "cell_type": "markdown",
   "metadata": {},
   "source": [
    "In order to properly make use of `IntegrationSteps` they should be supplied with `IntegrationRules` for each `Model` the step evolves.\n",
    "\n",
    "The default rule is to update and evaluate all term groups in the `Model` and to update any `ModelboundData`. If the default behaviour is acceptable, `Models` and `ModelCollections` can be added directly to the `IntegrationStep`, otherwise `IntegrationRules` should be specified."
   ]
  },
  {
   "cell_type": "code",
   "execution_count": 6,
   "metadata": {},
   "outputs": [
    {
     "name": "stdout",
     "output_type": "stream",
     "text": [
      "model1\n",
      "['model2']\n",
      "[1, 2]\n"
     ]
    }
   ],
   "source": [
    "step1.add(model1) # Will add a default rule for model1 \n",
    "\n",
    "customRule = IntegrationRule(model2,\n",
    "                             updatedGroups=[1], # Updates only group 1, so that group 2 is only updated at the start of the step sequence\n",
    "                             evaluatedGroups=[1,2], # Evaluate both term groups\n",
    "                             updateModelData=True # Update modelbound data if present \n",
    "                             )\n",
    "\n",
    "step2.add(customRule)\n",
    "\n",
    "print(step1.rules[model1].modelName) # rules can be directly indexed by evolved model\n",
    "\n",
    "print(step2.rules.evolvedModels)\n",
    "print(step2.rules[model2].evaluatedGroups)"
   ]
  },
  {
   "cell_type": "markdown",
   "metadata": {},
   "source": [
    "### Timestep control \n",
    "\n",
    "The global `Timestep` associated with the full `IntegrationStepSequence` can be set with either a fixed value, or a `MultiplicativeArgument`/`Variable`, using the min or max value of that argument within the spatial domain (should all be fluid variables)."
   ]
  },
  {
   "cell_type": "code",
   "execution_count": 7,
   "metadata": {},
   "outputs": [
    {
     "name": "stdout",
     "output_type": "stream",
     "text": [
      "True\n",
      "False\n"
     ]
    }
   ],
   "source": [
    "fixedTimestep = Timestep(0.1) # Fixed timestep at 0.1 (in normalised time units)\n",
    "\n",
    "variableTimestep = Timestep(0.1*a**2/b) # Timestep set to the minimum value of 0.1*a**2/b in the domain \n",
    "\n",
    "variableTimestep = variableTimestep.max() # Now using the max value\n",
    "print(variableTimestep.usingMaxVal)\n",
    "\n",
    "variableTimestep = variableTimestep.min() # Now using the min value (default)\n",
    "print(variableTimestep.usingMaxVal)"
   ]
  },
  {
   "cell_type": "markdown",
   "metadata": {},
   "source": [
    "### IntegrationScheme and setting a step sequence\n",
    "\n",
    "The highest level time integration object is the `IntegrationScheme`, which contains an `IntegrationStepSequence` and `Timestep`, fully defining the integration scheme. \n",
    "\n",
    "If only a single step is required (no splitting scheme), the scheme can be initialised directly with a `Timestep` and `IntegrationStep`"
   ]
  },
  {
   "cell_type": "code",
   "execution_count": 8,
   "metadata": {},
   "outputs": [],
   "source": [
    "simpleScheme = IntegrationScheme(0.1,step1) # Uses a fixed Timestep and single step  "
   ]
  },
  {
   "cell_type": "markdown",
   "metadata": {},
   "source": [
    "We can also compose steps explicitly by calling them with the global step fraction we want to associate with them in the following way"
   ]
  },
  {
   "cell_type": "code",
   "execution_count": 9,
   "metadata": {},
   "outputs": [
    {
     "name": "stdout",
     "output_type": "stream",
     "text": [
      "step12\n",
      "0.2\n",
      "step20\n",
      "1.0\n",
      "step11\n",
      "0.8\n"
     ]
    }
   ],
   "source": [
    "compositeScheme = IntegrationScheme(variableTimestep) # Now using a variable step length\n",
    "\n",
    "compositeScheme.steps = step1(0.8)*step2(1.0)*step1(0.2) # Steps are applied right to left, so the first one is step1 at 0.2 of the global timestep\n",
    "\n",
    "for step in compositeScheme.steps:\n",
    "    print(step.name) # Steps in the scheme get renamed to ensure no name conflicts\n",
    "    print(step.stepFraction)"
   ]
  }
 ],
 "metadata": {
  "kernelspec": {
   "display_name": "Python 3",
   "language": "python",
   "name": "python3"
  },
  "language_info": {
   "codemirror_mode": {
    "name": "ipython",
    "version": 3
   },
   "file_extension": ".py",
   "mimetype": "text/x-python",
   "name": "python",
   "nbconvert_exporter": "python",
   "pygments_lexer": "ipython3",
   "version": "3.8.10"
  }
 },
 "nbformat": 4,
 "nbformat_minor": 2
}
