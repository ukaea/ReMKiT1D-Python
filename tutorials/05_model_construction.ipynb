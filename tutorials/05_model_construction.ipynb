{
 "cells": [
  {
   "cell_type": "markdown",
   "metadata": {},
   "source": [
    "## 05 - Model construction\n",
    "\n",
    "In ReMKiT1D, terms live in `Models`, which enclose connected contributions to various equations being solved, as well as any model-bound data - data accessible by default only to the terms enclosed in the relevant model. \n",
    "\n",
    "In this tutorial we examine how models are constructed, and in particular:\n",
    "\n",
    "1. Adding terms to models, `ddt` components and `TermCollections`\n",
    "2. `Model` properties\n",
    "3. `ModelboundData` and using modelbound variables in `MatrixTerms`\n",
    "4. `ModelCollections` and applying filters to models"
   ]
  },
  {
   "cell_type": "code",
   "execution_count": 1,
   "metadata": {},
   "outputs": [],
   "source": [
    "from RMK_support import Grid, Variable, Model, VarlikeModelboundData, DiagonalStencil, ModelCollection, node, varFromNode\n",
    "\n",
    "import numpy as np"
   ]
  },
  {
   "cell_type": "code",
   "execution_count": 2,
   "metadata": {},
   "outputs": [],
   "source": [
    "grid = Grid(xGrid = 0.1 * np.ones(16), \n",
    "            interpretXGridAsWidths = True, \n",
    "            vGrid = 0.1 * np.ones(8),\n",
    "            interpretVGridAsWidths = True,\n",
    "            lMax = 3,\n",
    "            )\n",
    "\n",
    "a,b,c = (Variable(name,grid,data=(i+1)*np.ones(16)) for i,name in enumerate([\"a\",\"b\",\"c\"]))"
   ]
  },
  {
   "cell_type": "markdown",
   "metadata": {},
   "source": [
    "The main component of a `Model` are the `ddt` entries, representing additive collections of terms that the model contributes to the evolution of individual variables. \n",
    "\n",
    "For user convenience, `ddt` is indexed using the evolved variable, and this enables the quick construction of models by defining terms inline and adding them."
   ]
  },
  {
   "cell_type": "code",
   "execution_count": 3,
   "metadata": {},
   "outputs": [],
   "source": [
    "newModel = Model(\"model\") # Name of the model \n",
    "\n",
    "diag = DiagonalStencil()\n",
    "\n",
    "# inline addition of terms to the term collection ddt[a] and renaming them\n",
    "newModel.ddt[a] += 2*diag(b).rename(\"term1\") - 0.1*diag(b*c).rename(\"term2\")\n",
    "newModel.ddt[b] += 2*diag(c).rename(\"term3\") - diag(a*b).rename(\"term4\")"
   ]
  },
  {
   "cell_type": "markdown",
   "metadata": {},
   "source": [
    "The above has automatically added 4 terms to the model, and set their evolved variables. \n",
    "\n",
    "Each element of `ddt` is a `TermCollection`, and we can access the terms inside it."
   ]
  },
  {
   "cell_type": "code",
   "execution_count": 4,
   "metadata": {},
   "outputs": [
    {
     "name": "stdout",
     "output_type": "stream",
     "text": [
      "['b', 'a']\n",
      "['term1', 'term2']\n",
      "['term3', 'term4']\n",
      "a\n",
      "b\n"
     ]
    }
   ],
   "source": [
    "print(newModel.evolvedVars) # Evolved variables in the model \n",
    "\n",
    "print(newModel.ddt[a].termNames)\n",
    "print(newModel.ddt[b].termNames)\n",
    "\n",
    "print(newModel.ddt[a][\"term1\"].evolvedVar.name) # The correct evolved variable was set automatically\n",
    "print(newModel.ddt[b][\"term3\"].evolvedVar.name) # The correct evolved variable was set automatically"
   ]
  },
  {
   "cell_type": "markdown",
   "metadata": {},
   "source": [
    "### Modelbound data\n",
    "\n",
    "ReMKiT1D allows for binding data to `Models`, giving direct data access only to terms within that model. \n",
    "\n",
    "`MatrixTerms` can then include those variables in their column and row variables multiplicatively. \n",
    "\n",
    "We will showcase modelbound data using the `VarlikeModelboundData` class, which allows for adding regular derived `Variables` as modelbound data"
   ]
  },
  {
   "cell_type": "code",
   "execution_count": 5,
   "metadata": {},
   "outputs": [
    {
     "name": "stdout",
     "output_type": "stream",
     "text": [
      "['d', 'f', 'g']\n",
      "d\n"
     ]
    }
   ],
   "source": [
    "mbData = VarlikeModelboundData()\n",
    "\n",
    "d,f,g = (varFromNode(name,grid,(i+1)*node(a)) for i,name in enumerate([\"d\",\"f\",\"g\"])) # Some dummy variables, normally they would have more complicated derivation rules associated with them\n",
    "\n",
    "mbData.addVar(d,f,g)\n",
    "\n",
    "print(mbData.varNames)\n",
    "print(mbData[\"d\"].name) # Accessors like for VariableContainer\n",
    "newModel.setModelboundData(mbData) # Now the data is associated with the model "
   ]
  },
  {
   "cell_type": "markdown",
   "metadata": {},
   "source": [
    "To add modelbound variables to column variables they should simply be the second argument to the stencil.\n",
    "\n",
    "For row modelbound variables we left multiply the term with modelbound `Variables` or `MultiplicativeArguments` made from them using the `@` operator."
   ]
  },
  {
   "cell_type": "code",
   "execution_count": 6,
   "metadata": {},
   "outputs": [
    {
     "name": "stdout",
     "output_type": "stream",
     "text": [
      "{'f': 1.0, 'd': 1.0}\n",
      "{'g': 1.0, 'd': 1.0}\n"
     ]
    }
   ],
   "source": [
    "newModel.ddt[a] += diag(a,d*f).rename(\"mb_term1\") # d*f will now be modelbound column variables, so the term will effectively be a*d*f\n",
    "\n",
    "print(newModel.ddt[a][\"mb_term1\"].__modelboundC__.argMultiplicity) # modelbound column components \n",
    "\n",
    "newModel.ddt[b] += (d*g) @ diag(c).rename(\"mb_term2\") # d*f will now be modelbound row variables, so the term will effectively be d*g*c\n",
    "\n",
    "print(newModel.ddt[b][\"mb_term2\"].__modelboundR__.argMultiplicity) # modelbound row components"
   ]
  },
  {
   "cell_type": "markdown",
   "metadata": {},
   "source": [
    "### Filtering terms/models and ModelCollections"
   ]
  },
  {
   "cell_type": "markdown",
   "metadata": {},
   "source": [
    "Terms can be grouped into different implicit (can only contain `MatrixTerms`) and general groups to allow for filtering and selective integration. This can be done inline using the `regroup` function when adding terms to the model"
   ]
  },
  {
   "cell_type": "code",
   "execution_count": 7,
   "metadata": {},
   "outputs": [
    {
     "name": "stdout",
     "output_type": "stream",
     "text": [
      "[1, 2]\n"
     ]
    }
   ],
   "source": [
    "newModel.ddt[a] += c*diag(a).rename(\"group2_term\").regroup(implicitGroups=[2]) # The new term has been added to implicit group 2 only\n",
    "\n",
    "print(newModel.activeImplicitGroups) # Check that both group 1 and 2 are now active"
   ]
  },
  {
   "cell_type": "markdown",
   "metadata": {},
   "source": [
    "We can filter a model to only have terms in some of the groups."
   ]
  },
  {
   "cell_type": "code",
   "execution_count": 8,
   "metadata": {},
   "outputs": [
    {
     "name": "stdout",
     "output_type": "stream",
     "text": [
      "['a']\n",
      "['group2_term']\n"
     ]
    }
   ],
   "source": [
    "filteredModel = newModel.filterByGroup(groups=[2]).rename(\"filteredModel\")\n",
    "\n",
    "print(filteredModel.evolvedVars) # Only a\n",
    "print(filteredModel.ddt[a].termNames) # Only the term we regrouped into group 2"
   ]
  },
  {
   "cell_type": "markdown",
   "metadata": {},
   "source": [
    "Similarly, we can also filter models based on evolved variables."
   ]
  },
  {
   "cell_type": "code",
   "execution_count": 9,
   "metadata": {},
   "outputs": [
    {
     "name": "stdout",
     "output_type": "stream",
     "text": [
      "['b']\n",
      "['term3', 'term4', 'mb_term2']\n"
     ]
    }
   ],
   "source": [
    "filteredModel2 = newModel.onlyEvolving(b).rename(\"filteredModel2\")\n",
    "\n",
    "print(filteredModel2.evolvedVars) # Only a\n",
    "print(filteredModel2.ddt[b].termNames) # Only the term we regrouped into group 2"
   ]
  },
  {
   "cell_type": "markdown",
   "metadata": {},
   "source": [
    "Finally models can be grouped further into `ModelCollections`, providing accessors for models by name, as well as the same filtering (applied to all contained models). \n",
    "\n",
    "`ModelCollections` also let us know the total number of implicit and general groups across all models in the collection, as well as providing utilities for getting all models and terms that evolved any given variable."
   ]
  },
  {
   "cell_type": "code",
   "execution_count": 10,
   "metadata": {},
   "outputs": [
    {
     "name": "stdout",
     "output_type": "stream",
     "text": [
      "['model', 'filteredModel', 'filteredModel2']\n",
      "['term1', 'term2', 'mb_term1', 'group2_term']\n",
      "(2, 1)\n",
      "[('model', 'term1'), ('model', 'term2'), ('model', 'mb_term1'), ('model', 'group2_term'), ('filteredModel', 'group2_term')]\n",
      "[('model', 'term3'), ('model', 'term4'), ('model', 'mb_term2'), ('filteredModel2', 'term3'), ('filteredModel2', 'term4'), ('filteredModel2', 'mb_term2')]\n",
      "\n",
      "\n",
      "['model', 'filteredModel']\n",
      "['term1', 'term2', 'mb_term1', 'group2_term']\n",
      "(2, 1)\n",
      "[('model', 'term1'), ('model', 'term2'), ('model', 'mb_term1'), ('model', 'group2_term'), ('filteredModel', 'group2_term')]\n",
      "[]\n"
     ]
    }
   ],
   "source": [
    "newCollection = ModelCollection(newModel) # We can initialise the collection with any number of models\n",
    "\n",
    "# or add them \n",
    "newCollection.add(filteredModel,filteredModel2) \n",
    "\n",
    "print(newCollection.modelNames)\n",
    "print(newCollection[\"model\"].ddt[a].termNames)\n",
    "print(newCollection.numGroups()) # implicit,general groups\n",
    "print(newCollection.getTermsThatEvolveVar(a)) # model,term tuples evolving variable a\n",
    "print(newCollection.getTermsThatEvolveVar(b))\n",
    "\n",
    "print(\"\\n\")\n",
    "filteredCollection = newCollection.onlyEvolving(a) # Will lose filteredModel2 because that doesn't evolve a\n",
    "print(filteredCollection.modelNames)\n",
    "print(filteredCollection[\"model\"].ddt[a].termNames)\n",
    "print(filteredCollection.numGroups()) # implicit,general groups\n",
    "print(filteredCollection.getTermsThatEvolveVar(a))\n",
    "print(filteredCollection.getTermsThatEvolveVar(b))"
   ]
  }
 ],
 "metadata": {
  "kernelspec": {
   "display_name": "Python 3",
   "language": "python",
   "name": "python3"
  },
  "language_info": {
   "codemirror_mode": {
    "name": "ipython",
    "version": 3
   },
   "file_extension": ".py",
   "mimetype": "text/x-python",
   "name": "python",
   "nbconvert_exporter": "python",
   "pygments_lexer": "ipython3",
   "version": "3.8.10"
  }
 },
 "nbformat": 4,
 "nbformat_minor": 2
}
